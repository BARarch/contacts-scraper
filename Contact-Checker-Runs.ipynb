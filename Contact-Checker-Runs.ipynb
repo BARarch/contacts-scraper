{
 "cells": [
  {
   "cell_type": "code",
   "execution_count": 1,
   "metadata": {},
   "outputs": [
    {
     "name": "stdout",
     "output_type": "stream",
     "text": [
      "Done\n",
      "Done\n",
      "KEYS\n",
      "Done\n",
      "Done\n",
      "RECORDS COLLECTED\n",
      "DATAFRAMES READY\n"
     ]
    }
   ],
   "source": [
    "% run contactsScraper.py"
   ]
  },
  {
   "cell_type": "markdown",
   "metadata": {},
   "source": [
    "## Contact Checker Setup"
   ]
  },
  {
   "cell_type": "code",
   "execution_count": 2,
   "metadata": {
    "collapsed": true
   },
   "outputs": [],
   "source": [
    "org = 'National Association for Multi-Ethnicity In Communications (NAMIC)'"
   ]
  },
  {
   "cell_type": "code",
   "execution_count": 3,
   "metadata": {},
   "outputs": [
    {
     "data": {
      "text/plain": [
       "['Fri Oct 06, 2017  21:51:06', '12.106', 's', 'Good']"
      ]
     },
     "execution_count": 3,
     "metadata": {},
     "output_type": "execute_result"
    }
   ],
   "source": [
    "# Dummy Org Session\n",
    "a = dm.OrgSession(orgRecords)\n",
    "a1 = a.processSession(org)\n",
    "a.orgSessionStatusCheck()"
   ]
  },
  {
   "cell_type": "code",
   "execution_count": 4,
   "metadata": {},
   "outputs": [],
   "source": [
    "# Set Soup Object for the Contact Checker Class\n",
    "orgSoup = a1[0].get_soup()\n",
    "cc.ContactPointerFamily.set_soup(orgSoup)"
   ]
  },
  {
   "cell_type": "code",
   "execution_count": 5,
   "metadata": {},
   "outputs": [
    {
     "data": {
      "text/html": [
       "<div>\n",
       "<style>\n",
       "    .dataframe thead tr:only-child th {\n",
       "        text-align: right;\n",
       "    }\n",
       "\n",
       "    .dataframe thead th {\n",
       "        text-align: left;\n",
       "    }\n",
       "\n",
       "    .dataframe tbody tr th {\n",
       "        vertical-align: top;\n",
       "    }\n",
       "</style>\n",
       "<table border=\"1\" class=\"dataframe\">\n",
       "  <thead>\n",
       "    <tr style=\"text-align: right;\">\n",
       "      <th></th>\n",
       "      <th>Account ID</th>\n",
       "      <th>Account Name</th>\n",
       "      <th>Contact ID</th>\n",
       "      <th>Contact Source</th>\n",
       "      <th>Email</th>\n",
       "      <th>First Name</th>\n",
       "      <th>Last Name</th>\n",
       "      <th>Mailing City</th>\n",
       "      <th>Mailing Country</th>\n",
       "      <th>Mailing State/Province</th>\n",
       "      <th>Mailing Street</th>\n",
       "      <th>Mailing Zip/Postal Code</th>\n",
       "      <th>Notes</th>\n",
       "      <th>Phone</th>\n",
       "      <th>Status</th>\n",
       "      <th>Title</th>\n",
       "    </tr>\n",
       "  </thead>\n",
       "  <tbody>\n",
       "    <tr>\n",
       "      <th>3451</th>\n",
       "      <td>0010B00001liAqw</td>\n",
       "      <td>National Association for Multi-Ethnicity In Co...</td>\n",
       "      <td>0030B00001ueBhC</td>\n",
       "      <td>http://namic.com/the-team/</td>\n",
       "      <td>monique.wells@namic.com</td>\n",
       "      <td>Monique</td>\n",
       "      <td>Wells</td>\n",
       "      <td>New York</td>\n",
       "      <td></td>\n",
       "      <td>NY</td>\n",
       "      <td>50 Broad Street, Suite 1801</td>\n",
       "      <td>10004</td>\n",
       "      <td></td>\n",
       "      <td>(646) 545-2509</td>\n",
       "      <td></td>\n",
       "      <td>Director of Finance and Administration</td>\n",
       "    </tr>\n",
       "  </tbody>\n",
       "</table>\n",
       "</div>"
      ],
      "text/plain": [
       "           Account ID                                       Account Name  \\\n",
       "3451  0010B00001liAqw  National Association for Multi-Ethnicity In Co...   \n",
       "\n",
       "           Contact ID              Contact Source                    Email  \\\n",
       "3451  0030B00001ueBhC  http://namic.com/the-team/  monique.wells@namic.com   \n",
       "\n",
       "     First Name Last Name Mailing City Mailing Country Mailing State/Province  \\\n",
       "3451    Monique     Wells     New York                                     NY   \n",
       "\n",
       "                   Mailing Street Mailing Zip/Postal Code Notes  \\\n",
       "3451  50 Broad Street, Suite 1801                   10004         \n",
       "\n",
       "               Phone Status                                   Title  \n",
       "3451  (646) 545-2509         Director of Finance and Administration  "
      ]
     },
     "execution_count": 5,
     "metadata": {},
     "output_type": "execute_result"
    }
   ],
   "source": [
    "# Get a record to check\n",
    "contacts = cr[cr[\"Account Name\"] == org]\n",
    "rec = contacts.iloc[[1]]\n",
    "rec"
   ]
  },
  {
   "cell_type": "markdown",
   "metadata": {},
   "source": [
    "## Contact Checker Use"
   ]
  },
  {
   "cell_type": "code",
   "execution_count": 6,
   "metadata": {},
   "outputs": [],
   "source": [
    "cp1 = cc.ContactPointerFamily(rec)"
   ]
  },
  {
   "cell_type": "code",
   "execution_count": 7,
   "metadata": {},
   "outputs": [
    {
     "data": {
      "text/plain": [
       "'S. Monique Wells'"
      ]
     },
     "execution_count": 7,
     "metadata": {},
     "output_type": "execute_result"
    }
   ],
   "source": [
    "cp1.contactPointers['nathan']"
   ]
  },
  {
   "cell_type": "code",
   "execution_count": 8,
   "metadata": {},
   "outputs": [
    {
     "data": {
      "text/plain": [
       "True"
      ]
     },
     "execution_count": 8,
     "metadata": {},
     "output_type": "execute_result"
    }
   ],
   "source": [
    "cp1.mary_here()"
   ]
  },
  {
   "cell_type": "code",
   "execution_count": 10,
   "metadata": {},
   "outputs": [
    {
     "data": {
      "text/plain": [
       "<div class=\"team-member-right\"><h3 class=\"team-member-name\">S. Monique Wells</h3><h4 class=\"team-member-position\">Director of Finance and Administration</h4><div class=\"team-member-body hide-class\"><div style=\"overflow: hidden; height: 72px;\">Monique Wells is the Director of Finance and Administration for the National Association for Multi-ethnicity in Communications’ (NAMIC). Prior to that she was their Manager of Operations, a position she assumed in August, 2009.\n",
       "Monique is no stranger to NAMIC and has been a member since 1991. She served as a consultant to NAMIC for a number of special projects, prior to joining the staff. As Director of Finance and Administration, she oversees the administrative and financial operations of the national office.\n",
       "An accomplished professional with a diverse background in sales and project management, Monique previously served as an Energy Conservation Analyst with the Los Angeles Unified School District where she oversaw the utility management for school construction projects. Prior to that, Monique was a National Sales and Marketing Executive for Patriot Communications where she was responsible for the sales, marketing and contract negotiations of enhanced telecommunications products and services.\n",
       "Before joining Patriot, Monique worked at HBO in Affiliate Sales, where she created and implemented sales strategies and account activities for HBO and Cinemax. Her responsibilities included sales, client services, off-channel promotions and special events. During her tenure at HBO, Monique was an active member of the NAMIC-Southern California chapter and served on the Steering Committee for the Vision Awards and chaired both the Sponsorship and Talent Committees.\n",
       "Preceding her tenure in communications, Monique held several executive positions for Kraft General Foods and Sportsvisions, a sports marketing company based in Northern California. Monique earned a Bachelor of Arts degree in Sociology from Clark University in Worcester, MA and a MBA degree in general business and marketing from Atlanta University, now known as Clark Atlanta University in Atlanta, GA. She is on the planning committee for the American Heart Association’s Harlem Go Red For Women Educational Forum and volunteers for the New York Common Pantry, a New York City community based food pantry.\n",
       "</div></div><div class=\"team-member-social\"><a class=\"member-social-twitter\" href=\"\" style=\"display: none;\"><img src=\"http://namic.com/wp-content/themes/namic-dev/./img/icons/member-social-twitter.png\"/></a><a class=\"member-social-linkedin\" href=\"https://www.linkedin.com/pub/s-monique-wells/3/7a0/265\"><img src=\"http://namic.com/wp-content/themes/namic-dev/./img/icons/member-social-linkedin.png\"/></a><a class=\"member-social-facebook\" href=\"\" style=\"display: none;\"><img src=\"http://namic.com/wp-content/themes/namic-dev/./img/icons/member-social-facebook.png\"/></a><a class=\"member-social-google+\" href=\"\" style=\"display: none;\"><img src=\"http://namic.com/wp-content/themes/namic-dev/./img/icons/member-social-google+.png\"/></a><a class=\"member-social-youtube\" href=\"\" style=\"display: none;\"><img src=\"http://namic.com/wp-content/themes/namic-dev/./img/icons/member-social-youtube.png\"/></a></div></div>"
      ]
     },
     "execution_count": 10,
     "metadata": {},
     "output_type": "execute_result"
    }
   ],
   "source": [
    "cp1.get_mary()"
   ]
  },
  {
   "cell_type": "code",
   "execution_count": 21,
   "metadata": {},
   "outputs": [
    {
     "data": {
      "text/plain": [
       "True"
      ]
     },
     "execution_count": 21,
     "metadata": {},
     "output_type": "execute_result"
    }
   ],
   "source": [
    "cp1.tom_here()"
   ]
  },
  {
   "cell_type": "code",
   "execution_count": null,
   "metadata": {
    "collapsed": true
   },
   "outputs": [],
   "source": []
  },
  {
   "cell_type": "code",
   "execution_count": null,
   "metadata": {
    "collapsed": true
   },
   "outputs": [],
   "source": []
  },
  {
   "cell_type": "code",
   "execution_count": null,
   "metadata": {
    "collapsed": true
   },
   "outputs": [],
   "source": []
  },
  {
   "cell_type": "code",
   "execution_count": null,
   "metadata": {
    "collapsed": true
   },
   "outputs": [],
   "source": []
  },
  {
   "cell_type": "code",
   "execution_count": null,
   "metadata": {
    "collapsed": true
   },
   "outputs": [],
   "source": []
  },
  {
   "cell_type": "code",
   "execution_count": null,
   "metadata": {
    "collapsed": true
   },
   "outputs": [],
   "source": []
  },
  {
   "cell_type": "code",
   "execution_count": null,
   "metadata": {
    "collapsed": true
   },
   "outputs": [],
   "source": []
  },
  {
   "cell_type": "code",
   "execution_count": null,
   "metadata": {
    "collapsed": true
   },
   "outputs": [],
   "source": []
  },
  {
   "cell_type": "code",
   "execution_count": null,
   "metadata": {
    "collapsed": true
   },
   "outputs": [],
   "source": []
  },
  {
   "cell_type": "code",
   "execution_count": null,
   "metadata": {
    "collapsed": true
   },
   "outputs": [],
   "source": []
  }
 ],
 "metadata": {
  "kernelspec": {
   "display_name": "Python 3",
   "language": "python",
   "name": "python3"
  },
  "language_info": {
   "codemirror_mode": {
    "name": "ipython",
    "version": 3
   },
   "file_extension": ".py",
   "mimetype": "text/x-python",
   "name": "python",
   "nbconvert_exporter": "python",
   "pygments_lexer": "ipython3",
   "version": "3.6.1"
  }
 },
 "nbformat": 4,
 "nbformat_minor": 2
}
