{
 "cells": [
  {
   "cell_type": "code",
   "execution_count": 1,
   "metadata": {},
   "outputs": [
    {
     "name": "stdout",
     "output_type": "stream",
     "text": [
      "Done\n",
      "Done\n",
      "KEYS\n",
      "Done\n",
      "Done\n",
      "RECORDS COLLECTED\n",
      "DATAFRAMES READY\n"
     ]
    }
   ],
   "source": [
    "%run contactsScraper.py"
   ]
  },
  {
   "cell_type": "code",
   "execution_count": 2,
   "metadata": {
    "collapsed": true
   },
   "outputs": [],
   "source": [
    "accounts = cr['Account Name'].unique()\n",
    "organizations = dr['Organization'].unique()"
   ]
  },
  {
   "cell_type": "code",
   "execution_count": 3,
   "metadata": {
    "collapsed": true
   },
   "outputs": [],
   "source": [
    "noOrganizationDir = []\n",
    "for x in accounts:\n",
    "    if x not in organizations:\n",
    "        noOrganizationDir.append(x)"
   ]
  },
  {
   "cell_type": "code",
   "execution_count": 5,
   "metadata": {
    "collapsed": true
   },
   "outputs": [],
   "source": [
    "accountRecordCounts = {x:len(cr[cr['Account Name'] == x]) for x in accounts}\n",
    "organizationRecordCounts = {x:len(cr[cr['Account Name'] == x]) for x in organizations}"
   ]
  },
  {
   "cell_type": "code",
   "execution_count": 7,
   "metadata": {},
   "outputs": [],
   "source": [
    "noOrganizationDirCounts = {x: accountRecordCounts[x] for x in noOrganizationDir}"
   ]
  },
  {
   "cell_type": "code",
   "execution_count": 8,
   "metadata": {},
   "outputs": [
    {
     "data": {
      "text/plain": [
       "{'': 2,\n",
       " 'APICS The Association for Operations Management': 15,\n",
       " 'Air & Waste Management Association': 9,\n",
       " \"Alabama Cattleman's Association\": 5,\n",
       " 'Alumni Association of the University of Michigan': 5,\n",
       " 'Ambulatory Surgery Center Association': 6,\n",
       " 'American Academy of Cosmetic Dentistry (AACD)': 3,\n",
       " 'American Academy of Dermatology': 5,\n",
       " 'American Academy of Family Physicians (AAFP)': 10,\n",
       " 'American Academy of Physician Assistants (PAs)': 12,\n",
       " 'American Association For Dental Research': 5,\n",
       " 'American Association For The Advancement Of Science (AAAS)': 7,\n",
       " 'American Association Of Critical Care Nurses (AACCN)': 9,\n",
       " 'American Association of Dental Office Management': 5,\n",
       " 'American Association of University Women (AAUW)': 8,\n",
       " 'American Association on Intellectual and Developmental Disabilities': 5,\n",
       " 'American Collectors Association Inc': 2,\n",
       " 'American Counseling Association': 15,\n",
       " 'American Dental Association': 15,\n",
       " 'American Dental Hygienists Association': 3,\n",
       " 'American Fire Sprinkler Association Inc': 4,\n",
       " 'American Health Information Management Association': 9,\n",
       " 'American Mensa': 12,\n",
       " 'American Numismatic Association': 4,\n",
       " 'American Osteopathic Association': 9,\n",
       " 'American Payroll Association': 3,\n",
       " 'American Society for Microbiology': 8,\n",
       " 'American Society for Quality (ASQ)': 9,\n",
       " 'American Society of Clinical Oncology': 14,\n",
       " 'American Society of Health-System Pharmacists': 10,\n",
       " 'American Society of Mechanical Engineers (ASME)': 17,\n",
       " 'American Society of Radiologic Technologists (ASRT)': 18,\n",
       " 'American Society of Safety Engineers': 5,\n",
       " 'American Solar Energy Society': 5,\n",
       " 'American Student Dental Association': 6,\n",
       " 'American Thoracic Society': 7,\n",
       " 'American Traffic Safety Services Association (ATSSA)': 11,\n",
       " 'Aptify': 7,\n",
       " 'Association For Career And Techinical Education Inc': 4,\n",
       " 'Association Of Community College Trustees': 5,\n",
       " 'Association for Computing Machinery': 11,\n",
       " 'Association for Professionals in Infection Control and Epidemiology (APIC)': 13,\n",
       " 'Association for Talent Development': 6,\n",
       " 'Association of Clinical Research Professionals (ACRP)': 10,\n",
       " 'Association of Energy Services Professionals': 5,\n",
       " 'Association of Florida Colleges': 3,\n",
       " 'Association of Fraternal Leadership and Values (HQ)': 5,\n",
       " 'Association of Fundraising Professionals (AFP)': 11,\n",
       " \"Association of Women's Health, Obstetric and Neonatal Nurses (AWHONN)\": 13,\n",
       " 'Barbershop Harmony Society': 11,\n",
       " 'Boy Scouts of America': 175,\n",
       " 'CFA Institute': 8,\n",
       " 'California Association of Realtors': 3,\n",
       " 'Canadian Dental Association': 2,\n",
       " 'Community Associations Institute (CAI)': 17,\n",
       " 'Council for Exceptional Children': 12,\n",
       " 'Data Marketing Association': 12,\n",
       " 'Electrical Apparatus Service Association': 7,\n",
       " 'Emergency Nurses Association': 10,\n",
       " \"Entrepreneurs' Organization\": 10,\n",
       " 'Executive Womens Golf Association': 7,\n",
       " 'Experimental Aircraft Association Inc (EAA)': 3,\n",
       " 'FBI National Academy Associates, Inc.': 6,\n",
       " 'Federation of American Societies for Experimental Biology': 5,\n",
       " 'Girl Scouts of the United States of America': 7,\n",
       " 'Global Business Travel Association (GBTA)': 14,\n",
       " 'IEEE Power Electronics Society': 11,\n",
       " 'Illinois Association of Realtors': 7,\n",
       " 'Information Systems Audit and Control Association (ISACA)': 20,\n",
       " 'Institute of Electrical and Electronics Engineers (IEEE)': 32,\n",
       " 'Institute of Internal Auditors (IIA)': 2,\n",
       " 'International Association Of Privacy Professionals': 7,\n",
       " 'International Association of Lighting Designers': 5,\n",
       " 'International City/County Management Association': 5,\n",
       " 'International Code Council Inc': 1,\n",
       " 'International Facility Management Association (IFMA)': 12,\n",
       " 'International Federation of Accountants': 9,\n",
       " 'International Information System Security Certification Consortium, Inc- (ISC)2': 6,\n",
       " 'International Institute of Business Analysis (IIBA)': 1,\n",
       " 'International Masonry Institute': 5,\n",
       " 'Knights of Columbus': 6,\n",
       " 'Lions Clubs International (LCI)': 2,\n",
       " 'MGMA-ACMPE (Medical Group Management Association)': 1,\n",
       " 'McKenna Management Inc': 5,\n",
       " 'Mechanical Service Contractors of America': 1,\n",
       " 'Meeting Professionals International': 12,\n",
       " 'Mississippi State Medical Association': 2,\n",
       " 'NAFSA: Association of International Educators': 12,\n",
       " 'National Association of Realtors (NAR)': 19,\n",
       " 'National Association of Women Business Owners (NAWBO)': 3,\n",
       " 'National Court Reporters Association': 4,\n",
       " 'National Minority Supplier Development Council, Inc': 5,\n",
       " 'National Restaurant Association': 8,\n",
       " 'National Society of the Daughters of the American Revolution': 4,\n",
       " 'National Speakers Association': 7,\n",
       " 'Professional Association Of Georgia Educators Inc': 4,\n",
       " 'Project Management Institute (PMI)': 13,\n",
       " 'Society For Technical Communication': 3,\n",
       " 'Society for Human Resource Management': 23,\n",
       " 'Society of Critical Care Medicine': 18,\n",
       " 'Society of Hospital Medicine': 15,\n",
       " 'Society of Manufacturing Engineers (SME)': 15,\n",
       " 'Solid Waste Association of North America (SWANA)': 4,\n",
       " 'The American Society for Metabolic and Bariatric Surgery': 6,\n",
       " 'The Association of Pool and Spa Professionals (APSP)': 7,\n",
       " 'The Ohio Society of CPAs': 11,\n",
       " 'United States Green Building Council': 8,\n",
       " 'United States Trotting Association': 3,\n",
       " 'Wellesley College Alumnae Association': 4,\n",
       " 'Wisconsin Alumni Association Inc': 4}"
      ]
     },
     "execution_count": 8,
     "metadata": {},
     "output_type": "execute_result"
    }
   ],
   "source": [
    "noOrganizationDirCounts"
   ]
  },
  {
   "cell_type": "code",
   "execution_count": 9,
   "metadata": {},
   "outputs": [
    {
     "data": {
      "text/plain": [
       "110"
      ]
     },
     "execution_count": 9,
     "metadata": {},
     "output_type": "execute_result"
    }
   ],
   "source": [
    "len(noOrganizationDirCounts)"
   ]
  },
  {
   "cell_type": "code",
   "execution_count": 10,
   "metadata": {
    "collapsed": true
   },
   "outputs": [],
   "source": [
    "import scraperModelGS as smgs"
   ]
  },
  {
   "cell_type": "code",
   "execution_count": 11,
   "metadata": {
    "collapsed": true
   },
   "outputs": [],
   "source": [
    "def writeNoLinkOrgs(OrgList):\n",
    "    \"\"\"Google Sheets API Code.\n",
    "\n",
    "    Writes all orgnizations with no Links to the Spreadsheet\n",
    "    https://docs.google.com/spreadsheets/d/1p1LNyQhNhDBNEOkYQPV9xcNRe60WDlmnuiPp78hxkIs\n",
    "    \"\"\"\n",
    "    credentials = get_credentials()\n",
    "    http = credentials.authorize(smgs.httplib2.Http())\n",
    "    discoveryUrl = ('https://sheets.googleapis.com/$discovery/rest?'\n",
    "                    'version=v4')\n",
    "    service = smgs.discovery.build('sheets', 'v4', http=http,\n",
    "                              discoveryServiceUrl=discoveryUrl)\n",
    "\n",
    "    spreadsheet_id = '1p1LNyQhNhDBNEOkYQPV9xcNRe60WDlmnuiPp78hxkIs'\n",
    "    value_input_option = 'RAW'\n",
    "    rangeName = 'Orgs with no Links!A2'\n",
    "    values = OrgList\n",
    "    body = {\n",
    "          'values': values\n",
    "    }\n",
    "    \n",
    "    result = service.spreadsheets().values().update(spreadsheetId=spreadsheet_id, range=rangeName,\n",
    "                                                    valueInputOption=value_input_option, body=body).execute()\n",
    "\n",
    "    return result"
   ]
  },
  {
   "cell_type": "code",
   "execution_count": 13,
   "metadata": {},
   "outputs": [
    {
     "data": {
      "text/plain": [
       "{'spreadsheetId': '1p1LNyQhNhDBNEOkYQPV9xcNRe60WDlmnuiPp78hxkIs',\n",
       " 'updatedCells': 220,\n",
       " 'updatedColumns': 2,\n",
       " 'updatedRange': \"'Orgs with no Links'!A2:B111\",\n",
       " 'updatedRows': 110}"
      ]
     },
     "execution_count": 13,
     "metadata": {},
     "output_type": "execute_result"
    }
   ],
   "source": [
    "writeNoLinkOrgs([[x, noOrganizationDirCounts[x]] for x in noOrganizationDirCounts])"
   ]
  },
  {
   "cell_type": "code",
   "execution_count": null,
   "metadata": {
    "collapsed": true
   },
   "outputs": [],
   "source": []
  },
  {
   "cell_type": "code",
   "execution_count": null,
   "metadata": {
    "collapsed": true
   },
   "outputs": [],
   "source": []
  },
  {
   "cell_type": "code",
   "execution_count": null,
   "metadata": {
    "collapsed": true
   },
   "outputs": [],
   "source": []
  }
 ],
 "metadata": {
  "kernelspec": {
   "display_name": "Python 3",
   "language": "python",
   "name": "python3"
  },
  "language_info": {
   "codemirror_mode": {
    "name": "ipython",
    "version": 3
   },
   "file_extension": ".py",
   "mimetype": "text/x-python",
   "name": "python",
   "nbconvert_exporter": "python",
   "pygments_lexer": "ipython3",
   "version": "3.6.1"
  }
 },
 "nbformat": 4,
 "nbformat_minor": 2
}
