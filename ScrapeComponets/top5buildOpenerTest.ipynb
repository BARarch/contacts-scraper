{
 "cells": [
  {
   "cell_type": "code",
   "execution_count": 2,
   "metadata": {},
   "outputs": [
    {
     "name": "stdout",
     "output_type": "stream",
     "text": [
      "\n",
      "Your browser has been opened to visit:\n",
      "\n",
      "    https://accounts.google.com/o/oauth2/auth?client_id=829039132881-tm658s48p30jafdjcsdgtlm08h6b06ak.apps.googleusercontent.com&redirect_uri=http%3A%2F%2Flocalhost%3A8080%2F&scope=https%3A%2F%2Fwww.googleapis.com%2Fauth%2Fspreadsheets&access_type=offline&response_type=code\n",
      "\n",
      "If your browser is on a different machine then exit and re-run this\n",
      "application with the command-line parameter\n",
      "\n",
      "  --noauth_local_webserver\n",
      "\n",
      "Authentication successful.\n",
      "Storing credentials to C:\\Users\\Anthony\\scripts\\Contacts-Scraper\\.credentials\\sheets.googleapis.Scraper-X.json\n",
      "Done\n",
      "Done\n",
      "KEYS\n",
      "Done\n",
      "Done\n",
      "RECORDS COLLECTED\n",
      "DATAFRAMES READY\n"
     ]
    }
   ],
   "source": [
    "%run contactsScraper.py"
   ]
  },
  {
   "cell_type": "code",
   "execution_count": 3,
   "metadata": {
    "collapsed": true
   },
   "outputs": [],
   "source": [
    "groupName1 = 'ASIS International'\n",
    "groupName2 = 'United States Golf Association'\n",
    "groupName3 = 'American Massage Therapy Association (AMTA) - HQ'\n",
    "groupName4 = 'American Association of Law Libraries'\n",
    "groupName5 = 'National League for Nursing'\n",
    "groups = [groupName1, groupName2, groupName3, groupName4, groupName5]\n"
   ]
  },
  {
   "cell_type": "code",
   "execution_count": 4,
   "metadata": {
    "collapsed": true
   },
   "outputs": [],
   "source": [
    "import urllib.request as ur\n",
    "from bs4 import BeautifulSoup"
   ]
  },
  {
   "cell_type": "code",
   "execution_count": 5,
   "metadata": {
    "collapsed": true
   },
   "outputs": [],
   "source": [
    "# OpenerSetup\n",
    "opener = ur.build_opener()\n",
    "opener.addheaders = [('User-agent', 'Mozilla/5.0')]"
   ]
  },
  {
   "cell_type": "code",
   "execution_count": 6,
   "metadata": {
    "collapsed": true
   },
   "outputs": [],
   "source": [
    "url = 'https://pythonprogramming.net/parsememcparseface/'\n",
    "html = opener.open(url).read()"
   ]
  },
  {
   "cell_type": "code",
   "execution_count": 7,
   "metadata": {
    "collapsed": true
   },
   "outputs": [],
   "source": [
    "soup = BeautifulSoup(html, 'lxml')"
   ]
  },
  {
   "cell_type": "code",
   "execution_count": 9,
   "metadata": {},
   "outputs": [
    {
     "name": "stdout",
     "output_type": "stream",
     "text": [
      "y u bad tho?\n"
     ]
    }
   ],
   "source": [
    "js_test = soup.find('p', id ='yesnojs')\n",
    "print(js_test.text)"
   ]
  },
  {
   "cell_type": "code",
   "execution_count": null,
   "metadata": {
    "collapsed": true
   },
   "outputs": [],
   "source": []
  }
 ],
 "metadata": {
  "kernelspec": {
   "display_name": "Python 3",
   "language": "python",
   "name": "python3"
  },
  "language_info": {
   "codemirror_mode": {
    "name": "ipython",
    "version": 3
   },
   "file_extension": ".py",
   "mimetype": "text/x-python",
   "name": "python",
   "nbconvert_exporter": "python",
   "pygments_lexer": "ipython3",
   "version": "3.6.1"
  }
 },
 "nbformat": 4,
 "nbformat_minor": 2
}
