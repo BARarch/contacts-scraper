{
 "cells": [
  {
   "cell_type": "code",
   "execution_count": 1,
   "metadata": {
    "collapsed": true
   },
   "outputs": [],
   "source": [
    "import string\n",
    "import requests"
   ]
  },
  {
   "cell_type": "code",
   "execution_count": 3,
   "metadata": {},
   "outputs": [],
   "source": [
    "api_url = 'https://www.flightradar24.com/data/airports'\n",
    "\n",
    "session = requests.Session()\n",
    "session.mount('http://', requests.adapters.HTTPAdapter(max_retries=3))\n",
    "raw_data = session.get(api_url)\n"
   ]
  },
  {
   "cell_type": "code",
   "execution_count": 5,
   "metadata": {},
   "outputs": [
    {
     "data": {
      "text/plain": [
       "''"
      ]
     },
     "execution_count": 5,
     "metadata": {},
     "output_type": "execute_result"
    }
   ],
   "source": [
    "raw_data.text\n"
   ]
  },
  {
   "cell_type": "code",
   "execution_count": 6,
   "metadata": {
    "collapsed": true
   },
   "outputs": [],
   "source": [
    "page = requests.get(api_url)\n",
    "contents = page.content"
   ]
  },
  {
   "cell_type": "code",
   "execution_count": 7,
   "metadata": {},
   "outputs": [
    {
     "data": {
      "text/plain": [
       "b''"
      ]
     },
     "execution_count": 7,
     "metadata": {},
     "output_type": "execute_result"
    }
   ],
   "source": [
    "contents"
   ]
  },
  {
   "cell_type": "code",
   "execution_count": 9,
   "metadata": {},
   "outputs": [
    {
     "data": {
      "text/plain": [
       "b''"
      ]
     },
     "execution_count": 9,
     "metadata": {},
     "output_type": "execute_result"
    }
   ],
   "source": [
    "raw_data.content"
   ]
  },
  {
   "cell_type": "code",
   "execution_count": 18,
   "metadata": {},
   "outputs": [],
   "source": [
    "from selenium import webdriver\n",
    "\n",
    "path_to_chromedriver = '/Users/Anthony/scripts/Contacts-Scraper/Drivers/chromedriver' # change path as needed\n",
    "browser = webdriver.Chrome(path_to_chromedriver)"
   ]
  },
  {
   "cell_type": "code",
   "execution_count": 19,
   "metadata": {},
   "outputs": [],
   "source": [
    "url = 'https://www.flightradar24.com/data/airports'\n",
    "browser.get(url)\n"
   ]
  },
  {
   "cell_type": "code",
   "execution_count": 20,
   "metadata": {
    "collapsed": true
   },
   "outputs": [],
   "source": [
    "url = 'https://pythonprogramming.net/parsememcparseface/'\n",
    "browser.get(url)"
   ]
  },
  {
   "cell_type": "code",
   "execution_count": 21,
   "metadata": {
    "collapsed": true
   },
   "outputs": [],
   "source": [
    "browser2 = webdriver.Chrome(path_to_chromedriver)"
   ]
  },
  {
   "cell_type": "code",
   "execution_count": 22,
   "metadata": {
    "collapsed": true
   },
   "outputs": [],
   "source": [
    "url = 'https://www.flightradar24.com/data/airports'\n",
    "browser2.get(url)"
   ]
  },
  {
   "cell_type": "code",
   "execution_count": 24,
   "metadata": {},
   "outputs": [],
   "source": [
    "a = browser.find_element_by_id('yesnojs')"
   ]
  },
  {
   "cell_type": "code",
   "execution_count": 25,
   "metadata": {},
   "outputs": [
    {
     "data": {
      "text/plain": [
       "<selenium.webdriver.remote.webelement.WebElement (session=\"2dacf05692323230c04b43c5c2e47ceb\", element=\"0.1944719796380885-1\")>"
      ]
     },
     "execution_count": 25,
     "metadata": {},
     "output_type": "execute_result"
    }
   ],
   "source": [
    "a"
   ]
  },
  {
   "cell_type": "code",
   "execution_count": 26,
   "metadata": {},
   "outputs": [
    {
     "data": {
      "text/plain": [
       "selenium.webdriver.remote.webelement.WebElement"
      ]
     },
     "execution_count": 26,
     "metadata": {},
     "output_type": "execute_result"
    }
   ],
   "source": [
    "type(a)"
   ]
  },
  {
   "cell_type": "code",
   "execution_count": 27,
   "metadata": {},
   "outputs": [
    {
     "data": {
      "text/plain": [
       "'Look at you shinin!'"
      ]
     },
     "execution_count": 27,
     "metadata": {},
     "output_type": "execute_result"
    }
   ],
   "source": [
    "a.text"
   ]
  },
  {
   "cell_type": "code",
   "execution_count": 56,
   "metadata": {
    "collapsed": true
   },
   "outputs": [],
   "source": [
    "b = browser2.find_elements_by_tag_name('tbody')"
   ]
  },
  {
   "cell_type": "code",
   "execution_count": 47,
   "metadata": {},
   "outputs": [],
   "source": [
    "b1 = b[0].find_elements_by_tag_name('tr')"
   ]
  },
  {
   "cell_type": "code",
   "execution_count": 48,
   "metadata": {},
   "outputs": [
    {
     "data": {
      "text/plain": [
       "247"
      ]
     },
     "execution_count": 48,
     "metadata": {},
     "output_type": "execute_result"
    }
   ],
   "source": [
    "len(b1)"
   ]
  },
  {
   "cell_type": "code",
   "execution_count": 33,
   "metadata": {},
   "outputs": [
    {
     "data": {
      "text/plain": [
       "1"
      ]
     },
     "execution_count": 33,
     "metadata": {},
     "output_type": "execute_result"
    }
   ],
   "source": [
    "len(b)"
   ]
  },
  {
   "cell_type": "code",
   "execution_count": 55,
   "metadata": {
    "collapsed": true
   },
   "outputs": [],
   "source": [
    "bb = browser.find_elements_by_tag_name('tbody')"
   ]
  },
  {
   "cell_type": "code",
   "execution_count": 35,
   "metadata": {},
   "outputs": [
    {
     "data": {
      "text/plain": [
       "[<selenium.webdriver.remote.webelement.WebElement (session=\"2dacf05692323230c04b43c5c2e47ceb\", element=\"0.1944719796380885-11\")>]"
      ]
     },
     "execution_count": 35,
     "metadata": {},
     "output_type": "execute_result"
    }
   ],
   "source": [
    "bb"
   ]
  },
  {
   "cell_type": "code",
   "execution_count": 36,
   "metadata": {},
   "outputs": [
    {
     "data": {
      "text/plain": [
       "1"
      ]
     },
     "execution_count": 36,
     "metadata": {},
     "output_type": "execute_result"
    }
   ],
   "source": [
    "len(bb)"
   ]
  },
  {
   "cell_type": "code",
   "execution_count": 44,
   "metadata": {
    "collapsed": true
   },
   "outputs": [],
   "source": [
    "b2 = bb[0].find_elements_by_tag_name('td')"
   ]
  },
  {
   "cell_type": "code",
   "execution_count": 45,
   "metadata": {},
   "outputs": [
    {
     "data": {
      "text/plain": [
       "21"
      ]
     },
     "execution_count": 45,
     "metadata": {},
     "output_type": "execute_result"
    }
   ],
   "source": [
    "len(b2)"
   ]
  },
  {
   "cell_type": "code",
   "execution_count": 49,
   "metadata": {},
   "outputs": [
    {
     "data": {
      "text/plain": [
       "[<selenium.webdriver.remote.webelement.WebElement (session=\"4bedd570e640d6b562086f386d21297c\", element=\"0.06927407197792768-1\")>]"
      ]
     },
     "execution_count": 49,
     "metadata": {},
     "output_type": "execute_result"
    }
   ],
   "source": [
    "b"
   ]
  },
  {
   "cell_type": "code",
   "execution_count": 61,
   "metadata": {},
   "outputs": [
    {
     "data": {
      "text/plain": [
       "\"A\\nAfghanistan\\n4 airports\\nAlbania\\n1 airport\\nAlgeria\\n15 airports\\nAngola\\n5 airports\\nAnguilla\\n1 airport\\nAntarctica\\n1 airport\\nAntigua And Barbuda\\n1 airport\\nArgentina\\n40 airports\\nArmenia\\n2 airports\\nAruba\\n2 airports\\nAustralia\\n163 airports\\nAustria\\n6 airports\\nAzerbaijan\\n5 airports\\nB\\nBahamas\\n21 airports\\nBahrain\\n2 airports\\nBangladesh\\n5 airports\\nBarbados\\n1 airport\\nBelarus\\n4 airports\\nBelgium\\n6 airports\\nBelize\\n7 airports\\nBenin\\n1 airport\\nBermuda\\n1 airport\\nBhutan\\n1 airport\\nBolivia\\n11 airports\\nBosnia And Herzegovina\\n4 airports\\nBotswana\\n3 airports\\nBrazil\\n116 airports\\nBrunei\\n1 airport\\nBulgaria\\n4 airports\\nBurkina Faso\\n1 airport\\nBurundi\\n1 airport\\nC\\nCambodia\\n3 airports\\nCameroon\\n3 airports\\nCanada\\n220 airports\\nCape Verde\\n4 airports\\nCayman Islands\\n3 airports\\nCentral African Republic\\n1 airport\\nChad\\n1 airport\\nChile\\n17 airports\\nChina\\n201 airports\\nCocos (keeling) Islands\\n1 airport\\nColombia\\n34 airports\\nComoros\\n1 airport\\nCongo\\n2 airports\\nCook Islands\\n2 airports\\nCosta Rica\\n5 airports\\nCote D'ivoire (ivory Coast)\\n4 airports\\nCroatia\\n9 airports\\nCuba\\n11 airports\\nCuracao\\n1 airport\\nCyprus\\n2 airports\\nCzech Republic\\n8 airports\\nD\\nDemocratic Republic Of The Congo\\n3 airports\\nDenmark\\n17 airports\\nDjibouti\\n1 airport\\nDominica\\n2 airports\\nDominican Republic\\n8 airports\\nE\\nEcuador\\n10 airports\\nEgypt\\n12 airports\\nEl Salvador\\n1 airport\\nEquatorial Guinea\\n2 airports\\nEritrea\\n1 airport\\nEstonia\\n5 airports\\nEthiopia\\n8 airports\\nF\\nFalkland Islands (malvinas)\\n2 airports\\nFaroe Islands\\n1 airport\\nFiji\\n11 airports\\nFinland\\n23 airports\\nFrance\\n80 airports\\nFrench Guiana\\n1 airport\\nFrench Polynesia\\n22 airports\\nG\\nGabon\\n1 airport\\nGambia\\n1 airport\\nGeorgia\\n3 airports\\nGermany\\n60 airports\\nGhana\\n4 airports\\nGibraltar\\n1 airport\\nGreece\\n39 airports\\nGreenland\\n14 airports\\nGrenada\\n1 airport\\nGuadeloupe\\n3 airports\\nGuam\\n1 airport\\nGuatemala\\n2 airports\\nGuinea\\n1 airport\\nGuinea-bissau\\n1 airport\\nGuyana\\n2 airports\\nH\\nHaiti\\n3 airports\\nHonduras\\n3 airports\\nHong Kong\\n1 airport\\nHungary\\n6 airports\\nI\\nIceland\\n13 airports\\nIndia\\n78 airports\\nIndonesia\\n87 airports\\nIran\\n44 airports\\nIraq\\n5 airports\\nIreland\\n8 airports\\nIsrael\\n5 airports\\nItaly\\n40 airports\\nJ\\nJamaica\\n2 airports\\nJapan\\n70 airports\\nJordan\\n3 airports\\nK\\nKazakhstan\\n15 airports\\nKenya\\n12 airports\\nKiribati\\n1 airport\\nKosovo\\n1 airport\\nKuwait\\n1 airport\\nKyrgyzstan\\n3 airports\\nL\\nLaos\\n4 airports\\nLatvia\\n3 airports\\nLebanon\\n1 airport\\nLesotho\\n1 airport\\nLiberia\\n1 airport\\nLibya\\n9 airports\\nLithuania\\n4 airports\\nLuxembourg\\n1 airport\\nM\\nMacedonia\\n2 airports\\nMadagascar\\n10 airports\\nMalawi\\n2 airports\\nMalaysia\\n30 airports\\nMaldives\\n12 airports\\nMali\\n1 airport\\nMalta\\n1 airport\\nMarshall Islands\\n1 airport\\nMartinique\\n1 airport\\nMauritania\\n2 airports\\nMauritius\\n2 airports\\nMayotte\\n1 airport\\nMexico\\n55 airports\\nMicronesia\\n4 airports\\nMoldova\\n1 airport\\nMonaco\\n1 airport\\nMongolia\\n1 airport\\nMontenegro\\n2 airports\\nMontserrat\\n1 airport\\nMorocco\\n19 airports\\nMozambique\\n11 airports\\nMyanmar (burma)\\n20 airports\\nN\\nNamibia\\n6 airports\\nNauru\\n1 airport\\nNepal\\n11 airports\\nNetherlands\\n11 airports\\nNew Caledonia\\n5 airports\\nNew Zealand\\n31 airports\\nNicaragua\\n1 airport\\nNiger\\n1 airport\\nNigeria\\n14 airports\\nNorth Korea\\n1 airport\\nNorthern Mariana Islands\\n2 airports\\nNorway\\n51 airports\\nO\\nOman\\n4 airports\\nP\\nPakistan\\n18 airports\\nPalau\\n1 airport\\nPanama\\n5 airports\\nPapua New Guinea\\n20 airports\\nParaguay\\n2 airports\\nPeru\\n18 airports\\nPhilippines\\n33 airports\\nPoland\\n16 airports\\nPortugal\\n21 airports\\nPuerto Rico\\n7 airports\\nQ\\nQatar\\n1 airport\\nR\\nReunion\\n2 airports\\nRomania\\n15 airports\\nRussia\\n116 airports\\nRwanda\\n1 airport\\nS\\nSaint Helena\\n2 airports\\nSaint Kitts And Nevis\\n2 airports\\nSaint Lucia\\n2 airports\\nSaint Pierre And Miquelon\\n1 airport\\nSaint Vincent And The Grenadines\\n1 airport\\nSamoa\\n2 airports\\nSao Tome And Principe\\n1 airport\\nSaudi Arabia\\n26 airports\\nSenegal\\n1 airport\\nSerbia\\n2 airports\\nSeychelles\\n1 airport\\nSierra Leone\\n2 airports\\nSingapore\\n2 airports\\nSlovakia\\n6 airports\\nSlovenia\\n2 airports\\nSolomon Islands\\n2 airports\\nSomalia\\n4 airports\\nSouth Africa\\n24 airports\\nSouth Korea\\n15 airports\\nSpain\\n45 airports\\nSri Lanka\\n2 airports\\nSudan\\n4 airports\\nSuriname\\n2 airports\\nSwaziland\\n2 airports\\nSweden\\n43 airports\\nSwitzerland\\n8 airports\\nSyria\\n4 airports\\nT\\nTaiwan\\n12 airports\\nTajikistan\\n4 airports\\nTanzania\\n14 airports\\nThailand\\n32 airports\\nTimor-leste (east Timor)\\n1 airport\\nTogo\\n1 airport\\nTonga\\n2 airports\\nTrinidad And Tobago\\n2 airports\\nTunisia\\n8 airports\\nTurkey\\n52 airports\\nTurkmenistan\\n5 airports\\nTurks And Caicos Islands\\n3 airports\\nTuvalu\\n1 airport\\nU\\nUganda\\n1 airport\\nUkraine\\n17 airports\\nUnited Arab Emirates\\n9 airports\\nUnited Kingdom\\n75 airports\\nUnited States\\n774 airports\\nUruguay\\n2 airports\\nUzbekistan\\n11 airports\\nV\\nVanuatu\\n3 airports\\nVenezuela\\n9 airports\\nVietnam\\n21 airports\\nVirgin Islands, British\\n2 airports\\nVirgin Islands, Us\\n2 airports\\nW\\nWallis And Futuna\\n1 airport\\nY\\nYemen\\n3 airports\\nZ\\nZambia\\n4 airports\\nZimbabwe\\n3 airports\""
      ]
     },
     "execution_count": 61,
     "metadata": {},
     "output_type": "execute_result"
    }
   ],
   "source": [
    "b[0].text"
   ]
  },
  {
   "cell_type": "code",
   "execution_count": null,
   "metadata": {
    "collapsed": true
   },
   "outputs": [],
   "source": []
  },
  {
   "cell_type": "code",
   "execution_count": null,
   "metadata": {
    "collapsed": true
   },
   "outputs": [],
   "source": []
  }
 ],
 "metadata": {
  "kernelspec": {
   "display_name": "Python 3",
   "language": "python",
   "name": "python3"
  },
  "language_info": {
   "codemirror_mode": {
    "name": "ipython",
    "version": 3
   },
   "file_extension": ".py",
   "mimetype": "text/x-python",
   "name": "python",
   "nbconvert_exporter": "python",
   "pygments_lexer": "ipython3",
   "version": "3.6.1"
  }
 },
 "nbformat": 4,
 "nbformat_minor": 2
}
