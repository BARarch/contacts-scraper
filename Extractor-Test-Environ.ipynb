{
 "cells": [
  {
   "cell_type": "code",
   "execution_count": 5,
   "metadata": {
    "collapsed": true
   },
   "outputs": [],
   "source": [
    "cc.VerificationHandler.close_browser()"
   ]
  },
  {
   "cell_type": "code",
   "execution_count": 4,
   "metadata": {
    "collapsed": true
   },
   "outputs": [],
   "source": [
    "VerificationHandler.close_browser()"
   ]
  },
  {
   "cell_type": "code",
   "execution_count": 12,
   "metadata": {
    "collapsed": true
   },
   "outputs": [],
   "source": [
    "import numpy as np\n",
    "import pandas as pd"
   ]
  },
  {
   "cell_type": "code",
   "execution_count": 1,
   "metadata": {},
   "outputs": [
    {
     "name": "stdout",
     "output_type": "stream",
     "text": [
      "Done\n",
      "Done\n",
      "KEYS\n",
      "Done\n",
      "Done\n",
      "RECORDS COLLECTED\n",
      "DATAFRAMES READY\n"
     ]
    }
   ],
   "source": [
    "% run contactsScraper.py"
   ]
  },
  {
   "cell_type": "code",
   "execution_count": 2,
   "metadata": {},
   "outputs": [
    {
     "name": "stdout",
     "output_type": "stream",
     "text": [
      "Local Contact Checker Ready\n"
     ]
    }
   ],
   "source": [
    "% run contactChecker.py"
   ]
  },
  {
   "cell_type": "code",
   "execution_count": 5,
   "metadata": {},
   "outputs": [
    {
     "name": "stdout",
     "output_type": "stream",
     "text": [
      "RECORD OUTPUT READY\n",
      "Local Contact Checker Ready\n"
     ]
    }
   ],
   "source": [
    "ContactSheetOutput.set_output(contactKeys)\n",
    "VerificationHandler.set_orgRecords(dm.OrgSession(orgRecords))\n",
    "VerificationHandler.set_contactRecords(cr)\n",
    "print('Local Contact Checker Ready')"
   ]
  },
  {
   "cell_type": "code",
   "execution_count": 6,
   "metadata": {
    "collapsed": true
   },
   "outputs": [],
   "source": [
    "orgsForToday = ['National Association for Multi-Ethnicity In Communications (NAMIC)',\n",
    "                'Association for Women in Science',\n",
    "                'Brain Injury Association of America',\n",
    "                'American Society of Home Inspectors',\n",
    "                'NAADAC, the Association for Addiction Professionals',\n",
    "                'American Public Transportation Association',\n",
    "                'Indiana Soybean Alliance',\n",
    "                'Associated Builders and Contractors (ABC)',\n",
    "                'National Association of Social Workers',\n",
    "                'American Marketing Association (AMA)']"
   ]
  },
  {
   "cell_type": "code",
   "execution_count": 7,
   "metadata": {},
   "outputs": [],
   "source": [
    "org  = orgsForToday[0]\n",
    "\n",
    "vh = MotherSetVerifier(org)"
   ]
  },
  {
   "cell_type": "code",
   "execution_count": 245,
   "metadata": {},
   "outputs": [],
   "source": [
    "org  = orgsForToday[0]\n",
    "\n",
    "vh = ContactScraperVerifier(org)"
   ]
  },
  {
   "cell_type": "code",
   "execution_count": 246,
   "metadata": {},
   "outputs": [
    {
     "data": {
      "text/plain": [
       "['Sun Oct 22, 2017  02:28:32', '2.954', 's', 'Good']"
      ]
     },
     "execution_count": 246,
     "metadata": {},
     "output_type": "execute_result"
    }
   ],
   "source": [
    "VerificationHandler.orgRecords.orgSessionStatusCheck()"
   ]
  },
  {
   "cell_type": "code",
   "execution_count": 9,
   "metadata": {},
   "outputs": [
    {
     "data": {
      "text/plain": [
       "243"
      ]
     },
     "execution_count": 9,
     "metadata": {},
     "output_type": "execute_result"
    }
   ],
   "source": [
    "ContactSheetOutput.currentRow"
   ]
  },
  {
   "cell_type": "code",
   "execution_count": 10,
   "metadata": {
    "collapsed": true
   },
   "outputs": [],
   "source": [
    "vh.write_contact_pointers()"
   ]
  },
  {
   "cell_type": "code",
   "execution_count": 248,
   "metadata": {},
   "outputs": [
    {
     "data": {
      "text/plain": [
       "[<__main__.VerifiedPointer at 0x20e68bb89e8>,\n",
       " <__main__.VerifiedPointer at 0x20e693036d8>,\n",
       " <__main__.VerifiedPointer at 0x20e692e6208>]"
      ]
     },
     "execution_count": 248,
     "metadata": {},
     "output_type": "execute_result"
    }
   ],
   "source": [
    "vh.pointers"
   ]
  },
  {
   "cell_type": "code",
   "execution_count": 254,
   "metadata": {},
   "outputs": [
    {
     "data": {
      "text/plain": [
       "'Administrative Assistant'"
      ]
     },
     "execution_count": 254,
     "metadata": {},
     "output_type": "execute_result"
    }
   ],
   "source": [
    "vh.extenders[2].tom_rocket(nathanStarts[7])"
   ]
  },
  {
   "cell_type": "code",
   "execution_count": 255,
   "metadata": {},
   "outputs": [
    {
     "data": {
      "text/plain": [
       "\"Davana O'Brien\""
      ]
     },
     "execution_count": 255,
     "metadata": {},
     "output_type": "execute_result"
    }
   ],
   "source": [
    "vh.extenders[2].nathan_rocket(tomStarts[7])"
   ]
  },
  {
   "cell_type": "code",
   "execution_count": null,
   "metadata": {
    "collapsed": true
   },
   "outputs": [],
   "source": []
  },
  {
   "cell_type": "code",
   "execution_count": 244,
   "metadata": {},
   "outputs": [],
   "source": [
    "class ContactScraperVerifier(MotherSetVerifier):\n",
    "    def __init__(self, org):\n",
    "        MotherSetVerifier.__init__(self, org)\n",
    "        self.pointers = self.verifiedPointers\n",
    "        \n",
    "        # Get Grand Mother elements\n",
    "        self.gmElements, self.grandMotherMatrix = ContactScraperVerifier.getGrandMotherElements(self.pointers)\n",
    "        \n",
    "        self.noGm = len(self.gmElements)\n",
    "        \n",
    "        if self.noGm == 1: ## Single Grandmother Case\n",
    "            self.gm = self.gmElements[0]\n",
    "            \n",
    "            if distinct_gm(self.gm, self.pointers): ## Grandmother is distinct\n",
    "            ## Extender Model Selection\n",
    "                self.extenders = [Extender(self.gm, vp) for vp in self.pointers]\n",
    "            \n",
    "            else:  ## GrandMother is not distinct\n",
    "                ## Extender Model Selection\n",
    "                self.extenders = [RocketOnlyExtender(self.gm, vp) for vp in self.pointers]\n",
    "            \n",
    "        else:\n",
    "            ## Extender Model Selection for Multiple GrandMothers\n",
    "            self.extenders = None\n",
    "            \n",
    "    @staticmethod\n",
    "    def getGrandMotherElements(pointers):\n",
    "        ## Identify Grandmother elements\n",
    "        gmElements = []\n",
    "        gmMatrix = []\n",
    "\n",
    "        for i in range(len(pointers)):\n",
    "            igmElements = []\n",
    "            for j in range(i):\n",
    "                ## Check to see if the Any Mother element is a Big Momma or \"Bertha\" Element\n",
    "                if pointers[i].get_mother_element() is pointers[j].get_mother_element():\n",
    "                    gm = pointers[i].get_mother_element()\n",
    "                else:\n",
    "                    gm = pointers[i].common_parent(pointers[j])\n",
    "                # Append Match to Grand Mother Matrix\n",
    "                igmElements.append(gm)\n",
    "\n",
    "                # Check to see if this is a new grand mother element,\n",
    "                # if so append to the gmElements list of unique grandmother elements \n",
    "                if gm not in gmElements:\n",
    "                    gmElements.append(gm)\n",
    "\n",
    "            # Append Matrix Row\n",
    "            gmMatrix.append(igmElements)\n",
    "\n",
    "        grandMotherMatrix = np.matrix(gmMatrix)\n",
    "        return (gmElements, grandMotherMatrix)\n",
    "    \n",
    "    @staticmethod\n",
    "    def distinct_gm(gm, pts):\n",
    "        if len(pts) == 0:\n",
    "            return True\n",
    "        if gm is pts[0].get_mother_element():\n",
    "            return False\n",
    "        else:\n",
    "            return distinct_gm(gm, pts[1:])"
   ]
  },
  {
   "cell_type": "code",
   "execution_count": 242,
   "metadata": {},
   "outputs": [],
   "source": [
    "class Extender(object):\n",
    "    def __init__(self, gm, pointer):\n",
    "        self.gm = gm\n",
    "        self.vp = pointer\n",
    "        \n",
    "        self.tag_nathans()\n",
    "        self.tag_toms()\n",
    "        \n",
    "        self.tom_missile = self.mother_to_tom_missile()\n",
    "        self.tom_rocket = self.nathan_to_tom_rocket()\n",
    "        \n",
    "        self.nathan_missile = self.mother_to_nathan_missile()\n",
    "        self.nathan_rocket = self.tom_to_nathan_rocket()\n",
    "        \n",
    "        \n",
    "        \n",
    "    ## Tagging Functions ------------------------------------ \n",
    "    ##\n",
    "    def tag_nathans(self):\n",
    "        return Extender.parent_cycle_up(self.vp.get_mother_element(), self.vp.nathan.parent, 'nathan', 0)\n",
    "\n",
    "    def tag_toms(self):\n",
    "        return Extender.parent_cycle_up(self.vp.get_mother_element(), self.vp.tom.parent, 'tom', 0)\n",
    "    \n",
    "    def reset_tree(self):\n",
    "        ## Clear all tom, nathan and sib atributes\n",
    "        for tomTag in self.gm.find_all(has_tom):\n",
    "            del tomTag['tom']    \n",
    "        for nathanTag in self.gm.find_all(has_nathan):\n",
    "            del nathanTag['nathan'] \n",
    "    \n",
    "    @staticmethod\n",
    "    def parent_cycle_up(motherElement, element, atr, num):\n",
    "        ## for the bertha case we stop at the element that is right befor the mother elemenet\n",
    "        if element.parent is motherElement:\n",
    "            element[atr] = num\n",
    "            element['sib'] = atr\n",
    "        else:\n",
    "            element[atr] = num\n",
    "            return Extender.parent_cycle_up(motherElement, element.parent, atr, num + 1)\n",
    "    \n",
    "    @staticmethod\n",
    "    def contents_position(elm):\n",
    "        return Extender.contents_position_loop(elm, 0)\n",
    "\n",
    "    @staticmethod\n",
    "    def contents_position_loop(elm, num):\n",
    "        if len(list(elm.previous_siblings)) == 0:\n",
    "            return num\n",
    "        else:\n",
    "            return Extender.contents_position_loop(elm.previous_sibling, num + 1)\n",
    "    \n",
    "    @staticmethod\n",
    "    def has_tom(tag):\n",
    "        return 'tom' in tag.attrs\n",
    "\n",
    "    @staticmethod\n",
    "    def has_nathan(tag):\n",
    "        return 'nathan' in tag.attrs\n",
    "\n",
    "    @staticmethod\n",
    "    def check_siblings(sibs, attFunc):\n",
    "        for sib in sibs:\n",
    "            if attFunc(sib):\n",
    "                return True\n",
    "        return False\n",
    "    \n",
    "    ## Missle Functions ------------------------------------\n",
    "    ##\n",
    "    def mother_to_tom_missile(self):\n",
    "        motherElement = self.vp.get_mother_element()\n",
    "\n",
    "        if self.vp.tom is motherElement:\n",
    "            return lambda start: start\n",
    "        else:\n",
    "            return lambda start: Extender.cycle_up_mother(self.vp.tom.parent, motherElement, start).contents[Extender.contents_position(self.vp.tom)]\n",
    "\n",
    "    def mother_to_nathan_missile(self):\n",
    "        motherElement = self.vp.get_mother_element()\n",
    "\n",
    "        if self.vp.nathan is motherElement:\n",
    "            return lambda start: start\n",
    "        else:\n",
    "            return lambda start: Extender.cycle_up_mother(self.vp.nathan.parent, motherElement, start).contents[Extender.contents_position(self.vp.nathan)]\n",
    "\n",
    "    @staticmethod\n",
    "    def cycle_up_mother(elm, motherElement, start):\n",
    "        if elm is motherElement:\n",
    "            return start\n",
    "        else:\n",
    "            return Extender.cycle_up_mother(elm.parent, motherElement, start).contents[Extender.contents_position(elm)]\n",
    "        \n",
    "    \n",
    "    ## Rocket Functions ------------------------------------\n",
    "    ##\n",
    "    def nathan_to_tom_rocket(self):\n",
    "        ## Compute the route from nathan startnode to tom by starting at tom and recursing up, accross and then down\n",
    "        ## looing for nathan = 0 attribute\n",
    "        return lambda start: Extender.cycle_up(self.vp.tom, 'nathan', start)\n",
    "\n",
    "    def tom_to_nathan_rocket(self):\n",
    "        ## Compute the route from tom startnode to nathan by starting at nathan and recursing up, accross and then down\n",
    "        ## looing for tom = 0 attibute\n",
    "        return lambda start: Extender.cycle_up(self.vp.nathan, 'tom', start)\n",
    "    \n",
    "    @staticmethod\n",
    "    def cycle_up(elm, to, start):\n",
    "        ## Set Attribut Search Function\n",
    "        attrFunc = Extender.has_tom if to == 'tom' else Extender.has_nathan\n",
    "\n",
    "        ## First look Left for shoulder in siblings\n",
    "        if Extender.check_siblings(elm.previous_siblings, attrFunc):\n",
    "            return Extender.cycle_left(elm.previous_sibling, to, start).next_sibling\n",
    "        ## Then look right\n",
    "        elif Extender.check_siblings(elm.next_siblings, attrFunc):\n",
    "            return Extender.cycle_right(elm.next_sibling, to, start).previous_sibling\n",
    "        ## if nothing here go up\n",
    "        else:\n",
    "            return Extender.cycle_up(elm.parent, to, start).contents[Extender.contents_position(elm)]\n",
    "\n",
    "    @staticmethod\n",
    "    def cycle_left(elm, to, start):\n",
    "        attrFunc = Extender.has_tom if to == 'tom' else Extender.has_nathan\n",
    "\n",
    "        ## if this is the shoulder change functions but dont move\n",
    "        if attrFunc(elm):\n",
    "            return Extender.cycle_down(elm, to, start)\n",
    "        ## if not check the element to the left\n",
    "        else:\n",
    "            return Extender.cycle_left(elm.previous_sibling, to, start).next_sibling\n",
    "\n",
    "    @staticmethod\n",
    "    def cycle_right(elm, to, start):\n",
    "        attrFunc = Extender.has_tom if to == 'tom' else Extender.has_nathan\n",
    "\n",
    "        ## if this is the shoulder change functions but dont move\n",
    "        if attrFunc(elm):\n",
    "            return Extender.cycle_down(elm, to, start)\n",
    "        ## if not check the element to the left\n",
    "        else:\n",
    "            return Extender.cycle_right(elm.next_sibling, to, start).previous_sibling\n",
    "\n",
    "    @staticmethod\n",
    "    def cycle_down(elm, to, start):\n",
    "        return Extender.cycle_down_loop(elm[to], start)\n",
    "\n",
    "    @staticmethod\n",
    "    def cycle_down_loop(dist, start):\n",
    "        ## Start Node Condition\n",
    "        if dist == 0:\n",
    "            return start\n",
    "        else: \n",
    "            return Extender.cycle_down_loop(dist - 1, start).parent\n",
    " \n",
    "        "
   ]
  },
  {
   "cell_type": "code",
   "execution_count": 243,
   "metadata": {
    "collapsed": true
   },
   "outputs": [],
   "source": [
    "class RocketOnlyExtender(Extender):\n",
    "    def __init__(self, gm, pointer):\n",
    "        Extender.__init__(self, gm, pointer)"
   ]
  },
  {
   "cell_type": "code",
   "execution_count": null,
   "metadata": {
    "collapsed": true
   },
   "outputs": [],
   "source": []
  },
  {
   "cell_type": "code",
   "execution_count": null,
   "metadata": {
    "collapsed": true
   },
   "outputs": [],
   "source": []
  },
  {
   "cell_type": "code",
   "execution_count": null,
   "metadata": {
    "collapsed": true
   },
   "outputs": [],
   "source": []
  },
  {
   "cell_type": "code",
   "execution_count": null,
   "metadata": {
    "collapsed": true
   },
   "outputs": [],
   "source": []
  },
  {
   "cell_type": "code",
   "execution_count": null,
   "metadata": {
    "collapsed": true
   },
   "outputs": [],
   "source": []
  },
  {
   "cell_type": "code",
   "execution_count": null,
   "metadata": {
    "collapsed": true
   },
   "outputs": [],
   "source": []
  },
  {
   "cell_type": "code",
   "execution_count": null,
   "metadata": {
    "collapsed": true
   },
   "outputs": [],
   "source": []
  },
  {
   "cell_type": "code",
   "execution_count": null,
   "metadata": {
    "collapsed": true
   },
   "outputs": [],
   "source": []
  },
  {
   "cell_type": "code",
   "execution_count": null,
   "metadata": {
    "collapsed": true
   },
   "outputs": [],
   "source": []
  },
  {
   "cell_type": "code",
   "execution_count": null,
   "metadata": {
    "collapsed": true
   },
   "outputs": [],
   "source": []
  },
  {
   "cell_type": "code",
   "execution_count": null,
   "metadata": {
    "collapsed": true
   },
   "outputs": [],
   "source": []
  },
  {
   "cell_type": "code",
   "execution_count": null,
   "metadata": {
    "collapsed": true
   },
   "outputs": [],
   "source": []
  },
  {
   "cell_type": "code",
   "execution_count": 13,
   "metadata": {
    "collapsed": true
   },
   "outputs": [],
   "source": [
    "## Identify Grandmother elements\n",
    "pointers = vh.verifiedPointers\n",
    "gmElements = []\n",
    "gmMatrix = []\n",
    "\n",
    "for i in range(len(pointers)):\n",
    "    igmElements = []\n",
    "    for j in range(i):\n",
    "        ## Check to see if the Any Mother element is a Big Momma or \"Bertha\" Element\n",
    "        if pointers[i].get_mother_element() is pointers[j].get_mother_element():\n",
    "            gm = pointers[i].get_mother_element()\n",
    "        else:\n",
    "            gm = pointers[i].common_parent(pointers[j])\n",
    "        # Append Match to Grand Mother Matrix\n",
    "        igmElements.append(gm)\n",
    "        \n",
    "        # Check to see if this is a new grand mother element,\n",
    "        # if so append to the gmElements list of unique grandmother elements \n",
    "        if gm not in gmElements:\n",
    "            gmElements.append(gm)\n",
    "            \n",
    "    # Append Matrix Row\n",
    "    gmMatrix.append(igmElements)\n",
    "    \n",
    "grandMotherMatrix = np.matrix(gmMatrix)"
   ]
  },
  {
   "cell_type": "code",
   "execution_count": 14,
   "metadata": {
    "collapsed": true
   },
   "outputs": [],
   "source": [
    "noGm = len(gmElements)"
   ]
  },
  {
   "cell_type": "code",
   "execution_count": 15,
   "metadata": {},
   "outputs": [
    {
     "data": {
      "text/plain": [
       "1"
      ]
     },
     "execution_count": 15,
     "metadata": {},
     "output_type": "execute_result"
    }
   ],
   "source": [
    "noGm"
   ]
  },
  {
   "cell_type": "code",
   "execution_count": 21,
   "metadata": {
    "collapsed": true
   },
   "outputs": [],
   "source": [
    "## if 1 grandmother element test set it and test it\n",
    "gm = gmElements[0]"
   ]
  },
  {
   "cell_type": "code",
   "execution_count": 29,
   "metadata": {},
   "outputs": [],
   "source": [
    "def distinct_gm(gm, pts):\n",
    "    if len(pts) == 0:\n",
    "        return True\n",
    "    if gm is pts[0].get_mother_element():\n",
    "        return False\n",
    "    else:\n",
    "        return distinct_gm(gm, pts[1:])"
   ]
  },
  {
   "cell_type": "code",
   "execution_count": 31,
   "metadata": {},
   "outputs": [],
   "source": [
    "## check to see if Grandmother is Distinct\n",
    "distinct = distinct_gm(gm, pointers)"
   ]
  },
  {
   "cell_type": "code",
   "execution_count": 32,
   "metadata": {},
   "outputs": [
    {
     "data": {
      "text/plain": [
       "True"
      ]
     },
     "execution_count": 32,
     "metadata": {},
     "output_type": "execute_result"
    }
   ],
   "source": [
    "distinct"
   ]
  },
  {
   "cell_type": "code",
   "execution_count": 25,
   "metadata": {},
   "outputs": [
    {
     "data": {
      "text/plain": [
       "<div class=\"team-member-right\"><h3 class=\"team-member-name\">S. Monique Wells</h3><h4 class=\"team-member-position\">Director of Finance and Administration</h4><div class=\"team-member-body hide-class\"><div style=\"overflow: hidden; height: 72px;\">Monique Wells is the Director of Finance and Administration for the National Association for Multi-ethnicity in Communications’ (NAMIC). Prior to that she was their Manager of Operations, a position she assumed in August, 2009. Monique is no stranger to NAMIC and has been a member since 1991. She served as a consultant to NAMIC for a number of special projects, prior to joining the staff. As Director of Finance and Administration, she oversees the administrative and financial operations of the national office. An accomplished professional with a diverse background in sales and project management, Monique previously served as an Energy Conservation Analyst with the Los Angeles Unified School District where she oversaw the utility management for school construction projects. Prior to that, Monique was a National Sales and Marketing Executive for Patriot Communications where she was responsible for the sales, marketing and contract negotiations of enhanced telecommunications products and services. Before joining Patriot, Monique worked at HBO in Affiliate Sales, where she created and implemented sales strategies and account activities for HBO and Cinemax. Her responsibilities included sales, client services, off-channel promotions and special events. During her tenure at HBO, Monique was an active member of the NAMIC-Southern California chapter and served on the Steering Committee for the Vision Awards and chaired both the Sponsorship and Talent Committees. Preceding her tenure in communications, Monique held several executive positions for Kraft General Foods and Sportsvisions, a sports marketing company based in Northern California. Monique earned a Bachelor of Arts degree in Sociology from Clark University in Worcester, MA and a MBA degree in general business and marketing from Atlanta University, now known as Clark Atlanta University in Atlanta, GA. She is on the planning committee for the American Heart Association’s Harlem Go Red For Women Educational Forum and volunteers for the New York Common Pantry, a New York City community based food pantry. </div></div><div class=\"team-member-social\"><a class=\"member-social-twitter\" href=\"\" style=\"display: none;\"><img src=\"http://namic.com/wp-content/themes/namic-dev/./img/icons/member-social-twitter.png\"/></a><a class=\"member-social-linkedin\" href=\"https://www.linkedin.com/pub/s-monique-wells/3/7a0/265\"><img src=\"http://namic.com/wp-content/themes/namic-dev/./img/icons/member-social-linkedin.png\"/></a><a class=\"member-social-facebook\" href=\"\" style=\"display: none;\"><img src=\"http://namic.com/wp-content/themes/namic-dev/./img/icons/member-social-facebook.png\"/></a><a class=\"member-social-google+\" href=\"\" style=\"display: none;\"><img src=\"http://namic.com/wp-content/themes/namic-dev/./img/icons/member-social-google+.png\"/></a><a class=\"member-social-youtube\" href=\"\" style=\"display: none;\"><img src=\"http://namic.com/wp-content/themes/namic-dev/./img/icons/member-social-youtube.png\"/></a></div></div>"
      ]
     },
     "execution_count": 25,
     "metadata": {},
     "output_type": "execute_result"
    }
   ],
   "source": [
    "pointers[1].get_mother_element()"
   ]
  },
  {
   "cell_type": "code",
   "execution_count": null,
   "metadata": {
    "collapsed": true
   },
   "outputs": [],
   "source": []
  },
  {
   "cell_type": "code",
   "execution_count": 122,
   "metadata": {
    "collapsed": true
   },
   "outputs": [],
   "source": [
    "## Tag tree with pattern from nathan to tom\n",
    "def tag_nathans(pt):\n",
    "    return parent_cycle_up(pt.get_mother_element(), pt.nathan.parent, 'nathan', 0)\n",
    "\n",
    "def tag_toms(pt):\n",
    "    return parent_cycle_up(pt.get_mother_element(), pt.tom.parent, 'tom', 0)\n",
    "\n",
    "def parent_cycle_up(motherElement, element, atr, num):\n",
    "    ## for the bertha case we stop at the element that is right befor the mother elemenet\n",
    "    if element.parent is motherElement:\n",
    "        element[atr] = num\n",
    "        element['sib'] = atr\n",
    "    else:\n",
    "        element[atr] = num\n",
    "        return(motherElement, element.parent, atr, num + 1)\n",
    "\n",
    "def reset_tree(pt):\n",
    "    ## Clear all tom, nathan and sib atributes\n",
    "    gm = pt.get_mother_element()\n",
    "    \n",
    "    for tomTag in gm.find_all(has_tom):\n",
    "        del tomTag['tom']    \n",
    "    for nathanTag in gm.find_all(has_nathan):\n",
    "        del nathanTag['nathan']    "
   ]
  },
  {
   "cell_type": "code",
   "execution_count": 35,
   "metadata": {},
   "outputs": [],
   "source": [
    "## For Each pointer\n",
    "# Tag Toms and Nathans\n",
    "vp = pointers[0]\n",
    "tag_nathans(vp)\n",
    "tag_toms(vp)"
   ]
  },
  {
   "cell_type": "code",
   "execution_count": 40,
   "metadata": {},
   "outputs": [
    {
     "data": {
      "text/plain": [
       "<h4 class=\"team-member-position\" sib=\"tom\" tom=\"0\">Senior Manager, Membership and Publications</h4>"
      ]
     },
     "execution_count": 40,
     "metadata": {},
     "output_type": "execute_result"
    }
   ],
   "source": [
    "vp.tom.parent"
   ]
  },
  {
   "cell_type": "code",
   "execution_count": 41,
   "metadata": {},
   "outputs": [
    {
     "data": {
      "text/plain": [
       "['team-member-name']"
      ]
     },
     "execution_count": 41,
     "metadata": {},
     "output_type": "execute_result"
    }
   ],
   "source": [
    "## Rocket Extraction: Are you ready to launch?\n",
    "vp.nathan.parent['class']"
   ]
  },
  {
   "cell_type": "code",
   "execution_count": 42,
   "metadata": {},
   "outputs": [
    {
     "data": {
      "text/plain": [
       "['team-member-position']"
      ]
     },
     "execution_count": 42,
     "metadata": {},
     "output_type": "execute_result"
    }
   ],
   "source": [
    "vp.tom.parent['class']"
   ]
  },
  {
   "cell_type": "code",
   "execution_count": 44,
   "metadata": {},
   "outputs": [
    {
     "data": {
      "text/plain": [
       "['team-member-right']"
      ]
     },
     "execution_count": 44,
     "metadata": {},
     "output_type": "execute_result"
    }
   ],
   "source": [
    "vp.get_mother_element()['class']"
   ]
  },
  {
   "cell_type": "code",
   "execution_count": 46,
   "metadata": {},
   "outputs": [],
   "source": [
    "## Tom Starts\n",
    "tomStarts = gm.find_all(class_=vp.tom.parent['class'])"
   ]
  },
  {
   "cell_type": "code",
   "execution_count": 48,
   "metadata": {},
   "outputs": [],
   "source": [
    "## Nathan Starts\n",
    "nathanStarts = gm.find_all(class_=vp.nathan.parent['class'])"
   ]
  },
  {
   "cell_type": "code",
   "execution_count": 52,
   "metadata": {},
   "outputs": [],
   "source": [
    "## Mother Starts\n",
    "motherStarts = gm.find_all(class_=vp.get_mother_element()['class'])"
   ]
  },
  {
   "cell_type": "code",
   "execution_count": 58,
   "metadata": {},
   "outputs": [
    {
     "data": {
      "text/plain": [
       "<h3 class=\"team-member-name\" nathan=\"0\" sib=\"nathan\">Susan Waldman</h3>"
      ]
     },
     "execution_count": 58,
     "metadata": {},
     "output_type": "execute_result"
    }
   ],
   "source": [
    "vp.tom.parent.previous_sibling"
   ]
  },
  {
   "cell_type": "code",
   "execution_count": 54,
   "metadata": {},
   "outputs": [
    {
     "data": {
      "text/plain": [
       "'Susan Waldman'"
      ]
     },
     "execution_count": 54,
     "metadata": {},
     "output_type": "execute_result"
    }
   ],
   "source": [
    "vp.tom.parent.previous_sibling"
   ]
  },
  {
   "cell_type": "code",
   "execution_count": 55,
   "metadata": {},
   "outputs": [
    {
     "data": {
      "text/plain": [
       "<h4 class=\"team-member-position\" sib=\"tom\" tom=\"0\">Senior Manager, Membership and Publications</h4>"
      ]
     },
     "execution_count": 55,
     "metadata": {},
     "output_type": "execute_result"
    }
   ],
   "source": [
    "vp.nathan.parent.next_sibling"
   ]
  },
  {
   "cell_type": "code",
   "execution_count": 62,
   "metadata": {},
   "outputs": [
    {
     "data": {
      "text/plain": [
       "'Darryl Jackson'"
      ]
     },
     "execution_count": 62,
     "metadata": {},
     "output_type": "execute_result"
    }
   ],
   "source": [
    "# Getting to a nathan with a tom start\n",
    "n = 5\n",
    "tomStarts[n].previous_sibling.string"
   ]
  },
  {
   "cell_type": "code",
   "execution_count": 65,
   "metadata": {},
   "outputs": [
    {
     "data": {
      "text/plain": [
       "'President and CEO'"
      ]
     },
     "execution_count": 65,
     "metadata": {},
     "output_type": "execute_result"
    }
   ],
   "source": [
    "# Getting to a tom with a nathan Start\n",
    "n = 0\n",
    "nathanStarts[n].next_sibling.string"
   ]
  },
  {
   "cell_type": "code",
   "execution_count": 114,
   "metadata": {
    "collapsed": true
   },
   "outputs": [],
   "source": [
    "tom_rocket = lambda startNode: startNode.next_sibling.string\n"
   ]
  },
  {
   "cell_type": "code",
   "execution_count": 115,
   "metadata": {},
   "outputs": [
    {
     "data": {
      "text/plain": [
       "'Administrative Assistant'"
      ]
     },
     "execution_count": 115,
     "metadata": {},
     "output_type": "execute_result"
    }
   ],
   "source": [
    "n = 7\n",
    "tom_rocket(nathanStarts[n])"
   ]
  },
  {
   "cell_type": "code",
   "execution_count": 116,
   "metadata": {},
   "outputs": [],
   "source": [
    "nathan_rocket = lambda startNode: startNode.previous_sibling.string"
   ]
  },
  {
   "cell_type": "code",
   "execution_count": 117,
   "metadata": {},
   "outputs": [
    {
     "data": {
      "text/plain": [
       "\"Davana O'Brien\""
      ]
     },
     "execution_count": 117,
     "metadata": {},
     "output_type": "execute_result"
    }
   ],
   "source": [
    "n = 7\n",
    "nathan_rocket(tomStarts[n])"
   ]
  },
  {
   "cell_type": "code",
   "execution_count": 118,
   "metadata": {
    "collapsed": true
   },
   "outputs": [],
   "source": [
    "nathan_missile = lambda startNode: startNode.contents[0].string"
   ]
  },
  {
   "cell_type": "code",
   "execution_count": 119,
   "metadata": {},
   "outputs": [
    {
     "data": {
      "text/plain": [
       "\"Davana O'Brien\""
      ]
     },
     "execution_count": 119,
     "metadata": {},
     "output_type": "execute_result"
    }
   ],
   "source": [
    "n = 7\n",
    "nathan_missile(motherStarts[n])"
   ]
  },
  {
   "cell_type": "code",
   "execution_count": 120,
   "metadata": {
    "collapsed": true
   },
   "outputs": [],
   "source": [
    "tom_missile = lambda startNode: startNode.contents[0].next_sibling.string"
   ]
  },
  {
   "cell_type": "code",
   "execution_count": 121,
   "metadata": {},
   "outputs": [
    {
     "data": {
      "text/plain": [
       "'Administrative Assistant'"
      ]
     },
     "execution_count": 121,
     "metadata": {},
     "output_type": "execute_result"
    }
   ],
   "source": [
    "n = 7\n",
    "tom_missile(motherStarts[n])"
   ]
  },
  {
   "cell_type": "code",
   "execution_count": null,
   "metadata": {
    "collapsed": true
   },
   "outputs": [],
   "source": [
    "## begin recursions\n",
    "## We are tagged and ready\n",
    "\n",
    "def nathan_to_tom_rocket(pt):\n",
    "    if \n",
    "    \n",
    "def tom_to_nathan_rocket(pt):\n",
    "    \n",
    "def mother_to_tom_missile(pt):\n",
    "    \n",
    "def mother_to_nathan_missile(pt):\n",
    "    \n"
   ]
  },
  {
   "cell_type": "code",
   "execution_count": 123,
   "metadata": {},
   "outputs": [
    {
     "data": {
      "text/plain": [
       "<div class=\"team-member-right\"><h3 class=\"team-member-name\" nathan=\"0\" sib=\"nathan\">Susan Waldman</h3><h4 class=\"team-member-position\" sib=\"tom\" tom=\"0\">Senior Manager, Membership and Publications</h4><div class=\"team-member-body hide-class\"><div style=\"overflow: hidden; height: 72px;\">As the Senior Manager of Membership and Publications, Susan Waldman oversees the day-to-day facilitation of NAMIC’s membership operations, as well as market research to drive growth. She is also responsible for the production of NAMIC’s industry-wide publication, Diversity Digest. She launched her career in market research as a media planner on such accounts as Loews Hotels and Omnipoint Communications at Hill, Holliday Altschiller and McCann Direct advertising agencies.  There she was introduced to the gamut of advertising research resources as she planned and purchased the media for various clients.  After a few years, Susan moved over to the magazine industry. Susan has served as the Marketing Research Manager at Vibe, Spin and The Source magazines and Research Director at Motor Trend magazine. Supporting 20 sales representatives by providing them with competitive and analytic research regarding each magazine’s audience, she has honed her research expertise. Susan received a Bachelor of Arts in Psychology from Ohio University in Athens, Ohio. </div></div><div class=\"team-member-social\"><a class=\"member-social-twitter\" href=\"\" style=\"display: none;\"><img src=\"http://namic.com/wp-content/themes/namic-dev/./img/icons/member-social-twitter.png\"/></a><a class=\"member-social-linkedin\" href=\"https://www.linkedin.com/pub/susan-waldman/3/54b/b35\"><img src=\"http://namic.com/wp-content/themes/namic-dev/./img/icons/member-social-linkedin.png\"/></a><a class=\"member-social-facebook\" href=\"\" style=\"display: none;\"><img src=\"http://namic.com/wp-content/themes/namic-dev/./img/icons/member-social-facebook.png\"/></a><a class=\"member-social-google+\" href=\"\" style=\"display: none;\"><img src=\"http://namic.com/wp-content/themes/namic-dev/./img/icons/member-social-google+.png\"/></a><a class=\"member-social-youtube\" href=\"\" style=\"display: none;\"><img src=\"http://namic.com/wp-content/themes/namic-dev/./img/icons/member-social-youtube.png\"/></a></div></div>"
      ]
     },
     "execution_count": 123,
     "metadata": {},
     "output_type": "execute_result"
    }
   ],
   "source": [
    "vp.get_mother_element()"
   ]
  },
  {
   "cell_type": "code",
   "execution_count": null,
   "metadata": {
    "collapsed": true
   },
   "outputs": [],
   "source": [
    "#chain demo 1\n",
    "def next_sib_gen(n):\n",
    "    return lambda n:  "
   ]
  },
  {
   "cell_type": "code",
   "execution_count": 129,
   "metadata": {},
   "outputs": [],
   "source": [
    "next_sib_gen = lambda elm, n: elm if n == 0 else next_sib_gen(elm.next_sibling, n - 1)"
   ]
  },
  {
   "cell_type": "code",
   "execution_count": 134,
   "metadata": {},
   "outputs": [
    {
     "data": {
      "text/plain": [
       "<div class=\"team-member-body hide-class\"><div style=\"overflow: hidden; height: 72px;\">As the Senior Manager of Membership and Publications, Susan Waldman oversees the day-to-day facilitation of NAMIC’s membership operations, as well as market research to drive growth. She is also responsible for the production of NAMIC’s industry-wide publication, Diversity Digest. She launched her career in market research as a media planner on such accounts as Loews Hotels and Omnipoint Communications at Hill, Holliday Altschiller and McCann Direct advertising agencies.  There she was introduced to the gamut of advertising research resources as she planned and purchased the media for various clients.  After a few years, Susan moved over to the magazine industry. Susan has served as the Marketing Research Manager at Vibe, Spin and The Source magazines and Research Director at Motor Trend magazine. Supporting 20 sales representatives by providing them with competitive and analytic research regarding each magazine’s audience, she has honed her research expertise. Susan received a Bachelor of Arts in Psychology from Ohio University in Athens, Ohio. </div></div>"
      ]
     },
     "execution_count": 134,
     "metadata": {},
     "output_type": "execute_result"
    }
   ],
   "source": [
    "next_sib_gen(vp.get_mother_element().contents[0],2)"
   ]
  },
  {
   "cell_type": "code",
   "execution_count": 143,
   "metadata": {
    "collapsed": true
   },
   "outputs": [],
   "source": [
    "## USELESS, but good attempt.\n",
    "\n",
    "next_sib = lambda elm: elm.next_sibling\n",
    "prev_sib = lambda elm: elm.previous_sibling\n",
    "parent_up = lambda elm: elm.parent\n",
    "child_down = lambda elm: elm.contents[0]\n",
    "string_out = lambda elm: elm.string"
   ]
  },
  {
   "cell_type": "code",
   "execution_count": 144,
   "metadata": {},
   "outputs": [
    {
     "data": {
      "text/plain": [
       "'Eglon E. Simons'"
      ]
     },
     "execution_count": 144,
     "metadata": {},
     "output_type": "execute_result"
    }
   ],
   "source": [
    "string_out(prev_sib(tomStarts[0]))"
   ]
  },
  {
   "cell_type": "code",
   "execution_count": 146,
   "metadata": {},
   "outputs": [
    {
     "ename": "AttributeError",
     "evalue": "'function' object has no attribute 'string'",
     "output_type": "error",
     "traceback": [
      "\u001b[1;31m---------------------------------------------------------------------------\u001b[0m",
      "\u001b[1;31mAttributeError\u001b[0m                            Traceback (most recent call last)",
      "\u001b[1;32m<ipython-input-146-9672d3f8d8b6>\u001b[0m in \u001b[0;36m<module>\u001b[1;34m()\u001b[0m\n\u001b[1;32m----> 1\u001b[1;33m \u001b[0mstring_out\u001b[0m\u001b[1;33m(\u001b[0m\u001b[0mprev_sib\u001b[0m\u001b[1;33m)\u001b[0m\u001b[1;33m\u001b[0m\u001b[0m\n\u001b[0m",
      "\u001b[1;32m<ipython-input-143-8ac23e159040>\u001b[0m in \u001b[0;36m<lambda>\u001b[1;34m(elm)\u001b[0m\n\u001b[0;32m      3\u001b[0m \u001b[0mparent_up\u001b[0m \u001b[1;33m=\u001b[0m \u001b[1;32mlambda\u001b[0m \u001b[0melm\u001b[0m\u001b[1;33m:\u001b[0m \u001b[0melm\u001b[0m\u001b[1;33m.\u001b[0m\u001b[0mparent\u001b[0m\u001b[1;33m\u001b[0m\u001b[0m\n\u001b[0;32m      4\u001b[0m \u001b[0mchild_down\u001b[0m \u001b[1;33m=\u001b[0m \u001b[1;32mlambda\u001b[0m \u001b[0melm\u001b[0m\u001b[1;33m:\u001b[0m \u001b[0melm\u001b[0m\u001b[1;33m.\u001b[0m\u001b[0mcontents\u001b[0m\u001b[1;33m[\u001b[0m\u001b[1;36m0\u001b[0m\u001b[1;33m]\u001b[0m\u001b[1;33m\u001b[0m\u001b[0m\n\u001b[1;32m----> 5\u001b[1;33m \u001b[0mstring_out\u001b[0m \u001b[1;33m=\u001b[0m \u001b[1;32mlambda\u001b[0m \u001b[0melm\u001b[0m\u001b[1;33m:\u001b[0m \u001b[0melm\u001b[0m\u001b[1;33m.\u001b[0m\u001b[0mstring\u001b[0m\u001b[1;33m\u001b[0m\u001b[0m\n\u001b[0m",
      "\u001b[1;31mAttributeError\u001b[0m: 'function' object has no attribute 'string'"
     ]
    }
   ],
   "source": [
    "string_out(prev_sib)"
   ]
  },
  {
   "cell_type": "code",
   "execution_count": 148,
   "metadata": {},
   "outputs": [],
   "source": [
    "rocketString = \".previous_sibling.string\""
   ]
  },
  {
   "cell_type": "code",
   "execution_count": 150,
   "metadata": {},
   "outputs": [],
   "source": [
    "## We have a winner! The rocketString eval model\n",
    "nathan_rocket_lambda = lambda elm: eval('elm' + rocketString)"
   ]
  },
  {
   "cell_type": "code",
   "execution_count": null,
   "metadata": {
    "collapsed": true
   },
   "outputs": [],
   "source": [
    "## This one has promise, look at it!\n",
    "def left_right (arg):\n",
    "    if arg == 'Left'\n",
    "        return lambda elm: left_right(right)"
   ]
  },
  {
   "cell_type": "code",
   "execution_count": 166,
   "metadata": {},
   "outputs": [],
   "source": [
    "## This one has promise, look at it! Pure higher order functions no strings\n",
    "two_right = lambda elm: tratorx(1, elm).string"
   ]
  },
  {
   "cell_type": "code",
   "execution_count": 167,
   "metadata": {},
   "outputs": [],
   "source": [
    "def tratorx(n, elm):\n",
    "    if n == 0:\n",
    "        return elm\n",
    "    else:\n",
    "        return tratorx(n-1,elm).next_sibling"
   ]
  },
  {
   "cell_type": "code",
   "execution_count": 168,
   "metadata": {},
   "outputs": [
    {
     "data": {
      "text/plain": [
       "'President and CEO'"
      ]
     },
     "execution_count": 168,
     "metadata": {},
     "output_type": "execute_result"
    }
   ],
   "source": [
    "## Another Winner!\n",
    "two_right(nathanStarts[0])\n",
    "## Time to fly!!"
   ]
  },
  {
   "cell_type": "markdown",
   "metadata": {},
   "source": [
    "## Missile Work"
   ]
  },
  {
   "cell_type": "code",
   "execution_count": 177,
   "metadata": {},
   "outputs": [],
   "source": [
    "## Helpers\n",
    "def contents_position(elm):\n",
    "    return contents_position_loop(elm, 0)\n",
    "\n",
    "def contents_position_loop(elm, num):\n",
    "    if len(list(elm.previous_siblings)) == 0:\n",
    "        return num\n",
    "    else:\n",
    "        return contents_position_loop(elm.previous_sibling, num + 1)\n",
    "        \n",
    "def has_tom(tag):\n",
    "    return 'tom' in tag.attrs\n",
    "\n",
    "def has_nathan(tag):\n",
    "    return 'nathan' in tag.attrs\n",
    "\n",
    "def check_siblings(sibs, attFunc):\n",
    "    for sib in sibs:\n",
    "        if attFunc(sib):\n",
    "            return True\n",
    "    return False\n",
    "        "
   ]
  },
  {
   "cell_type": "code",
   "execution_count": 191,
   "metadata": {
    "collapsed": true
   },
   "outputs": [],
   "source": [
    "def mother_to_tom_missile(pt):\n",
    "    motherElement = pt.get_mother_element()\n",
    "    \n",
    "    if pt.tom is motherElement:\n",
    "        return lambda start: start\n",
    "    else:\n",
    "        return lambda start: cycle_up_mother(pt.tom.parent, motherElement, start).contents[contents_position(pt.tom)]\n",
    "    \n",
    "def mother_to_nathan_missile(pt):\n",
    "    motherElement = pt.get_mother_element()\n",
    "    \n",
    "    if pt.nathan is motherElement:\n",
    "        return lambda start: start\n",
    "    else:\n",
    "        return lambda start: cycle_up_mother(pt.nathan.parent, motherElement, start).contents[contents_position(pt.nathan)]\n",
    "\n",
    "def cycle_up_mother(elm, motherElement, start):\n",
    "    if elm is motherElement:\n",
    "        return start\n",
    "    else:\n",
    "        return cycle_up_mother(elm.parent, motherElement, start).contents[contents_position(elm)]\n",
    "    "
   ]
  },
  {
   "cell_type": "code",
   "execution_count": 179,
   "metadata": {
    "collapsed": true
   },
   "outputs": [],
   "source": [
    "tom_missile = mother_to_tom_missile(vp)"
   ]
  },
  {
   "cell_type": "code",
   "execution_count": 180,
   "metadata": {},
   "outputs": [
    {
     "data": {
      "text/plain": [
       "<function __main__.mother_to_tom_missile.<locals>.<lambda>>"
      ]
     },
     "execution_count": 180,
     "metadata": {},
     "output_type": "execute_result"
    }
   ],
   "source": [
    "tom_missile"
   ]
  },
  {
   "cell_type": "code",
   "execution_count": 190,
   "metadata": {},
   "outputs": [
    {
     "data": {
      "text/plain": [
       "'Administrative Assistant'"
      ]
     },
     "execution_count": 190,
     "metadata": {},
     "output_type": "execute_result"
    }
   ],
   "source": [
    "n = 7\n",
    "tom_missile(motherStarts[n])"
   ]
  },
  {
   "cell_type": "code",
   "execution_count": 192,
   "metadata": {
    "collapsed": true
   },
   "outputs": [],
   "source": [
    "nathan_missile = mother_to_nathan_missile(vp)"
   ]
  },
  {
   "cell_type": "code",
   "execution_count": 201,
   "metadata": {},
   "outputs": [
    {
     "data": {
      "text/plain": [
       "'Brandon D. Hewlett'"
      ]
     },
     "execution_count": 201,
     "metadata": {},
     "output_type": "execute_result"
    }
   ],
   "source": [
    "n = 6\n",
    "nathan_missile(motherStarts[n])"
   ]
  },
  {
   "cell_type": "markdown",
   "metadata": {},
   "source": [
    "## Rocket Time !!"
   ]
  },
  {
   "cell_type": "code",
   "execution_count": 207,
   "metadata": {},
   "outputs": [],
   "source": [
    "def nathan_to_tom_rocket(pt):\n",
    "    ## Compute the route from nathan startnode to tom by starting at tom and recursing up, accross and then down\n",
    "    ## looing for nathan = 0 attribute\n",
    "    return lambda start: cycle_up(pt.tom, 'nathan', start)\n",
    "    \n",
    "def tom_to_nathan_rocket(pt):\n",
    "    ## Compute the route from tom startnode to nathan by starting at nathan and recursing up, accross and then down\n",
    "    ## looing for tom = 0 attibute\n",
    "    return lambda start: cycle_up(pt.nathan, 'tom', start)\n",
    "    \n",
    "def cycle_up(elm, to, start):\n",
    "    ## Set Attribut Search Function\n",
    "    attrFunc = has_tom if to == 'tom' else has_nathan\n",
    "    \n",
    "    ## First look Left for shoulder in siblings\n",
    "    if check_siblings(elm.previous_siblings, attrFunc):\n",
    "        return cycle_left(elm.previous_sibling, to, start).next_sibling\n",
    "    ## Then look right\n",
    "    elif check_siblings(elm.next_siblings, attrFunc):\n",
    "        return cycle_right(elm.next_sibling, to, start).previous_sibling\n",
    "    ## if nothing here go up\n",
    "    else:\n",
    "        return cycle_up(elm.parent, to, start).contents[contents_position(elm)]\n",
    "    \n",
    "def cycle_left(elm, to, start):\n",
    "    attrFunc = has_tom if to == 'tom' else has_nathan\n",
    "    \n",
    "    ## if this is the shoulder change functions but dont move\n",
    "    if attrFunc(elm):\n",
    "        return cycle_down(elm, to, start)\n",
    "    ## if not check the element to the left\n",
    "    else:\n",
    "        return cycle_left(elm.previous_sibling, to, start).next_sibling\n",
    "    \n",
    "def cycle_right(elm, to, start):\n",
    "    attrFunc = has_tom if to == 'tom' else has_nathan\n",
    "    \n",
    "    ## if this is the shoulder change functions but dont move\n",
    "    if attrFunc(elm):\n",
    "        return cycle_down(elm, to, start)\n",
    "    ## if not check the element to the left\n",
    "    else:\n",
    "        return cycle_right(elm.next_sibling, to, start).previous_sibling\n",
    "    \n",
    "def cycle_down(elm, to, start):\n",
    "    return cycle_down_loop(elm[to], start)\n",
    "\n",
    "def cycle_down_loop(dist, start):\n",
    "    ## Start Node Condition\n",
    "    if dist == 0:\n",
    "        return start\n",
    "    else: \n",
    "        return cycle_down_loop(dist - 1, start).parent\n",
    "    "
   ]
  },
  {
   "cell_type": "code",
   "execution_count": 208,
   "metadata": {
    "collapsed": true
   },
   "outputs": [],
   "source": [
    "## Rocket Tests\n",
    "tom_rocket = nathan_to_tom_rocket(vp)"
   ]
  },
  {
   "cell_type": "code",
   "execution_count": 217,
   "metadata": {},
   "outputs": [
    {
     "data": {
      "text/plain": [
       "'Administrative Assistant'"
      ]
     },
     "execution_count": 217,
     "metadata": {},
     "output_type": "execute_result"
    }
   ],
   "source": [
    "n = 7\n",
    "\n",
    "tom_rocket(nathanStarts[n])"
   ]
  },
  {
   "cell_type": "code",
   "execution_count": 219,
   "metadata": {},
   "outputs": [],
   "source": [
    "nathan_rocket = tom_to_nathan_rocket(vp)"
   ]
  },
  {
   "cell_type": "code",
   "execution_count": 227,
   "metadata": {},
   "outputs": [
    {
     "data": {
      "text/plain": [
       "\"Davana O'Brien\""
      ]
     },
     "execution_count": 227,
     "metadata": {},
     "output_type": "execute_result"
    }
   ],
   "source": [
    "## Success\n",
    "n = 7\n",
    "nathan_rocket(tomStarts[n])"
   ]
  },
  {
   "cell_type": "code",
   "execution_count": null,
   "metadata": {
    "collapsed": true
   },
   "outputs": [],
   "source": []
  },
  {
   "cell_type": "code",
   "execution_count": null,
   "metadata": {
    "collapsed": true
   },
   "outputs": [],
   "source": []
  },
  {
   "cell_type": "code",
   "execution_count": null,
   "metadata": {
    "collapsed": true
   },
   "outputs": [],
   "source": []
  },
  {
   "cell_type": "code",
   "execution_count": null,
   "metadata": {
    "collapsed": true
   },
   "outputs": [],
   "source": []
  },
  {
   "cell_type": "code",
   "execution_count": null,
   "metadata": {
    "collapsed": true
   },
   "outputs": [],
   "source": []
  },
  {
   "cell_type": "code",
   "execution_count": null,
   "metadata": {
    "collapsed": true
   },
   "outputs": [],
   "source": []
  },
  {
   "cell_type": "code",
   "execution_count": null,
   "metadata": {
    "collapsed": true
   },
   "outputs": [],
   "source": []
  },
  {
   "cell_type": "markdown",
   "metadata": {},
   "source": [
    "## Vehicle Assembley\n",
    "#### nathan_to_tom_rocket\n",
    "#### tom_to_nathan_rocket\n",
    "#### mother_to_nathan_missile\n",
    "#### mother_to_tom_missile\n",
    "\n",
    "#### Are all recursive constructors, and are used to get to targets by adding to the 'rocketString' variable recuscursively. Once the base case is met, a single lambda is returned which combines the element and the string of opporations in the rocket string.\n",
    "\n",
    "### Here we go, finnish strong!"
   ]
  },
  {
   "cell_type": "code",
   "execution_count": null,
   "metadata": {
    "collapsed": true
   },
   "outputs": [],
   "source": []
  },
  {
   "cell_type": "code",
   "execution_count": null,
   "metadata": {
    "collapsed": true
   },
   "outputs": [],
   "source": []
  },
  {
   "cell_type": "code",
   "execution_count": 153,
   "metadata": {},
   "outputs": [
    {
     "data": {
      "text/plain": [
       "'Eglon E. Simons'"
      ]
     },
     "execution_count": 153,
     "metadata": {},
     "output_type": "execute_result"
    }
   ],
   "source": [
    "\n",
    "\n",
    "nathan_rocket_lambda(tomStarts[0])"
   ]
  },
  {
   "cell_type": "code",
   "execution_count": null,
   "metadata": {
    "collapsed": true
   },
   "outputs": [],
   "source": []
  },
  {
   "cell_type": "code",
   "execution_count": null,
   "metadata": {
    "collapsed": true
   },
   "outputs": [],
   "source": []
  },
  {
   "cell_type": "code",
   "execution_count": null,
   "metadata": {
    "collapsed": true
   },
   "outputs": [],
   "source": []
  },
  {
   "cell_type": "code",
   "execution_count": null,
   "metadata": {
    "collapsed": true
   },
   "outputs": [],
   "source": []
  },
  {
   "cell_type": "code",
   "execution_count": null,
   "metadata": {
    "collapsed": true
   },
   "outputs": [],
   "source": []
  },
  {
   "cell_type": "code",
   "execution_count": null,
   "metadata": {
    "collapsed": true
   },
   "outputs": [],
   "source": []
  },
  {
   "cell_type": "code",
   "execution_count": 96,
   "metadata": {},
   "outputs": [
    {
     "data": {
      "text/plain": [
       "'Eglon E. Simons'"
      ]
     },
     "execution_count": 96,
     "metadata": {},
     "output_type": "execute_result"
    }
   ],
   "source": [
    "motherStarts[0].contents[0].string"
   ]
  },
  {
   "cell_type": "code",
   "execution_count": null,
   "metadata": {
    "collapsed": true
   },
   "outputs": [],
   "source": []
  },
  {
   "cell_type": "code",
   "execution_count": null,
   "metadata": {
    "collapsed": true
   },
   "outputs": [],
   "source": []
  },
  {
   "cell_type": "code",
   "execution_count": 36,
   "metadata": {},
   "outputs": [
    {
     "data": {
      "text/plain": [
       "<h3 class=\"team-member-name\" nathan=\"0\" sib=\"nathan\">Susan Waldman</h3>"
      ]
     },
     "execution_count": 36,
     "metadata": {},
     "output_type": "execute_result"
    }
   ],
   "source": [
    "vp.nathan.parent\n"
   ]
  },
  {
   "cell_type": "code",
   "execution_count": 19,
   "metadata": {},
   "outputs": [
    {
     "data": {
      "text/plain": [
       "<h4 class=\"team-member-position\">Senior Manager, Membership and Publications</h4>"
      ]
     },
     "execution_count": 19,
     "metadata": {},
     "output_type": "execute_result"
    }
   ],
   "source": [
    "vp.tom.parent"
   ]
  },
  {
   "cell_type": "code",
   "execution_count": 20,
   "metadata": {},
   "outputs": [
    {
     "data": {
      "text/plain": [
       "<div class=\"team-member-right\"><h3 class=\"team-member-name\">Susan Waldman</h3><h4 class=\"team-member-position\">Senior Manager, Membership and Publications</h4><div class=\"team-member-body hide-class\"><div style=\"overflow: hidden; height: 72px;\">As the Senior Manager of Membership and Publications, Susan Waldman oversees the day-to-day facilitation of NAMIC’s membership operations, as well as market research to drive growth. She is also responsible for the production of NAMIC’s industry-wide publication, Diversity Digest. She launched her career in market research as a media planner on such accounts as Loews Hotels and Omnipoint Communications at Hill, Holliday Altschiller and McCann Direct advertising agencies.  There she was introduced to the gamut of advertising research resources as she planned and purchased the media for various clients.  After a few years, Susan moved over to the magazine industry. Susan has served as the Marketing Research Manager at Vibe, Spin and The Source magazines and Research Director at Motor Trend magazine. Supporting 20 sales representatives by providing them with competitive and analytic research regarding each magazine’s audience, she has honed her research expertise. Susan received a Bachelor of Arts in Psychology from Ohio University in Athens, Ohio. </div></div><div class=\"team-member-social\"><a class=\"member-social-twitter\" href=\"\" style=\"display: none;\"><img src=\"http://namic.com/wp-content/themes/namic-dev/./img/icons/member-social-twitter.png\"/></a><a class=\"member-social-linkedin\" href=\"https://www.linkedin.com/pub/susan-waldman/3/54b/b35\"><img src=\"http://namic.com/wp-content/themes/namic-dev/./img/icons/member-social-linkedin.png\"/></a><a class=\"member-social-facebook\" href=\"\" style=\"display: none;\"><img src=\"http://namic.com/wp-content/themes/namic-dev/./img/icons/member-social-facebook.png\"/></a><a class=\"member-social-google+\" href=\"\" style=\"display: none;\"><img src=\"http://namic.com/wp-content/themes/namic-dev/./img/icons/member-social-google+.png\"/></a><a class=\"member-social-youtube\" href=\"\" style=\"display: none;\"><img src=\"http://namic.com/wp-content/themes/namic-dev/./img/icons/member-social-youtube.png\"/></a></div></div>"
      ]
     },
     "execution_count": 20,
     "metadata": {},
     "output_type": "execute_result"
    }
   ],
   "source": [
    "vp.mary"
   ]
  },
  {
   "cell_type": "code",
   "execution_count": null,
   "metadata": {
    "collapsed": true
   },
   "outputs": [],
   "source": []
  },
  {
   "cell_type": "code",
   "execution_count": null,
   "metadata": {
    "collapsed": true
   },
   "outputs": [],
   "source": []
  },
  {
   "cell_type": "code",
   "execution_count": null,
   "metadata": {
    "collapsed": true
   },
   "outputs": [],
   "source": []
  },
  {
   "cell_type": "code",
   "execution_count": null,
   "metadata": {
    "collapsed": true
   },
   "outputs": [],
   "source": []
  }
 ],
 "metadata": {
  "kernelspec": {
   "display_name": "Python 3",
   "language": "python",
   "name": "python3"
  },
  "language_info": {
   "codemirror_mode": {
    "name": "ipython",
    "version": 3
   },
   "file_extension": ".py",
   "mimetype": "text/x-python",
   "name": "python",
   "nbconvert_exporter": "python",
   "pygments_lexer": "ipython3",
   "version": "3.6.1"
  }
 },
 "nbformat": 4,
 "nbformat_minor": 2
}
