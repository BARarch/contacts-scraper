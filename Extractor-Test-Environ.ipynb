{
 "cells": [
  {
   "cell_type": "code",
   "execution_count": 5,
   "metadata": {
    "collapsed": true
   },
   "outputs": [],
   "source": [
    "cc.VerificationHandler.close_browser()"
   ]
  },
  {
   "cell_type": "code",
   "execution_count": 4,
   "metadata": {
    "collapsed": true
   },
   "outputs": [],
   "source": [
    "VerificationHandler.close_browser()"
   ]
  },
  {
   "cell_type": "code",
   "execution_count": 12,
   "metadata": {
    "collapsed": true
   },
   "outputs": [],
   "source": [
    "import numpy as np\n",
    "import pandas as pd"
   ]
  },
  {
   "cell_type": "code",
   "execution_count": 1,
   "metadata": {},
   "outputs": [
    {
     "name": "stdout",
     "output_type": "stream",
     "text": [
      "Done\n",
      "Done\n",
      "KEYS\n",
      "Done\n",
      "Done\n",
      "RECORDS COLLECTED\n",
      "DATAFRAMES READY\n"
     ]
    }
   ],
   "source": [
    "% run contactsScraper.py"
   ]
  },
  {
   "cell_type": "code",
   "execution_count": 2,
   "metadata": {},
   "outputs": [
    {
     "name": "stdout",
     "output_type": "stream",
     "text": [
      "Local Contact Checker Ready\n"
     ]
    }
   ],
   "source": [
    "% run contactChecker.py"
   ]
  },
  {
   "cell_type": "code",
   "execution_count": 5,
   "metadata": {},
   "outputs": [
    {
     "name": "stdout",
     "output_type": "stream",
     "text": [
      "RECORD OUTPUT READY\n",
      "Local Contact Checker Ready\n"
     ]
    }
   ],
   "source": [
    "ContactSheetOutput.set_output(contactKeys)\n",
    "VerificationHandler.set_orgRecords(dm.OrgSession(orgRecords))\n",
    "VerificationHandler.set_contactRecords(cr)\n",
    "print('Local Contact Checker Ready')"
   ]
  },
  {
   "cell_type": "code",
   "execution_count": 6,
   "metadata": {
    "collapsed": true
   },
   "outputs": [],
   "source": [
    "orgsForToday = ['National Association for Multi-Ethnicity In Communications (NAMIC)',\n",
    "                'Association for Women in Science',\n",
    "                'Brain Injury Association of America',\n",
    "                'American Society of Home Inspectors',\n",
    "                'NAADAC, the Association for Addiction Professionals',\n",
    "                'American Public Transportation Association',\n",
    "                'Indiana Soybean Alliance',\n",
    "                'Associated Builders and Contractors (ABC)',\n",
    "                'National Association of Social Workers',\n",
    "                'American Marketing Association (AMA)']"
   ]
  },
  {
   "cell_type": "code",
   "execution_count": 7,
   "metadata": {},
   "outputs": [],
   "source": [
    "org  = orgsForToday[0]\n",
    "\n",
    "vh = MotherSetVerifier(org)"
   ]
  },
  {
   "cell_type": "code",
   "execution_count": 8,
   "metadata": {},
   "outputs": [
    {
     "data": {
      "text/plain": [
       "['Sat Oct 21, 2017  11:10:09', '11.344', 's', 'Good']"
      ]
     },
     "execution_count": 8,
     "metadata": {},
     "output_type": "execute_result"
    }
   ],
   "source": [
    "VerificationHandler.orgRecords.orgSessionStatusCheck()"
   ]
  },
  {
   "cell_type": "code",
   "execution_count": 9,
   "metadata": {},
   "outputs": [
    {
     "data": {
      "text/plain": [
       "243"
      ]
     },
     "execution_count": 9,
     "metadata": {},
     "output_type": "execute_result"
    }
   ],
   "source": [
    "ContactSheetOutput.currentRow"
   ]
  },
  {
   "cell_type": "code",
   "execution_count": 10,
   "metadata": {
    "collapsed": true
   },
   "outputs": [],
   "source": [
    "vh.write_contact_pointers()"
   ]
  },
  {
   "cell_type": "code",
   "execution_count": 11,
   "metadata": {},
   "outputs": [
    {
     "data": {
      "text/plain": [
       "[<__main__.VerifiedPointer at 0x20e689490f0>,\n",
       " <__main__.VerifiedPointer at 0x20e68967f28>,\n",
       " <__main__.VerifiedPointer at 0x20e68967cf8>]"
      ]
     },
     "execution_count": 11,
     "metadata": {},
     "output_type": "execute_result"
    }
   ],
   "source": [
    "vh.pointers"
   ]
  },
  {
   "cell_type": "code",
   "execution_count": 13,
   "metadata": {
    "collapsed": true
   },
   "outputs": [],
   "source": [
    "## Identify Grandmother elements\n",
    "pointers = vh.verifiedPointers\n",
    "gmElements = []\n",
    "gmMatrix = []\n",
    "\n",
    "for i in range(len(pointers)):\n",
    "    igmElements = []\n",
    "    for j in range(i):\n",
    "        ## Check to see if the Any Mother element is a Big Momma or \"Bertha\" Element\n",
    "        if pointers[i].get_mother_element() is pointers[j].get_mother_element():\n",
    "            gm = pointers[i].get_mother_element()\n",
    "        else:\n",
    "            gm = pointers[i].common_parent(pointers[j])\n",
    "        # Append Match to Grand Mother Matrix\n",
    "        igmElements.append(gm)\n",
    "        \n",
    "        # Check to see if this is a new grand mother element,\n",
    "        # if so append to the gmElements list of unique grandmother elements \n",
    "        if gm not in gmElements:\n",
    "            gmElements.append(gm)\n",
    "            \n",
    "    # Append Matrix Row\n",
    "    gmMatrix.append(igmElements)\n",
    "    \n",
    "grandMotherMatrix = np.matrix(gmMatrix)"
   ]
  },
  {
   "cell_type": "code",
   "execution_count": 14,
   "metadata": {
    "collapsed": true
   },
   "outputs": [],
   "source": [
    "noGm = len(gmElements)"
   ]
  },
  {
   "cell_type": "code",
   "execution_count": 15,
   "metadata": {},
   "outputs": [
    {
     "data": {
      "text/plain": [
       "1"
      ]
     },
     "execution_count": 15,
     "metadata": {},
     "output_type": "execute_result"
    }
   ],
   "source": [
    "noGm"
   ]
  },
  {
   "cell_type": "code",
   "execution_count": 21,
   "metadata": {
    "collapsed": true
   },
   "outputs": [],
   "source": [
    "## if 1 grandmother element test set it and test it\n",
    "gm = gmElements[0]"
   ]
  },
  {
   "cell_type": "code",
   "execution_count": 29,
   "metadata": {},
   "outputs": [],
   "source": [
    "def distinct_gm(gm, pts):\n",
    "    if len(pts) == 0:\n",
    "        return True\n",
    "    if gm is pts[0].get_mother_element():\n",
    "        return False\n",
    "    else:\n",
    "        return distinct_gm(gm, pts[1:])"
   ]
  },
  {
   "cell_type": "code",
   "execution_count": 31,
   "metadata": {},
   "outputs": [],
   "source": [
    "## check to see if Grandmother is Distinct\n",
    "distinct = distinct_gm(gm, pointers)"
   ]
  },
  {
   "cell_type": "code",
   "execution_count": 32,
   "metadata": {},
   "outputs": [
    {
     "data": {
      "text/plain": [
       "True"
      ]
     },
     "execution_count": 32,
     "metadata": {},
     "output_type": "execute_result"
    }
   ],
   "source": [
    "distinct"
   ]
  },
  {
   "cell_type": "code",
   "execution_count": 25,
   "metadata": {},
   "outputs": [
    {
     "data": {
      "text/plain": [
       "<div class=\"team-member-right\"><h3 class=\"team-member-name\">S. Monique Wells</h3><h4 class=\"team-member-position\">Director of Finance and Administration</h4><div class=\"team-member-body hide-class\"><div style=\"overflow: hidden; height: 72px;\">Monique Wells is the Director of Finance and Administration for the National Association for Multi-ethnicity in Communications’ (NAMIC). Prior to that she was their Manager of Operations, a position she assumed in August, 2009. Monique is no stranger to NAMIC and has been a member since 1991. She served as a consultant to NAMIC for a number of special projects, prior to joining the staff. As Director of Finance and Administration, she oversees the administrative and financial operations of the national office. An accomplished professional with a diverse background in sales and project management, Monique previously served as an Energy Conservation Analyst with the Los Angeles Unified School District where she oversaw the utility management for school construction projects. Prior to that, Monique was a National Sales and Marketing Executive for Patriot Communications where she was responsible for the sales, marketing and contract negotiations of enhanced telecommunications products and services. Before joining Patriot, Monique worked at HBO in Affiliate Sales, where she created and implemented sales strategies and account activities for HBO and Cinemax. Her responsibilities included sales, client services, off-channel promotions and special events. During her tenure at HBO, Monique was an active member of the NAMIC-Southern California chapter and served on the Steering Committee for the Vision Awards and chaired both the Sponsorship and Talent Committees. Preceding her tenure in communications, Monique held several executive positions for Kraft General Foods and Sportsvisions, a sports marketing company based in Northern California. Monique earned a Bachelor of Arts degree in Sociology from Clark University in Worcester, MA and a MBA degree in general business and marketing from Atlanta University, now known as Clark Atlanta University in Atlanta, GA. She is on the planning committee for the American Heart Association’s Harlem Go Red For Women Educational Forum and volunteers for the New York Common Pantry, a New York City community based food pantry. </div></div><div class=\"team-member-social\"><a class=\"member-social-twitter\" href=\"\" style=\"display: none;\"><img src=\"http://namic.com/wp-content/themes/namic-dev/./img/icons/member-social-twitter.png\"/></a><a class=\"member-social-linkedin\" href=\"https://www.linkedin.com/pub/s-monique-wells/3/7a0/265\"><img src=\"http://namic.com/wp-content/themes/namic-dev/./img/icons/member-social-linkedin.png\"/></a><a class=\"member-social-facebook\" href=\"\" style=\"display: none;\"><img src=\"http://namic.com/wp-content/themes/namic-dev/./img/icons/member-social-facebook.png\"/></a><a class=\"member-social-google+\" href=\"\" style=\"display: none;\"><img src=\"http://namic.com/wp-content/themes/namic-dev/./img/icons/member-social-google+.png\"/></a><a class=\"member-social-youtube\" href=\"\" style=\"display: none;\"><img src=\"http://namic.com/wp-content/themes/namic-dev/./img/icons/member-social-youtube.png\"/></a></div></div>"
      ]
     },
     "execution_count": 25,
     "metadata": {},
     "output_type": "execute_result"
    }
   ],
   "source": [
    "pointers[1].get_mother_element()"
   ]
  },
  {
   "cell_type": "code",
   "execution_count": null,
   "metadata": {
    "collapsed": true
   },
   "outputs": [],
   "source": []
  },
  {
   "cell_type": "code",
   "execution_count": 34,
   "metadata": {
    "collapsed": true
   },
   "outputs": [],
   "source": [
    "## Tag tree with pattern from nathan to tom\n",
    "def tag_nathans(pt):\n",
    "    return parent_cycle_up(pt.get_mother_element(), pt.nathan.parent, 'nathan', 0)\n",
    "\n",
    "def tag_toms(pt):\n",
    "    return parent_cycle_up(pt.get_mother_element(), pt.tom.parent, 'tom', 0)\n",
    "\n",
    "def parent_cycle_up(motherElement, element, atr, num):\n",
    "    ## for the bertha case we stop at the element that is right befor the mother elemenet\n",
    "    if element.parent is motherElement:\n",
    "        element[atr] = num\n",
    "        element['sib'] = atr\n",
    "    else:\n",
    "        element[atr] = num\n",
    "        return(motherElement, element.parent, atr, num + 1)"
   ]
  },
  {
   "cell_type": "code",
   "execution_count": 35,
   "metadata": {},
   "outputs": [],
   "source": [
    "## For Each pointer\n",
    "# Tag Toms and Nathans\n",
    "vp = pointers[0]\n",
    "tag_nathans(vp)\n",
    "tag_toms(vp)"
   ]
  },
  {
   "cell_type": "code",
   "execution_count": 40,
   "metadata": {},
   "outputs": [
    {
     "data": {
      "text/plain": [
       "<h4 class=\"team-member-position\" sib=\"tom\" tom=\"0\">Senior Manager, Membership and Publications</h4>"
      ]
     },
     "execution_count": 40,
     "metadata": {},
     "output_type": "execute_result"
    }
   ],
   "source": [
    "vp.tom.parent"
   ]
  },
  {
   "cell_type": "code",
   "execution_count": 41,
   "metadata": {},
   "outputs": [
    {
     "data": {
      "text/plain": [
       "['team-member-name']"
      ]
     },
     "execution_count": 41,
     "metadata": {},
     "output_type": "execute_result"
    }
   ],
   "source": [
    "## Rocket Extraction: Are you ready to launch?\n",
    "vp.nathan.parent['class']"
   ]
  },
  {
   "cell_type": "code",
   "execution_count": 42,
   "metadata": {},
   "outputs": [
    {
     "data": {
      "text/plain": [
       "['team-member-position']"
      ]
     },
     "execution_count": 42,
     "metadata": {},
     "output_type": "execute_result"
    }
   ],
   "source": [
    "vp.tom.parent['class']"
   ]
  },
  {
   "cell_type": "code",
   "execution_count": 44,
   "metadata": {},
   "outputs": [
    {
     "data": {
      "text/plain": [
       "['team-member-right']"
      ]
     },
     "execution_count": 44,
     "metadata": {},
     "output_type": "execute_result"
    }
   ],
   "source": [
    "vp.get_mother_element()['class']"
   ]
  },
  {
   "cell_type": "code",
   "execution_count": 46,
   "metadata": {},
   "outputs": [],
   "source": [
    "## Tom Starts\n",
    "tomStarts = gm.find_all(class_=vp.tom.parent['class'])"
   ]
  },
  {
   "cell_type": "code",
   "execution_count": 48,
   "metadata": {},
   "outputs": [],
   "source": [
    "## Nathan Starts\n",
    "nathanStarts = gm.find_all(class_=vp.nathan.parent['class'])"
   ]
  },
  {
   "cell_type": "code",
   "execution_count": 52,
   "metadata": {},
   "outputs": [],
   "source": [
    "## Mother Starts\n",
    "motherStarts = gm.find_all(class_=vp.get_mother_element()['class'])"
   ]
  },
  {
   "cell_type": "code",
   "execution_count": 58,
   "metadata": {},
   "outputs": [
    {
     "data": {
      "text/plain": [
       "<h3 class=\"team-member-name\" nathan=\"0\" sib=\"nathan\">Susan Waldman</h3>"
      ]
     },
     "execution_count": 58,
     "metadata": {},
     "output_type": "execute_result"
    }
   ],
   "source": [
    "vp.tom.parent.previous_sibling"
   ]
  },
  {
   "cell_type": "code",
   "execution_count": 54,
   "metadata": {},
   "outputs": [
    {
     "data": {
      "text/plain": [
       "'Susan Waldman'"
      ]
     },
     "execution_count": 54,
     "metadata": {},
     "output_type": "execute_result"
    }
   ],
   "source": [
    "vp.tom.parent.previous_sibling"
   ]
  },
  {
   "cell_type": "code",
   "execution_count": 55,
   "metadata": {},
   "outputs": [
    {
     "data": {
      "text/plain": [
       "<h4 class=\"team-member-position\" sib=\"tom\" tom=\"0\">Senior Manager, Membership and Publications</h4>"
      ]
     },
     "execution_count": 55,
     "metadata": {},
     "output_type": "execute_result"
    }
   ],
   "source": [
    "vp.nathan.parent.next_sibling"
   ]
  },
  {
   "cell_type": "code",
   "execution_count": 62,
   "metadata": {},
   "outputs": [
    {
     "data": {
      "text/plain": [
       "'Darryl Jackson'"
      ]
     },
     "execution_count": 62,
     "metadata": {},
     "output_type": "execute_result"
    }
   ],
   "source": [
    "# Getting to a nathan with a tom start\n",
    "n = 5\n",
    "tomStarts[n].previous_sibling.string"
   ]
  },
  {
   "cell_type": "code",
   "execution_count": 65,
   "metadata": {},
   "outputs": [
    {
     "data": {
      "text/plain": [
       "'President and CEO'"
      ]
     },
     "execution_count": 65,
     "metadata": {},
     "output_type": "execute_result"
    }
   ],
   "source": [
    "# Getting to a tom with a nathan Start\n",
    "n = 0\n",
    "nathanStarts[n].next_sibling.string"
   ]
  },
  {
   "cell_type": "code",
   "execution_count": 114,
   "metadata": {
    "collapsed": true
   },
   "outputs": [],
   "source": [
    "tom_rocket = lambda startNode: startNode.next_sibling.string\n"
   ]
  },
  {
   "cell_type": "code",
   "execution_count": 115,
   "metadata": {},
   "outputs": [
    {
     "data": {
      "text/plain": [
       "'Administrative Assistant'"
      ]
     },
     "execution_count": 115,
     "metadata": {},
     "output_type": "execute_result"
    }
   ],
   "source": [
    "n = 7\n",
    "tom_rocket(nathanStarts[n])"
   ]
  },
  {
   "cell_type": "code",
   "execution_count": 116,
   "metadata": {},
   "outputs": [],
   "source": [
    "nathan_rocket = lambda startNode: startNode.previous_sibling.string"
   ]
  },
  {
   "cell_type": "code",
   "execution_count": 117,
   "metadata": {},
   "outputs": [
    {
     "data": {
      "text/plain": [
       "\"Davana O'Brien\""
      ]
     },
     "execution_count": 117,
     "metadata": {},
     "output_type": "execute_result"
    }
   ],
   "source": [
    "n = 7\n",
    "nathan_rocket(tomStarts[n])"
   ]
  },
  {
   "cell_type": "code",
   "execution_count": 118,
   "metadata": {
    "collapsed": true
   },
   "outputs": [],
   "source": [
    "nathan_missile = lambda startNode: startNode.contents[0].string"
   ]
  },
  {
   "cell_type": "code",
   "execution_count": 119,
   "metadata": {},
   "outputs": [
    {
     "data": {
      "text/plain": [
       "\"Davana O'Brien\""
      ]
     },
     "execution_count": 119,
     "metadata": {},
     "output_type": "execute_result"
    }
   ],
   "source": [
    "n = 7\n",
    "nathan_missile(motherStarts[n])"
   ]
  },
  {
   "cell_type": "code",
   "execution_count": 120,
   "metadata": {
    "collapsed": true
   },
   "outputs": [],
   "source": [
    "tom_missile = lambda startNode: startNode.contents[0].next_sibling.string"
   ]
  },
  {
   "cell_type": "code",
   "execution_count": 121,
   "metadata": {},
   "outputs": [
    {
     "data": {
      "text/plain": [
       "'Administrative Assistant'"
      ]
     },
     "execution_count": 121,
     "metadata": {},
     "output_type": "execute_result"
    }
   ],
   "source": [
    "n = 7\n",
    "tom_missile(motherStarts[n])"
   ]
  },
  {
   "cell_type": "code",
   "execution_count": null,
   "metadata": {
    "collapsed": true
   },
   "outputs": [],
   "source": []
  },
  {
   "cell_type": "code",
   "execution_count": null,
   "metadata": {
    "collapsed": true
   },
   "outputs": [],
   "source": []
  },
  {
   "cell_type": "code",
   "execution_count": 96,
   "metadata": {},
   "outputs": [
    {
     "data": {
      "text/plain": [
       "'Eglon E. Simons'"
      ]
     },
     "execution_count": 96,
     "metadata": {},
     "output_type": "execute_result"
    }
   ],
   "source": [
    "motherStarts[0].contents[0].string"
   ]
  },
  {
   "cell_type": "code",
   "execution_count": null,
   "metadata": {
    "collapsed": true
   },
   "outputs": [],
   "source": []
  },
  {
   "cell_type": "code",
   "execution_count": null,
   "metadata": {
    "collapsed": true
   },
   "outputs": [],
   "source": []
  },
  {
   "cell_type": "code",
   "execution_count": 36,
   "metadata": {},
   "outputs": [
    {
     "data": {
      "text/plain": [
       "<h3 class=\"team-member-name\" nathan=\"0\" sib=\"nathan\">Susan Waldman</h3>"
      ]
     },
     "execution_count": 36,
     "metadata": {},
     "output_type": "execute_result"
    }
   ],
   "source": [
    "vp.nathan.parent\n"
   ]
  },
  {
   "cell_type": "code",
   "execution_count": 19,
   "metadata": {},
   "outputs": [
    {
     "data": {
      "text/plain": [
       "<h4 class=\"team-member-position\">Senior Manager, Membership and Publications</h4>"
      ]
     },
     "execution_count": 19,
     "metadata": {},
     "output_type": "execute_result"
    }
   ],
   "source": [
    "vp.tom.parent"
   ]
  },
  {
   "cell_type": "code",
   "execution_count": 20,
   "metadata": {},
   "outputs": [
    {
     "data": {
      "text/plain": [
       "<div class=\"team-member-right\"><h3 class=\"team-member-name\">Susan Waldman</h3><h4 class=\"team-member-position\">Senior Manager, Membership and Publications</h4><div class=\"team-member-body hide-class\"><div style=\"overflow: hidden; height: 72px;\">As the Senior Manager of Membership and Publications, Susan Waldman oversees the day-to-day facilitation of NAMIC’s membership operations, as well as market research to drive growth. She is also responsible for the production of NAMIC’s industry-wide publication, Diversity Digest. She launched her career in market research as a media planner on such accounts as Loews Hotels and Omnipoint Communications at Hill, Holliday Altschiller and McCann Direct advertising agencies.  There she was introduced to the gamut of advertising research resources as she planned and purchased the media for various clients.  After a few years, Susan moved over to the magazine industry. Susan has served as the Marketing Research Manager at Vibe, Spin and The Source magazines and Research Director at Motor Trend magazine. Supporting 20 sales representatives by providing them with competitive and analytic research regarding each magazine’s audience, she has honed her research expertise. Susan received a Bachelor of Arts in Psychology from Ohio University in Athens, Ohio. </div></div><div class=\"team-member-social\"><a class=\"member-social-twitter\" href=\"\" style=\"display: none;\"><img src=\"http://namic.com/wp-content/themes/namic-dev/./img/icons/member-social-twitter.png\"/></a><a class=\"member-social-linkedin\" href=\"https://www.linkedin.com/pub/susan-waldman/3/54b/b35\"><img src=\"http://namic.com/wp-content/themes/namic-dev/./img/icons/member-social-linkedin.png\"/></a><a class=\"member-social-facebook\" href=\"\" style=\"display: none;\"><img src=\"http://namic.com/wp-content/themes/namic-dev/./img/icons/member-social-facebook.png\"/></a><a class=\"member-social-google+\" href=\"\" style=\"display: none;\"><img src=\"http://namic.com/wp-content/themes/namic-dev/./img/icons/member-social-google+.png\"/></a><a class=\"member-social-youtube\" href=\"\" style=\"display: none;\"><img src=\"http://namic.com/wp-content/themes/namic-dev/./img/icons/member-social-youtube.png\"/></a></div></div>"
      ]
     },
     "execution_count": 20,
     "metadata": {},
     "output_type": "execute_result"
    }
   ],
   "source": [
    "vp.mary"
   ]
  },
  {
   "cell_type": "code",
   "execution_count": null,
   "metadata": {
    "collapsed": true
   },
   "outputs": [],
   "source": []
  },
  {
   "cell_type": "code",
   "execution_count": null,
   "metadata": {
    "collapsed": true
   },
   "outputs": [],
   "source": []
  },
  {
   "cell_type": "code",
   "execution_count": null,
   "metadata": {
    "collapsed": true
   },
   "outputs": [],
   "source": []
  },
  {
   "cell_type": "code",
   "execution_count": null,
   "metadata": {
    "collapsed": true
   },
   "outputs": [],
   "source": []
  }
 ],
 "metadata": {
  "kernelspec": {
   "display_name": "Python 3",
   "language": "python",
   "name": "python3"
  },
  "language_info": {
   "codemirror_mode": {
    "name": "ipython",
    "version": 3
   },
   "file_extension": ".py",
   "mimetype": "text/x-python",
   "name": "python",
   "nbconvert_exporter": "python",
   "pygments_lexer": "ipython3",
   "version": "3.6.1"
  }
 },
 "nbformat": 4,
 "nbformat_minor": 2
}
