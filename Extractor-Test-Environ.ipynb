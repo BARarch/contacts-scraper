{
 "cells": [
  {
   "cell_type": "code",
   "execution_count": 5,
   "metadata": {
    "collapsed": true
   },
   "outputs": [],
   "source": [
    "cc.VerificationHandler.close_browser()"
   ]
  },
  {
   "cell_type": "code",
   "execution_count": 308,
   "metadata": {
    "collapsed": true
   },
   "outputs": [],
   "source": [
    "VerificationHandler.close_browser()"
   ]
  },
  {
   "cell_type": "code",
   "execution_count": 132,
   "metadata": {
    "collapsed": true
   },
   "outputs": [],
   "source": [
    "import numpy as np\n",
    "import pandas as pd\n",
    "from bs4.element import NavigableString"
   ]
  },
  {
   "cell_type": "code",
   "execution_count": 2,
   "metadata": {},
   "outputs": [
    {
     "name": "stdout",
     "output_type": "stream",
     "text": [
      "Done\n",
      "Done\n",
      "KEYS\n",
      "Done\n",
      "Done\n",
      "RECORDS COLLECTED\n",
      "DATAFRAMES READY\n"
     ]
    }
   ],
   "source": [
    "% run contactsScraper.py"
   ]
  },
  {
   "cell_type": "code",
   "execution_count": 3,
   "metadata": {},
   "outputs": [
    {
     "name": "stdout",
     "output_type": "stream",
     "text": [
      "Local Contact Checker Ready\n"
     ]
    }
   ],
   "source": [
    "% run contactChecker.py"
   ]
  },
  {
   "cell_type": "code",
   "execution_count": 4,
   "metadata": {},
   "outputs": [
    {
     "name": "stdout",
     "output_type": "stream",
     "text": [
      "RECORD OUTPUT READY\n",
      "Local Contact Checker Ready\n"
     ]
    }
   ],
   "source": [
    "ContactSheetOutput.set_output(contactKeys)\n",
    "VerificationHandler.set_orgRecords(dm.OrgSession(orgRecords))\n",
    "VerificationHandler.set_contactRecords(cr)\n",
    "print('Local Contact Checker Ready')"
   ]
  },
  {
   "cell_type": "code",
   "execution_count": 5,
   "metadata": {
    "collapsed": true
   },
   "outputs": [],
   "source": [
    "orgsForToday = ['National Association for Multi-Ethnicity In Communications (NAMIC)',\n",
    "                'Association for Women in Science',\n",
    "                'Brain Injury Association of America',\n",
    "                'American Society of Home Inspectors',\n",
    "                'NAADAC, the Association for Addiction Professionals',\n",
    "                'American Public Transportation Association',\n",
    "                'Indiana Soybean Alliance',\n",
    "                'Associated Builders and Contractors (ABC)',\n",
    "                'National Association of Social Workers',\n",
    "                'American Marketing Association (AMA)']"
   ]
  },
  {
   "cell_type": "code",
   "execution_count": 261,
   "metadata": {
    "collapsed": true
   },
   "outputs": [],
   "source": [
    "org  = orgsForToday[0]\n",
    "\n",
    "vh = MotherSetVerifier(org)"
   ]
  },
  {
   "cell_type": "code",
   "execution_count": 101,
   "metadata": {},
   "outputs": [],
   "source": [
    "org  = orgsForToday[0]\n",
    "\n",
    "vh = ContactScraperVerifier(org)"
   ]
  },
  {
   "cell_type": "code",
   "execution_count": 102,
   "metadata": {},
   "outputs": [
    {
     "data": {
      "text/plain": [
       "['Mon Oct 23, 2017  19:29:39', '2.776', 's', 'Good']"
      ]
     },
     "execution_count": 102,
     "metadata": {},
     "output_type": "execute_result"
    }
   ],
   "source": [
    "VerificationHandler.orgRecords.orgSessionStatusCheck()"
   ]
  },
  {
   "cell_type": "code",
   "execution_count": 105,
   "metadata": {},
   "outputs": [
    {
     "data": {
      "text/plain": [
       "258"
      ]
     },
     "execution_count": 105,
     "metadata": {},
     "output_type": "execute_result"
    }
   ],
   "source": [
    "ContactSheetOutput.currentRow"
   ]
  },
  {
   "cell_type": "code",
   "execution_count": 296,
   "metadata": {
    "collapsed": true
   },
   "outputs": [],
   "source": [
    "vh.write_contact_pointers()"
   ]
  },
  {
   "cell_type": "code",
   "execution_count": null,
   "metadata": {
    "collapsed": true
   },
   "outputs": [],
   "source": []
  },
  {
   "cell_type": "code",
   "execution_count": 106,
   "metadata": {
    "collapsed": true
   },
   "outputs": [],
   "source": [
    "class ContactScraperVerifier(MotherSetVerifier):\n",
    "    def __init__(self, org):\n",
    "        MotherSetVerifier.__init__(self, org)\n",
    "        self.pointers = self.verifiedPointers\n",
    "        \n",
    "        # Get Grand Mother elements\n",
    "        self.gmElements, self.grandMotherMatrix = ContactScraperVerifier.getGrandMotherElements(self.pointers)\n",
    "        \n",
    "        self.noGm = len(self.gmElements)\n",
    "        \n",
    "        if self.noGm == 1: ## Single Grandmother Case\n",
    "            self.gm = self.gmElements[0]\n",
    "            self.distinct_gm = ContactScraperVerifier.distinct_gm(self.gm, self.pointers)\n",
    "            \n",
    "            #if ContactScraperVerifier.distinct_gm(self.gm, self.pointers): ## Grandmother is distinct\n",
    "            ### Extender Model Selection\n",
    "            #    self.extenders = [Extender(self.gm, vp) for vp in self.pointers]\n",
    "            #\n",
    "            #else:  ## GrandMother is not distinct\n",
    "            #    ## Extender Model Selection\n",
    "            #    self.extenders = [RocketOnlyExtender(self.gm, vp) for vp in self.pointers]\n",
    "            \n",
    "        else:\n",
    "            ## Extender Model Selection for Multiple GrandMothers\n",
    "            self.extenders = None\n",
    "            self.gm = None\n",
    "            \n",
    "    @staticmethod\n",
    "    def getGrandMotherElements(pointers):\n",
    "        ## Identify Grandmother elements\n",
    "        gmElements = []\n",
    "        gmMatrix = []\n",
    "\n",
    "        for i in range(len(pointers)):\n",
    "            igmElements = []\n",
    "            for j in range(i):\n",
    "                ## Check to see if the Any Mother element is a Big Momma or \"Bertha\" Element\n",
    "                if pointers[i].get_mother_element() is pointers[j].get_mother_element():\n",
    "                    gm = pointers[i].get_mother_element()\n",
    "                else:\n",
    "                    gm = pointers[i].common_parent(pointers[j])\n",
    "                # Append Match to Grand Mother Matrix\n",
    "                igmElements.append(gm)\n",
    "\n",
    "                # Check to see if this is a new grand mother element,\n",
    "                # if so append to the gmElements list of unique grandmother elements \n",
    "                if gm not in gmElements:\n",
    "                    gmElements.append(gm)\n",
    "\n",
    "            # Append Matrix Row\n",
    "            gmMatrix.append(igmElements)\n",
    "\n",
    "        grandMotherMatrix = np.matrix(gmMatrix)\n",
    "        return (gmElements, grandMotherMatrix)\n",
    "    \n",
    "    @staticmethod\n",
    "    def distinct_gm(gm, pts):\n",
    "        if len(pts) == 0:\n",
    "            return True\n",
    "        if gm is pts[0].get_mother_element():\n",
    "            return False\n",
    "        else:\n",
    "            return ContactScraperVerifier.distinct_gm(gm, pts[1:])"
   ]
  },
  {
   "cell_type": "code",
   "execution_count": 832,
   "metadata": {},
   "outputs": [],
   "source": [
    "class Extender(object):\n",
    "    def __init__(self, gm, pointer):\n",
    "        self.gm = gm\n",
    "        self.vp = pointer\n",
    "        \n",
    "        self.tag_nathans()\n",
    "        self.tag_toms()\n",
    "        \n",
    "        self.tom_missile = self.mother_to_tom_missile()\n",
    "        self.tom_rocket = self.nathan_to_tom_rocket()\n",
    "        self.nathan_shuttle = self.nathan_to_element()\n",
    "        \n",
    "        self.nathan_missile = self.mother_to_nathan_missile()\n",
    "        self.nathan_rocket = self.tom_to_nathan_rocket()\n",
    "        self.tom_shuttle = self.tom_to_element()\n",
    "        \n",
    "        #self.reset_tree()\n",
    "        \n",
    "    ## Tagging Functions ------------------------------------ \n",
    "    ##\n",
    "    def tag_nathans(self):\n",
    "        if self.vp.get_mother_element() is self.vp.nathan.parent:  ## Gotta Catch those first elements before the get away\n",
    "            self.vp.nathan.parent['nathan'] = 0\n",
    "        else:\n",
    "            return Extender.parent_cycle_up(self.vp.get_mother_element(), self.vp.nathan.parent, 'nathan', 0)\n",
    "\n",
    "    def tag_toms(self):\n",
    "        if self.vp.get_mother_element() is self.vp.tom.parent:  ## Gotta Catch those first elements before the get away\n",
    "            self.vp.tom.parent['tom'] = 0\n",
    "        else:\n",
    "            return Extender.parent_cycle_up(self.vp.get_mother_element(), self.vp.tom.parent, 'tom', 0)\n",
    "    \n",
    "    def reset_tree(self):\n",
    "        ## Clear all tom, nathan and sib atributes\n",
    "        for tomTag in self.gm.find_all(Extender.has_tom):\n",
    "            del tomTag['tom']    \n",
    "        for nathanTag in self.gm.find_all(Extender.has_nathan):\n",
    "            del nathanTag['nathan'] \n",
    "        for sibTag in self.gm.find_all(Extender.has_sib):\n",
    "            del sibTag['sib']\n",
    "    \n",
    "    @staticmethod\n",
    "    def parent_cycle_up(motherElement, element, atr, num):\n",
    "        ## We tag up THOUGH the MotherELement\n",
    "        if element is motherElement:\n",
    "            element[atr] = num\n",
    "            #element['sib'] = atr\n",
    "        else:\n",
    "            element[atr] = num\n",
    "            return Extender.parent_cycle_up(motherElement, element.parent, atr, num + 1)\n",
    "    \n",
    "    @staticmethod\n",
    "    def contents_position(elm):\n",
    "        return Extender.contents_position_loop(elm, 0)\n",
    "\n",
    "    @staticmethod\n",
    "    def contents_position_loop(elm, num):\n",
    "        if len(list(elm.previous_siblings)) == 0:\n",
    "            return num\n",
    "        else:\n",
    "            return Extender.contents_position_loop(elm.previous_sibling, num + 1)\n",
    "    \n",
    "    @staticmethod\n",
    "    def has_tom(tag):\n",
    "        try:\n",
    "            return 'tom' in tag.attrs\n",
    "        except AttributeError:\n",
    "            return False\n",
    "\n",
    "    @staticmethod\n",
    "    def has_nathan(tag):\n",
    "        try:\n",
    "            return 'nathan' in tag.attrs\n",
    "        except AttributeError:\n",
    "            return False\n",
    "\n",
    "    @staticmethod\n",
    "    def has_sib(tag):\n",
    "        try:\n",
    "            return 'sib' in tag.attrs\n",
    "        except AttributeError:\n",
    "            return False\n",
    "        \n",
    "    @staticmethod\n",
    "    def check_siblings(sibs, attFunc):\n",
    "        for sib in sibs:\n",
    "            if attFunc(sib):\n",
    "                return True\n",
    "        return False\n",
    "    \n",
    "    ## Shuttle Functions ------------------------------------\n",
    "    ##\n",
    "    def nathan_to_element(self):\n",
    "        return lambda start: start.contents[Extender.contents_position(self.vp.nathan)]\n",
    "    \n",
    "    def tom_to_element(self):\n",
    "        return lambda start: start.contents[Extender.contents_position(self.vp.tom)]\n",
    "    \n",
    "    ## Missle Functions ------------------------------------\n",
    "    ##\n",
    "    def mother_to_tom_missile(self):\n",
    "        motherElement = self.vp.get_mother_element()\n",
    "\n",
    "        if self.vp.tom is motherElement:\n",
    "            return lambda start: start\n",
    "        else:\n",
    "            return lambda start: Extender.cycle_up_mother(self.vp.tom.parent, motherElement, start).contents[Extender.contents_position(self.vp.tom)]\n",
    "\n",
    "    def mother_to_nathan_missile(self):\n",
    "        motherElement = self.vp.get_mother_element()\n",
    "\n",
    "        if self.vp.nathan is motherElement:\n",
    "            return lambda start: start\n",
    "        else:\n",
    "            return lambda start: Extender.cycle_up_mother(self.vp.nathan.parent, motherElement, start).contents[Extender.contents_position(self.vp.nathan)]\n",
    "\n",
    "    @staticmethod\n",
    "    def cycle_up_mother(elm, motherElement, start):\n",
    "        if elm is motherElement:\n",
    "            return start\n",
    "        else:\n",
    "            return Extender.cycle_up_mother(elm.parent, motherElement, start).contents[Extender.contents_position(elm)]\n",
    "        \n",
    "    \n",
    "    ## Rocket Functions ------------------------------------\n",
    "    ##\n",
    "    def nathan_to_tom_rocket(self):\n",
    "        ## Compute the route from nathan startnode to tom by starting at tom and recursing up, accross and then down\n",
    "        ## looing for nathan = 0 attribute\n",
    "        \n",
    "        return lambda start: Extender.cycle_up(self.vp.tom, 'nathan', start)\n",
    "\n",
    "    def tom_to_nathan_rocket(self):\n",
    "        ## Compute the route from tom startnode to nathan by starting at nathan and recursing up, accross and then down\n",
    "        ## looing for tom = 0 attibute\n",
    "        \n",
    "        return lambda start: Extender.cycle_up(self.vp.nathan, 'tom', start)\n",
    "    \n",
    "    @staticmethod\n",
    "    def cycle_up(elm, to, start):\n",
    "        ## Set Attribut Search Function\n",
    "        attrFunc = Extender.has_tom if to == 'tom' else Extender.has_nathan\n",
    "\n",
    "        ## FIRST check yo'self\n",
    "        if attrFunc(elm):  ## Switch Direction but don't move\n",
    "            return Extender.cycle_down(elm, to, start) \n",
    "        ## SECOND look Left for shoulder in siblings\n",
    "        elif Extender.check_siblings(elm.previous_siblings, attrFunc):\n",
    "            return Extender.cycle_left(elm.previous_sibling, to, start).next_sibling\n",
    "        ## Then look right\n",
    "        elif Extender.check_siblings(elm.next_siblings, attrFunc):\n",
    "            return Extender.cycle_right(elm.next_sibling, to, start).previous_sibling\n",
    "        ## if nothing here go up\n",
    "        else:\n",
    "            return Extender.cycle_up(elm.parent, to, start).contents[Extender.contents_position(elm)]\n",
    "\n",
    "    @staticmethod\n",
    "    def cycle_left(elm, to, start):\n",
    "        attrFunc = Extender.has_tom if to == 'tom' else Extender.has_nathan\n",
    "\n",
    "        ## if this is the shoulder change functions but dont move\n",
    "        if attrFunc(elm):\n",
    "            return Extender.cycle_down(elm, to, start)\n",
    "        ## if not check the element to the left\n",
    "        else:\n",
    "            return Extender.cycle_left(elm.previous_sibling, to, start).next_sibling\n",
    "\n",
    "    @staticmethod\n",
    "    def cycle_right(elm, to, start):\n",
    "        attrFunc = Extender.has_tom if to == 'tom' else Extender.has_nathan\n",
    "\n",
    "        ## if this is the shoulder change functions but dont move\n",
    "        if attrFunc(elm):\n",
    "            return Extender.cycle_down(elm, to, start)\n",
    "        ## if not check the element to the left\n",
    "        else:\n",
    "            return Extender.cycle_right(elm.next_sibling, to, start).previous_sibling\n",
    "\n",
    "    @staticmethod\n",
    "    def cycle_down(elm, to, start):\n",
    "        return Extender.cycle_down_loop(elm[to], start)\n",
    "\n",
    "    @staticmethod\n",
    "    def cycle_down_loop(dist, start):\n",
    "        ## Start Node Condition\n",
    "        if dist == 0:\n",
    "            return start\n",
    "        else: \n",
    "            return Extender.cycle_down_loop(dist - 1, start).parent\n",
    " \n",
    "        "
   ]
  },
  {
   "cell_type": "code",
   "execution_count": 833,
   "metadata": {
    "collapsed": true
   },
   "outputs": [],
   "source": [
    "class Extractor(Extender):\n",
    "    nathanStartType = '__nathanStarts__'\n",
    "    tomStartType = '__tomStarts__'\n",
    "    motherStartType = '__motherStarts__'\n",
    "    \n",
    "    def __init__(self, gm, pointer):\n",
    "        Extender.__init__(self, gm, pointer)\n",
    "        self.startBlock = StartBlockNoMother(gm, pointer)\n",
    "        self.startsType, self.starts = self.get_starts()\n",
    "        self.resultSet = NewPointerSet()\n",
    "        self.test_starts()\n",
    "        self.reset_tree()\n",
    "        \n",
    "    def get_starts(self):\n",
    "        return self.startBlock.get_optimal_starts()\n",
    "    \n",
    "    def test_starts(self):\n",
    "        return [self.test_start(self.startsType, st) for st in self.starts]\n",
    "        \n",
    "    def test_start(self, startType, start):\n",
    "        if startType == Extractor.nathanStartType:   ## Nathan Start Case, Nathan Shuttle, Tom Rocket to \n",
    "            np = NewPointer(start, self.nathan_shuttle, self.tom_rocket)\n",
    "            self.resultSet.addPointer(np)\n",
    "            return np\n",
    "        if startType == Extractor.tomStartType:   ## Tom Start Case, Tom Shuttle, Nathan Rocket \n",
    "            np = NewPointer(start, self.nathan_rocket, self.tom_shuttle)\n",
    "            self.resultSet.addPointer(np)\n",
    "            return np\n",
    "        if startType == Extractor.motherStartType:   ## Mother Start Case, Missile for Missle for Nathan, Missile for Tom \n",
    "            np = NewPointer(start, self.nathan_missile, self.tom_missile)\n",
    "            self.resultSet.addPointer(np)\n",
    "            return np\n",
    "    \n",
    "    def get_result_set(self):\n",
    "        return self.resultSet\n",
    "    \n",
    "    def quick_report(self):\n",
    "        print(str(self.resultSet))\n",
    "        "
   ]
  },
  {
   "cell_type": "code",
   "execution_count": 834,
   "metadata": {
    "collapsed": true
   },
   "outputs": [],
   "source": [
    "class ExtractorNoMother(Extractor):\n",
    "    nathanStartType = '__nathanStarts__'\n",
    "    tomStartType = '__tomStarts__'\n",
    "    motherStartType = '__motherStarts__'\n",
    "    \n",
    "    def __init__(self, gm, pointer):\n",
    "        Extractor.__init__(self, gm, pointer)\n",
    "        self.startBlock = StartBlockNoMother(gm, pointer)\n",
    "        self.startsType, self.starts = self.get_starts()\n",
    "        self.reset_tree()\n",
    "        \n",
    "    def get_starts(self):\n",
    "        return self.startBlock.get_optimal_starts()"
   ]
  },
  {
   "cell_type": "code",
   "execution_count": 835,
   "metadata": {
    "collapsed": true
   },
   "outputs": [],
   "source": [
    "class NewPointerSet(object):\n",
    "    def __init__(self):\n",
    "        self.newPointers = []\n",
    "        \n",
    "    def addPointer(self, newPointer):\n",
    "        self.newPointers.append(newPointer)\n",
    "        \n",
    "    def __str__(self):\n",
    "        s = ''\n",
    "        for pt in self.newPointers:\n",
    "            s += ('%s     as     %s\\n' % (str(pt.get_nathan()), str(pt.get_tom())))\n",
    "        return s\n",
    "    \n",
    "    def get_pointers(self):\n",
    "        return self.newPointers\n",
    "    "
   ]
  },
  {
   "cell_type": "code",
   "execution_count": 836,
   "metadata": {},
   "outputs": [],
   "source": [
    "class MergeSet(NewPointerSet):\n",
    "    def __init__(self, vps):\n",
    "        NewPointerSet.__init__(self)\n",
    "        self.verifiedPointers = vps\n",
    "        \n",
    "    def merge_pointers(self, newPointerSet):\n",
    "        for np in newPointerSet.get_pointers():\n",
    "            self.add_pointer(np)\n",
    "    \n",
    "    def add_pointer(self, newPointer):\n",
    "        ## Pointer has to meet certain conditions to be added to the MergeSet\n",
    "        if MergeSet.has_a_failed_route(newPointer):\n",
    "            return False\n",
    "        if MergeSet.is_nothing(newPointer.tom) or MergeSet.is_nothing(newPointer.nathan):\n",
    "            return False\n",
    "        if MergeSet.is_an_email(newPointer.tom) or MergeSet.is_an_email(newPointer.nathan):\n",
    "            return False\n",
    "        if self.a_match_to_verified_pointers(newPointer):\n",
    "            return False\n",
    "        if self.a_match_in_set(newPointer):\n",
    "            return False\n",
    "        \n",
    "        ## Add to MergeSetCase\n",
    "        self.newPointers.append(newPointer)\n",
    "                                                    \n",
    "    @staticmethod\n",
    "    def is_an_email(pointerWord):\n",
    "        if '@' in pointerWord:\n",
    "            return True\n",
    "        return False\n",
    "    \n",
    "    @staticmethod                                                   \n",
    "    def is_nothing(pointerWord):\n",
    "        letters = 'abcdefghijklmnopqrstuvwxyzABCDEFGHIJKLMNOPQRSTUVWXYZ'       \n",
    "        for char in pointerWord:\n",
    "            if char in letters:\n",
    "                return False\n",
    "        return True \n",
    "    \n",
    "    @staticmethod\n",
    "    def has_a_failed_route(pointer):\n",
    "        if not pointer.tom:\n",
    "            return True\n",
    "        if not pointer.nathan:\n",
    "            return True\n",
    "        return False\n",
    "    \n",
    "    def a_match_in_set(self, pointer):\n",
    "        for np in self.newPointers:\n",
    "            if pointer.nathan is np.nathan:\n",
    "                return True\n",
    "            if pointer.tom is np.tom:\n",
    "                return True\n",
    "        return False\n",
    "    \n",
    "    def a_match_to_verified_pointers(self, pointer):\n",
    "        for vp in self.verifiedPointers:\n",
    "            if pointer.nathan is vp.nathan:\n",
    "                return True\n",
    "            if pointer.tom is vp.tom:\n",
    "                return True\n",
    "        return False\n",
    "        "
   ]
  },
  {
   "cell_type": "code",
   "execution_count": 837,
   "metadata": {
    "collapsed": true
   },
   "outputs": [],
   "source": [
    "class NewPointer(object):\n",
    "    def __init__(self, start, nathanTest, tomTest):\n",
    "        self.nathanRoute = nathanTest\n",
    "        self.tomRoute = tomTest\n",
    "        self.start = start\n",
    "        \n",
    "        ## Execute Test\n",
    "        self.nathan = self.test_nathan()\n",
    "        self.tom = self.test_tom()\n",
    "        \n",
    "        self.output = ContactSheetOutput('New Pointer For: %s start' % str(start))\n",
    "        \n",
    "    def test_nathan(self):\n",
    "        try:\n",
    "            result = self.nathanRoute(self.start)\n",
    "            if type(result) is not NavigableString:\n",
    "                result = None\n",
    "        except:\n",
    "            result = None\n",
    "            \n",
    "        return result\n",
    "    \n",
    "    def test_tom(self):\n",
    "        try:\n",
    "            result = self.tomRoute(self.start)\n",
    "            if type(result) is not NavigableString:\n",
    "                result = None\n",
    "        except:\n",
    "            result = None\n",
    "            \n",
    "        return result\n",
    "    \n",
    "    def get_tom(self):\n",
    "        return self.tom\n",
    "    \n",
    "    def get_nathan(self):\n",
    "        return self.nathan"
   ]
  },
  {
   "cell_type": "code",
   "execution_count": 838,
   "metadata": {},
   "outputs": [],
   "source": [
    "class StartBlock(object):\n",
    "    def __init__(self, gm, pointer):\n",
    "        self.vp = pointer\n",
    "        self.gm = gm\n",
    "        \n",
    "        self.nathanNameStarts = gm.find_all(pointer.nathan.parent.name)\n",
    "        self.noNathanNameStarts = len(self.nathanNameStarts)\n",
    "        self.tomNameStarts = gm.find_all(pointer.tom.parent.name)\n",
    "        self.noTomNameStarts = len(self.tomNameStarts)\n",
    "        self.motherNameStarts = gm.find_all(pointer.get_mother_element().name)\n",
    "        self.noMotherNameStarts = len(self.motherNameStarts)\n",
    "        \n",
    "        self.noNathanClasses = self.get_no_nathan_classes()\n",
    "        self.noTomClasses = self.get_no_tom_classes()\n",
    "        self.noMotherClasses = self.get_no_mother_classes()\n",
    "        \n",
    "    def get_no_nathan_classes(self):\n",
    "        if 'class' in self.vp.nathan.parent.attrs:\n",
    "            return len(self.vp.nathan.parent['class'])\n",
    "        else:\n",
    "            return 0\n",
    "    \n",
    "    def get_no_tom_classes(self):\n",
    "        if 'class' in self.vp.tom.parent.attrs:\n",
    "            return len(self.vp.tom.parent['class'])\n",
    "        else:\n",
    "            return 0        \n",
    "    \n",
    "    def get_no_mother_classes(self):\n",
    "        if 'class' in self.vp.get_mother_element().attrs:\n",
    "            return len(self.vp.get_mother_element()['class'])\n",
    "        else:\n",
    "            return 0\n",
    "        \n",
    "    def get_nathan_class_starts(self):\n",
    "        return self.gm.find_all(class_=self.vp.nathan.parent['class'])\n",
    "    \n",
    "    def get_tom_class_starts(self):\n",
    "        return self.gm.find_all(class_=self.vp.tom.parent['class'])\n",
    "    \n",
    "    def get_mother_class_starts(self):\n",
    "        return self.gm.find_all(class_=self.vp.get_mother_element()['class'])\n",
    "    \n",
    "    def get_optimal_starts(self):\n",
    "        maxNoClasses = max([self.noNathanClasses, self.noTomClasses, self.noMotherClasses])\n",
    "        minNoNameStarts = min([self.noNathanNameStarts, self.noTomNameStarts, self.noMotherNameStarts])\n",
    "        \n",
    "        #dispatch\n",
    "        if maxNoClasses > 0: ## There are classes to choose better starts\n",
    "            if self.noMotherClasses == maxNoClasses:\n",
    "                return '__motherStarts__', self.get_mother_class_starts()\n",
    "            elif self.noNathanClasses == maxNoClasses:\n",
    "                return '__nathanStarts__', self.get_nathan_class_starts()\n",
    "            else:\n",
    "                return '__tomStarts__', self.get_tom_class_starts()\n",
    "        else:  ## There are no classes to test mus go by the minimun number of name matches\n",
    "            if self.noMotherNameStarts == minNoNameStarts:\n",
    "                return '__motherStarts__', self.motherNameStarts\n",
    "            elif self.noNathanNameStarts == minNoNameStarts:\n",
    "                return '__nathanStarts__', self.nathanNameStarts\n",
    "            else:\n",
    "                return '__tomStarts__', self.tomNameStarts       "
   ]
  },
  {
   "cell_type": "code",
   "execution_count": 839,
   "metadata": {
    "collapsed": true
   },
   "outputs": [],
   "source": [
    "class StartBlockNoMother(StartBlock):\n",
    "    def __init__(self, gm, pointer):\n",
    "        StartBlock.__init__(self, gm, pointer)\n",
    "    \n",
    "    def get_optimal_starts(self):\n",
    "        ## Unlike get_optimal_starts from the inheritted StartBlock this one does not return mother starts\n",
    "        maxNoClasses = max([self.noNathanClasses, self.noTomClasses])\n",
    "        minNoNameStarts = min([self.noNathanNameStarts, self.noTomNameStarts])\n",
    "        \n",
    "        #dispatch\n",
    "        if maxNoClasses > 0: ## There are classes to choose better starts\n",
    "            if self.noNathanClasses == maxNoClasses:\n",
    "                return '__nathanStarts__', self.get_nathan_class_starts()\n",
    "            else:\n",
    "                return '__tomStarts__', self.get_tom_class_starts()\n",
    "        else:  ## There are no classes to test mus go by the minimun number of name matches\n",
    "            if self.noNathanNameStarts == minNoNameStarts:\n",
    "                return '__nathanStarts__', self.nathanNameStarts\n",
    "            else:\n",
    "                return '__tomStarts__', self.tomNameStarts"
   ]
  },
  {
   "cell_type": "code",
   "execution_count": 840,
   "metadata": {},
   "outputs": [],
   "source": [
    "class Dorito(object):\n",
    "    def __init__(self, gm, pointers):\n",
    "        self.grandMotherElement = gm\n",
    "        self.verifiedPointers = pointers\n",
    "        self.scrapePointers = Dorito.filterPointers(pointers)\n",
    "        self.result = None\n",
    "        self.finalPointers = MergeSet(pointers)\n",
    "    \n",
    "    def extract(self):\n",
    "        ## This class will test the first One\n",
    "        try:\n",
    "            self.x = Extractor(self.grandMotherElement, self.scrapePointers[0])\n",
    "            self.result = self.x.get_result_set()\n",
    "        except IndexError:\n",
    "            print(\"No Scrapable Matches\")\n",
    "        \n",
    "    def merge_result(self):\n",
    "        if self.result:\n",
    "            self.finalPointers.merge_pointers(self.result)\n",
    "            if not str(self.finalPointers):\n",
    "                print(\"Nothing passed Merge\")\n",
    "        else:\n",
    "            print(\"Nothing to Merge\")    \n",
    "        self.report()\n",
    "            \n",
    "    def report(self):\n",
    "        print('Verified Pointers         \\t\\t\\t\\t\\t\\t%s' % len(self.verifiedPointers))\n",
    "        print('Scrape Pointers           \\t\\t\\t\\t\\t\\t%s' % len(self.scrapePointers))\n",
    "        print('Start Pointers            \\t\\t\\t\\t\\t\\t%s' % len(self.result.get_pointers()) if self.result else 0)\n",
    "        print('Start Type                \\t\\t\\t\\t%s' % self.x.startsType)\n",
    "        print('Merged (Filtered) Pointers\\t\\t\\t\\t\\t\\t%s' % len(self.finalPointers.get_pointers()))\n",
    "        print(self.finalPointers)\n",
    "    \n",
    "    @staticmethod\n",
    "    def filterPointers(vps):\n",
    "        return [pointer for pointer in vps if pointer.mary_here() and pointer.nathan_here]"
   ]
  },
  {
   "cell_type": "code",
   "execution_count": null,
   "metadata": {},
   "outputs": [],
   "source": [
    "org  = orgsForToday[2]\n",
    "\n",
    "vh = ContactScraperVerifier(org)"
   ]
  },
  {
   "cell_type": "code",
   "execution_count": 846,
   "metadata": {
    "collapsed": true
   },
   "outputs": [],
   "source": [
    "d = Dorito(vh.gm, vh.pointers)"
   ]
  },
  {
   "cell_type": "code",
   "execution_count": 825,
   "metadata": {},
   "outputs": [
    {
     "name": "stdout",
     "output_type": "stream",
     "text": [
      "Nothing passed Merge\n",
      "Verified Pointers         \t\t\t\t\t\t4\n",
      "Scrape Pointers           \t\t\t\t\t\t4\n",
      "Start Pointers            \t\t\t\t\t\t10\n",
      "Start Type                \t\t\t\t__tomStarts__\n",
      "Merged (Filtered) Pointers\t\t\t\t\t\t0\n",
      "\n"
     ]
    }
   ],
   "source": [
    "ds = Dorito(vh.pointers[0].get_mother_element().parent, vh.pointers)\n",
    "ds.extract()\n",
    "ds.merge_result()"
   ]
  },
  {
   "cell_type": "code",
   "execution_count": 847,
   "metadata": {},
   "outputs": [],
   "source": [
    "d.extract()"
   ]
  },
  {
   "cell_type": "code",
   "execution_count": 848,
   "metadata": {},
   "outputs": [
    {
     "name": "stdout",
     "output_type": "stream",
     "text": [
      "Verified Pointers         \t\t\t\t\t\t2\n",
      "Scrape Pointers           \t\t\t\t\t\t2\n",
      "Start Pointers            \t\t\t\t\t\t86\n",
      "Start Type                \t\t\t\t__nathanStarts__\n",
      "Merged (Filtered) Pointers\t\t\t\t\t\t81\n",
      "Rosemary Sheridan     as     Vice President - Communications & Marketing​\n",
      "Mantill Williams     as     Director - Advocacy Communications\n",
      "Chad Chitwood     as     Program Manager - Advocacy Communications\n",
      "Virginia Miller     as     Director - Media Relations\n",
      "Kathy Golden     as     Senior Director - Publications & Passenger Transport\n",
      "Vacant     as     Senior Managing Editor - Communications\n",
      "Susan Berlin     as     Senior Editor\n",
      "Bill Maroni     as     Senior Strategist, Executive Communications\n",
      "Mitch Wood     as     Graphic Designer\n",
      "Jack Gonzalez     as     Senior Director - Marketing & Sales\n",
      "Stephen Kendrick     as     Program Manager - Communications & Marketing\n",
      "Erin Cartwright     as     Communications & Marketing Coordinator\n",
      "Daniel Pineda     as     Video Production Specialist\n",
      "Vacant     as     Senior Program Manager - TCRP\n",
      "Peggy Wilson     as     TCRP Coordinator\n",
      "Petra Mollet      as     Vice President-Strategic & International Programs\n",
      "Kym Hill     as     Director - Executive Office & Corporate Secretary\n",
      "​Ann-Marie Glanville     as     Executive Assistant, Office of the President & CEO\n",
      "Cheryl Edwards     as     Executive Assistant\n",
      "Jetris Hamilton      as     Senior Director - Finance\n",
      "Dan Deng     as     Accounting Manager - AP and Grants\n",
      "Vacant     as     Staff Accountant - AP\n",
      "Joyce Gartrell      as     Staff Accountant - Payroll\n",
      "Jamar Rogers     as     Staff Accountant - AR\n",
      "Nigel Andrews     as     Senior Accounting Manager \n",
      "Karen W. Harvey     as     Senior Director - Human Resources & Administrative Services\n",
      "Sharon Royster     as     Human Resources Specialist\n",
      "Jasmine Byrd     as     Receptionist\n",
      "Greg Woodland     as     Lead Office Assistant\n",
      "Jeremy Rueter     as     Information Technology Director\n",
      "David Bruening     as     Senior Software Developer/Database Administrator\n",
      "Joe Wu     as     Senior Network Engineer\n",
      "Hai Tran     as     Information Technology Manager\n",
      "Lay Chou     as     Computer Support Specialist\n",
      "Robert L. Healy, Jr.     as     Vice President - Government Affairs\n",
      "Andrew Brady     as     Senior Director - Government Affairs\n",
      "Billy Terry     as     Senior Legislative Representative\n",
      "Mark Hybner     as     Senior Legislative Representative\n",
      "​Mara Stark-Alcalá     as     Legislative Representative\n",
      "Michael Fimmano     as     Legislative Analyst\n",
      "TaNeesha Johnson     as     Government Relations Coordinator\n",
      "Linda Ford     as     Chief Counsel\n",
      "Jose Reyes     as     Executive Assistant\n",
      "Randy Clarke      as     Vice President - Operation & Member Services\n",
      "Deborah Bongiorno     as     Assistant Vice President - Member Services\n",
      "​Lorraine Mitchell     as     ​Executive Assistant\n",
      "Lenay Gore      as     Senior Director - Meetings & Trade Show\n",
      "Christine L. Bolen     as     Program Manager - Conference Programs\n",
      "Cheryl Pyatt     as     Senior Program Manager - Conference Programming\n",
      "Heather Rachels     as     Meeting Manager\n",
      "Anitha Atkins     as     Meeting Manager\n",
      "Kwakuita Spence     as     Registration Coordinator\n",
      "Marcus Eng     as     Meeting Manager\n",
      "Helene Brett      as     Senior Director - Membership \n",
      "Michael Hemsley      as     Senior Membership Manager\n",
      "Vacant     as     Member Services Coordinator\n",
      "Lou Sanders      as     Senior Director - Engineering Services \n",
      "Jeff Hiott      as     Director - Operations & Standards\n",
      "Charles Joseph     as     Director - Rail Programs\n",
      "Saahir Brewington     as     Senior Program Manager - Conference Programming\n",
      "Nathan Leventon     as     Program Manager - Technical Services\n",
      "Eugene Reed     as     Program Manager - Standards Support\n",
      "DeeNaye Casey Williams     as     Technical Services Coordinator\n",
      "Narayana Sundaram     as     Director -  Engineering & Commuter Rail\n",
      "Brian Alberts     as     Director - Safety\n",
      "Sherry Brown     as     Safety & Security Coordinator\n",
      "Beverly Hill     as     Senior Program Manager - Member Services \n",
      "Adam Martin     as     Senior Program Manager - Business Members\n",
      "Kavya Pupalla     as     Business Data Analyst\n",
      "Arthur Guzzetti      as     Vice President - Policy \n",
      "Cynthia Bush Owens     as     Executive Assistant\n",
      "Darnell Grisby     as     Director - Policy Development & Research\n",
      "Matthew Dickens     as     Senior Policy Analyst\n",
      "Richard Weaver      as     Director - Planning, Policy & Sustainability\n",
      "MacPherson Hughes-Comwick     as     Policy Analyst\n",
      "Elizabeth Lovinggood     as     Program Manager - Sustainability & Planning\n",
      "Pamela L. Boswell     as     Vice President - Workforce Development & Educational Services\n",
      "Brandon Roccio     as     Program Manager - Educational Services\n",
      "Joseph Niegoski     as     Senior Director - Educational Services\n",
      "Lindsey Robertson     as     Senior Program Manager\n",
      "Jasmine Richmond     as     Administrative Assistant\n",
      "\n"
     ]
    }
   ],
   "source": [
    "d.merge_result()"
   ]
  },
  {
   "cell_type": "code",
   "execution_count": 695,
   "metadata": {},
   "outputs": [
    {
     "data": {
      "text/plain": [
       "True"
      ]
     },
     "execution_count": 695,
     "metadata": {},
     "output_type": "execute_result"
    }
   ],
   "source": [
    "\"@\" in d.finalPointers.get_pointers()[3].nathan "
   ]
  },
  {
   "cell_type": "code",
   "execution_count": 731,
   "metadata": {},
   "outputs": [
    {
     "data": {
      "text/plain": [
       "81"
      ]
     },
     "execution_count": 731,
     "metadata": {},
     "output_type": "execute_result"
    }
   ],
   "source": [
    "len(d.finalPointers.get_pointers())"
   ]
  },
  {
   "cell_type": "code",
   "execution_count": null,
   "metadata": {
    "collapsed": true
   },
   "outputs": [],
   "source": []
  },
  {
   "cell_type": "code",
   "execution_count": 744,
   "metadata": {},
   "outputs": [
    {
     "name": "stdout",
     "output_type": "stream",
     "text": [
      "None     as                  President/CEO \n",
      "None     as                  Development Manager\n",
      "None     as     None\n",
      "None     as                  Public Affairs Manager\n",
      "None     as                  ACBIS Assistant\n",
      "None     as                  Marketing and Communications Coordinator \n",
      "None     as                  BIAA - Maine Program Coordinator\n",
      "None     as                  Sales Manager\n",
      "None     as                  Executive Vice President/COO \n",
      "None     as                  BIAA-Maine Executive Director\n",
      "\n"
     ]
    }
   ],
   "source": [
    "print(d.result)"
   ]
  },
  {
   "cell_type": "code",
   "execution_count": null,
   "metadata": {
    "collapsed": true
   },
   "outputs": [],
   "source": []
  },
  {
   "cell_type": "code",
   "execution_count": null,
   "metadata": {
    "collapsed": true
   },
   "outputs": [],
   "source": []
  },
  {
   "cell_type": "code",
   "execution_count": null,
   "metadata": {
    "collapsed": true
   },
   "outputs": [],
   "source": []
  },
  {
   "cell_type": "code",
   "execution_count": null,
   "metadata": {
    "collapsed": true
   },
   "outputs": [],
   "source": []
  },
  {
   "cell_type": "code",
   "execution_count": 811,
   "metadata": {
    "collapsed": true
   },
   "outputs": [],
   "source": [
    "st = d.x.starts"
   ]
  },
  {
   "cell_type": "code",
   "execution_count": 812,
   "metadata": {},
   "outputs": [
    {
     "data": {
      "text/plain": [
       "10"
      ]
     },
     "execution_count": 812,
     "metadata": {},
     "output_type": "execute_result"
    }
   ],
   "source": [
    "len(st)"
   ]
  },
  {
   "cell_type": "code",
   "execution_count": 813,
   "metadata": {},
   "outputs": [
    {
     "data": {
      "text/plain": [
       "[<p><a href=\"mailto:sconnors@biausa.org\">Susan Connors </a><br/>             President/CEO <br/>             703-761-0750 <br/> <br/> <a href=\"mailto:mabashian@biausa.org\">Marianna Abashian</a><br/>             Director of Professional Services <br/>             703-761-0750 x636 <br/> <br/> <a href=\"mailto:gayotte@biausa.org\">Gregory Ayotte</a><br/>             Director of Consumer Services <br/>             703-761-0750 x642 <br/> <br/> <a href=\"mailto:acolberg@biausa.org\">Amy C. Colberg</a><br/>             Director of Government Affairs <br/>             703-761-0750 x637</p>,\n",
       " <p><a href=\"mailto:scohen@biausa.org?subject=Website inquiry\">Stephanie Cohen</a><br/>             Development Manager<br/>             703-761-0750 x645 </p>,\n",
       " <p> </p>,\n",
       " <p><a href=\"mailto:wdane@biausa.org?subject=inquiry from Contact Us Page BIAA website\">William M. Dane</a><br/>             Public Affairs Manager<br/>             703-761-0750 x644<br/>             512-987-0101</p>,\n",
       " <p><a href=\"mailto:acbisassistant@biausa.org?subject=Inquiry from Contact Us Page BIAA website\">Tiffany Epley</a><br/>             ACBIS Assistant<br/>             703-761-0750 x632</p>,\n",
       " <p><a href=\"mailto:dfahel@biausa.org?subject=Website Inquiry\">Dianna Fahel</a><br/>             Marketing and Communications Coordinator <br/>             703-761-0750 x630</p>,\n",
       " <p><a href=\"mailto:sgaffney@biausa.org\">Sarah Gaffney</a><br/>             BIAA - Maine Program Coordinator<br/>             207-522-6601 </p>,\n",
       " <p><a href=\"mailto:cmosher@biausa.org\">Carrie Mosher</a><br/>             Sales Manager<br/>             703-761-0750 x640 </p>,\n",
       " <p><a href=\"mailto:mreitter@biausa.org\">Mary S. Reitter, CAE</a><br/>             Executive Vice President/COO <br/>             703-761-0750 x623</p>,\n",
       " <p><a href=\"mailto:swade@biausa.org\">Steve Wade</a><br/>             BIAA-Maine Executive Director<br/>             603-225-8400 </p>]"
      ]
     },
     "execution_count": 813,
     "metadata": {},
     "output_type": "execute_result"
    }
   ],
   "source": [
    "st"
   ]
  },
  {
   "cell_type": "code",
   "execution_count": null,
   "metadata": {
    "collapsed": true
   },
   "outputs": [],
   "source": []
  },
  {
   "cell_type": "code",
   "execution_count": null,
   "metadata": {
    "collapsed": true
   },
   "outputs": [],
   "source": []
  },
  {
   "cell_type": "code",
   "execution_count": null,
   "metadata": {
    "collapsed": true
   },
   "outputs": [],
   "source": []
  },
  {
   "cell_type": "code",
   "execution_count": null,
   "metadata": {
    "collapsed": true
   },
   "outputs": [],
   "source": []
  },
  {
   "cell_type": "code",
   "execution_count": 554,
   "metadata": {},
   "outputs": [],
   "source": [
    "scrapePointers = Dorito.filterPointers(vh.pointers)"
   ]
  },
  {
   "cell_type": "code",
   "execution_count": 567,
   "metadata": {},
   "outputs": [],
   "source": [
    "x = ExtractorNoMother(vh.gm, scrapePointers[0])"
   ]
  },
  {
   "cell_type": "code",
   "execution_count": 564,
   "metadata": {},
   "outputs": [],
   "source": [
    "## No Grand Mother Single Pointer Version\n",
    "y = ExtractorNoMother(vh.pointers[0].get_mother_element().parent, vh.pointers[0])"
   ]
  },
  {
   "cell_type": "code",
   "execution_count": 565,
   "metadata": {},
   "outputs": [
    {
     "name": "stdout",
     "output_type": "stream",
     "text": [
      "None     as                  President/CEO \n",
      "None     as                  Development Manager\n",
      "None     as     None\n",
      "None     as                  Public Affairs Manager\n",
      "None     as                  ACBIS Assistant\n",
      "None     as                  Marketing and Communications Coordinator \n",
      "None     as                  BIAA - Maine Program Coordinator\n",
      "None     as                  Sales Manager\n",
      "None     as                  Executive Vice President/COO \n",
      "None     as                  BIAA-Maine Executive Director\n",
      "\n"
     ]
    }
   ],
   "source": [
    "y.quick_report()"
   ]
  },
  {
   "cell_type": "code",
   "execution_count": 477,
   "metadata": {},
   "outputs": [
    {
     "name": "stdout",
     "output_type": "stream",
     "text": [
      "Russ Klein​​     as     Chief Executive Officer - \n",
      "Andy Friedman​     as     Chief Content Officer - \n",
      "Barbara Grobicki​​     as     Chief Alliance Officer - \n",
      "Jennifer Severns​​     as     Chief Experience Officer - \n",
      "Jeremy Van Ek​​     as     Chief Operations Officer - \n",
      "Michael Pemberton​     as     Accounting - \n",
      "None     as     None\n",
      "Adara Bowen     as     None\n",
      "None     as     None\n",
      "None     as     None\n",
      "Matt Weingarden​     as      \n",
      "info@ama.org​     as     For membership inquiries, please email us at \n",
      "\n"
     ]
    }
   ],
   "source": [
    "print(x.resultSet)"
   ]
  },
  {
   "cell_type": "code",
   "execution_count": 456,
   "metadata": {},
   "outputs": [
    {
     "data": {
      "text/plain": [
       "True"
      ]
     },
     "execution_count": 456,
     "metadata": {},
     "output_type": "execute_result"
    }
   ],
   "source": [
    "vh.pointers[0].nathan_here()"
   ]
  },
  {
   "cell_type": "code",
   "execution_count": 457,
   "metadata": {},
   "outputs": [
    {
     "ename": "AttributeError",
     "evalue": "'ExtractorNoMother' object has no attribute 'newPointers'",
     "output_type": "error",
     "traceback": [
      "\u001b[1;31m---------------------------------------------------------------------------\u001b[0m",
      "\u001b[1;31mAttributeError\u001b[0m                            Traceback (most recent call last)",
      "\u001b[1;32m<ipython-input-457-d1339202e304>\u001b[0m in \u001b[0;36m<module>\u001b[1;34m()\u001b[0m\n\u001b[1;32m----> 1\u001b[1;33m \u001b[0mlen\u001b[0m\u001b[1;33m(\u001b[0m\u001b[0mx\u001b[0m\u001b[1;33m.\u001b[0m\u001b[0mnewPointers\u001b[0m\u001b[1;33m)\u001b[0m\u001b[1;33m\u001b[0m\u001b[0m\n\u001b[0m",
      "\u001b[1;31mAttributeError\u001b[0m: 'ExtractorNoMother' object has no attribute 'newPointers'"
     ]
    }
   ],
   "source": [
    "len(x.newPointers)"
   ]
  },
  {
   "cell_type": "code",
   "execution_count": 414,
   "metadata": {
    "collapsed": true
   },
   "outputs": [],
   "source": [
    "vh.write_contact_pointers()"
   ]
  },
  {
   "cell_type": "code",
   "execution_count": 561,
   "metadata": {},
   "outputs": [
    {
     "data": {
      "text/plain": [
       "4"
      ]
     },
     "execution_count": 561,
     "metadata": {},
     "output_type": "execute_result"
    }
   ],
   "source": [
    "len(vh.pointers)"
   ]
  },
  {
   "cell_type": "code",
   "execution_count": 570,
   "metadata": {},
   "outputs": [
    {
     "data": {
      "text/plain": [
       "<p><a href=\"mailto:mreitter@biausa.org\">Mary S. Reitter, CAE</a><br/>             Executive Vice President/COO <br/>             703-761-0750 x623</p>"
      ]
     },
     "execution_count": 570,
     "metadata": {},
     "output_type": "execute_result"
    }
   ],
   "source": [
    "vh.pointers[1].get_mother_element()"
   ]
  },
  {
   "cell_type": "code",
   "execution_count": 563,
   "metadata": {},
   "outputs": [
    {
     "data": {
      "text/plain": [
       "1"
      ]
     },
     "execution_count": 563,
     "metadata": {},
     "output_type": "execute_result"
    }
   ],
   "source": [
    "vh.noGm"
   ]
  },
  {
   "cell_type": "code",
   "execution_count": null,
   "metadata": {
    "collapsed": true
   },
   "outputs": [],
   "source": []
  },
  {
   "cell_type": "code",
   "execution_count": null,
   "metadata": {
    "collapsed": true
   },
   "outputs": [],
   "source": []
  },
  {
   "cell_type": "code",
   "execution_count": null,
   "metadata": {
    "collapsed": true
   },
   "outputs": [],
   "source": []
  },
  {
   "cell_type": "code",
   "execution_count": null,
   "metadata": {
    "collapsed": true
   },
   "outputs": [],
   "source": []
  },
  {
   "cell_type": "code",
   "execution_count": 581,
   "metadata": {},
   "outputs": [
    {
     "data": {
      "text/plain": [
       "'             President/CEO '"
      ]
     },
     "execution_count": 581,
     "metadata": {},
     "output_type": "execute_result"
    }
   ],
   "source": [
    "vh.pointers[0].tom"
   ]
  },
  {
   "cell_type": "code",
   "execution_count": 582,
   "metadata": {},
   "outputs": [
    {
     "data": {
      "text/plain": [
       "'Susan Connors '"
      ]
     },
     "execution_count": 582,
     "metadata": {},
     "output_type": "execute_result"
    }
   ],
   "source": [
    "vh.pointers[0].nathan"
   ]
  },
  {
   "cell_type": "code",
   "execution_count": 583,
   "metadata": {},
   "outputs": [
    {
     "data": {
      "text/plain": [
       "False"
      ]
     },
     "execution_count": 583,
     "metadata": {},
     "output_type": "execute_result"
    }
   ],
   "source": [
    "vh.pointers[0].get_mother_element() is vh.gm"
   ]
  },
  {
   "cell_type": "code",
   "execution_count": 584,
   "metadata": {},
   "outputs": [
    {
     "data": {
      "text/plain": [
       "True"
      ]
     },
     "execution_count": 584,
     "metadata": {},
     "output_type": "execute_result"
    }
   ],
   "source": [
    "vh.distinct_gm"
   ]
  },
  {
   "cell_type": "code",
   "execution_count": 585,
   "metadata": {},
   "outputs": [],
   "source": [
    "sb = StartBlockNoMother(vh.gm, vh.pointers[0])"
   ]
  },
  {
   "cell_type": "code",
   "execution_count": 588,
   "metadata": {},
   "outputs": [
    {
     "data": {
      "text/plain": [
       "14"
      ]
     },
     "execution_count": 588,
     "metadata": {},
     "output_type": "execute_result"
    }
   ],
   "source": [
    "sb.noNameStarts"
   ]
  },
  {
   "cell_type": "code",
   "execution_count": 577,
   "metadata": {},
   "outputs": [
    {
     "data": {
      "text/plain": [
       "('__tomStarts__',\n",
       " [<p><a href=\"mailto:sconnors@biausa.org\">Susan Connors </a><br/>             President/CEO <br/>             703-761-0750 <br/> <br/> <a href=\"mailto:mabashian@biausa.org\">Marianna Abashian</a><br/>             Director of Professional Services <br/>             703-761-0750 x636 <br/> <br/> <a href=\"mailto:gayotte@biausa.org\">Gregory Ayotte</a><br/>             Director of Consumer Services <br/>             703-761-0750 x642 <br/> <br/> <a href=\"mailto:acolberg@biausa.org\">Amy C. Colberg</a><br/>             Director of Government Affairs <br/>             703-761-0750 x637</p>,\n",
       "  <p><a href=\"mailto:scohen@biausa.org?subject=Website inquiry\">Stephanie Cohen</a><br/>             Development Manager<br/>             703-761-0750 x645 </p>,\n",
       "  <p> </p>,\n",
       "  <p><a href=\"mailto:wdane@biausa.org?subject=inquiry from Contact Us Page BIAA website\">William M. Dane</a><br/>             Public Affairs Manager<br/>             703-761-0750 x644<br/>             512-987-0101</p>,\n",
       "  <p><a href=\"mailto:acbisassistant@biausa.org?subject=Inquiry from Contact Us Page BIAA website\">Tiffany Epley</a><br/>             ACBIS Assistant<br/>             703-761-0750 x632</p>,\n",
       "  <p><a href=\"mailto:dfahel@biausa.org?subject=Website Inquiry\">Dianna Fahel</a><br/>             Marketing and Communications Coordinator <br/>             703-761-0750 x630</p>,\n",
       "  <p><a href=\"mailto:sgaffney@biausa.org\">Sarah Gaffney</a><br/>             BIAA - Maine Program Coordinator<br/>             207-522-6601 </p>,\n",
       "  <p><a href=\"mailto:cmosher@biausa.org\">Carrie Mosher</a><br/>             Sales Manager<br/>             703-761-0750 x640 </p>,\n",
       "  <p><a href=\"mailto:mreitter@biausa.org\">Mary S. Reitter, CAE</a><br/>             Executive Vice President/COO <br/>             703-761-0750 x623</p>,\n",
       "  <p><a href=\"mailto:swade@biausa.org\">Steve Wade</a><br/>             BIAA-Maine Executive Director<br/>             603-225-8400 </p>])"
      ]
     },
     "execution_count": 577,
     "metadata": {},
     "output_type": "execute_result"
    }
   ],
   "source": [
    "sb.get_optimal_starts()"
   ]
  },
  {
   "cell_type": "code",
   "execution_count": 576,
   "metadata": {},
   "outputs": [],
   "source": [
    "a2 = sb.get_optimal_starts()[1]"
   ]
  },
  {
   "cell_type": "code",
   "execution_count": 602,
   "metadata": {},
   "outputs": [
    {
     "data": {
      "text/plain": [
       "'             Executive Vice President/COO '"
      ]
     },
     "execution_count": 602,
     "metadata": {},
     "output_type": "execute_result"
    }
   ],
   "source": [
    "vh.pointers[1].tom"
   ]
  },
  {
   "cell_type": "code",
   "execution_count": null,
   "metadata": {
    "collapsed": true
   },
   "outputs": [],
   "source": []
  },
  {
   "cell_type": "code",
   "execution_count": 601,
   "metadata": {},
   "outputs": [
    {
     "data": {
      "text/plain": [
       "[<p tom=\"0\"><a href=\"mailto:sconnors@biausa.org\" nathan=\"0\">Susan Connors </a><br/>             President/CEO <br/>             703-761-0750 <br/> <br/> <a href=\"mailto:mabashian@biausa.org\">Marianna Abashian</a><br/>             Director of Professional Services <br/>             703-761-0750 x636 <br/> <br/> <a href=\"mailto:gayotte@biausa.org\">Gregory Ayotte</a><br/>             Director of Consumer Services <br/>             703-761-0750 x642 <br/> <br/> <a href=\"mailto:acolberg@biausa.org\">Amy C. Colberg</a><br/>             Director of Government Affairs <br/>             703-761-0750 x637</p>,\n",
       " <p><a href=\"mailto:scohen@biausa.org?subject=Website inquiry\">Stephanie Cohen</a><br/>             Development Manager<br/>             703-761-0750 x645 </p>,\n",
       " <p> </p>,\n",
       " <p><a href=\"mailto:wdane@biausa.org?subject=inquiry from Contact Us Page BIAA website\">William M. Dane</a><br/>             Public Affairs Manager<br/>             703-761-0750 x644<br/>             512-987-0101</p>,\n",
       " <p><a href=\"mailto:acbisassistant@biausa.org?subject=Inquiry from Contact Us Page BIAA website\">Tiffany Epley</a><br/>             ACBIS Assistant<br/>             703-761-0750 x632</p>,\n",
       " <p><a href=\"mailto:dfahel@biausa.org?subject=Website Inquiry\">Dianna Fahel</a><br/>             Marketing and Communications Coordinator <br/>             703-761-0750 x630</p>,\n",
       " <p><a href=\"mailto:sgaffney@biausa.org\">Sarah Gaffney</a><br/>             BIAA - Maine Program Coordinator<br/>             207-522-6601 </p>,\n",
       " <p><a href=\"mailto:cmosher@biausa.org\">Carrie Mosher</a><br/>             Sales Manager<br/>             703-761-0750 x640 </p>,\n",
       " <p><a href=\"mailto:mreitter@biausa.org\">Mary S. Reitter, CAE</a><br/>             Executive Vice President/COO <br/>             703-761-0750 x623</p>,\n",
       " <p><a href=\"mailto:swade@biausa.org\">Steve Wade</a><br/>             BIAA-Maine Executive Director<br/>             603-225-8400 </p>]"
      ]
     },
     "execution_count": 601,
     "metadata": {},
     "output_type": "execute_result"
    }
   ],
   "source": [
    "a2"
   ]
  },
  {
   "cell_type": "code",
   "execution_count": 236,
   "metadata": {},
   "outputs": [
    {
     "data": {
      "text/plain": [
       "[<h2 class=\"h2_addpading\"> President </h2>,\n",
       " <h2 class=\"h2_addpading\"> Vice President </h2>,\n",
       " <h2 class=\"h2_addpading\"> Secretary </h2>,\n",
       " <h2 class=\"h2_addpading\"> Treasurer </h2>]"
      ]
     },
     "execution_count": 236,
     "metadata": {},
     "output_type": "execute_result"
    }
   ],
   "source": [
    "sb.get_tom_class_starts()"
   ]
  },
  {
   "cell_type": "code",
   "execution_count": 271,
   "metadata": {
    "collapsed": true
   },
   "outputs": [],
   "source": [
    "a = sb.get_nathan_class_starts()"
   ]
  },
  {
   "cell_type": "code",
   "execution_count": 598,
   "metadata": {
    "collapsed": true
   },
   "outputs": [],
   "source": [
    "testEx = Extender(vh.gm, vh.pointers[0])"
   ]
  },
  {
   "cell_type": "code",
   "execution_count": 599,
   "metadata": {},
   "outputs": [
    {
     "data": {
      "text/plain": [
       "'             ACBIS Assistant'"
      ]
     },
     "execution_count": 599,
     "metadata": {},
     "output_type": "execute_result"
    }
   ],
   "source": [
    "n = 4\n",
    "testEx.tom_shuttle(a2[n])"
   ]
  },
  {
   "cell_type": "code",
   "execution_count": 600,
   "metadata": {},
   "outputs": [
    {
     "ename": "AttributeError",
     "evalue": "'NoneType' object has no attribute 'previous_siblings'",
     "output_type": "error",
     "traceback": [
      "\u001b[1;31m---------------------------------------------------------------------------\u001b[0m",
      "\u001b[1;31mAttributeError\u001b[0m                            Traceback (most recent call last)",
      "\u001b[1;32m<ipython-input-600-50258d048aa5>\u001b[0m in \u001b[0;36m<module>\u001b[1;34m()\u001b[0m\n\u001b[1;32m----> 1\u001b[1;33m \u001b[0mtestEx\u001b[0m\u001b[1;33m.\u001b[0m\u001b[0mnathan_rocket\u001b[0m\u001b[1;33m(\u001b[0m\u001b[0ma2\u001b[0m\u001b[1;33m[\u001b[0m\u001b[0mn\u001b[0m\u001b[1;33m]\u001b[0m\u001b[1;33m)\u001b[0m\u001b[1;33m\u001b[0m\u001b[0m\n\u001b[0m",
      "\u001b[1;32m<ipython-input-304-988f27ceb49d>\u001b[0m in \u001b[0;36m<lambda>\u001b[1;34m(start)\u001b[0m\n\u001b[0;32m    133\u001b[0m         \u001b[1;31m## Compute the route from tom startnode to nathan by starting at nathan and recursing up, accross and then down\u001b[0m\u001b[1;33m\u001b[0m\u001b[1;33m\u001b[0m\u001b[0m\n\u001b[0;32m    134\u001b[0m         \u001b[1;31m## looing for tom = 0 attibute\u001b[0m\u001b[1;33m\u001b[0m\u001b[1;33m\u001b[0m\u001b[0m\n\u001b[1;32m--> 135\u001b[1;33m         \u001b[1;32mreturn\u001b[0m \u001b[1;32mlambda\u001b[0m \u001b[0mstart\u001b[0m\u001b[1;33m:\u001b[0m \u001b[0mExtender\u001b[0m\u001b[1;33m.\u001b[0m\u001b[0mcycle_up\u001b[0m\u001b[1;33m(\u001b[0m\u001b[0mself\u001b[0m\u001b[1;33m.\u001b[0m\u001b[0mvp\u001b[0m\u001b[1;33m.\u001b[0m\u001b[0mnathan\u001b[0m\u001b[1;33m,\u001b[0m \u001b[1;34m'tom'\u001b[0m\u001b[1;33m,\u001b[0m \u001b[0mstart\u001b[0m\u001b[1;33m)\u001b[0m\u001b[1;33m\u001b[0m\u001b[0m\n\u001b[0m\u001b[0;32m    136\u001b[0m \u001b[1;33m\u001b[0m\u001b[0m\n\u001b[0;32m    137\u001b[0m     \u001b[1;33m@\u001b[0m\u001b[0mstaticmethod\u001b[0m\u001b[1;33m\u001b[0m\u001b[0m\n",
      "\u001b[1;32m<ipython-input-304-988f27ceb49d>\u001b[0m in \u001b[0;36mcycle_up\u001b[1;34m(elm, to, start)\u001b[0m\n\u001b[0;32m    148\u001b[0m         \u001b[1;31m## if nothing here go up\u001b[0m\u001b[1;33m\u001b[0m\u001b[1;33m\u001b[0m\u001b[0m\n\u001b[0;32m    149\u001b[0m         \u001b[1;32melse\u001b[0m\u001b[1;33m:\u001b[0m\u001b[1;33m\u001b[0m\u001b[0m\n\u001b[1;32m--> 150\u001b[1;33m             \u001b[1;32mreturn\u001b[0m \u001b[0mExtender\u001b[0m\u001b[1;33m.\u001b[0m\u001b[0mcycle_up\u001b[0m\u001b[1;33m(\u001b[0m\u001b[0melm\u001b[0m\u001b[1;33m.\u001b[0m\u001b[0mparent\u001b[0m\u001b[1;33m,\u001b[0m \u001b[0mto\u001b[0m\u001b[1;33m,\u001b[0m \u001b[0mstart\u001b[0m\u001b[1;33m)\u001b[0m\u001b[1;33m.\u001b[0m\u001b[0mcontents\u001b[0m\u001b[1;33m[\u001b[0m\u001b[0mExtender\u001b[0m\u001b[1;33m.\u001b[0m\u001b[0mcontents_position\u001b[0m\u001b[1;33m(\u001b[0m\u001b[0melm\u001b[0m\u001b[1;33m)\u001b[0m\u001b[1;33m]\u001b[0m\u001b[1;33m\u001b[0m\u001b[0m\n\u001b[0m\u001b[0;32m    151\u001b[0m \u001b[1;33m\u001b[0m\u001b[0m\n\u001b[0;32m    152\u001b[0m     \u001b[1;33m@\u001b[0m\u001b[0mstaticmethod\u001b[0m\u001b[1;33m\u001b[0m\u001b[0m\n",
      "\u001b[1;32m<ipython-input-304-988f27ceb49d>\u001b[0m in \u001b[0;36mcycle_up\u001b[1;34m(elm, to, start)\u001b[0m\n\u001b[0;32m    148\u001b[0m         \u001b[1;31m## if nothing here go up\u001b[0m\u001b[1;33m\u001b[0m\u001b[1;33m\u001b[0m\u001b[0m\n\u001b[0;32m    149\u001b[0m         \u001b[1;32melse\u001b[0m\u001b[1;33m:\u001b[0m\u001b[1;33m\u001b[0m\u001b[0m\n\u001b[1;32m--> 150\u001b[1;33m             \u001b[1;32mreturn\u001b[0m \u001b[0mExtender\u001b[0m\u001b[1;33m.\u001b[0m\u001b[0mcycle_up\u001b[0m\u001b[1;33m(\u001b[0m\u001b[0melm\u001b[0m\u001b[1;33m.\u001b[0m\u001b[0mparent\u001b[0m\u001b[1;33m,\u001b[0m \u001b[0mto\u001b[0m\u001b[1;33m,\u001b[0m \u001b[0mstart\u001b[0m\u001b[1;33m)\u001b[0m\u001b[1;33m.\u001b[0m\u001b[0mcontents\u001b[0m\u001b[1;33m[\u001b[0m\u001b[0mExtender\u001b[0m\u001b[1;33m.\u001b[0m\u001b[0mcontents_position\u001b[0m\u001b[1;33m(\u001b[0m\u001b[0melm\u001b[0m\u001b[1;33m)\u001b[0m\u001b[1;33m]\u001b[0m\u001b[1;33m\u001b[0m\u001b[0m\n\u001b[0m\u001b[0;32m    151\u001b[0m \u001b[1;33m\u001b[0m\u001b[0m\n\u001b[0;32m    152\u001b[0m     \u001b[1;33m@\u001b[0m\u001b[0mstaticmethod\u001b[0m\u001b[1;33m\u001b[0m\u001b[0m\n",
      "\u001b[1;32m<ipython-input-304-988f27ceb49d>\u001b[0m in \u001b[0;36mcycle_up\u001b[1;34m(elm, to, start)\u001b[0m\n\u001b[0;32m    148\u001b[0m         \u001b[1;31m## if nothing here go up\u001b[0m\u001b[1;33m\u001b[0m\u001b[1;33m\u001b[0m\u001b[0m\n\u001b[0;32m    149\u001b[0m         \u001b[1;32melse\u001b[0m\u001b[1;33m:\u001b[0m\u001b[1;33m\u001b[0m\u001b[0m\n\u001b[1;32m--> 150\u001b[1;33m             \u001b[1;32mreturn\u001b[0m \u001b[0mExtender\u001b[0m\u001b[1;33m.\u001b[0m\u001b[0mcycle_up\u001b[0m\u001b[1;33m(\u001b[0m\u001b[0melm\u001b[0m\u001b[1;33m.\u001b[0m\u001b[0mparent\u001b[0m\u001b[1;33m,\u001b[0m \u001b[0mto\u001b[0m\u001b[1;33m,\u001b[0m \u001b[0mstart\u001b[0m\u001b[1;33m)\u001b[0m\u001b[1;33m.\u001b[0m\u001b[0mcontents\u001b[0m\u001b[1;33m[\u001b[0m\u001b[0mExtender\u001b[0m\u001b[1;33m.\u001b[0m\u001b[0mcontents_position\u001b[0m\u001b[1;33m(\u001b[0m\u001b[0melm\u001b[0m\u001b[1;33m)\u001b[0m\u001b[1;33m]\u001b[0m\u001b[1;33m\u001b[0m\u001b[0m\n\u001b[0m\u001b[0;32m    151\u001b[0m \u001b[1;33m\u001b[0m\u001b[0m\n\u001b[0;32m    152\u001b[0m     \u001b[1;33m@\u001b[0m\u001b[0mstaticmethod\u001b[0m\u001b[1;33m\u001b[0m\u001b[0m\n",
      "\u001b[1;32m<ipython-input-304-988f27ceb49d>\u001b[0m in \u001b[0;36mcycle_up\u001b[1;34m(elm, to, start)\u001b[0m\n\u001b[0;32m    148\u001b[0m         \u001b[1;31m## if nothing here go up\u001b[0m\u001b[1;33m\u001b[0m\u001b[1;33m\u001b[0m\u001b[0m\n\u001b[0;32m    149\u001b[0m         \u001b[1;32melse\u001b[0m\u001b[1;33m:\u001b[0m\u001b[1;33m\u001b[0m\u001b[0m\n\u001b[1;32m--> 150\u001b[1;33m             \u001b[1;32mreturn\u001b[0m \u001b[0mExtender\u001b[0m\u001b[1;33m.\u001b[0m\u001b[0mcycle_up\u001b[0m\u001b[1;33m(\u001b[0m\u001b[0melm\u001b[0m\u001b[1;33m.\u001b[0m\u001b[0mparent\u001b[0m\u001b[1;33m,\u001b[0m \u001b[0mto\u001b[0m\u001b[1;33m,\u001b[0m \u001b[0mstart\u001b[0m\u001b[1;33m)\u001b[0m\u001b[1;33m.\u001b[0m\u001b[0mcontents\u001b[0m\u001b[1;33m[\u001b[0m\u001b[0mExtender\u001b[0m\u001b[1;33m.\u001b[0m\u001b[0mcontents_position\u001b[0m\u001b[1;33m(\u001b[0m\u001b[0melm\u001b[0m\u001b[1;33m)\u001b[0m\u001b[1;33m]\u001b[0m\u001b[1;33m\u001b[0m\u001b[0m\n\u001b[0m\u001b[0;32m    151\u001b[0m \u001b[1;33m\u001b[0m\u001b[0m\n\u001b[0;32m    152\u001b[0m     \u001b[1;33m@\u001b[0m\u001b[0mstaticmethod\u001b[0m\u001b[1;33m\u001b[0m\u001b[0m\n",
      "\u001b[1;32m<ipython-input-304-988f27ceb49d>\u001b[0m in \u001b[0;36mcycle_up\u001b[1;34m(elm, to, start)\u001b[0m\n\u001b[0;32m    148\u001b[0m         \u001b[1;31m## if nothing here go up\u001b[0m\u001b[1;33m\u001b[0m\u001b[1;33m\u001b[0m\u001b[0m\n\u001b[0;32m    149\u001b[0m         \u001b[1;32melse\u001b[0m\u001b[1;33m:\u001b[0m\u001b[1;33m\u001b[0m\u001b[0m\n\u001b[1;32m--> 150\u001b[1;33m             \u001b[1;32mreturn\u001b[0m \u001b[0mExtender\u001b[0m\u001b[1;33m.\u001b[0m\u001b[0mcycle_up\u001b[0m\u001b[1;33m(\u001b[0m\u001b[0melm\u001b[0m\u001b[1;33m.\u001b[0m\u001b[0mparent\u001b[0m\u001b[1;33m,\u001b[0m \u001b[0mto\u001b[0m\u001b[1;33m,\u001b[0m \u001b[0mstart\u001b[0m\u001b[1;33m)\u001b[0m\u001b[1;33m.\u001b[0m\u001b[0mcontents\u001b[0m\u001b[1;33m[\u001b[0m\u001b[0mExtender\u001b[0m\u001b[1;33m.\u001b[0m\u001b[0mcontents_position\u001b[0m\u001b[1;33m(\u001b[0m\u001b[0melm\u001b[0m\u001b[1;33m)\u001b[0m\u001b[1;33m]\u001b[0m\u001b[1;33m\u001b[0m\u001b[0m\n\u001b[0m\u001b[0;32m    151\u001b[0m \u001b[1;33m\u001b[0m\u001b[0m\n\u001b[0;32m    152\u001b[0m     \u001b[1;33m@\u001b[0m\u001b[0mstaticmethod\u001b[0m\u001b[1;33m\u001b[0m\u001b[0m\n",
      "\u001b[1;32m<ipython-input-304-988f27ceb49d>\u001b[0m in \u001b[0;36mcycle_up\u001b[1;34m(elm, to, start)\u001b[0m\n\u001b[0;32m    148\u001b[0m         \u001b[1;31m## if nothing here go up\u001b[0m\u001b[1;33m\u001b[0m\u001b[1;33m\u001b[0m\u001b[0m\n\u001b[0;32m    149\u001b[0m         \u001b[1;32melse\u001b[0m\u001b[1;33m:\u001b[0m\u001b[1;33m\u001b[0m\u001b[0m\n\u001b[1;32m--> 150\u001b[1;33m             \u001b[1;32mreturn\u001b[0m \u001b[0mExtender\u001b[0m\u001b[1;33m.\u001b[0m\u001b[0mcycle_up\u001b[0m\u001b[1;33m(\u001b[0m\u001b[0melm\u001b[0m\u001b[1;33m.\u001b[0m\u001b[0mparent\u001b[0m\u001b[1;33m,\u001b[0m \u001b[0mto\u001b[0m\u001b[1;33m,\u001b[0m \u001b[0mstart\u001b[0m\u001b[1;33m)\u001b[0m\u001b[1;33m.\u001b[0m\u001b[0mcontents\u001b[0m\u001b[1;33m[\u001b[0m\u001b[0mExtender\u001b[0m\u001b[1;33m.\u001b[0m\u001b[0mcontents_position\u001b[0m\u001b[1;33m(\u001b[0m\u001b[0melm\u001b[0m\u001b[1;33m)\u001b[0m\u001b[1;33m]\u001b[0m\u001b[1;33m\u001b[0m\u001b[0m\n\u001b[0m\u001b[0;32m    151\u001b[0m \u001b[1;33m\u001b[0m\u001b[0m\n\u001b[0;32m    152\u001b[0m     \u001b[1;33m@\u001b[0m\u001b[0mstaticmethod\u001b[0m\u001b[1;33m\u001b[0m\u001b[0m\n",
      "\u001b[1;32m<ipython-input-304-988f27ceb49d>\u001b[0m in \u001b[0;36mcycle_up\u001b[1;34m(elm, to, start)\u001b[0m\n\u001b[0;32m    148\u001b[0m         \u001b[1;31m## if nothing here go up\u001b[0m\u001b[1;33m\u001b[0m\u001b[1;33m\u001b[0m\u001b[0m\n\u001b[0;32m    149\u001b[0m         \u001b[1;32melse\u001b[0m\u001b[1;33m:\u001b[0m\u001b[1;33m\u001b[0m\u001b[0m\n\u001b[1;32m--> 150\u001b[1;33m             \u001b[1;32mreturn\u001b[0m \u001b[0mExtender\u001b[0m\u001b[1;33m.\u001b[0m\u001b[0mcycle_up\u001b[0m\u001b[1;33m(\u001b[0m\u001b[0melm\u001b[0m\u001b[1;33m.\u001b[0m\u001b[0mparent\u001b[0m\u001b[1;33m,\u001b[0m \u001b[0mto\u001b[0m\u001b[1;33m,\u001b[0m \u001b[0mstart\u001b[0m\u001b[1;33m)\u001b[0m\u001b[1;33m.\u001b[0m\u001b[0mcontents\u001b[0m\u001b[1;33m[\u001b[0m\u001b[0mExtender\u001b[0m\u001b[1;33m.\u001b[0m\u001b[0mcontents_position\u001b[0m\u001b[1;33m(\u001b[0m\u001b[0melm\u001b[0m\u001b[1;33m)\u001b[0m\u001b[1;33m]\u001b[0m\u001b[1;33m\u001b[0m\u001b[0m\n\u001b[0m\u001b[0;32m    151\u001b[0m \u001b[1;33m\u001b[0m\u001b[0m\n\u001b[0;32m    152\u001b[0m     \u001b[1;33m@\u001b[0m\u001b[0mstaticmethod\u001b[0m\u001b[1;33m\u001b[0m\u001b[0m\n",
      "\u001b[1;32m<ipython-input-304-988f27ceb49d>\u001b[0m in \u001b[0;36mcycle_up\u001b[1;34m(elm, to, start)\u001b[0m\n\u001b[0;32m    148\u001b[0m         \u001b[1;31m## if nothing here go up\u001b[0m\u001b[1;33m\u001b[0m\u001b[1;33m\u001b[0m\u001b[0m\n\u001b[0;32m    149\u001b[0m         \u001b[1;32melse\u001b[0m\u001b[1;33m:\u001b[0m\u001b[1;33m\u001b[0m\u001b[0m\n\u001b[1;32m--> 150\u001b[1;33m             \u001b[1;32mreturn\u001b[0m \u001b[0mExtender\u001b[0m\u001b[1;33m.\u001b[0m\u001b[0mcycle_up\u001b[0m\u001b[1;33m(\u001b[0m\u001b[0melm\u001b[0m\u001b[1;33m.\u001b[0m\u001b[0mparent\u001b[0m\u001b[1;33m,\u001b[0m \u001b[0mto\u001b[0m\u001b[1;33m,\u001b[0m \u001b[0mstart\u001b[0m\u001b[1;33m)\u001b[0m\u001b[1;33m.\u001b[0m\u001b[0mcontents\u001b[0m\u001b[1;33m[\u001b[0m\u001b[0mExtender\u001b[0m\u001b[1;33m.\u001b[0m\u001b[0mcontents_position\u001b[0m\u001b[1;33m(\u001b[0m\u001b[0melm\u001b[0m\u001b[1;33m)\u001b[0m\u001b[1;33m]\u001b[0m\u001b[1;33m\u001b[0m\u001b[0m\n\u001b[0m\u001b[0;32m    151\u001b[0m \u001b[1;33m\u001b[0m\u001b[0m\n\u001b[0;32m    152\u001b[0m     \u001b[1;33m@\u001b[0m\u001b[0mstaticmethod\u001b[0m\u001b[1;33m\u001b[0m\u001b[0m\n",
      "\u001b[1;32m<ipython-input-304-988f27ceb49d>\u001b[0m in \u001b[0;36mcycle_up\u001b[1;34m(elm, to, start)\u001b[0m\n\u001b[0;32m    148\u001b[0m         \u001b[1;31m## if nothing here go up\u001b[0m\u001b[1;33m\u001b[0m\u001b[1;33m\u001b[0m\u001b[0m\n\u001b[0;32m    149\u001b[0m         \u001b[1;32melse\u001b[0m\u001b[1;33m:\u001b[0m\u001b[1;33m\u001b[0m\u001b[0m\n\u001b[1;32m--> 150\u001b[1;33m             \u001b[1;32mreturn\u001b[0m \u001b[0mExtender\u001b[0m\u001b[1;33m.\u001b[0m\u001b[0mcycle_up\u001b[0m\u001b[1;33m(\u001b[0m\u001b[0melm\u001b[0m\u001b[1;33m.\u001b[0m\u001b[0mparent\u001b[0m\u001b[1;33m,\u001b[0m \u001b[0mto\u001b[0m\u001b[1;33m,\u001b[0m \u001b[0mstart\u001b[0m\u001b[1;33m)\u001b[0m\u001b[1;33m.\u001b[0m\u001b[0mcontents\u001b[0m\u001b[1;33m[\u001b[0m\u001b[0mExtender\u001b[0m\u001b[1;33m.\u001b[0m\u001b[0mcontents_position\u001b[0m\u001b[1;33m(\u001b[0m\u001b[0melm\u001b[0m\u001b[1;33m)\u001b[0m\u001b[1;33m]\u001b[0m\u001b[1;33m\u001b[0m\u001b[0m\n\u001b[0m\u001b[0;32m    151\u001b[0m \u001b[1;33m\u001b[0m\u001b[0m\n\u001b[0;32m    152\u001b[0m     \u001b[1;33m@\u001b[0m\u001b[0mstaticmethod\u001b[0m\u001b[1;33m\u001b[0m\u001b[0m\n",
      "\u001b[1;32m<ipython-input-304-988f27ceb49d>\u001b[0m in \u001b[0;36mcycle_up\u001b[1;34m(elm, to, start)\u001b[0m\n\u001b[0;32m    148\u001b[0m         \u001b[1;31m## if nothing here go up\u001b[0m\u001b[1;33m\u001b[0m\u001b[1;33m\u001b[0m\u001b[0m\n\u001b[0;32m    149\u001b[0m         \u001b[1;32melse\u001b[0m\u001b[1;33m:\u001b[0m\u001b[1;33m\u001b[0m\u001b[0m\n\u001b[1;32m--> 150\u001b[1;33m             \u001b[1;32mreturn\u001b[0m \u001b[0mExtender\u001b[0m\u001b[1;33m.\u001b[0m\u001b[0mcycle_up\u001b[0m\u001b[1;33m(\u001b[0m\u001b[0melm\u001b[0m\u001b[1;33m.\u001b[0m\u001b[0mparent\u001b[0m\u001b[1;33m,\u001b[0m \u001b[0mto\u001b[0m\u001b[1;33m,\u001b[0m \u001b[0mstart\u001b[0m\u001b[1;33m)\u001b[0m\u001b[1;33m.\u001b[0m\u001b[0mcontents\u001b[0m\u001b[1;33m[\u001b[0m\u001b[0mExtender\u001b[0m\u001b[1;33m.\u001b[0m\u001b[0mcontents_position\u001b[0m\u001b[1;33m(\u001b[0m\u001b[0melm\u001b[0m\u001b[1;33m)\u001b[0m\u001b[1;33m]\u001b[0m\u001b[1;33m\u001b[0m\u001b[0m\n\u001b[0m\u001b[0;32m    151\u001b[0m \u001b[1;33m\u001b[0m\u001b[0m\n\u001b[0;32m    152\u001b[0m     \u001b[1;33m@\u001b[0m\u001b[0mstaticmethod\u001b[0m\u001b[1;33m\u001b[0m\u001b[0m\n",
      "\u001b[1;32m<ipython-input-304-988f27ceb49d>\u001b[0m in \u001b[0;36mcycle_up\u001b[1;34m(elm, to, start)\u001b[0m\n\u001b[0;32m    148\u001b[0m         \u001b[1;31m## if nothing here go up\u001b[0m\u001b[1;33m\u001b[0m\u001b[1;33m\u001b[0m\u001b[0m\n\u001b[0;32m    149\u001b[0m         \u001b[1;32melse\u001b[0m\u001b[1;33m:\u001b[0m\u001b[1;33m\u001b[0m\u001b[0m\n\u001b[1;32m--> 150\u001b[1;33m             \u001b[1;32mreturn\u001b[0m \u001b[0mExtender\u001b[0m\u001b[1;33m.\u001b[0m\u001b[0mcycle_up\u001b[0m\u001b[1;33m(\u001b[0m\u001b[0melm\u001b[0m\u001b[1;33m.\u001b[0m\u001b[0mparent\u001b[0m\u001b[1;33m,\u001b[0m \u001b[0mto\u001b[0m\u001b[1;33m,\u001b[0m \u001b[0mstart\u001b[0m\u001b[1;33m)\u001b[0m\u001b[1;33m.\u001b[0m\u001b[0mcontents\u001b[0m\u001b[1;33m[\u001b[0m\u001b[0mExtender\u001b[0m\u001b[1;33m.\u001b[0m\u001b[0mcontents_position\u001b[0m\u001b[1;33m(\u001b[0m\u001b[0melm\u001b[0m\u001b[1;33m)\u001b[0m\u001b[1;33m]\u001b[0m\u001b[1;33m\u001b[0m\u001b[0m\n\u001b[0m\u001b[0;32m    151\u001b[0m \u001b[1;33m\u001b[0m\u001b[0m\n\u001b[0;32m    152\u001b[0m     \u001b[1;33m@\u001b[0m\u001b[0mstaticmethod\u001b[0m\u001b[1;33m\u001b[0m\u001b[0m\n",
      "\u001b[1;32m<ipython-input-304-988f27ceb49d>\u001b[0m in \u001b[0;36mcycle_up\u001b[1;34m(elm, to, start)\u001b[0m\n\u001b[0;32m    148\u001b[0m         \u001b[1;31m## if nothing here go up\u001b[0m\u001b[1;33m\u001b[0m\u001b[1;33m\u001b[0m\u001b[0m\n\u001b[0;32m    149\u001b[0m         \u001b[1;32melse\u001b[0m\u001b[1;33m:\u001b[0m\u001b[1;33m\u001b[0m\u001b[0m\n\u001b[1;32m--> 150\u001b[1;33m             \u001b[1;32mreturn\u001b[0m \u001b[0mExtender\u001b[0m\u001b[1;33m.\u001b[0m\u001b[0mcycle_up\u001b[0m\u001b[1;33m(\u001b[0m\u001b[0melm\u001b[0m\u001b[1;33m.\u001b[0m\u001b[0mparent\u001b[0m\u001b[1;33m,\u001b[0m \u001b[0mto\u001b[0m\u001b[1;33m,\u001b[0m \u001b[0mstart\u001b[0m\u001b[1;33m)\u001b[0m\u001b[1;33m.\u001b[0m\u001b[0mcontents\u001b[0m\u001b[1;33m[\u001b[0m\u001b[0mExtender\u001b[0m\u001b[1;33m.\u001b[0m\u001b[0mcontents_position\u001b[0m\u001b[1;33m(\u001b[0m\u001b[0melm\u001b[0m\u001b[1;33m)\u001b[0m\u001b[1;33m]\u001b[0m\u001b[1;33m\u001b[0m\u001b[0m\n\u001b[0m\u001b[0;32m    151\u001b[0m \u001b[1;33m\u001b[0m\u001b[0m\n\u001b[0;32m    152\u001b[0m     \u001b[1;33m@\u001b[0m\u001b[0mstaticmethod\u001b[0m\u001b[1;33m\u001b[0m\u001b[0m\n",
      "\u001b[1;32m<ipython-input-304-988f27ceb49d>\u001b[0m in \u001b[0;36mcycle_up\u001b[1;34m(elm, to, start)\u001b[0m\n\u001b[0;32m    148\u001b[0m         \u001b[1;31m## if nothing here go up\u001b[0m\u001b[1;33m\u001b[0m\u001b[1;33m\u001b[0m\u001b[0m\n\u001b[0;32m    149\u001b[0m         \u001b[1;32melse\u001b[0m\u001b[1;33m:\u001b[0m\u001b[1;33m\u001b[0m\u001b[0m\n\u001b[1;32m--> 150\u001b[1;33m             \u001b[1;32mreturn\u001b[0m \u001b[0mExtender\u001b[0m\u001b[1;33m.\u001b[0m\u001b[0mcycle_up\u001b[0m\u001b[1;33m(\u001b[0m\u001b[0melm\u001b[0m\u001b[1;33m.\u001b[0m\u001b[0mparent\u001b[0m\u001b[1;33m,\u001b[0m \u001b[0mto\u001b[0m\u001b[1;33m,\u001b[0m \u001b[0mstart\u001b[0m\u001b[1;33m)\u001b[0m\u001b[1;33m.\u001b[0m\u001b[0mcontents\u001b[0m\u001b[1;33m[\u001b[0m\u001b[0mExtender\u001b[0m\u001b[1;33m.\u001b[0m\u001b[0mcontents_position\u001b[0m\u001b[1;33m(\u001b[0m\u001b[0melm\u001b[0m\u001b[1;33m)\u001b[0m\u001b[1;33m]\u001b[0m\u001b[1;33m\u001b[0m\u001b[0m\n\u001b[0m\u001b[0;32m    151\u001b[0m \u001b[1;33m\u001b[0m\u001b[0m\n\u001b[0;32m    152\u001b[0m     \u001b[1;33m@\u001b[0m\u001b[0mstaticmethod\u001b[0m\u001b[1;33m\u001b[0m\u001b[0m\n",
      "\u001b[1;32m<ipython-input-304-988f27ceb49d>\u001b[0m in \u001b[0;36mcycle_up\u001b[1;34m(elm, to, start)\u001b[0m\n\u001b[0;32m    148\u001b[0m         \u001b[1;31m## if nothing here go up\u001b[0m\u001b[1;33m\u001b[0m\u001b[1;33m\u001b[0m\u001b[0m\n\u001b[0;32m    149\u001b[0m         \u001b[1;32melse\u001b[0m\u001b[1;33m:\u001b[0m\u001b[1;33m\u001b[0m\u001b[0m\n\u001b[1;32m--> 150\u001b[1;33m             \u001b[1;32mreturn\u001b[0m \u001b[0mExtender\u001b[0m\u001b[1;33m.\u001b[0m\u001b[0mcycle_up\u001b[0m\u001b[1;33m(\u001b[0m\u001b[0melm\u001b[0m\u001b[1;33m.\u001b[0m\u001b[0mparent\u001b[0m\u001b[1;33m,\u001b[0m \u001b[0mto\u001b[0m\u001b[1;33m,\u001b[0m \u001b[0mstart\u001b[0m\u001b[1;33m)\u001b[0m\u001b[1;33m.\u001b[0m\u001b[0mcontents\u001b[0m\u001b[1;33m[\u001b[0m\u001b[0mExtender\u001b[0m\u001b[1;33m.\u001b[0m\u001b[0mcontents_position\u001b[0m\u001b[1;33m(\u001b[0m\u001b[0melm\u001b[0m\u001b[1;33m)\u001b[0m\u001b[1;33m]\u001b[0m\u001b[1;33m\u001b[0m\u001b[0m\n\u001b[0m\u001b[0;32m    151\u001b[0m \u001b[1;33m\u001b[0m\u001b[0m\n\u001b[0;32m    152\u001b[0m     \u001b[1;33m@\u001b[0m\u001b[0mstaticmethod\u001b[0m\u001b[1;33m\u001b[0m\u001b[0m\n",
      "\u001b[1;32m<ipython-input-304-988f27ceb49d>\u001b[0m in \u001b[0;36mcycle_up\u001b[1;34m(elm, to, start)\u001b[0m\n\u001b[0;32m    148\u001b[0m         \u001b[1;31m## if nothing here go up\u001b[0m\u001b[1;33m\u001b[0m\u001b[1;33m\u001b[0m\u001b[0m\n\u001b[0;32m    149\u001b[0m         \u001b[1;32melse\u001b[0m\u001b[1;33m:\u001b[0m\u001b[1;33m\u001b[0m\u001b[0m\n\u001b[1;32m--> 150\u001b[1;33m             \u001b[1;32mreturn\u001b[0m \u001b[0mExtender\u001b[0m\u001b[1;33m.\u001b[0m\u001b[0mcycle_up\u001b[0m\u001b[1;33m(\u001b[0m\u001b[0melm\u001b[0m\u001b[1;33m.\u001b[0m\u001b[0mparent\u001b[0m\u001b[1;33m,\u001b[0m \u001b[0mto\u001b[0m\u001b[1;33m,\u001b[0m \u001b[0mstart\u001b[0m\u001b[1;33m)\u001b[0m\u001b[1;33m.\u001b[0m\u001b[0mcontents\u001b[0m\u001b[1;33m[\u001b[0m\u001b[0mExtender\u001b[0m\u001b[1;33m.\u001b[0m\u001b[0mcontents_position\u001b[0m\u001b[1;33m(\u001b[0m\u001b[0melm\u001b[0m\u001b[1;33m)\u001b[0m\u001b[1;33m]\u001b[0m\u001b[1;33m\u001b[0m\u001b[0m\n\u001b[0m\u001b[0;32m    151\u001b[0m \u001b[1;33m\u001b[0m\u001b[0m\n\u001b[0;32m    152\u001b[0m     \u001b[1;33m@\u001b[0m\u001b[0mstaticmethod\u001b[0m\u001b[1;33m\u001b[0m\u001b[0m\n",
      "\u001b[1;32m<ipython-input-304-988f27ceb49d>\u001b[0m in \u001b[0;36mcycle_up\u001b[1;34m(elm, to, start)\u001b[0m\n\u001b[0;32m    148\u001b[0m         \u001b[1;31m## if nothing here go up\u001b[0m\u001b[1;33m\u001b[0m\u001b[1;33m\u001b[0m\u001b[0m\n\u001b[0;32m    149\u001b[0m         \u001b[1;32melse\u001b[0m\u001b[1;33m:\u001b[0m\u001b[1;33m\u001b[0m\u001b[0m\n\u001b[1;32m--> 150\u001b[1;33m             \u001b[1;32mreturn\u001b[0m \u001b[0mExtender\u001b[0m\u001b[1;33m.\u001b[0m\u001b[0mcycle_up\u001b[0m\u001b[1;33m(\u001b[0m\u001b[0melm\u001b[0m\u001b[1;33m.\u001b[0m\u001b[0mparent\u001b[0m\u001b[1;33m,\u001b[0m \u001b[0mto\u001b[0m\u001b[1;33m,\u001b[0m \u001b[0mstart\u001b[0m\u001b[1;33m)\u001b[0m\u001b[1;33m.\u001b[0m\u001b[0mcontents\u001b[0m\u001b[1;33m[\u001b[0m\u001b[0mExtender\u001b[0m\u001b[1;33m.\u001b[0m\u001b[0mcontents_position\u001b[0m\u001b[1;33m(\u001b[0m\u001b[0melm\u001b[0m\u001b[1;33m)\u001b[0m\u001b[1;33m]\u001b[0m\u001b[1;33m\u001b[0m\u001b[0m\n\u001b[0m\u001b[0;32m    151\u001b[0m \u001b[1;33m\u001b[0m\u001b[0m\n\u001b[0;32m    152\u001b[0m     \u001b[1;33m@\u001b[0m\u001b[0mstaticmethod\u001b[0m\u001b[1;33m\u001b[0m\u001b[0m\n",
      "\u001b[1;32m<ipython-input-304-988f27ceb49d>\u001b[0m in \u001b[0;36mcycle_up\u001b[1;34m(elm, to, start)\u001b[0m\n\u001b[0;32m    141\u001b[0m \u001b[1;33m\u001b[0m\u001b[0m\n\u001b[0;32m    142\u001b[0m         \u001b[1;31m## First look Left for shoulder in siblings\u001b[0m\u001b[1;33m\u001b[0m\u001b[1;33m\u001b[0m\u001b[0m\n\u001b[1;32m--> 143\u001b[1;33m         \u001b[1;32mif\u001b[0m \u001b[0mExtender\u001b[0m\u001b[1;33m.\u001b[0m\u001b[0mcheck_siblings\u001b[0m\u001b[1;33m(\u001b[0m\u001b[0melm\u001b[0m\u001b[1;33m.\u001b[0m\u001b[0mprevious_siblings\u001b[0m\u001b[1;33m,\u001b[0m \u001b[0mattrFunc\u001b[0m\u001b[1;33m)\u001b[0m\u001b[1;33m:\u001b[0m\u001b[1;33m\u001b[0m\u001b[0m\n\u001b[0m\u001b[0;32m    144\u001b[0m             \u001b[1;32mreturn\u001b[0m \u001b[0mExtender\u001b[0m\u001b[1;33m.\u001b[0m\u001b[0mcycle_left\u001b[0m\u001b[1;33m(\u001b[0m\u001b[0melm\u001b[0m\u001b[1;33m.\u001b[0m\u001b[0mprevious_sibling\u001b[0m\u001b[1;33m,\u001b[0m \u001b[0mto\u001b[0m\u001b[1;33m,\u001b[0m \u001b[0mstart\u001b[0m\u001b[1;33m)\u001b[0m\u001b[1;33m.\u001b[0m\u001b[0mnext_sibling\u001b[0m\u001b[1;33m\u001b[0m\u001b[0m\n\u001b[0;32m    145\u001b[0m         \u001b[1;31m## Then look right\u001b[0m\u001b[1;33m\u001b[0m\u001b[1;33m\u001b[0m\u001b[0m\n",
      "\u001b[1;31mAttributeError\u001b[0m: 'NoneType' object has no attribute 'previous_siblings'"
     ]
    }
   ],
   "source": [
    "testEx.nathan_rocket(a2[n])"
   ]
  },
  {
   "cell_type": "code",
   "execution_count": 253,
   "metadata": {},
   "outputs": [
    {
     "data": {
      "text/plain": [
       "[]"
      ]
     },
     "execution_count": 253,
     "metadata": {},
     "output_type": "execute_result"
    }
   ],
   "source": [
    "list(vh.pointers[0].tom.next_siblings)"
   ]
  },
  {
   "cell_type": "code",
   "execution_count": 216,
   "metadata": {},
   "outputs": [
    {
     "data": {
      "text/plain": [
       "[<h3 class=\"h3_addpading\"> Mildred (Mit) Joyner, MSW, LCSW, BCD </h3>,\n",
       " <h3 class=\"h3_addpading\">Heather Bradley-Geary, MSW</h3>,\n",
       " <h3 class=\"h3_addpading\">Patrick J. Johnson, LCSW</h3>]"
      ]
     },
     "execution_count": 216,
     "metadata": {},
     "output_type": "execute_result"
    }
   ],
   "source": [
    "x.starts"
   ]
  },
  {
   "cell_type": "code",
   "execution_count": 217,
   "metadata": {},
   "outputs": [
    {
     "data": {
      "text/plain": [
       "'__nathanStarts__'"
      ]
     },
     "execution_count": 217,
     "metadata": {},
     "output_type": "execute_result"
    }
   ],
   "source": [
    "x.startsType"
   ]
  },
  {
   "cell_type": "code",
   "execution_count": 406,
   "metadata": {
    "collapsed": true
   },
   "outputs": [],
   "source": [
    "testEx.reset_tree()"
   ]
  },
  {
   "cell_type": "code",
   "execution_count": 405,
   "metadata": {},
   "outputs": [
    {
     "data": {
      "text/plain": [
       "19"
      ]
     },
     "execution_count": 405,
     "metadata": {},
     "output_type": "execute_result"
    }
   ],
   "source": [
    "len(a2)"
   ]
  },
  {
   "cell_type": "code",
   "execution_count": null,
   "metadata": {
    "collapsed": true
   },
   "outputs": [],
   "source": []
  },
  {
   "cell_type": "code",
   "execution_count": null,
   "metadata": {
    "collapsed": true
   },
   "outputs": [],
   "source": []
  },
  {
   "cell_type": "code",
   "execution_count": null,
   "metadata": {
    "collapsed": true
   },
   "outputs": [],
   "source": []
  },
  {
   "cell_type": "code",
   "execution_count": 158,
   "metadata": {},
   "outputs": [
    {
     "data": {
      "text/plain": [
       "[<__main__.NewPointer at 0x1e8f8d5a780>,\n",
       " <__main__.NewPointer at 0x1e8f8d5a518>,\n",
       " <__main__.NewPointer at 0x1e8f8d5ada0>,\n",
       " <__main__.NewPointer at 0x1e8f8d5ae10>,\n",
       " <__main__.NewPointer at 0x1e8f8d5a240>,\n",
       " <__main__.NewPointer at 0x1e8f8d5aef0>,\n",
       " <__main__.NewPointer at 0x1e8f8d5ac50>,\n",
       " <__main__.NewPointer at 0x1e8f8d5aeb8>]"
      ]
     },
     "execution_count": 158,
     "metadata": {},
     "output_type": "execute_result"
    }
   ],
   "source": [
    "x.get_new_pointers()"
   ]
  },
  {
   "cell_type": "code",
   "execution_count": 163,
   "metadata": {},
   "outputs": [
    {
     "name": "stdout",
     "output_type": "stream",
     "text": [
      "Eglon E. Simons     as     President and CEO\n",
      "James C. Jones     as     Senior Vice President, Education and Diversity Solutions\n",
      "Sandra Girado     as     Vice President, Events and Partner Relations\n",
      "S. Monique Wells     as     Director of Finance and Administration\n",
      "Susan Waldman     as     Senior Manager, Membership and Publications\n",
      "Darryl Jackson     as     Manager, Mentoring Relations and Chapter Operations\n",
      "Brandon D. Hewlett     as     Project Coordinator\n",
      "Davana O'Brien     as     Administrative Assistant\n"
     ]
    }
   ],
   "source": [
    "for pt in x.get_new_pointers():\n",
    "    print('%s     as     %s' % (str(pt.get_nathan()), str(pt.get_tom())))"
   ]
  },
  {
   "cell_type": "code",
   "execution_count": null,
   "metadata": {
    "collapsed": true
   },
   "outputs": [],
   "source": []
  },
  {
   "cell_type": "code",
   "execution_count": null,
   "metadata": {
    "collapsed": true
   },
   "outputs": [],
   "source": []
  },
  {
   "cell_type": "code",
   "execution_count": null,
   "metadata": {
    "collapsed": true
   },
   "outputs": [],
   "source": []
  },
  {
   "cell_type": "code",
   "execution_count": null,
   "metadata": {
    "collapsed": true
   },
   "outputs": [],
   "source": []
  },
  {
   "cell_type": "code",
   "execution_count": null,
   "metadata": {
    "collapsed": true
   },
   "outputs": [],
   "source": []
  },
  {
   "cell_type": "code",
   "execution_count": null,
   "metadata": {
    "collapsed": true
   },
   "outputs": [],
   "source": []
  },
  {
   "cell_type": "code",
   "execution_count": null,
   "metadata": {
    "collapsed": true
   },
   "outputs": [],
   "source": []
  },
  {
   "cell_type": "code",
   "execution_count": null,
   "metadata": {
    "collapsed": true
   },
   "outputs": [],
   "source": []
  },
  {
   "cell_type": "code",
   "execution_count": null,
   "metadata": {
    "collapsed": true
   },
   "outputs": [],
   "source": []
  },
  {
   "cell_type": "code",
   "execution_count": null,
   "metadata": {
    "collapsed": true
   },
   "outputs": [],
   "source": []
  },
  {
   "cell_type": "code",
   "execution_count": null,
   "metadata": {
    "collapsed": true
   },
   "outputs": [],
   "source": []
  },
  {
   "cell_type": "code",
   "execution_count": null,
   "metadata": {
    "collapsed": true
   },
   "outputs": [],
   "source": []
  },
  {
   "cell_type": "code",
   "execution_count": null,
   "metadata": {
    "collapsed": true
   },
   "outputs": [],
   "source": []
  },
  {
   "cell_type": "code",
   "execution_count": null,
   "metadata": {
    "collapsed": true
   },
   "outputs": [],
   "source": []
  },
  {
   "cell_type": "code",
   "execution_count": null,
   "metadata": {
    "collapsed": true
   },
   "outputs": [],
   "source": []
  },
  {
   "cell_type": "code",
   "execution_count": null,
   "metadata": {
    "collapsed": true
   },
   "outputs": [],
   "source": []
  },
  {
   "cell_type": "code",
   "execution_count": null,
   "metadata": {
    "collapsed": true
   },
   "outputs": [],
   "source": []
  },
  {
   "cell_type": "code",
   "execution_count": null,
   "metadata": {
    "collapsed": true
   },
   "outputs": [],
   "source": []
  },
  {
   "cell_type": "code",
   "execution_count": 111,
   "metadata": {},
   "outputs": [],
   "source": [
    "ts = StartBlock(vh.gm, vh.pointers[0])"
   ]
  },
  {
   "cell_type": "code",
   "execution_count": 112,
   "metadata": {},
   "outputs": [
    {
     "data": {
      "text/plain": [
       "('__motherStarts__',\n",
       " [<div class=\"team-member-right\"><h3 class=\"team-member-name\">Eglon E. Simons</h3><h4 class=\"team-member-position\">President and CEO</h4><div class=\"team-member-body hide-class\"><div style=\"overflow: hidden; height: 72px;\">Eglon E. Simons leads the association and champions its mission as President and CEO. In addition to working closely with NAMIC’s 16 chapters across the country, he collaborates with NAMIC’s board, staff, chapter leadership and industry partners in building upon NAMIC’s legacy. A strong and progressive leader, Simons’ career in media and communications has spanned more than 30 years. Upon earning an MBA from Harvard Business School, Simons joined the staff at CBS New York. After holding several managerial positions, Simons concluded his 13-year run with the network as Vice President of Sales and Marketing for the CBS Television Stations Division. In 1990, Simons embarked on a 21-year run with Cablevision Systems Corporation as Director of New York Sales for its Cable Networks unit. Simons began serving as Vice President and General Manager of New York Interconnect in 1992 and subsequently, was promoted in 1995, to Senior Vice President and General Manager. Simons was named Executive Vice President of Cablevision’s Rainbow Advertising Sales Company in 2002, a senior management role he fulfilled until his retirement from Cablevision Systems Corporation in 2011. </div></div><div class=\"team-member-social\"><a class=\"member-social-twitter\" href=\"\" style=\"display: none;\"><img src=\"http://namic.com/wp-content/themes/namic-dev/./img/icons/member-social-twitter.png\"/></a><a class=\"member-social-linkedin\" href=\"https://www.linkedin.com/in/eglonsimons\"><img src=\"http://namic.com/wp-content/themes/namic-dev/./img/icons/member-social-linkedin.png\"/></a><a class=\"member-social-facebook\" href=\"\" style=\"display: none;\"><img src=\"http://namic.com/wp-content/themes/namic-dev/./img/icons/member-social-facebook.png\"/></a><a class=\"member-social-google+\" href=\"\" style=\"display: none;\"><img src=\"http://namic.com/wp-content/themes/namic-dev/./img/icons/member-social-google+.png\"/></a><a class=\"member-social-youtube\" href=\"\" style=\"display: none;\"><img src=\"http://namic.com/wp-content/themes/namic-dev/./img/icons/member-social-youtube.png\"/></a></div></div>,\n",
       "  <div class=\"team-member-right\"><h3 class=\"team-member-name\">James C. Jones</h3><h4 class=\"team-member-position\">Senior Vice President, Education and Diversity Solutions</h4><div class=\"team-member-body hide-class\"><div style=\"overflow: hidden; height: 72px;\">As the Senior Vice President of Education and Diversity Solutions, Jim oversees the association’s education programs and professional development initiatives. He also manages day-to-day NAMIC Foundation operations. Jim Jones joined the NAMIC team in Fall 2005 after spending nearly a decade launching a wide range of diversity, team building, mentoring and other multicultural programs for the National Action Council for Minorities in Engineering (NACME), a national non-profit whose mission is to increase the numbers of successful African American, American Indian and Latino men and women in the engineering, technology and math-based fields. Before joining NACME, he had consulted in the corporate, government, educational, and not-for-profit sectors, designing and implementing training and development initiatives related to increasing organizational effectiveness through building and nurturing a diverse workforce. With a B.A. from Harvard, Jim attended New York’s Juilliard School and the Curtis Institute of Music in Philadelphia, where he studied classical singing. He eventually was awarded a Fulbright Fellowship to France, and spent four years studying and performing in European concert and opera venues. After much “soul-searching,” he eventually returned to America and attended the Columbia Business School, where he received an M.B.A. in strategic human resources. Jim hails from St. Louis, Missouri.   </div></div><div class=\"team-member-social\"><a class=\"member-social-twitter\" href=\"\" style=\"display: none;\"><img src=\"http://namic.com/wp-content/themes/namic-dev/./img/icons/member-social-twitter.png\"/></a><a class=\"member-social-linkedin\" href=\"https://www.linkedin.com/pub/james-jones/8/756/429\"><img src=\"http://namic.com/wp-content/themes/namic-dev/./img/icons/member-social-linkedin.png\"/></a><a class=\"member-social-facebook\" href=\"\" style=\"display: none;\"><img src=\"http://namic.com/wp-content/themes/namic-dev/./img/icons/member-social-facebook.png\"/></a><a class=\"member-social-google+\" href=\"\" style=\"display: none;\"><img src=\"http://namic.com/wp-content/themes/namic-dev/./img/icons/member-social-google+.png\"/></a><a class=\"member-social-youtube\" href=\"\" style=\"display: none;\"><img src=\"http://namic.com/wp-content/themes/namic-dev/./img/icons/member-social-youtube.png\"/></a></div></div>,\n",
       "  <div class=\"team-member-right\"><h3 class=\"team-member-name\">Sandra Girado</h3><h4 class=\"team-member-position\">Vice President, Events and Partner Relations</h4><div class=\"team-member-body hide-class\"><div style=\"overflow: hidden; height: 72px;\">As the Vice President of Events and Partner Relations, Sandra Girado leads the production and management of NAMIC’s national events, and also oversees key marketing and creative services. Sandra brings to NAMIC close to a decade of experience in the meeting planning and trade show industry. Prior to joining NAMIC in June 2005, she served as the Programs Administrator for the International Council of Shopping Centers where she was responsible for the management of educational programs, including faculty recruitment and curriculum scheduling. In that position she also worked to facilitate programs in Asia, Mexico, the Middle East and Moscow. Sandra also worked with the EastWest Institute, where she was responsible for planning Global Homeland Security Conferences for the international community. Additionally, she was the Special Events Manager for Lebhar-Friedman, a New York based publishing company. She is a graduate of Manhattan College, where she received a Bachelor of Science degree in Marketing and International Business. </div></div><div class=\"team-member-social\"><a class=\"member-social-twitter\" href=\"\" style=\"display: none;\"><img src=\"http://namic.com/wp-content/themes/namic-dev/./img/icons/member-social-twitter.png\"/></a><a class=\"member-social-linkedin\" href=\"https://www.linkedin.com/pub/sandra-girado/49/505/262\"><img src=\"http://namic.com/wp-content/themes/namic-dev/./img/icons/member-social-linkedin.png\"/></a><a class=\"member-social-facebook\" href=\"\" style=\"display: none;\"><img src=\"http://namic.com/wp-content/themes/namic-dev/./img/icons/member-social-facebook.png\"/></a><a class=\"member-social-google+\" href=\"\" style=\"display: none;\"><img src=\"http://namic.com/wp-content/themes/namic-dev/./img/icons/member-social-google+.png\"/></a><a class=\"member-social-youtube\" href=\"\" style=\"display: none;\"><img src=\"http://namic.com/wp-content/themes/namic-dev/./img/icons/member-social-youtube.png\"/></a></div></div>,\n",
       "  <div class=\"team-member-right\"><h3 class=\"team-member-name\">S. Monique Wells</h3><h4 class=\"team-member-position\">Director of Finance and Administration</h4><div class=\"team-member-body hide-class\"><div style=\"overflow: hidden; height: 72px;\">Monique Wells is the Director of Finance and Administration for the National Association for Multi-ethnicity in Communications’ (NAMIC). Prior to that she was their Manager of Operations, a position she assumed in August, 2009. Monique is no stranger to NAMIC and has been a member since 1991. She served as a consultant to NAMIC for a number of special projects, prior to joining the staff. As Director of Finance and Administration, she oversees the administrative and financial operations of the national office. An accomplished professional with a diverse background in sales and project management, Monique previously served as an Energy Conservation Analyst with the Los Angeles Unified School District where she oversaw the utility management for school construction projects. Prior to that, Monique was a National Sales and Marketing Executive for Patriot Communications where she was responsible for the sales, marketing and contract negotiations of enhanced telecommunications products and services. Before joining Patriot, Monique worked at HBO in Affiliate Sales, where she created and implemented sales strategies and account activities for HBO and Cinemax. Her responsibilities included sales, client services, off-channel promotions and special events. During her tenure at HBO, Monique was an active member of the NAMIC-Southern California chapter and served on the Steering Committee for the Vision Awards and chaired both the Sponsorship and Talent Committees. Preceding her tenure in communications, Monique held several executive positions for Kraft General Foods and Sportsvisions, a sports marketing company based in Northern California. Monique earned a Bachelor of Arts degree in Sociology from Clark University in Worcester, MA and a MBA degree in general business and marketing from Atlanta University, now known as Clark Atlanta University in Atlanta, GA. She is on the planning committee for the American Heart Association’s Harlem Go Red For Women Educational Forum and volunteers for the New York Common Pantry, a New York City community based food pantry. </div></div><div class=\"team-member-social\"><a class=\"member-social-twitter\" href=\"\" style=\"display: none;\"><img src=\"http://namic.com/wp-content/themes/namic-dev/./img/icons/member-social-twitter.png\"/></a><a class=\"member-social-linkedin\" href=\"https://www.linkedin.com/pub/s-monique-wells/3/7a0/265\"><img src=\"http://namic.com/wp-content/themes/namic-dev/./img/icons/member-social-linkedin.png\"/></a><a class=\"member-social-facebook\" href=\"\" style=\"display: none;\"><img src=\"http://namic.com/wp-content/themes/namic-dev/./img/icons/member-social-facebook.png\"/></a><a class=\"member-social-google+\" href=\"\" style=\"display: none;\"><img src=\"http://namic.com/wp-content/themes/namic-dev/./img/icons/member-social-google+.png\"/></a><a class=\"member-social-youtube\" href=\"\" style=\"display: none;\"><img src=\"http://namic.com/wp-content/themes/namic-dev/./img/icons/member-social-youtube.png\"/></a></div></div>,\n",
       "  <div class=\"team-member-right\"><h3 class=\"team-member-name\">Susan Waldman</h3><h4 class=\"team-member-position\">Senior Manager, Membership and Publications</h4><div class=\"team-member-body hide-class\"><div style=\"overflow: hidden; height: 72px;\">As the Senior Manager of Membership and Publications, Susan Waldman oversees the day-to-day facilitation of NAMIC’s membership operations, as well as market research to drive growth. She is also responsible for the production of NAMIC’s industry-wide publication, Diversity Digest. She launched her career in market research as a media planner on such accounts as Loews Hotels and Omnipoint Communications at Hill, Holliday Altschiller and McCann Direct advertising agencies.  There she was introduced to the gamut of advertising research resources as she planned and purchased the media for various clients.  After a few years, Susan moved over to the magazine industry. Susan has served as the Marketing Research Manager at Vibe, Spin and The Source magazines and Research Director at Motor Trend magazine. Supporting 20 sales representatives by providing them with competitive and analytic research regarding each magazine’s audience, she has honed her research expertise. Susan received a Bachelor of Arts in Psychology from Ohio University in Athens, Ohio. </div></div><div class=\"team-member-social\"><a class=\"member-social-twitter\" href=\"\" style=\"display: none;\"><img src=\"http://namic.com/wp-content/themes/namic-dev/./img/icons/member-social-twitter.png\"/></a><a class=\"member-social-linkedin\" href=\"https://www.linkedin.com/pub/susan-waldman/3/54b/b35\"><img src=\"http://namic.com/wp-content/themes/namic-dev/./img/icons/member-social-linkedin.png\"/></a><a class=\"member-social-facebook\" href=\"\" style=\"display: none;\"><img src=\"http://namic.com/wp-content/themes/namic-dev/./img/icons/member-social-facebook.png\"/></a><a class=\"member-social-google+\" href=\"\" style=\"display: none;\"><img src=\"http://namic.com/wp-content/themes/namic-dev/./img/icons/member-social-google+.png\"/></a><a class=\"member-social-youtube\" href=\"\" style=\"display: none;\"><img src=\"http://namic.com/wp-content/themes/namic-dev/./img/icons/member-social-youtube.png\"/></a></div></div>,\n",
       "  <div class=\"team-member-right\"><h3 class=\"team-member-name\">Darryl Jackson</h3><h4 class=\"team-member-position\">Manager, Mentoring Relations and Chapter Operations</h4><div class=\"team-member-body hide-class\"><div style=\"overflow: hidden; height: 72px;\">As the Manager for Mentoring Relations and Chapter Operations, Darryl oversees the day-to-day operations of NAMIC chapters and stewardship of the L. Patrick Mellon Mentorship Program. In this role, Darryl provides programmatic support and guidance in both these key areas, and works with the Senior Vice President of Education and Diversity Solutions to ensure that program participants and volunteers have access to the resources necessary for success in their endeavors, and are able to maximize the benefits of participation and affiliation. Darryl began his career in government and finance as a loan officer for the U.S. Department of Agriculture and later moved into mortgage loans as a mortgage broker for SunTrust Bank, Mortgage Virginia and Virginia Mortgage Services. After seven years in finance, Darryl shifted to a career in non-profit and association management, serving as Director of Membership Services and Marketing for Alpha Phi Alpha Fraternity and as a Chapter Development Specialist for the Project Management Institute. He is an active member of the American Society for Association Executives (ASAE) and has served on their Committee for Diversity and Inclusion. Darryl received his Bachelors of Science in Agricultural Business and Economics from Virginia State University, where he was a U.S. Department of Agriculture National Scholar, and his Masters of Business Administration from University of Maryland University College in Management. Darryl is a graduate of the U.S. Chapter of Commerce’s Institute for Organization Management (IOM) and holds ASAE’s Certified Association Executive (CAE) credential. </div></div><div class=\"team-member-social\"><a class=\"member-social-twitter\" href=\"\" style=\"display: none;\"><img src=\"http://namic.com/wp-content/themes/namic-dev/./img/icons/member-social-twitter.png\"/></a><a class=\"member-social-linkedin\" href=\"https://www.linkedin.com/in/darryljackson\"><img src=\"http://namic.com/wp-content/themes/namic-dev/./img/icons/member-social-linkedin.png\"/></a><a class=\"member-social-facebook\" href=\"\" style=\"display: none;\"><img src=\"http://namic.com/wp-content/themes/namic-dev/./img/icons/member-social-facebook.png\"/></a><a class=\"member-social-google+\" href=\"\" style=\"display: none;\"><img src=\"http://namic.com/wp-content/themes/namic-dev/./img/icons/member-social-google+.png\"/></a><a class=\"member-social-youtube\" href=\"\" style=\"display: none;\"><img src=\"http://namic.com/wp-content/themes/namic-dev/./img/icons/member-social-youtube.png\"/></a></div></div>,\n",
       "  <div class=\"team-member-right\"><h3 class=\"team-member-name\">Brandon D. Hewlett</h3><h4 class=\"team-member-position\">Project Coordinator</h4><div class=\"team-member-body hide-class\"><div style=\"overflow: hidden; height: 72px;\">Brandon D. Hewlett provides ongoing support of all marketing and promotion related to company wide initiatives, programs and events at the national and local levels. With strong knowledge in the growing digital media space. Brandon manages marketing projects from conception to completion. Handling multiple elements including advertising (print and digital), analytics, email campaigns, social media engagement, and website maintenance. Prior to joining the team at NAMIC, Brandon was a Marketing Analyst at BeautiControl, Inc. (Tupperware Brands) where he helped develop a new Merchandising Database. While supporting the Marketing team with ad-hoc reports and KPIs (Key Performance Indicators). Brandon is a graduate of Temple University in Philadelphia, PA where he received a Bachelor of Arts in Digital Media Technologies and African American Studies. </div></div><div class=\"team-member-social\"><a class=\"member-social-twitter\" href=\"\" style=\"display: none;\"><img src=\"http://namic.com/wp-content/themes/namic-dev/./img/icons/member-social-twitter.png\"/></a><a class=\"member-social-linkedin\" href=\"https://www.linkedin.com/in/bdhewlett\"><img src=\"http://namic.com/wp-content/themes/namic-dev/./img/icons/member-social-linkedin.png\"/></a><a class=\"member-social-facebook\" href=\"\" style=\"display: none;\"><img src=\"http://namic.com/wp-content/themes/namic-dev/./img/icons/member-social-facebook.png\"/></a><a class=\"member-social-google+\" href=\"\" style=\"display: none;\"><img src=\"http://namic.com/wp-content/themes/namic-dev/./img/icons/member-social-google+.png\"/></a><a class=\"member-social-youtube\" href=\"\" style=\"display: none;\"><img src=\"http://namic.com/wp-content/themes/namic-dev/./img/icons/member-social-youtube.png\"/></a></div></div>,\n",
       "  <div class=\"team-member-right\"><h3 class=\"team-member-name\">Davana O'Brien</h3><h4 class=\"team-member-position\">Administrative Assistant</h4><div class=\"team-member-body\"><div></div></div><div class=\"team-member-social\"><a class=\"member-social-twitter\" href=\"\" style=\"display: none;\"><img src=\"http://namic.com/wp-content/themes/namic-dev/./img/icons/member-social-twitter.png\"/></a><a class=\"member-social-linkedin\" href=\"\" style=\"display: none;\"><img src=\"http://namic.com/wp-content/themes/namic-dev/./img/icons/member-social-linkedin.png\"/></a><a class=\"member-social-facebook\" href=\"\" style=\"display: none;\"><img src=\"http://namic.com/wp-content/themes/namic-dev/./img/icons/member-social-facebook.png\"/></a><a class=\"member-social-google+\" href=\"\" style=\"display: none;\"><img src=\"http://namic.com/wp-content/themes/namic-dev/./img/icons/member-social-google+.png\"/></a><a class=\"member-social-youtube\" href=\"\" style=\"display: none;\"><img src=\"http://namic.com/wp-content/themes/namic-dev/./img/icons/member-social-youtube.png\"/></a></div></div>])"
      ]
     },
     "execution_count": 112,
     "metadata": {},
     "output_type": "execute_result"
    }
   ],
   "source": [
    "ts.get_optimal_starts()"
   ]
  },
  {
   "cell_type": "code",
   "execution_count": 85,
   "metadata": {},
   "outputs": [
    {
     "data": {
      "text/plain": [
       "8"
      ]
     },
     "execution_count": 85,
     "metadata": {},
     "output_type": "execute_result"
    }
   ],
   "source": [
    "len(ts.get_optimal_starts()[1])"
   ]
  },
  {
   "cell_type": "code",
   "execution_count": 113,
   "metadata": {
    "collapsed": true
   },
   "outputs": [],
   "source": [
    "ns = StartBlockNoMother(vh.gm, vh.pointers[0])"
   ]
  },
  {
   "cell_type": "code",
   "execution_count": 114,
   "metadata": {},
   "outputs": [
    {
     "data": {
      "text/plain": [
       "('__nathanStarts__',\n",
       " [<h3 class=\"team-member-name\">Eglon E. Simons</h3>,\n",
       "  <h3 class=\"team-member-name\">James C. Jones</h3>,\n",
       "  <h3 class=\"team-member-name\">Sandra Girado</h3>,\n",
       "  <h3 class=\"team-member-name\">S. Monique Wells</h3>,\n",
       "  <h3 class=\"team-member-name\">Susan Waldman</h3>,\n",
       "  <h3 class=\"team-member-name\">Darryl Jackson</h3>,\n",
       "  <h3 class=\"team-member-name\">Brandon D. Hewlett</h3>,\n",
       "  <h3 class=\"team-member-name\">Davana O'Brien</h3>])"
      ]
     },
     "execution_count": 114,
     "metadata": {},
     "output_type": "execute_result"
    }
   ],
   "source": [
    "ns.get_optimal_starts()"
   ]
  },
  {
   "cell_type": "code",
   "execution_count": 89,
   "metadata": {},
   "outputs": [
    {
     "data": {
      "text/plain": [
       "8"
      ]
     },
     "execution_count": 89,
     "metadata": {},
     "output_type": "execute_result"
    }
   ],
   "source": [
    "len(ns.get_optimal_starts()[1])"
   ]
  },
  {
   "cell_type": "code",
   "execution_count": 93,
   "metadata": {},
   "outputs": [],
   "source": [
    "vh.extenders[0].reset_tree()"
   ]
  },
  {
   "cell_type": "code",
   "execution_count": 120,
   "metadata": {
    "collapsed": true
   },
   "outputs": [],
   "source": [
    "s = ns.get_optimal_starts()[1][0]"
   ]
  },
  {
   "cell_type": "code",
   "execution_count": 122,
   "metadata": {},
   "outputs": [
    {
     "data": {
      "text/plain": [
       "'<h3 class=\"team-member-name\">Eglon E. Simons</h3>'"
      ]
     },
     "execution_count": 122,
     "metadata": {},
     "output_type": "execute_result"
    }
   ],
   "source": [
    "str(s)"
   ]
  },
  {
   "cell_type": "code",
   "execution_count": 133,
   "metadata": {},
   "outputs": [
    {
     "data": {
      "text/plain": [
       "False"
      ]
     },
     "execution_count": 133,
     "metadata": {},
     "output_type": "execute_result"
    }
   ],
   "source": [
    "type(vh.pointers[0].tom) is not NavigableString"
   ]
  },
  {
   "cell_type": "code",
   "execution_count": 129,
   "metadata": {},
   "outputs": [],
   "source": [
    "from bs4.element import NavigableString"
   ]
  },
  {
   "cell_type": "code",
   "execution_count": null,
   "metadata": {
    "collapsed": true
   },
   "outputs": [],
   "source": []
  },
  {
   "cell_type": "code",
   "execution_count": null,
   "metadata": {
    "collapsed": true
   },
   "outputs": [],
   "source": []
  },
  {
   "cell_type": "code",
   "execution_count": null,
   "metadata": {
    "collapsed": true
   },
   "outputs": [],
   "source": []
  },
  {
   "cell_type": "code",
   "execution_count": null,
   "metadata": {
    "collapsed": true
   },
   "outputs": [],
   "source": []
  },
  {
   "cell_type": "code",
   "execution_count": null,
   "metadata": {
    "collapsed": true
   },
   "outputs": [],
   "source": []
  },
  {
   "cell_type": "code",
   "execution_count": null,
   "metadata": {
    "collapsed": true
   },
   "outputs": [],
   "source": []
  },
  {
   "cell_type": "code",
   "execution_count": 68,
   "metadata": {},
   "outputs": [
    {
     "data": {
      "text/plain": [
       "1"
      ]
     },
     "execution_count": 68,
     "metadata": {},
     "output_type": "execute_result"
    }
   ],
   "source": [
    "min([1,2,3])"
   ]
  },
  {
   "cell_type": "code",
   "execution_count": 23,
   "metadata": {
    "collapsed": true
   },
   "outputs": [],
   "source": [
    "vp = vh.pointers[0]"
   ]
  },
  {
   "cell_type": "code",
   "execution_count": 24,
   "metadata": {},
   "outputs": [
    {
     "data": {
      "text/plain": [
       "'Senior Manager, Membership and Publications'"
      ]
     },
     "execution_count": 24,
     "metadata": {},
     "output_type": "execute_result"
    }
   ],
   "source": [
    "vp.tom"
   ]
  },
  {
   "cell_type": "code",
   "execution_count": 25,
   "metadata": {},
   "outputs": [
    {
     "data": {
      "text/plain": [
       "'Susan Waldman'"
      ]
     },
     "execution_count": 25,
     "metadata": {},
     "output_type": "execute_result"
    }
   ],
   "source": [
    "vp.nathan"
   ]
  },
  {
   "cell_type": "code",
   "execution_count": 26,
   "metadata": {},
   "outputs": [
    {
     "data": {
      "text/plain": [
       "'h3'"
      ]
     },
     "execution_count": 26,
     "metadata": {},
     "output_type": "execute_result"
    }
   ],
   "source": [
    "vp.nathan.parent.name"
   ]
  },
  {
   "cell_type": "code",
   "execution_count": 27,
   "metadata": {},
   "outputs": [
    {
     "data": {
      "text/plain": [
       "['team-member-name']"
      ]
     },
     "execution_count": 27,
     "metadata": {},
     "output_type": "execute_result"
    }
   ],
   "source": [
    "vp.nathan.parent['class']"
   ]
  },
  {
   "cell_type": "code",
   "execution_count": 28,
   "metadata": {},
   "outputs": [
    {
     "data": {
      "text/plain": [
       "{'class': ['team-member-name'], 'sib': 'nathan'}"
      ]
     },
     "execution_count": 28,
     "metadata": {},
     "output_type": "execute_result"
    }
   ],
   "source": [
    "vp.nathan.parent.attrs"
   ]
  },
  {
   "cell_type": "code",
   "execution_count": 43,
   "metadata": {},
   "outputs": [],
   "source": [
    "vh.extenders[2].reset_tree()"
   ]
  },
  {
   "cell_type": "code",
   "execution_count": 67,
   "metadata": {},
   "outputs": [
    {
     "data": {
      "text/plain": [
       "64"
      ]
     },
     "execution_count": 67,
     "metadata": {},
     "output_type": "execute_result"
    }
   ],
   "source": [
    "len(vh.gm.find_all(vp.get_mother_element().name))"
   ]
  },
  {
   "cell_type": "code",
   "execution_count": 31,
   "metadata": {},
   "outputs": [
    {
     "ename": "NameError",
     "evalue": "name 'gm' is not defined",
     "output_type": "error",
     "traceback": [
      "\u001b[1;31m---------------------------------------------------------------------------\u001b[0m",
      "\u001b[1;31mNameError\u001b[0m                                 Traceback (most recent call last)",
      "\u001b[1;32m<ipython-input-31-8cbc7bd0f0a8>\u001b[0m in \u001b[0;36m<module>\u001b[1;34m()\u001b[0m\n\u001b[1;32m----> 1\u001b[1;33m \u001b[0mgm\u001b[0m\u001b[1;33m.\u001b[0m\u001b[0mfind_all\u001b[0m\u001b[1;33m(\u001b[0m\u001b[0mclass_\u001b[0m\u001b[1;33m=\u001b[0m\u001b[0mvp\u001b[0m\u001b[1;33m.\u001b[0m\u001b[0mnathan\u001b[0m\u001b[1;33m.\u001b[0m\u001b[0mparent\u001b[0m\u001b[1;33m[\u001b[0m\u001b[1;34m'class'\u001b[0m\u001b[1;33m]\u001b[0m\u001b[1;33m[\u001b[0m\u001b[1;36m0\u001b[0m\u001b[1;33m]\u001b[0m\u001b[1;33m)\u001b[0m\u001b[1;33m\u001b[0m\u001b[0m\n\u001b[0m",
      "\u001b[1;31mNameError\u001b[0m: name 'gm' is not defined"
     ]
    }
   ],
   "source": [
    "gm.find_all(class_=vp.nathan.parent['class'][0])"
   ]
  },
  {
   "cell_type": "code",
   "execution_count": null,
   "metadata": {
    "collapsed": true
   },
   "outputs": [],
   "source": []
  },
  {
   "cell_type": "code",
   "execution_count": null,
   "metadata": {
    "collapsed": true
   },
   "outputs": [],
   "source": []
  },
  {
   "cell_type": "code",
   "execution_count": null,
   "metadata": {
    "collapsed": true
   },
   "outputs": [],
   "source": []
  },
  {
   "cell_type": "code",
   "execution_count": null,
   "metadata": {
    "collapsed": true
   },
   "outputs": [],
   "source": [
    "gm.find_all"
   ]
  },
  {
   "cell_type": "code",
   "execution_count": null,
   "metadata": {
    "collapsed": true
   },
   "outputs": [],
   "source": []
  },
  {
   "cell_type": "code",
   "execution_count": null,
   "metadata": {
    "collapsed": true
   },
   "outputs": [],
   "source": []
  },
  {
   "cell_type": "code",
   "execution_count": null,
   "metadata": {
    "collapsed": true
   },
   "outputs": [],
   "source": []
  },
  {
   "cell_type": "code",
   "execution_count": null,
   "metadata": {
    "collapsed": true
   },
   "outputs": [],
   "source": []
  },
  {
   "cell_type": "code",
   "execution_count": null,
   "metadata": {
    "collapsed": true
   },
   "outputs": [],
   "source": []
  },
  {
   "cell_type": "code",
   "execution_count": null,
   "metadata": {
    "collapsed": true
   },
   "outputs": [],
   "source": []
  },
  {
   "cell_type": "code",
   "execution_count": null,
   "metadata": {
    "collapsed": true
   },
   "outputs": [],
   "source": []
  },
  {
   "cell_type": "code",
   "execution_count": null,
   "metadata": {
    "collapsed": true
   },
   "outputs": [],
   "source": []
  },
  {
   "cell_type": "code",
   "execution_count": null,
   "metadata": {
    "collapsed": true
   },
   "outputs": [],
   "source": []
  },
  {
   "cell_type": "code",
   "execution_count": 13,
   "metadata": {
    "collapsed": true
   },
   "outputs": [],
   "source": [
    "## Identify Grandmother elements\n",
    "pointers = vh.verifiedPointers\n",
    "gmElements = []\n",
    "gmMatrix = []\n",
    "\n",
    "for i in range(len(pointers)):\n",
    "    igmElements = []\n",
    "    for j in range(i):\n",
    "        ## Check to see if the Any Mother element is a Big Momma or \"Bertha\" Element\n",
    "        if pointers[i].get_mother_element() is pointers[j].get_mother_element():\n",
    "            gm = pointers[i].get_mother_element()\n",
    "        else:\n",
    "            gm = pointers[i].common_parent(pointers[j])\n",
    "        # Append Match to Grand Mother Matrix\n",
    "        igmElements.append(gm)\n",
    "        \n",
    "        # Check to see if this is a new grand mother element,\n",
    "        # if so append to the gmElements list of unique grandmother elements \n",
    "        if gm not in gmElements:\n",
    "            gmElements.append(gm)\n",
    "            \n",
    "    # Append Matrix Row\n",
    "    gmMatrix.append(igmElements)\n",
    "    \n",
    "grandMotherMatrix = np.matrix(gmMatrix)"
   ]
  },
  {
   "cell_type": "code",
   "execution_count": 14,
   "metadata": {
    "collapsed": true
   },
   "outputs": [],
   "source": [
    "noGm = len(gmElements)"
   ]
  },
  {
   "cell_type": "code",
   "execution_count": 15,
   "metadata": {},
   "outputs": [
    {
     "data": {
      "text/plain": [
       "1"
      ]
     },
     "execution_count": 15,
     "metadata": {},
     "output_type": "execute_result"
    }
   ],
   "source": [
    "noGm"
   ]
  },
  {
   "cell_type": "code",
   "execution_count": 21,
   "metadata": {
    "collapsed": true
   },
   "outputs": [],
   "source": [
    "## if 1 grandmother element test set it and test it\n",
    "gm = gmElements[0]"
   ]
  },
  {
   "cell_type": "code",
   "execution_count": 29,
   "metadata": {
    "collapsed": true
   },
   "outputs": [],
   "source": [
    "def distinct_gm(gm, pts):\n",
    "    if len(pts) == 0:\n",
    "        return True\n",
    "    if gm is pts[0].get_mother_element():\n",
    "        return False\n",
    "    else:\n",
    "        return distinct_gm(gm, pts[1:])"
   ]
  },
  {
   "cell_type": "code",
   "execution_count": 31,
   "metadata": {
    "collapsed": true
   },
   "outputs": [],
   "source": [
    "## check to see if Grandmother is Distinct\n",
    "distinct = distinct_gm(gm, pointers)"
   ]
  },
  {
   "cell_type": "code",
   "execution_count": 32,
   "metadata": {},
   "outputs": [
    {
     "data": {
      "text/plain": [
       "True"
      ]
     },
     "execution_count": 32,
     "metadata": {},
     "output_type": "execute_result"
    }
   ],
   "source": [
    "distinct"
   ]
  },
  {
   "cell_type": "code",
   "execution_count": 25,
   "metadata": {},
   "outputs": [
    {
     "data": {
      "text/plain": [
       "<div class=\"team-member-right\"><h3 class=\"team-member-name\">S. Monique Wells</h3><h4 class=\"team-member-position\">Director of Finance and Administration</h4><div class=\"team-member-body hide-class\"><div style=\"overflow: hidden; height: 72px;\">Monique Wells is the Director of Finance and Administration for the National Association for Multi-ethnicity in Communications’ (NAMIC). Prior to that she was their Manager of Operations, a position she assumed in August, 2009. Monique is no stranger to NAMIC and has been a member since 1991. She served as a consultant to NAMIC for a number of special projects, prior to joining the staff. As Director of Finance and Administration, she oversees the administrative and financial operations of the national office. An accomplished professional with a diverse background in sales and project management, Monique previously served as an Energy Conservation Analyst with the Los Angeles Unified School District where she oversaw the utility management for school construction projects. Prior to that, Monique was a National Sales and Marketing Executive for Patriot Communications where she was responsible for the sales, marketing and contract negotiations of enhanced telecommunications products and services. Before joining Patriot, Monique worked at HBO in Affiliate Sales, where she created and implemented sales strategies and account activities for HBO and Cinemax. Her responsibilities included sales, client services, off-channel promotions and special events. During her tenure at HBO, Monique was an active member of the NAMIC-Southern California chapter and served on the Steering Committee for the Vision Awards and chaired both the Sponsorship and Talent Committees. Preceding her tenure in communications, Monique held several executive positions for Kraft General Foods and Sportsvisions, a sports marketing company based in Northern California. Monique earned a Bachelor of Arts degree in Sociology from Clark University in Worcester, MA and a MBA degree in general business and marketing from Atlanta University, now known as Clark Atlanta University in Atlanta, GA. She is on the planning committee for the American Heart Association’s Harlem Go Red For Women Educational Forum and volunteers for the New York Common Pantry, a New York City community based food pantry. </div></div><div class=\"team-member-social\"><a class=\"member-social-twitter\" href=\"\" style=\"display: none;\"><img src=\"http://namic.com/wp-content/themes/namic-dev/./img/icons/member-social-twitter.png\"/></a><a class=\"member-social-linkedin\" href=\"https://www.linkedin.com/pub/s-monique-wells/3/7a0/265\"><img src=\"http://namic.com/wp-content/themes/namic-dev/./img/icons/member-social-linkedin.png\"/></a><a class=\"member-social-facebook\" href=\"\" style=\"display: none;\"><img src=\"http://namic.com/wp-content/themes/namic-dev/./img/icons/member-social-facebook.png\"/></a><a class=\"member-social-google+\" href=\"\" style=\"display: none;\"><img src=\"http://namic.com/wp-content/themes/namic-dev/./img/icons/member-social-google+.png\"/></a><a class=\"member-social-youtube\" href=\"\" style=\"display: none;\"><img src=\"http://namic.com/wp-content/themes/namic-dev/./img/icons/member-social-youtube.png\"/></a></div></div>"
      ]
     },
     "execution_count": 25,
     "metadata": {},
     "output_type": "execute_result"
    }
   ],
   "source": [
    "pointers[1].get_mother_element()"
   ]
  },
  {
   "cell_type": "code",
   "execution_count": null,
   "metadata": {
    "collapsed": true
   },
   "outputs": [],
   "source": []
  },
  {
   "cell_type": "code",
   "execution_count": 122,
   "metadata": {
    "collapsed": true
   },
   "outputs": [],
   "source": [
    "## Tag tree with pattern from nathan to tom\n",
    "def tag_nathans(pt):\n",
    "    return parent_cycle_up(pt.get_mother_element(), pt.nathan.parent, 'nathan', 0)\n",
    "\n",
    "def tag_toms(pt):\n",
    "    return parent_cycle_up(pt.get_mother_element(), pt.tom.parent, 'tom', 0)\n",
    "\n",
    "def parent_cycle_up(motherElement, element, atr, num):\n",
    "    ## for the bertha case we stop at the element that is right befor the mother elemenet\n",
    "    if element.parent is motherElement:\n",
    "        element[atr] = num\n",
    "        element['sib'] = atr\n",
    "    else:\n",
    "        element[atr] = num\n",
    "        return(motherElement, element.parent, atr, num + 1)\n",
    "\n",
    "def reset_tree(pt):\n",
    "    ## Clear all tom, nathan and sib atributes\n",
    "    gm = pt.get_mother_element()\n",
    "    \n",
    "    for tomTag in gm.find_all(has_tom):\n",
    "        del tomTag['tom']    \n",
    "    for nathanTag in gm.find_all(has_nathan):\n",
    "        del nathanTag['nathan']    "
   ]
  },
  {
   "cell_type": "code",
   "execution_count": 35,
   "metadata": {
    "collapsed": true
   },
   "outputs": [],
   "source": [
    "## For Each pointer\n",
    "# Tag Toms and Nathans\n",
    "vp = pointers[0]\n",
    "tag_nathans(vp)\n",
    "tag_toms(vp)"
   ]
  },
  {
   "cell_type": "code",
   "execution_count": 40,
   "metadata": {},
   "outputs": [
    {
     "data": {
      "text/plain": [
       "<h4 class=\"team-member-position\" sib=\"tom\" tom=\"0\">Senior Manager, Membership and Publications</h4>"
      ]
     },
     "execution_count": 40,
     "metadata": {},
     "output_type": "execute_result"
    }
   ],
   "source": [
    "vp.tom.parent"
   ]
  },
  {
   "cell_type": "code",
   "execution_count": 41,
   "metadata": {},
   "outputs": [
    {
     "data": {
      "text/plain": [
       "['team-member-name']"
      ]
     },
     "execution_count": 41,
     "metadata": {},
     "output_type": "execute_result"
    }
   ],
   "source": [
    "## Rocket Extraction: Are you ready to launch?\n",
    "vp.nathan.parent['class']"
   ]
  },
  {
   "cell_type": "code",
   "execution_count": 42,
   "metadata": {},
   "outputs": [
    {
     "data": {
      "text/plain": [
       "['team-member-position']"
      ]
     },
     "execution_count": 42,
     "metadata": {},
     "output_type": "execute_result"
    }
   ],
   "source": [
    "vp.tom.parent['class']"
   ]
  },
  {
   "cell_type": "code",
   "execution_count": 44,
   "metadata": {},
   "outputs": [
    {
     "data": {
      "text/plain": [
       "['team-member-right']"
      ]
     },
     "execution_count": 44,
     "metadata": {},
     "output_type": "execute_result"
    }
   ],
   "source": [
    "vp.get_mother_element()['class']"
   ]
  },
  {
   "cell_type": "code",
   "execution_count": 57,
   "metadata": {
    "collapsed": true
   },
   "outputs": [],
   "source": [
    "## Tom Starts\n",
    "tomStarts = vh.gm.find_all(class_=vp.tom.parent['class'])"
   ]
  },
  {
   "cell_type": "code",
   "execution_count": 58,
   "metadata": {},
   "outputs": [],
   "source": [
    "## Nathan Starts\n",
    "nathanStarts = vh.gm.find_all(class_=vp.nathan.parent['class'])"
   ]
  },
  {
   "cell_type": "code",
   "execution_count": 35,
   "metadata": {
    "collapsed": true
   },
   "outputs": [],
   "source": [
    "## Mother Starts\n",
    "motherStarts = vh.gm.find_all(class_=vp.get_mother_element()['class'])"
   ]
  },
  {
   "cell_type": "code",
   "execution_count": 58,
   "metadata": {},
   "outputs": [
    {
     "data": {
      "text/plain": [
       "<h3 class=\"team-member-name\" nathan=\"0\" sib=\"nathan\">Susan Waldman</h3>"
      ]
     },
     "execution_count": 58,
     "metadata": {},
     "output_type": "execute_result"
    }
   ],
   "source": [
    "vp.tom.parent.previous_sibling"
   ]
  },
  {
   "cell_type": "code",
   "execution_count": 54,
   "metadata": {},
   "outputs": [
    {
     "data": {
      "text/plain": [
       "'Susan Waldman'"
      ]
     },
     "execution_count": 54,
     "metadata": {},
     "output_type": "execute_result"
    }
   ],
   "source": [
    "vp.tom.parent.previous_sibling"
   ]
  },
  {
   "cell_type": "code",
   "execution_count": 55,
   "metadata": {},
   "outputs": [
    {
     "data": {
      "text/plain": [
       "<h4 class=\"team-member-position\" sib=\"tom\" tom=\"0\">Senior Manager, Membership and Publications</h4>"
      ]
     },
     "execution_count": 55,
     "metadata": {},
     "output_type": "execute_result"
    }
   ],
   "source": [
    "vp.nathan.parent.next_sibling"
   ]
  },
  {
   "cell_type": "code",
   "execution_count": 62,
   "metadata": {},
   "outputs": [
    {
     "data": {
      "text/plain": [
       "'Darryl Jackson'"
      ]
     },
     "execution_count": 62,
     "metadata": {},
     "output_type": "execute_result"
    }
   ],
   "source": [
    "# Getting to a nathan with a tom start\n",
    "n = 5\n",
    "tomStarts[n].previous_sibling.string"
   ]
  },
  {
   "cell_type": "code",
   "execution_count": 65,
   "metadata": {},
   "outputs": [
    {
     "data": {
      "text/plain": [
       "'President and CEO'"
      ]
     },
     "execution_count": 65,
     "metadata": {},
     "output_type": "execute_result"
    }
   ],
   "source": [
    "# Getting to a tom with a nathan Start\n",
    "n = 0\n",
    "nathanStarts[n].next_sibling.string"
   ]
  },
  {
   "cell_type": "code",
   "execution_count": 114,
   "metadata": {
    "collapsed": true
   },
   "outputs": [],
   "source": [
    "tom_rocket = lambda startNode: startNode.next_sibling.string\n"
   ]
  },
  {
   "cell_type": "code",
   "execution_count": 115,
   "metadata": {},
   "outputs": [
    {
     "data": {
      "text/plain": [
       "'Administrative Assistant'"
      ]
     },
     "execution_count": 115,
     "metadata": {},
     "output_type": "execute_result"
    }
   ],
   "source": [
    "n = 7\n",
    "tom_rocket(nathanStarts[n])"
   ]
  },
  {
   "cell_type": "code",
   "execution_count": 116,
   "metadata": {
    "collapsed": true
   },
   "outputs": [],
   "source": [
    "nathan_rocket = lambda startNode: startNode.previous_sibling.string"
   ]
  },
  {
   "cell_type": "code",
   "execution_count": 117,
   "metadata": {},
   "outputs": [
    {
     "data": {
      "text/plain": [
       "\"Davana O'Brien\""
      ]
     },
     "execution_count": 117,
     "metadata": {},
     "output_type": "execute_result"
    }
   ],
   "source": [
    "n = 7\n",
    "nathan_rocket(tomStarts[n])"
   ]
  },
  {
   "cell_type": "code",
   "execution_count": 118,
   "metadata": {
    "collapsed": true
   },
   "outputs": [],
   "source": [
    "nathan_missile = lambda startNode: startNode.contents[0].string"
   ]
  },
  {
   "cell_type": "code",
   "execution_count": 119,
   "metadata": {},
   "outputs": [
    {
     "data": {
      "text/plain": [
       "\"Davana O'Brien\""
      ]
     },
     "execution_count": 119,
     "metadata": {},
     "output_type": "execute_result"
    }
   ],
   "source": [
    "n = 7\n",
    "nathan_missile(motherStarts[n])"
   ]
  },
  {
   "cell_type": "code",
   "execution_count": 120,
   "metadata": {
    "collapsed": true
   },
   "outputs": [],
   "source": [
    "tom_missile = lambda startNode: startNode.contents[0].next_sibling.string"
   ]
  },
  {
   "cell_type": "code",
   "execution_count": 121,
   "metadata": {},
   "outputs": [
    {
     "data": {
      "text/plain": [
       "'Administrative Assistant'"
      ]
     },
     "execution_count": 121,
     "metadata": {},
     "output_type": "execute_result"
    }
   ],
   "source": [
    "n = 7\n",
    "tom_missile(motherStarts[n])"
   ]
  },
  {
   "cell_type": "code",
   "execution_count": null,
   "metadata": {
    "collapsed": true
   },
   "outputs": [],
   "source": [
    "## begin recursions\n",
    "## We are tagged and ready\n",
    "\n",
    "def nathan_to_tom_rocket(pt):\n",
    "    if \n",
    "    \n",
    "def tom_to_nathan_rocket(pt):\n",
    "    \n",
    "def mother_to_tom_missile(pt):\n",
    "    \n",
    "def mother_to_nathan_missile(pt):\n",
    "    \n"
   ]
  },
  {
   "cell_type": "code",
   "execution_count": 123,
   "metadata": {},
   "outputs": [
    {
     "data": {
      "text/plain": [
       "<div class=\"team-member-right\"><h3 class=\"team-member-name\" nathan=\"0\" sib=\"nathan\">Susan Waldman</h3><h4 class=\"team-member-position\" sib=\"tom\" tom=\"0\">Senior Manager, Membership and Publications</h4><div class=\"team-member-body hide-class\"><div style=\"overflow: hidden; height: 72px;\">As the Senior Manager of Membership and Publications, Susan Waldman oversees the day-to-day facilitation of NAMIC’s membership operations, as well as market research to drive growth. She is also responsible for the production of NAMIC’s industry-wide publication, Diversity Digest. She launched her career in market research as a media planner on such accounts as Loews Hotels and Omnipoint Communications at Hill, Holliday Altschiller and McCann Direct advertising agencies.  There she was introduced to the gamut of advertising research resources as she planned and purchased the media for various clients.  After a few years, Susan moved over to the magazine industry. Susan has served as the Marketing Research Manager at Vibe, Spin and The Source magazines and Research Director at Motor Trend magazine. Supporting 20 sales representatives by providing them with competitive and analytic research regarding each magazine’s audience, she has honed her research expertise. Susan received a Bachelor of Arts in Psychology from Ohio University in Athens, Ohio. </div></div><div class=\"team-member-social\"><a class=\"member-social-twitter\" href=\"\" style=\"display: none;\"><img src=\"http://namic.com/wp-content/themes/namic-dev/./img/icons/member-social-twitter.png\"/></a><a class=\"member-social-linkedin\" href=\"https://www.linkedin.com/pub/susan-waldman/3/54b/b35\"><img src=\"http://namic.com/wp-content/themes/namic-dev/./img/icons/member-social-linkedin.png\"/></a><a class=\"member-social-facebook\" href=\"\" style=\"display: none;\"><img src=\"http://namic.com/wp-content/themes/namic-dev/./img/icons/member-social-facebook.png\"/></a><a class=\"member-social-google+\" href=\"\" style=\"display: none;\"><img src=\"http://namic.com/wp-content/themes/namic-dev/./img/icons/member-social-google+.png\"/></a><a class=\"member-social-youtube\" href=\"\" style=\"display: none;\"><img src=\"http://namic.com/wp-content/themes/namic-dev/./img/icons/member-social-youtube.png\"/></a></div></div>"
      ]
     },
     "execution_count": 123,
     "metadata": {},
     "output_type": "execute_result"
    }
   ],
   "source": [
    "vp.get_mother_element()"
   ]
  },
  {
   "cell_type": "code",
   "execution_count": null,
   "metadata": {
    "collapsed": true
   },
   "outputs": [],
   "source": [
    "#chain demo 1\n",
    "def next_sib_gen(n):\n",
    "    return lambda n:  "
   ]
  },
  {
   "cell_type": "code",
   "execution_count": 129,
   "metadata": {
    "collapsed": true
   },
   "outputs": [],
   "source": [
    "next_sib_gen = lambda elm, n: elm if n == 0 else next_sib_gen(elm.next_sibling, n - 1)"
   ]
  },
  {
   "cell_type": "code",
   "execution_count": 134,
   "metadata": {},
   "outputs": [
    {
     "data": {
      "text/plain": [
       "<div class=\"team-member-body hide-class\"><div style=\"overflow: hidden; height: 72px;\">As the Senior Manager of Membership and Publications, Susan Waldman oversees the day-to-day facilitation of NAMIC’s membership operations, as well as market research to drive growth. She is also responsible for the production of NAMIC’s industry-wide publication, Diversity Digest. She launched her career in market research as a media planner on such accounts as Loews Hotels and Omnipoint Communications at Hill, Holliday Altschiller and McCann Direct advertising agencies.  There she was introduced to the gamut of advertising research resources as she planned and purchased the media for various clients.  After a few years, Susan moved over to the magazine industry. Susan has served as the Marketing Research Manager at Vibe, Spin and The Source magazines and Research Director at Motor Trend magazine. Supporting 20 sales representatives by providing them with competitive and analytic research regarding each magazine’s audience, she has honed her research expertise. Susan received a Bachelor of Arts in Psychology from Ohio University in Athens, Ohio. </div></div>"
      ]
     },
     "execution_count": 134,
     "metadata": {},
     "output_type": "execute_result"
    }
   ],
   "source": [
    "next_sib_gen(vp.get_mother_element().contents[0],2)"
   ]
  },
  {
   "cell_type": "code",
   "execution_count": 143,
   "metadata": {
    "collapsed": true
   },
   "outputs": [],
   "source": [
    "## USELESS, but good attempt.\n",
    "\n",
    "next_sib = lambda elm: elm.next_sibling\n",
    "prev_sib = lambda elm: elm.previous_sibling\n",
    "parent_up = lambda elm: elm.parent\n",
    "child_down = lambda elm: elm.contents[0]\n",
    "string_out = lambda elm: elm.string"
   ]
  },
  {
   "cell_type": "code",
   "execution_count": 144,
   "metadata": {},
   "outputs": [
    {
     "data": {
      "text/plain": [
       "'Eglon E. Simons'"
      ]
     },
     "execution_count": 144,
     "metadata": {},
     "output_type": "execute_result"
    }
   ],
   "source": [
    "string_out(prev_sib(tomStarts[0]))"
   ]
  },
  {
   "cell_type": "code",
   "execution_count": 146,
   "metadata": {},
   "outputs": [
    {
     "ename": "AttributeError",
     "evalue": "'function' object has no attribute 'string'",
     "output_type": "error",
     "traceback": [
      "\u001b[1;31m---------------------------------------------------------------------------\u001b[0m",
      "\u001b[1;31mAttributeError\u001b[0m                            Traceback (most recent call last)",
      "\u001b[1;32m<ipython-input-146-9672d3f8d8b6>\u001b[0m in \u001b[0;36m<module>\u001b[1;34m()\u001b[0m\n\u001b[1;32m----> 1\u001b[1;33m \u001b[0mstring_out\u001b[0m\u001b[1;33m(\u001b[0m\u001b[0mprev_sib\u001b[0m\u001b[1;33m)\u001b[0m\u001b[1;33m\u001b[0m\u001b[0m\n\u001b[0m",
      "\u001b[1;32m<ipython-input-143-8ac23e159040>\u001b[0m in \u001b[0;36m<lambda>\u001b[1;34m(elm)\u001b[0m\n\u001b[0;32m      3\u001b[0m \u001b[0mparent_up\u001b[0m \u001b[1;33m=\u001b[0m \u001b[1;32mlambda\u001b[0m \u001b[0melm\u001b[0m\u001b[1;33m:\u001b[0m \u001b[0melm\u001b[0m\u001b[1;33m.\u001b[0m\u001b[0mparent\u001b[0m\u001b[1;33m\u001b[0m\u001b[0m\n\u001b[0;32m      4\u001b[0m \u001b[0mchild_down\u001b[0m \u001b[1;33m=\u001b[0m \u001b[1;32mlambda\u001b[0m \u001b[0melm\u001b[0m\u001b[1;33m:\u001b[0m \u001b[0melm\u001b[0m\u001b[1;33m.\u001b[0m\u001b[0mcontents\u001b[0m\u001b[1;33m[\u001b[0m\u001b[1;36m0\u001b[0m\u001b[1;33m]\u001b[0m\u001b[1;33m\u001b[0m\u001b[0m\n\u001b[1;32m----> 5\u001b[1;33m \u001b[0mstring_out\u001b[0m \u001b[1;33m=\u001b[0m \u001b[1;32mlambda\u001b[0m \u001b[0melm\u001b[0m\u001b[1;33m:\u001b[0m \u001b[0melm\u001b[0m\u001b[1;33m.\u001b[0m\u001b[0mstring\u001b[0m\u001b[1;33m\u001b[0m\u001b[0m\n\u001b[0m",
      "\u001b[1;31mAttributeError\u001b[0m: 'function' object has no attribute 'string'"
     ]
    }
   ],
   "source": [
    "string_out(prev_sib)"
   ]
  },
  {
   "cell_type": "code",
   "execution_count": 148,
   "metadata": {
    "collapsed": true
   },
   "outputs": [],
   "source": [
    "rocketString = \".previous_sibling.string\""
   ]
  },
  {
   "cell_type": "code",
   "execution_count": 150,
   "metadata": {
    "collapsed": true
   },
   "outputs": [],
   "source": [
    "## We have a winner! The rocketString eval model\n",
    "nathan_rocket_lambda = lambda elm: eval('elm' + rocketString)"
   ]
  },
  {
   "cell_type": "code",
   "execution_count": null,
   "metadata": {
    "collapsed": true
   },
   "outputs": [],
   "source": [
    "## This one has promise, look at it!\n",
    "def left_right (arg):\n",
    "    if arg == 'Left'\n",
    "        return lambda elm: left_right(right)"
   ]
  },
  {
   "cell_type": "code",
   "execution_count": 166,
   "metadata": {
    "collapsed": true
   },
   "outputs": [],
   "source": [
    "## This one has promise, look at it! Pure higher order functions no strings\n",
    "two_right = lambda elm: tratorx(1, elm).string"
   ]
  },
  {
   "cell_type": "code",
   "execution_count": 167,
   "metadata": {
    "collapsed": true
   },
   "outputs": [],
   "source": [
    "def tratorx(n, elm):\n",
    "    if n == 0:\n",
    "        return elm\n",
    "    else:\n",
    "        return tratorx(n-1,elm).next_sibling"
   ]
  },
  {
   "cell_type": "code",
   "execution_count": 168,
   "metadata": {},
   "outputs": [
    {
     "data": {
      "text/plain": [
       "'President and CEO'"
      ]
     },
     "execution_count": 168,
     "metadata": {},
     "output_type": "execute_result"
    }
   ],
   "source": [
    "## Another Winner!\n",
    "two_right(nathanStarts[0])\n",
    "## Time to fly!!"
   ]
  },
  {
   "cell_type": "markdown",
   "metadata": {},
   "source": [
    "## Missile Work"
   ]
  },
  {
   "cell_type": "code",
   "execution_count": 177,
   "metadata": {
    "collapsed": true
   },
   "outputs": [],
   "source": [
    "## Helpers\n",
    "def contents_position(elm):\n",
    "    return contents_position_loop(elm, 0)\n",
    "\n",
    "def contents_position_loop(elm, num):\n",
    "    if len(list(elm.previous_siblings)) == 0:\n",
    "        return num\n",
    "    else:\n",
    "        return contents_position_loop(elm.previous_sibling, num + 1)\n",
    "        \n",
    "def has_tom(tag):\n",
    "    return 'tom' in tag.attrs\n",
    "\n",
    "def has_nathan(tag):\n",
    "    return 'nathan' in tag.attrs\n",
    "\n",
    "def check_siblings(sibs, attFunc):\n",
    "    for sib in sibs:\n",
    "        if attFunc(sib):\n",
    "            return True\n",
    "    return False\n",
    "        "
   ]
  },
  {
   "cell_type": "code",
   "execution_count": 191,
   "metadata": {
    "collapsed": true
   },
   "outputs": [],
   "source": [
    "def mother_to_tom_missile(pt):\n",
    "    motherElement = pt.get_mother_element()\n",
    "    \n",
    "    if pt.tom is motherElement:\n",
    "        return lambda start: start\n",
    "    else:\n",
    "        return lambda start: cycle_up_mother(pt.tom.parent, motherElement, start).contents[contents_position(pt.tom)]\n",
    "    \n",
    "def mother_to_nathan_missile(pt):\n",
    "    motherElement = pt.get_mother_element()\n",
    "    \n",
    "    if pt.nathan is motherElement:\n",
    "        return lambda start: start\n",
    "    else:\n",
    "        return lambda start: cycle_up_mother(pt.nathan.parent, motherElement, start).contents[contents_position(pt.nathan)]\n",
    "\n",
    "def cycle_up_mother(elm, motherElement, start):\n",
    "    if elm is motherElement:\n",
    "        return start\n",
    "    else:\n",
    "        return cycle_up_mother(elm.parent, motherElement, start).contents[contents_position(elm)]\n",
    "    "
   ]
  },
  {
   "cell_type": "code",
   "execution_count": 179,
   "metadata": {
    "collapsed": true
   },
   "outputs": [],
   "source": [
    "tom_missile = mother_to_tom_missile(vp)"
   ]
  },
  {
   "cell_type": "code",
   "execution_count": 180,
   "metadata": {},
   "outputs": [
    {
     "data": {
      "text/plain": [
       "<function __main__.mother_to_tom_missile.<locals>.<lambda>>"
      ]
     },
     "execution_count": 180,
     "metadata": {},
     "output_type": "execute_result"
    }
   ],
   "source": [
    "tom_missile"
   ]
  },
  {
   "cell_type": "code",
   "execution_count": 190,
   "metadata": {},
   "outputs": [
    {
     "data": {
      "text/plain": [
       "'Administrative Assistant'"
      ]
     },
     "execution_count": 190,
     "metadata": {},
     "output_type": "execute_result"
    }
   ],
   "source": [
    "n = 7\n",
    "tom_missile(motherStarts[n])"
   ]
  },
  {
   "cell_type": "code",
   "execution_count": 192,
   "metadata": {
    "collapsed": true
   },
   "outputs": [],
   "source": [
    "nathan_missile = mother_to_nathan_missile(vp)"
   ]
  },
  {
   "cell_type": "code",
   "execution_count": 201,
   "metadata": {},
   "outputs": [
    {
     "data": {
      "text/plain": [
       "'Brandon D. Hewlett'"
      ]
     },
     "execution_count": 201,
     "metadata": {},
     "output_type": "execute_result"
    }
   ],
   "source": [
    "n = 6\n",
    "nathan_missile(motherStarts[n])"
   ]
  },
  {
   "cell_type": "markdown",
   "metadata": {},
   "source": [
    "## Rocket Time !!"
   ]
  },
  {
   "cell_type": "code",
   "execution_count": 207,
   "metadata": {
    "collapsed": true
   },
   "outputs": [],
   "source": [
    "def nathan_to_tom_rocket(pt):\n",
    "    ## Compute the route from nathan startnode to tom by starting at tom and recursing up, accross and then down\n",
    "    ## looing for nathan = 0 attribute\n",
    "    return lambda start: cycle_up(pt.tom, 'nathan', start)\n",
    "    \n",
    "def tom_to_nathan_rocket(pt):\n",
    "    ## Compute the route from tom startnode to nathan by starting at nathan and recursing up, accross and then down\n",
    "    ## looing for tom = 0 attibute\n",
    "    return lambda start: cycle_up(pt.nathan, 'tom', start)\n",
    "    \n",
    "def cycle_up(elm, to, start):\n",
    "    ## Set Attribut Search Function\n",
    "    attrFunc = has_tom if to == 'tom' else has_nathan\n",
    "    \n",
    "    ## First look Left for shoulder in siblings\n",
    "    if check_siblings(elm.previous_siblings, attrFunc):\n",
    "        return cycle_left(elm.previous_sibling, to, start).next_sibling\n",
    "    ## Then look right\n",
    "    elif check_siblings(elm.next_siblings, attrFunc):\n",
    "        return cycle_right(elm.next_sibling, to, start).previous_sibling\n",
    "    ## if nothing here go up\n",
    "    else:\n",
    "        return cycle_up(elm.parent, to, start).contents[contents_position(elm)]\n",
    "    \n",
    "def cycle_left(elm, to, start):\n",
    "    attrFunc = has_tom if to == 'tom' else has_nathan\n",
    "    \n",
    "    ## if this is the shoulder change functions but dont move\n",
    "    if attrFunc(elm):\n",
    "        return cycle_down(elm, to, start)\n",
    "    ## if not check the element to the left\n",
    "    else:\n",
    "        return cycle_left(elm.previous_sibling, to, start).next_sibling\n",
    "    \n",
    "def cycle_right(elm, to, start):\n",
    "    attrFunc = has_tom if to == 'tom' else has_nathan\n",
    "    \n",
    "    ## if this is the shoulder change functions but dont move\n",
    "    if attrFunc(elm):\n",
    "        return cycle_down(elm, to, start)\n",
    "    ## if not check the element to the left\n",
    "    else:\n",
    "        return cycle_right(elm.next_sibling, to, start).previous_sibling\n",
    "    \n",
    "def cycle_down(elm, to, start):\n",
    "    return cycle_down_loop(elm[to], start)\n",
    "\n",
    "def cycle_down_loop(dist, start):\n",
    "    ## Start Node Condition\n",
    "    if dist == 0:\n",
    "        return start\n",
    "    else: \n",
    "        return cycle_down_loop(dist - 1, start).parent\n",
    "    "
   ]
  },
  {
   "cell_type": "code",
   "execution_count": 208,
   "metadata": {
    "collapsed": true
   },
   "outputs": [],
   "source": [
    "## Rocket Tests\n",
    "tom_rocket = nathan_to_tom_rocket(vp)"
   ]
  },
  {
   "cell_type": "code",
   "execution_count": 217,
   "metadata": {},
   "outputs": [
    {
     "data": {
      "text/plain": [
       "'Administrative Assistant'"
      ]
     },
     "execution_count": 217,
     "metadata": {},
     "output_type": "execute_result"
    }
   ],
   "source": [
    "n = 7\n",
    "\n",
    "tom_rocket(nathanStarts[n])"
   ]
  },
  {
   "cell_type": "code",
   "execution_count": 219,
   "metadata": {
    "collapsed": true
   },
   "outputs": [],
   "source": [
    "nathan_rocket = tom_to_nathan_rocket(vp)"
   ]
  },
  {
   "cell_type": "code",
   "execution_count": 227,
   "metadata": {},
   "outputs": [
    {
     "data": {
      "text/plain": [
       "\"Davana O'Brien\""
      ]
     },
     "execution_count": 227,
     "metadata": {},
     "output_type": "execute_result"
    }
   ],
   "source": [
    "## Success\n",
    "n = 7\n",
    "nathan_rocket(tomStarts[n])"
   ]
  },
  {
   "cell_type": "code",
   "execution_count": null,
   "metadata": {
    "collapsed": true
   },
   "outputs": [],
   "source": []
  },
  {
   "cell_type": "code",
   "execution_count": null,
   "metadata": {
    "collapsed": true
   },
   "outputs": [],
   "source": []
  },
  {
   "cell_type": "code",
   "execution_count": null,
   "metadata": {
    "collapsed": true
   },
   "outputs": [],
   "source": []
  },
  {
   "cell_type": "code",
   "execution_count": null,
   "metadata": {
    "collapsed": true
   },
   "outputs": [],
   "source": []
  },
  {
   "cell_type": "code",
   "execution_count": null,
   "metadata": {
    "collapsed": true
   },
   "outputs": [],
   "source": []
  },
  {
   "cell_type": "code",
   "execution_count": null,
   "metadata": {
    "collapsed": true
   },
   "outputs": [],
   "source": []
  },
  {
   "cell_type": "code",
   "execution_count": null,
   "metadata": {
    "collapsed": true
   },
   "outputs": [],
   "source": []
  },
  {
   "cell_type": "markdown",
   "metadata": {},
   "source": [
    "## Vehicle Assembley\n",
    "#### nathan_to_tom_rocket\n",
    "#### tom_to_nathan_rocket\n",
    "#### mother_to_nathan_missile\n",
    "#### mother_to_tom_missile\n",
    "\n",
    "#### Are all recursive constructors, and are used to get to targets by adding to the 'rocketString' variable recuscursively. Once the base case is met, a single lambda is returned which combines the element and the string of opporations in the rocket string.\n",
    "\n",
    "### Here we go, finnish strong!"
   ]
  },
  {
   "cell_type": "code",
   "execution_count": null,
   "metadata": {
    "collapsed": true
   },
   "outputs": [],
   "source": []
  },
  {
   "cell_type": "code",
   "execution_count": null,
   "metadata": {
    "collapsed": true
   },
   "outputs": [],
   "source": []
  },
  {
   "cell_type": "code",
   "execution_count": 153,
   "metadata": {},
   "outputs": [
    {
     "data": {
      "text/plain": [
       "'Eglon E. Simons'"
      ]
     },
     "execution_count": 153,
     "metadata": {},
     "output_type": "execute_result"
    }
   ],
   "source": [
    "\n",
    "\n",
    "nathan_rocket_lambda(tomStarts[0])"
   ]
  },
  {
   "cell_type": "code",
   "execution_count": null,
   "metadata": {
    "collapsed": true
   },
   "outputs": [],
   "source": []
  },
  {
   "cell_type": "code",
   "execution_count": null,
   "metadata": {
    "collapsed": true
   },
   "outputs": [],
   "source": []
  },
  {
   "cell_type": "code",
   "execution_count": null,
   "metadata": {
    "collapsed": true
   },
   "outputs": [],
   "source": []
  },
  {
   "cell_type": "code",
   "execution_count": null,
   "metadata": {
    "collapsed": true
   },
   "outputs": [],
   "source": []
  },
  {
   "cell_type": "code",
   "execution_count": null,
   "metadata": {
    "collapsed": true
   },
   "outputs": [],
   "source": []
  },
  {
   "cell_type": "code",
   "execution_count": null,
   "metadata": {
    "collapsed": true
   },
   "outputs": [],
   "source": []
  },
  {
   "cell_type": "code",
   "execution_count": 96,
   "metadata": {},
   "outputs": [
    {
     "data": {
      "text/plain": [
       "'Eglon E. Simons'"
      ]
     },
     "execution_count": 96,
     "metadata": {},
     "output_type": "execute_result"
    }
   ],
   "source": [
    "motherStarts[0].contents[0].string"
   ]
  },
  {
   "cell_type": "code",
   "execution_count": null,
   "metadata": {
    "collapsed": true
   },
   "outputs": [],
   "source": []
  },
  {
   "cell_type": "code",
   "execution_count": null,
   "metadata": {
    "collapsed": true
   },
   "outputs": [],
   "source": []
  },
  {
   "cell_type": "code",
   "execution_count": 36,
   "metadata": {},
   "outputs": [
    {
     "data": {
      "text/plain": [
       "<h3 class=\"team-member-name\" nathan=\"0\" sib=\"nathan\">Susan Waldman</h3>"
      ]
     },
     "execution_count": 36,
     "metadata": {},
     "output_type": "execute_result"
    }
   ],
   "source": [
    "vp.nathan.parent\n"
   ]
  },
  {
   "cell_type": "code",
   "execution_count": 19,
   "metadata": {},
   "outputs": [
    {
     "data": {
      "text/plain": [
       "<h4 class=\"team-member-position\">Senior Manager, Membership and Publications</h4>"
      ]
     },
     "execution_count": 19,
     "metadata": {},
     "output_type": "execute_result"
    }
   ],
   "source": [
    "vp.tom.parent"
   ]
  },
  {
   "cell_type": "code",
   "execution_count": 20,
   "metadata": {},
   "outputs": [
    {
     "data": {
      "text/plain": [
       "<div class=\"team-member-right\"><h3 class=\"team-member-name\">Susan Waldman</h3><h4 class=\"team-member-position\">Senior Manager, Membership and Publications</h4><div class=\"team-member-body hide-class\"><div style=\"overflow: hidden; height: 72px;\">As the Senior Manager of Membership and Publications, Susan Waldman oversees the day-to-day facilitation of NAMIC’s membership operations, as well as market research to drive growth. She is also responsible for the production of NAMIC’s industry-wide publication, Diversity Digest. She launched her career in market research as a media planner on such accounts as Loews Hotels and Omnipoint Communications at Hill, Holliday Altschiller and McCann Direct advertising agencies.  There she was introduced to the gamut of advertising research resources as she planned and purchased the media for various clients.  After a few years, Susan moved over to the magazine industry. Susan has served as the Marketing Research Manager at Vibe, Spin and The Source magazines and Research Director at Motor Trend magazine. Supporting 20 sales representatives by providing them with competitive and analytic research regarding each magazine’s audience, she has honed her research expertise. Susan received a Bachelor of Arts in Psychology from Ohio University in Athens, Ohio. </div></div><div class=\"team-member-social\"><a class=\"member-social-twitter\" href=\"\" style=\"display: none;\"><img src=\"http://namic.com/wp-content/themes/namic-dev/./img/icons/member-social-twitter.png\"/></a><a class=\"member-social-linkedin\" href=\"https://www.linkedin.com/pub/susan-waldman/3/54b/b35\"><img src=\"http://namic.com/wp-content/themes/namic-dev/./img/icons/member-social-linkedin.png\"/></a><a class=\"member-social-facebook\" href=\"\" style=\"display: none;\"><img src=\"http://namic.com/wp-content/themes/namic-dev/./img/icons/member-social-facebook.png\"/></a><a class=\"member-social-google+\" href=\"\" style=\"display: none;\"><img src=\"http://namic.com/wp-content/themes/namic-dev/./img/icons/member-social-google+.png\"/></a><a class=\"member-social-youtube\" href=\"\" style=\"display: none;\"><img src=\"http://namic.com/wp-content/themes/namic-dev/./img/icons/member-social-youtube.png\"/></a></div></div>"
      ]
     },
     "execution_count": 20,
     "metadata": {},
     "output_type": "execute_result"
    }
   ],
   "source": [
    "vp.mary"
   ]
  },
  {
   "cell_type": "code",
   "execution_count": null,
   "metadata": {
    "collapsed": true
   },
   "outputs": [],
   "source": []
  },
  {
   "cell_type": "code",
   "execution_count": null,
   "metadata": {
    "collapsed": true
   },
   "outputs": [],
   "source": []
  },
  {
   "cell_type": "code",
   "execution_count": null,
   "metadata": {
    "collapsed": true
   },
   "outputs": [],
   "source": []
  },
  {
   "cell_type": "code",
   "execution_count": null,
   "metadata": {
    "collapsed": true
   },
   "outputs": [],
   "source": []
  }
 ],
 "metadata": {
  "kernelspec": {
   "display_name": "Python 3",
   "language": "python",
   "name": "python3"
  },
  "language_info": {
   "codemirror_mode": {
    "name": "ipython",
    "version": 3
   },
   "file_extension": ".py",
   "mimetype": "text/x-python",
   "name": "python",
   "nbconvert_exporter": "python",
   "pygments_lexer": "ipython3",
   "version": "3.6.1"
  }
 },
 "nbformat": 4,
 "nbformat_minor": 2
}
