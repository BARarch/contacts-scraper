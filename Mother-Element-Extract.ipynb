{
 "cells": [
  {
   "cell_type": "code",
   "execution_count": 37,
   "metadata": {
    "collapsed": true
   },
   "outputs": [],
   "source": [
    "cc.VerificationHandler.close_browser()"
   ]
  },
  {
   "cell_type": "markdown",
   "metadata": {},
   "source": [
    "## Time to crack in and find some more mother elements\n",
    "#### Dont let complexity ruin tempo"
   ]
  },
  {
   "cell_type": "code",
   "execution_count": 1,
   "metadata": {},
   "outputs": [
    {
     "name": "stdout",
     "output_type": "stream",
     "text": [
      "Done\n",
      "Done\n",
      "KEYS\n",
      "Done\n",
      "Done\n",
      "RECORDS COLLECTED\n",
      "DATAFRAMES READY\n",
      "RECORD OUTPUT READY\n",
      "CONTACT CHECKER READY\n"
     ]
    }
   ],
   "source": [
    "% run contactsScraper.py"
   ]
  },
  {
   "cell_type": "code",
   "execution_count": 2,
   "metadata": {
    "collapsed": true
   },
   "outputs": [],
   "source": [
    "orgsForToday = ['National Association for Multi-Ethnicity In Communications (NAMIC)',\n",
    "                'Association for Women in Science',\n",
    "                'Brain Injury Association of America',\n",
    "                'American Society of Home Inspectors',\n",
    "                'NAADAC, the Association for Addiction Professionals',\n",
    "                'American Public Transportation Association',\n",
    "                'Indiana Soybean Alliance',\n",
    "                'Associated Builders and Contractors (ABC)',\n",
    "                'National Association of Social Workers',\n",
    "                'American Marketing Association (AMA)']"
   ]
  },
  {
   "cell_type": "code",
   "execution_count": 140,
   "metadata": {},
   "outputs": [
    {
     "name": "stdout",
     "output_type": "stream",
     "text": [
      "No Fred\n",
      "No Fred\n"
     ]
    }
   ],
   "source": [
    "org = orgsForToday[8]\n",
    "\n",
    "vh = cc.MotherSetVerifier(org)"
   ]
  },
  {
   "cell_type": "code",
   "execution_count": 141,
   "metadata": {
    "collapsed": true
   },
   "outputs": [],
   "source": [
    "pointers = vh.verifiedPointers"
   ]
  },
  {
   "cell_type": "code",
   "execution_count": 153,
   "metadata": {},
   "outputs": [
    {
     "data": {
      "text/plain": [
       "2"
      ]
     },
     "execution_count": 153,
     "metadata": {},
     "output_type": "execute_result"
    }
   ],
   "source": [
    "len(pointers)"
   ]
  },
  {
   "cell_type": "code",
   "execution_count": 142,
   "metadata": {},
   "outputs": [
    {
     "data": {
      "text/plain": [
       "['Mon Oct 16, 2017  15:53:35', '3.836', 's', 'Good']"
      ]
     },
     "execution_count": 142,
     "metadata": {},
     "output_type": "execute_result"
    }
   ],
   "source": [
    "cc.VerificationHandler.orgRecords.orgSessionStatusCheck()"
   ]
  },
  {
   "cell_type": "code",
   "execution_count": 8,
   "metadata": {
    "collapsed": true
   },
   "outputs": [],
   "source": [
    "import numpy as np"
   ]
  },
  {
   "cell_type": "code",
   "execution_count": 7,
   "metadata": {},
   "outputs": [
    {
     "data": {
      "text/plain": [
       "matrix([[<contactChecker.VerifiedPointer object at 0x000001A42083EF98>,\n",
       "         <contactChecker.VerifiedPointer object at 0x000001A420938EB8>,\n",
       "         <contactChecker.VerifiedPointer object at 0x000001A420938E48>],\n",
       "        [<contactChecker.VerifiedPointer object at 0x000001A42083EF98>,\n",
       "         <contactChecker.VerifiedPointer object at 0x000001A420938EB8>,\n",
       "         <contactChecker.VerifiedPointer object at 0x000001A420938E48>]], dtype=object)"
      ]
     },
     "execution_count": 7,
     "metadata": {},
     "output_type": "execute_result"
    }
   ],
   "source": [
    "np.matrix([pointers, pointers])"
   ]
  },
  {
   "cell_type": "code",
   "execution_count": 180,
   "metadata": {
    "collapsed": true
   },
   "outputs": [],
   "source": [
    "## Grandmother Finding Algorithm\n",
    "\n",
    "gmElements = []\n",
    "gmMatrix = []\n",
    "\n",
    "for i in range(len(pointers)):\n",
    "    igmElements = []\n",
    "    for j in range(i):\n",
    "        ## Check to see if the Any Mother element is a Big Momma or \"Bertha\" Element\n",
    "        if pointers[i].get_mother_element() is pointers[j].get_mother_element():\n",
    "            gm = pointers[i].get_mother_element()\n",
    "        else:\n",
    "            gm = pointers[i].common_parent(pointers[j])\n",
    "        # Append Match to Grand Mother Matrix\n",
    "        igmElements.append(gm)\n",
    "        \n",
    "        # Check to see if this is a new grand mother element,\n",
    "        # if so append to the gmElements list of unique grandmother elements \n",
    "        if gm not in gmElements:\n",
    "            gmElements.append(gm)\n",
    "            \n",
    "    # Append Matrix Row\n",
    "    gmMatrix.append(igmElements)\n",
    "    \n",
    "grandMotherMatrix = np.matrix(gmMatrix)\n",
    "    \n",
    "        "
   ]
  },
  {
   "cell_type": "code",
   "execution_count": 181,
   "metadata": {},
   "outputs": [
    {
     "data": {
      "text/plain": [
       "matrix([[[],\n",
       "         [<div id=\"dnn_ctr17530_HtmlModule_lblContent\"><h2 class=\"h2_addpading\"> President </h2> <h3>Kathryn Conley Wehrmann, PhD, MSW, LCSW </h3> <img alt=\"Kathryn Conley Wehrmann, PhD, MSW, LCSW\" src=\"/portals/0/Images/_About/board-wehrmann.jpg?ver=2017-05-05-113330-207\" style=\"max-width: 100%; float: left; padding-bottom: 20px; padding-right: 15px; padding-top: 15px;\" title=\"Kathryn Conley Wehrmann, PhD, MSW, LCSW\"/> <p> <strong>Kathryn Conley Wehrmann, PhD, MSW, LCSW</strong> (Illinois Chapter), received her PhD and MSW from the University of Illinois, Urbana-Champaign. She is currently a faculty member and BSW Program Director at Illinois State University (ISU). She also served in public child welfare and healthcare settings, providing a sound background for being chosen to be a Senior Fulbright Scholar to Romania where she taught and conducted research on child welfare reform. Dr. Wehrmann served at ISU as principal investigator on two child welfare training grants and was recognized for successfully securing approximately $1M in grants and contracts. </p> <p> Honored as NASW Lifetime Achievement award recipient at the district level, she served as NASW District Chair, state Conference Chair, Illinois Chapter President, National Board Representative for Region IX, and member of the Executive Committee. She's a current member of the Baccalaureate Program Directors, and the Fulbright Association. </p> <hr/> <h2 class=\"h2_addpading\"> Vice President </h2> <h3 class=\"h3_addpading\"> Mildred (Mit) Joyner, MSW, LCSW, BCD </h3> <img alt=\"Mildred (Mit) Joyner, MSW, LCSW, BCD\" src=\"/portals/0/Images/_About/board-joyner.jpg?ver=2017-05-05-114943-747\" style=\"max-width: 100%; float: left; padding-bottom: 20px; padding-right: 15px; padding-top: 10px;\" title=\"Mildred (Mit) Joyner, MSW, LCSW, BCD\"/> <p> <strong>Mildred (Mit) Joyner, MSW, LCSW, BCD</strong> (Pennsylvania Chapter), received an MSW from Howard University and a BSW from the Central State University in Ohio. She directed and chaired the undergraduate social work department at West Chester University of Pennsylvania for 25 years. </p> <p> She retired after 32 years as full professor with emeritus status. Ms. Joyner is co-author of   <em>Critical Multicultural Social Work </em>and <em>Caregivers for Persons Living with HIV/AIDS in Kenya: An Ecological Perspective</em>. </p> <p>    She serves on the boards of DNB First Bank, Chester County Food Bank, and Dana Farber Soulmates Advisory Board. Honored as the William Culp Lecturer; the Dr. Inabel Burns Lindsay awardee; and named a Social Work Pioneer. She also received the Living Beyond Breast Cancer Founders Award. </p> <hr/> <h2 class=\"h2_addpading\"> Secretary </h2> <h3 class=\"h3_addpading\">Heather Bradley-Geary, MSW</h3> <br/> <img alt=\"Heather Bradley-Geary, MSW\" src=\"/portals/0/Images/_About/board-geary.jpg\" style=\"max-width: 100%; float: left; padding-bottom: 20px; padding-right: 15px;\" title=\"Heather Bradley-Geary, MSW\"/> <strong>Heather Bradley-Geary, MSW</strong> (Missouri Chapter), received a master of social welfare degree and a bachelor of fine arts (in music therapy) degree from the University of Kansas. She is Lead Developer of Supportive Housing at The Vecino Group where she develops permanent supportive housing to end homelessness. <p> Ms. Bradley-Geary has served on many boards including: the Missouri Chapter of NASW and the Executive Committee of the Board; the Governor’s Committee to End Homelessness; Homeless Management Information System; and Multiracial Family Circle. She serves on the Homeless Services Coalition of Greater Kansas City and was honored as the Missouri Social Worker of the Year and Humanitarian of the Year in 2011. </p> <hr/> <h2 class=\"h2_addpading\"> Treasurer </h2> <h3 class=\"h3_addpading\">Patrick J. Johnson, LCSW</h3> <br/> <img alt=\"Patrick J. Johnson, LCSW\" src=\"/portals/0/Images/_About/board-johnson.jpg\" style=\"max-width: 100%; float: left; padding-bottom: 20px; padding-right: 15px;\" title=\"Patrick J. Johnson, LCSW\"/> <p> <strong>Patrick J. Johnson, LCSW </strong>(Connecticut Chapter), consults in non-profit management and governance and is Interim Executive Director of the Connecticut Association of Nonprofits Inc. He recently retired as President of Oak Hill, the largest provider of comprehensive community-based services for people with disabilities in Connecticut.  Mr. Johnson received a MSW from the University of Connecticut and a BS from the Central Connecticut State College and is an advocate for people with disabilities and those marginalized by society. </p> <p>    Mr. Johnson served as ranking administrator and/or board member for a wide range of human services. Prior to Oak Hill, he was Executive Director of Catholic Charities/Catholic Family Services and managed municipal services. He has been a leader in the full spectrum of human services in Connecticut, including mental health, health, basic human needs, assistive technology, and housing and has often served as a Board Treasurer, including the NASW Connecticut Chapter. </p></div>]]], dtype=object)"
      ]
     },
     "execution_count": 181,
     "metadata": {},
     "output_type": "execute_result"
    }
   ],
   "source": [
    "grandMotherMatrix"
   ]
  },
  {
   "cell_type": "markdown",
   "metadata": {},
   "source": [
    "## Just what was Expexted, 1 grandmother element"
   ]
  },
  {
   "cell_type": "code",
   "execution_count": 182,
   "metadata": {},
   "outputs": [
    {
     "data": {
      "text/plain": [
       "1"
      ]
     },
     "execution_count": 182,
     "metadata": {},
     "output_type": "execute_result"
    }
   ],
   "source": [
    "len(gmElements)"
   ]
  },
  {
   "cell_type": "code",
   "execution_count": 146,
   "metadata": {},
   "outputs": [
    {
     "data": {
      "text/plain": [
       "bs4.element.Tag"
      ]
     },
     "execution_count": 146,
     "metadata": {},
     "output_type": "execute_result"
    }
   ],
   "source": [
    "type(gmElements[0])"
   ]
  },
  {
   "cell_type": "markdown",
   "metadata": {},
   "source": [
    "## Find other Mother elements with the same attributes within the found GrandMother "
   ]
  },
  {
   "cell_type": "code",
   "execution_count": 183,
   "metadata": {
    "collapsed": true
   },
   "outputs": [],
   "source": [
    "a = pointers[1].get_mother_element()\n",
    "b = pointers[0].get_mother_element()"
   ]
  },
  {
   "cell_type": "code",
   "execution_count": 186,
   "metadata": {},
   "outputs": [
    {
     "data": {
      "text/plain": [
       "True"
      ]
     },
     "execution_count": 186,
     "metadata": {},
     "output_type": "execute_result"
    }
   ],
   "source": [
    "a is gm"
   ]
  },
  {
   "cell_type": "code",
   "execution_count": 174,
   "metadata": {},
   "outputs": [
    {
     "name": "stdout",
     "output_type": "stream",
     "text": [
      "<div class=\"DNNModuleContent ModDNNHTMLC\" id=\"dnn_ctr17530_ModuleContent\">\n",
      " <div id=\"dnn_ctr17530_HtmlModule_lblContent\">\n",
      "  <h2 class=\"h2_addpading\">\n",
      "   President\n",
      "  </h2>\n",
      "  <h3>\n",
      "   Kathryn Conley Wehrmann, PhD, MSW, LCSW\n",
      "  </h3>\n",
      "  <img alt=\"Kathryn Conley Wehrmann, PhD, MSW, LCSW\" src=\"/portals/0/Images/_About/board-wehrmann.jpg?ver=2017-05-05-113330-207\" style=\"max-width: 100%; float: left; padding-bottom: 20px; padding-right: 15px; padding-top: 15px;\" title=\"Kathryn Conley Wehrmann, PhD, MSW, LCSW\"/>\n",
      "  <p>\n",
      "   <strong>\n",
      "    Kathryn Conley Wehrmann, PhD, MSW, LCSW\n",
      "   </strong>\n",
      "   (Illinois Chapter), received her PhD and MSW from the University of Illinois, Urbana-Champaign. She is currently a faculty member and BSW Program Director at Illinois State University (ISU). She also served in public child welfare and healthcare settings, providing a sound background for being chosen to be a Senior Fulbright Scholar to Romania where she taught and conducted research on child welfare reform. Dr. Wehrmann served at ISU as principal investigator on two child welfare training grants and was recognized for successfully securing approximately $1M in grants and contracts.\n",
      "  </p>\n",
      "  <p>\n",
      "   Honored as NASW Lifetime Achievement award recipient at the district level, she served as NASW District Chair, state Conference Chair, Illinois Chapter President, National Board Representative for Region IX, and member of the Executive Committee. She's a current member of the Baccalaureate Program Directors, and the Fulbright Association.\n",
      "  </p>\n",
      "  <hr/>\n",
      "  <h2 class=\"h2_addpading\">\n",
      "   Vice President\n",
      "  </h2>\n",
      "  <h3 class=\"h3_addpading\">\n",
      "   Mildred (Mit) Joyner, MSW, LCSW, BCD\n",
      "  </h3>\n",
      "  <img alt=\"Mildred (Mit) Joyner, MSW, LCSW, BCD\" src=\"/portals/0/Images/_About/board-joyner.jpg?ver=2017-05-05-114943-747\" style=\"max-width: 100%; float: left; padding-bottom: 20px; padding-right: 15px; padding-top: 10px;\" title=\"Mildred (Mit) Joyner, MSW, LCSW, BCD\"/>\n",
      "  <p>\n",
      "   <strong>\n",
      "    Mildred (Mit) Joyner, MSW, LCSW, BCD\n",
      "   </strong>\n",
      "   (Pennsylvania Chapter), received an MSW from Howard University and a BSW from the Central State University in Ohio. She directed and chaired the undergraduate social work department at West Chester University of Pennsylvania for 25 years.\n",
      "  </p>\n",
      "  <p>\n",
      "   She retired after 32 years as full professor with emeritus status. Ms. Joyner is co-author of\n",
      "   <em>\n",
      "    Critical Multicultural Social Work\n",
      "   </em>\n",
      "   and\n",
      "   <em>\n",
      "    Caregivers for Persons Living with HIV/AIDS in Kenya: An Ecological Perspective\n",
      "   </em>\n",
      "   .\n",
      "  </p>\n",
      "  <p>\n",
      "   She serves on the boards of DNB First Bank, Chester County Food Bank, and Dana Farber Soulmates Advisory Board. Honored as the William Culp Lecturer; the Dr. Inabel Burns Lindsay awardee; and named a Social Work Pioneer. She also received the Living Beyond Breast Cancer Founders Award.\n",
      "  </p>\n",
      "  <hr/>\n",
      "  <h2 class=\"h2_addpading\">\n",
      "   Secretary\n",
      "  </h2>\n",
      "  <h3 class=\"h3_addpading\">\n",
      "   Heather Bradley-Geary, MSW\n",
      "  </h3>\n",
      "  <br/>\n",
      "  <img alt=\"Heather Bradley-Geary, MSW\" src=\"/portals/0/Images/_About/board-geary.jpg\" style=\"max-width: 100%; float: left; padding-bottom: 20px; padding-right: 15px;\" title=\"Heather Bradley-Geary, MSW\"/>\n",
      "  <strong>\n",
      "   Heather Bradley-Geary, MSW\n",
      "  </strong>\n",
      "  (Missouri Chapter), received a master of social welfare degree and a bachelor of fine arts (in music therapy) degree from the University of Kansas. She is Lead Developer of Supportive Housing at The Vecino Group where she develops permanent supportive housing to end homelessness.\n",
      "  <p>\n",
      "   Ms. Bradley-Geary has served on many boards including: the Missouri Chapter of NASW and the Executive Committee of the Board; the Governor’s Committee to End Homelessness; Homeless Management Information System; and Multiracial Family Circle. She serves on the Homeless Services Coalition of Greater Kansas City and was honored as the Missouri Social Worker of the Year and Humanitarian of the Year in 2011.\n",
      "  </p>\n",
      "  <hr/>\n",
      "  <h2 class=\"h2_addpading\">\n",
      "   Treasurer\n",
      "  </h2>\n",
      "  <h3 class=\"h3_addpading\">\n",
      "   Patrick J. Johnson, LCSW\n",
      "  </h3>\n",
      "  <br/>\n",
      "  <img alt=\"Patrick J. Johnson, LCSW\" src=\"/portals/0/Images/_About/board-johnson.jpg\" style=\"max-width: 100%; float: left; padding-bottom: 20px; padding-right: 15px;\" title=\"Patrick J. Johnson, LCSW\"/>\n",
      "  <p>\n",
      "   <strong>\n",
      "    Patrick J. Johnson, LCSW\n",
      "   </strong>\n",
      "   (Connecticut Chapter), consults in non-profit management and governance and is Interim Executive Director of the Connecticut Association of Nonprofits Inc. He recently retired as President of Oak Hill, the largest provider of comprehensive community-based services for people with disabilities in Connecticut.  Mr. Johnson received a MSW from the University of Connecticut and a BS from the Central Connecticut State College and is an advocate for people with disabilities and those marginalized by society.\n",
      "  </p>\n",
      "  <p>\n",
      "   Mr. Johnson served as ranking administrator and/or board member for a wide range of human services. Prior to Oak Hill, he was Executive Director of Catholic Charities/Catholic Family Services and managed municipal services. He has been a leader in the full spectrum of human services in Connecticut, including mental health, health, basic human needs, assistive technology, and housing and has often served as a Board Treasurer, including the NASW Connecticut Chapter.\n",
      "  </p>\n",
      " </div>\n",
      "</div>\n",
      "\n"
     ]
    }
   ],
   "source": [
    "print(gm.prettify())"
   ]
  },
  {
   "cell_type": "code",
   "execution_count": 27,
   "metadata": {},
   "outputs": [
    {
     "data": {
      "text/plain": [
       "{'class': ['team-member-right']}"
      ]
     },
     "execution_count": 27,
     "metadata": {},
     "output_type": "execute_result"
    }
   ],
   "source": [
    "b.attrs"
   ]
  },
  {
   "cell_type": "code",
   "execution_count": 30,
   "metadata": {},
   "outputs": [
    {
     "data": {
      "text/plain": [
       "True"
      ]
     },
     "execution_count": 30,
     "metadata": {},
     "output_type": "execute_result"
    }
   ],
   "source": [
    "a.attrs == b.attrs"
   ]
  },
  {
   "cell_type": "code",
   "execution_count": 31,
   "metadata": {},
   "outputs": [
    {
     "data": {
      "text/plain": [
       "'div'"
      ]
     },
     "execution_count": 31,
     "metadata": {},
     "output_type": "execute_result"
    }
   ],
   "source": [
    "a.name"
   ]
  },
  {
   "cell_type": "code",
   "execution_count": 32,
   "metadata": {},
   "outputs": [
    {
     "data": {
      "text/plain": [
       "'div'"
      ]
     },
     "execution_count": 32,
     "metadata": {},
     "output_type": "execute_result"
    }
   ],
   "source": [
    "b.name"
   ]
  },
  {
   "cell_type": "code",
   "execution_count": 185,
   "metadata": {
    "collapsed": true
   },
   "outputs": [],
   "source": [
    "gm = gmElements[0]"
   ]
  },
  {
   "cell_type": "code",
   "execution_count": 115,
   "metadata": {
    "collapsed": true
   },
   "outputs": [],
   "source": [
    "finds = gm.find_all(class_='team-member-right')"
   ]
  },
  {
   "cell_type": "code",
   "execution_count": 116,
   "metadata": {},
   "outputs": [
    {
     "data": {
      "text/plain": [
       "8"
      ]
     },
     "execution_count": 116,
     "metadata": {},
     "output_type": "execute_result"
    }
   ],
   "source": [
    "len(finds)"
   ]
  },
  {
   "cell_type": "code",
   "execution_count": 195,
   "metadata": {
    "collapsed": true
   },
   "outputs": [],
   "source": [
    "findsSib = gm.find_all(\"h2\") "
   ]
  },
  {
   "cell_type": "code",
   "execution_count": 196,
   "metadata": {},
   "outputs": [
    {
     "data": {
      "text/plain": [
       "[<h2 class=\"h2_addpading\"> President </h2>,\n",
       " <h2 class=\"h2_addpading\"> Vice President </h2>,\n",
       " <h2 class=\"h2_addpading\"> Secretary </h2>,\n",
       " <h2 class=\"h2_addpading\"> Treasurer </h2>]"
      ]
     },
     "execution_count": 196,
     "metadata": {},
     "output_type": "execute_result"
    }
   ],
   "source": [
    "findsSib"
   ]
  },
  {
   "cell_type": "code",
   "execution_count": null,
   "metadata": {
    "collapsed": true
   },
   "outputs": [],
   "source": []
  },
  {
   "cell_type": "markdown",
   "metadata": {},
   "source": [
    "## There are verified pointers and there are elements that mimic them"
   ]
  },
  {
   "cell_type": "code",
   "execution_count": 170,
   "metadata": {},
   "outputs": [
    {
     "data": {
      "text/plain": [
       "<div class=\"DNNModuleContent ModDNNHTMLC\" id=\"dnn_ctr17530_ModuleContent\"> <div id=\"dnn_ctr17530_HtmlModule_lblContent\"><h2 class=\"h2_addpading\"> President </h2> <h3>Kathryn Conley Wehrmann, PhD, MSW, LCSW </h3> <img alt=\"Kathryn Conley Wehrmann, PhD, MSW, LCSW\" src=\"/portals/0/Images/_About/board-wehrmann.jpg?ver=2017-05-05-113330-207\" style=\"max-width: 100%; float: left; padding-bottom: 20px; padding-right: 15px; padding-top: 15px;\" title=\"Kathryn Conley Wehrmann, PhD, MSW, LCSW\"/> <p> <strong>Kathryn Conley Wehrmann, PhD, MSW, LCSW</strong> (Illinois Chapter), received her PhD and MSW from the University of Illinois, Urbana-Champaign. She is currently a faculty member and BSW Program Director at Illinois State University (ISU). She also served in public child welfare and healthcare settings, providing a sound background for being chosen to be a Senior Fulbright Scholar to Romania where she taught and conducted research on child welfare reform. Dr. Wehrmann served at ISU as principal investigator on two child welfare training grants and was recognized for successfully securing approximately $1M in grants and contracts. </p> <p> Honored as NASW Lifetime Achievement award recipient at the district level, she served as NASW District Chair, state Conference Chair, Illinois Chapter President, National Board Representative for Region IX, and member of the Executive Committee. She's a current member of the Baccalaureate Program Directors, and the Fulbright Association. </p> <hr/> <h2 class=\"h2_addpading\"> Vice President </h2> <h3 class=\"h3_addpading\"> Mildred (Mit) Joyner, MSW, LCSW, BCD </h3> <img alt=\"Mildred (Mit) Joyner, MSW, LCSW, BCD\" src=\"/portals/0/Images/_About/board-joyner.jpg?ver=2017-05-05-114943-747\" style=\"max-width: 100%; float: left; padding-bottom: 20px; padding-right: 15px; padding-top: 10px;\" title=\"Mildred (Mit) Joyner, MSW, LCSW, BCD\"/> <p> <strong>Mildred (Mit) Joyner, MSW, LCSW, BCD</strong> (Pennsylvania Chapter), received an MSW from Howard University and a BSW from the Central State University in Ohio. She directed and chaired the undergraduate social work department at West Chester University of Pennsylvania for 25 years. </p> <p> She retired after 32 years as full professor with emeritus status. Ms. Joyner is co-author of   <em>Critical Multicultural Social Work </em>and <em>Caregivers for Persons Living with HIV/AIDS in Kenya: An Ecological Perspective</em>. </p> <p>    She serves on the boards of DNB First Bank, Chester County Food Bank, and Dana Farber Soulmates Advisory Board. Honored as the William Culp Lecturer; the Dr. Inabel Burns Lindsay awardee; and named a Social Work Pioneer. She also received the Living Beyond Breast Cancer Founders Award. </p> <hr/> <h2 class=\"h2_addpading\"> Secretary </h2> <h3 class=\"h3_addpading\">Heather Bradley-Geary, MSW</h3> <br/> <img alt=\"Heather Bradley-Geary, MSW\" src=\"/portals/0/Images/_About/board-geary.jpg\" style=\"max-width: 100%; float: left; padding-bottom: 20px; padding-right: 15px;\" title=\"Heather Bradley-Geary, MSW\"/> <strong>Heather Bradley-Geary, MSW</strong> (Missouri Chapter), received a master of social welfare degree and a bachelor of fine arts (in music therapy) degree from the University of Kansas. She is Lead Developer of Supportive Housing at The Vecino Group where she develops permanent supportive housing to end homelessness. <p> Ms. Bradley-Geary has served on many boards including: the Missouri Chapter of NASW and the Executive Committee of the Board; the Governor’s Committee to End Homelessness; Homeless Management Information System; and Multiracial Family Circle. She serves on the Homeless Services Coalition of Greater Kansas City and was honored as the Missouri Social Worker of the Year and Humanitarian of the Year in 2011. </p> <hr/> <h2 class=\"h2_addpading\"> Treasurer </h2> <h3 class=\"h3_addpading\">Patrick J. Johnson, LCSW</h3> <br/> <img alt=\"Patrick J. Johnson, LCSW\" src=\"/portals/0/Images/_About/board-johnson.jpg\" style=\"max-width: 100%; float: left; padding-bottom: 20px; padding-right: 15px;\" title=\"Patrick J. Johnson, LCSW\"/> <p> <strong>Patrick J. Johnson, LCSW </strong>(Connecticut Chapter), consults in non-profit management and governance and is Interim Executive Director of the Connecticut Association of Nonprofits Inc. He recently retired as President of Oak Hill, the largest provider of comprehensive community-based services for people with disabilities in Connecticut.  Mr. Johnson received a MSW from the University of Connecticut and a BS from the Central Connecticut State College and is an advocate for people with disabilities and those marginalized by society. </p> <p>    Mr. Johnson served as ranking administrator and/or board member for a wide range of human services. Prior to Oak Hill, he was Executive Director of Catholic Charities/Catholic Family Services and managed municipal services. He has been a leader in the full spectrum of human services in Connecticut, including mental health, health, basic human needs, assistive technology, and housing and has often served as a Board Treasurer, including the NASW Connecticut Chapter. </p></div> </div>"
      ]
     },
     "execution_count": 170,
     "metadata": {},
     "output_type": "execute_result"
    }
   ],
   "source": [
    "gm"
   ]
  },
  {
   "cell_type": "code",
   "execution_count": 14,
   "metadata": {
    "collapsed": true
   },
   "outputs": [],
   "source": [
    "mothers = pointers"
   ]
  },
  {
   "cell_type": "code",
   "execution_count": 15,
   "metadata": {},
   "outputs": [
    {
     "data": {
      "text/plain": [
       "True"
      ]
     },
     "execution_count": 15,
     "metadata": {},
     "output_type": "execute_result"
    }
   ],
   "source": [
    "mothers[0].tom_here()"
   ]
  },
  {
   "cell_type": "code",
   "execution_count": 17,
   "metadata": {},
   "outputs": [
    {
     "data": {
      "text/plain": [
       "'Senior Manager, Membership and Publications'"
      ]
     },
     "execution_count": 17,
     "metadata": {},
     "output_type": "execute_result"
    }
   ],
   "source": [
    "mothers[0].tom"
   ]
  },
  {
   "cell_type": "code",
   "execution_count": 20,
   "metadata": {},
   "outputs": [
    {
     "data": {
      "text/plain": [
       "True"
      ]
     },
     "execution_count": 20,
     "metadata": {},
     "output_type": "execute_result"
    }
   ],
   "source": [
    "mothers[0].mary_here()"
   ]
  },
  {
   "cell_type": "code",
   "execution_count": null,
   "metadata": {
    "collapsed": true
   },
   "outputs": [],
   "source": []
  },
  {
   "cell_type": "code",
   "execution_count": 21,
   "metadata": {},
   "outputs": [
    {
     "data": {
      "text/plain": [
       "True"
      ]
     },
     "execution_count": 21,
     "metadata": {},
     "output_type": "execute_result"
    }
   ],
   "source": [
    "mothers[0].tom.parent.parent is mothers[0].mary"
   ]
  },
  {
   "cell_type": "code",
   "execution_count": 32,
   "metadata": {},
   "outputs": [
    {
     "data": {
      "text/plain": [
       "{'class': ['team-member-position'], 'toms': 0}"
      ]
     },
     "execution_count": 32,
     "metadata": {},
     "output_type": "execute_result"
    }
   ],
   "source": [
    "mothers[0].tom.parent.attrs"
   ]
  },
  {
   "cell_type": "code",
   "execution_count": 30,
   "metadata": {},
   "outputs": [
    {
     "data": {
      "text/plain": [
       "['Senior Manager, Membership and Publications']"
      ]
     },
     "execution_count": 30,
     "metadata": {},
     "output_type": "execute_result"
    }
   ],
   "source": [
    "mothers[0].tom.parent.contents"
   ]
  },
  {
   "cell_type": "code",
   "execution_count": 31,
   "metadata": {
    "collapsed": true
   },
   "outputs": [],
   "source": [
    "mothers[0].tom.parent['toms'] = 0"
   ]
  },
  {
   "cell_type": "code",
   "execution_count": 33,
   "metadata": {},
   "outputs": [
    {
     "data": {
      "text/plain": [
       "True"
      ]
     },
     "execution_count": 33,
     "metadata": {},
     "output_type": "execute_result"
    }
   ],
   "source": [
    "mothers[0].nathan_here()"
   ]
  },
  {
   "cell_type": "code",
   "execution_count": 34,
   "metadata": {},
   "outputs": [
    {
     "data": {
      "text/plain": [
       "'Susan Waldman'"
      ]
     },
     "execution_count": 34,
     "metadata": {},
     "output_type": "execute_result"
    }
   ],
   "source": [
    "mothers[0].nathan"
   ]
  },
  {
   "cell_type": "code",
   "execution_count": 38,
   "metadata": {
    "collapsed": true
   },
   "outputs": [],
   "source": [
    "mothers[0].nathan.parent['nathans'] = 0"
   ]
  },
  {
   "cell_type": "code",
   "execution_count": 40,
   "metadata": {},
   "outputs": [
    {
     "data": {
      "text/plain": [
       "True"
      ]
     },
     "execution_count": 40,
     "metadata": {},
     "output_type": "execute_result"
    }
   ],
   "source": [
    "mothers[0].nathan.parent.parent is mothers[0].get_mother_element()"
   ]
  },
  {
   "cell_type": "code",
   "execution_count": 104,
   "metadata": {
    "collapsed": true
   },
   "outputs": [],
   "source": [
    "## Tag elements with atributes up the ancestrial chain from tom all the way to the mother element\n",
    "def tag_nathans(pt):\n",
    "    ## Precondition: The name pointer for this verified pointer is a nathan\n",
    "    return parent_cycle_up(pt.get_mother_element(), pt.nathan.parent, 'nathans', 0)\n",
    "\n",
    "def tag_toms(pt):\n",
    "    return parent_cycle_up(pt.get_mother_element(), pt.tom.parent, 'toms', 0)\n",
    "\n",
    "def parent_cycle_up(motherElement, element, atr, num):\n",
    "    if element is motherElement:\n",
    "        return\n",
    "    else:\n",
    "        element[atr] = num\n",
    "        return parent_cycle(motherElement, element.parent, atr, num + 1)\n",
    "    \n",
    "def get_nathan(fnd, taggedPt):\n",
    "    ## Lean fnd from a mother\n",
    "    ## get from the root to the foot\n",
    "    ## precondition fnd is a found mother element\n",
    "    return parent_cycle_down(fnd.children, taggedPt.get_mother_element().children, 'nathans')\n",
    "\n",
    "def get_tom(fnd, taggedPt):\n",
    "    ## Learn a find from a mother\n",
    "    ## get tom from the root to the froot\n",
    "    ## precondition fnd is a found mother element\n",
    "    return parent_cycle_down(fnd.children, taggedPt.get_mother_element().children, 'toms')\n",
    "\n",
    "def parent_cycle_down(fi, mi, atr):\n",
    "    ## Loop accoss both found and mother iterators\n",
    "    ## Precondition the 'atr' is an atribute of at least one elment in mi\n",
    "    for f, s in zip(fi, mi):       \n",
    "        ## look for attr\n",
    "        print('foundTrunk: ' + f.name + str(f.attrs) + '   motherTrunk: ' + s.name + str(s.attrs))\n",
    "        if atr in s.attrs:\n",
    "            if s[atr] == 0:  ## Tag enclosing the pointer\n",
    "                ## Return String inside, thats all!\n",
    "                return f.string\n",
    "            else:\n",
    "                return parent_cycle_down(f.children, s.children, atr)\n",
    "    \n",
    "    \n",
    "    "
   ]
  },
  {
   "cell_type": "code",
   "execution_count": 45,
   "metadata": {
    "collapsed": true
   },
   "outputs": [],
   "source": [
    "tag_nathans(mothers[1])"
   ]
  },
  {
   "cell_type": "code",
   "execution_count": 46,
   "metadata": {
    "collapsed": true
   },
   "outputs": [],
   "source": [
    "tag_toms(mothers[1])"
   ]
  },
  {
   "cell_type": "markdown",
   "metadata": {},
   "source": [
    "## Walking the Tree of a verified pointer"
   ]
  },
  {
   "cell_type": "code",
   "execution_count": 77,
   "metadata": {
    "collapsed": true
   },
   "outputs": [],
   "source": [
    "mother1 = mothers[1].get_mother_element()"
   ]
  },
  {
   "cell_type": "code",
   "execution_count": 78,
   "metadata": {
    "collapsed": true
   },
   "outputs": [],
   "source": [
    "mi = mother1.children"
   ]
  },
  {
   "cell_type": "code",
   "execution_count": 79,
   "metadata": {
    "collapsed": true
   },
   "outputs": [],
   "source": [
    "s = next(mi)"
   ]
  },
  {
   "cell_type": "code",
   "execution_count": 80,
   "metadata": {},
   "outputs": [
    {
     "data": {
      "text/plain": [
       "<h3 class=\"team-member-name\" nathans=\"0\">S. Monique Wells</h3>"
      ]
     },
     "execution_count": 80,
     "metadata": {},
     "output_type": "execute_result"
    }
   ],
   "source": [
    "s"
   ]
  },
  {
   "cell_type": "code",
   "execution_count": 76,
   "metadata": {},
   "outputs": [
    {
     "data": {
      "text/plain": [
       "True"
      ]
     },
     "execution_count": 76,
     "metadata": {},
     "output_type": "execute_result"
    }
   ],
   "source": [
    "'nathans' in s.attrs"
   ]
  },
  {
   "cell_type": "code",
   "execution_count": 70,
   "metadata": {
    "collapsed": true
   },
   "outputs": [],
   "source": [
    "si = s.children"
   ]
  },
  {
   "cell_type": "code",
   "execution_count": 71,
   "metadata": {
    "collapsed": true
   },
   "outputs": [],
   "source": [
    "s = next(si)"
   ]
  },
  {
   "cell_type": "code",
   "execution_count": 65,
   "metadata": {},
   "outputs": [
    {
     "data": {
      "text/plain": [
       "'S. Monique Wells'"
      ]
     },
     "execution_count": 65,
     "metadata": {},
     "output_type": "execute_result"
    }
   ],
   "source": [
    "s"
   ]
  },
  {
   "cell_type": "code",
   "execution_count": 81,
   "metadata": {},
   "outputs": [
    {
     "data": {
      "text/plain": [
       "'S. Monique Wells'"
      ]
     },
     "execution_count": 81,
     "metadata": {},
     "output_type": "execute_result"
    }
   ],
   "source": [
    "s.string"
   ]
  },
  {
   "cell_type": "code",
   "execution_count": 87,
   "metadata": {},
   "outputs": [
    {
     "data": {
      "text/plain": [
       "<bound method VerifiedPointer.get_mother_element of <contactChecker.VerifiedPointer object at 0x00000188692CEC88>>"
      ]
     },
     "execution_count": 87,
     "metadata": {},
     "output_type": "execute_result"
    }
   ],
   "source": [
    "mothers[0].get_mother_element"
   ]
  },
  {
   "cell_type": "code",
   "execution_count": 96,
   "metadata": {},
   "outputs": [
    {
     "name": "stdout",
     "output_type": "stream",
     "text": [
      "foundTrunk: h3{'class': ['team-member-name'], 'nathans': 0}   motherTrunk: h3{'class': ['team-member-name'], 'nathans': 0}\n",
      "foundTrunk: h4{'class': ['team-member-position'], 'toms': 0}   motherTrunk: h4{'class': ['team-member-position'], 'toms': 0}\n"
     ]
    },
    {
     "data": {
      "text/plain": [
       "'Director of Finance and Administration'"
      ]
     },
     "execution_count": 96,
     "metadata": {},
     "output_type": "execute_result"
    }
   ],
   "source": [
    "get_tom(mothers[1].get_mother_element(), mothers[0])"
   ]
  },
  {
   "cell_type": "code",
   "execution_count": 97,
   "metadata": {},
   "outputs": [
    {
     "name": "stdout",
     "output_type": "stream",
     "text": [
      "foundTrunk: h3{'class': ['team-member-name'], 'nathans': 0}   motherTrunk: h3{'class': ['team-member-name'], 'nathans': 0}\n",
      "foundTrunk: h4{'class': ['team-member-position'], 'toms': 0}   motherTrunk: h4{'class': ['team-member-position'], 'toms': 0}\n"
     ]
    },
    {
     "data": {
      "text/plain": [
       "'Senior Manager, Membership and Publications'"
      ]
     },
     "execution_count": 97,
     "metadata": {},
     "output_type": "execute_result"
    }
   ],
   "source": [
    "get_tom(mothers[0].get_mother_element(), mothers[1])"
   ]
  },
  {
   "cell_type": "code",
   "execution_count": 98,
   "metadata": {},
   "outputs": [
    {
     "data": {
      "text/plain": [
       "'Director of Finance and Administration'"
      ]
     },
     "execution_count": 98,
     "metadata": {},
     "output_type": "execute_result"
    }
   ],
   "source": [
    "mothers[1].tom"
   ]
  },
  {
   "cell_type": "code",
   "execution_count": 99,
   "metadata": {},
   "outputs": [
    {
     "data": {
      "text/plain": [
       "'Senior Manager, Membership and Publications'"
      ]
     },
     "execution_count": 99,
     "metadata": {},
     "output_type": "execute_result"
    }
   ],
   "source": [
    "mothers[0].tom"
   ]
  },
  {
   "cell_type": "code",
   "execution_count": 101,
   "metadata": {},
   "outputs": [
    {
     "data": {
      "text/plain": [
       "'S. Monique Wells'"
      ]
     },
     "execution_count": 101,
     "metadata": {},
     "output_type": "execute_result"
    }
   ],
   "source": [
    "mothers[1].nathan"
   ]
  },
  {
   "cell_type": "code",
   "execution_count": 105,
   "metadata": {},
   "outputs": [
    {
     "name": "stdout",
     "output_type": "stream",
     "text": [
      "foundTrunk: h3{'class': ['team-member-name'], 'nathans': 0}   motherTrunk: h3{'class': ['team-member-name'], 'nathans': 0}\n"
     ]
    },
    {
     "data": {
      "text/plain": [
       "'S. Monique Wells'"
      ]
     },
     "execution_count": 105,
     "metadata": {},
     "output_type": "execute_result"
    }
   ],
   "source": [
    "get_nathan(mothers[1].get_mother_element(), mothers[0])"
   ]
  },
  {
   "cell_type": "code",
   "execution_count": 106,
   "metadata": {},
   "outputs": [
    {
     "data": {
      "text/plain": [
       "'Susan Waldman'"
      ]
     },
     "execution_count": 106,
     "metadata": {},
     "output_type": "execute_result"
    }
   ],
   "source": [
    "mothers[0].nathan"
   ]
  },
  {
   "cell_type": "code",
   "execution_count": 107,
   "metadata": {},
   "outputs": [
    {
     "name": "stdout",
     "output_type": "stream",
     "text": [
      "foundTrunk: h3{'class': ['team-member-name'], 'nathans': 0}   motherTrunk: h3{'class': ['team-member-name'], 'nathans': 0}\n"
     ]
    },
    {
     "data": {
      "text/plain": [
       "'Susan Waldman'"
      ]
     },
     "execution_count": 107,
     "metadata": {},
     "output_type": "execute_result"
    }
   ],
   "source": [
    "get_nathan(mothers[0].get_mother_element(), mothers[1])"
   ]
  },
  {
   "cell_type": "markdown",
   "metadata": {},
   "source": [
    "## Bring it all together\n",
    "#### For all verified pointers tag the nathans and toms\n",
    "#### Test each tagged verfied pointer against each found mother element to identifiy nathans and toms!\n",
    "#### reunite the estranged family!"
   ]
  },
  {
   "cell_type": "code",
   "execution_count": 121,
   "metadata": {
    "collapsed": true
   },
   "outputs": [],
   "source": [
    "import pandas as pd"
   ]
  },
  {
   "cell_type": "code",
   "execution_count": 125,
   "metadata": {},
   "outputs": [
    {
     "name": "stdout",
     "output_type": "stream",
     "text": [
      "foundTrunk: h3{'class': ['team-member-name']}   motherTrunk: h3{'class': ['team-member-name'], 'nathans': 0}\n",
      "foundTrunk: h4{'class': ['team-member-position']}   motherTrunk: h4{'class': ['team-member-position'], 'toms': 0}\n",
      "foundTrunk: h3{'class': ['team-member-name']}   motherTrunk: h3{'class': ['team-member-name'], 'nathans': 0}\n",
      "foundTrunk: h4{'class': ['team-member-position']}   motherTrunk: h4{'class': ['team-member-position'], 'toms': 0}\n",
      "foundTrunk: h3{'class': ['team-member-name']}   motherTrunk: h3{'class': ['team-member-name'], 'nathans': 0}\n",
      "foundTrunk: h4{'class': ['team-member-position']}   motherTrunk: h4{'class': ['team-member-position'], 'toms': 0}\n",
      "foundTrunk: h3{'class': ['team-member-name']}   motherTrunk: h3{'class': ['team-member-name'], 'nathans': 0}\n",
      "foundTrunk: h4{'class': ['team-member-position']}   motherTrunk: h4{'class': ['team-member-position'], 'toms': 0}\n",
      "foundTrunk: h3{'class': ['team-member-name']}   motherTrunk: h3{'class': ['team-member-name'], 'nathans': 0}\n",
      "foundTrunk: h4{'class': ['team-member-position']}   motherTrunk: h4{'class': ['team-member-position'], 'toms': 0}\n",
      "foundTrunk: h3{'class': ['team-member-name']}   motherTrunk: h3{'class': ['team-member-name'], 'nathans': 0}\n",
      "foundTrunk: h4{'class': ['team-member-position']}   motherTrunk: h4{'class': ['team-member-position'], 'toms': 0}\n",
      "foundTrunk: h3{'class': ['team-member-name']}   motherTrunk: h3{'class': ['team-member-name'], 'nathans': 0}\n",
      "foundTrunk: h4{'class': ['team-member-position']}   motherTrunk: h4{'class': ['team-member-position'], 'toms': 0}\n",
      "foundTrunk: h3{'class': ['team-member-name']}   motherTrunk: h3{'class': ['team-member-name'], 'nathans': 0}\n",
      "foundTrunk: h4{'class': ['team-member-position']}   motherTrunk: h4{'class': ['team-member-position'], 'toms': 0}\n",
      "foundTrunk: h3{'class': ['team-member-name']}   motherTrunk: h3{'class': ['team-member-name'], 'nathans': 0}\n",
      "foundTrunk: h4{'class': ['team-member-position']}   motherTrunk: h4{'class': ['team-member-position'], 'toms': 0}\n",
      "foundTrunk: h3{'class': ['team-member-name'], 'nathans': 0}   motherTrunk: h3{'class': ['team-member-name'], 'nathans': 0}\n",
      "foundTrunk: h4{'class': ['team-member-position'], 'toms': 0}   motherTrunk: h4{'class': ['team-member-position'], 'toms': 0}\n",
      "foundTrunk: h3{'class': ['team-member-name'], 'nathans': 0}   motherTrunk: h3{'class': ['team-member-name'], 'nathans': 0}\n",
      "foundTrunk: h4{'class': ['team-member-position'], 'toms': 0}   motherTrunk: h4{'class': ['team-member-position'], 'toms': 0}\n",
      "foundTrunk: h3{'class': ['team-member-name'], 'nathans': 0}   motherTrunk: h3{'class': ['team-member-name'], 'nathans': 0}\n",
      "foundTrunk: h4{'class': ['team-member-position'], 'toms': 0}   motherTrunk: h4{'class': ['team-member-position'], 'toms': 0}\n",
      "foundTrunk: h3{'class': ['team-member-name'], 'nathans': 0}   motherTrunk: h3{'class': ['team-member-name'], 'nathans': 0}\n",
      "foundTrunk: h4{'class': ['team-member-position'], 'toms': 0}   motherTrunk: h4{'class': ['team-member-position'], 'toms': 0}\n",
      "foundTrunk: h3{'class': ['team-member-name'], 'nathans': 0}   motherTrunk: h3{'class': ['team-member-name'], 'nathans': 0}\n",
      "foundTrunk: h4{'class': ['team-member-position'], 'toms': 0}   motherTrunk: h4{'class': ['team-member-position'], 'toms': 0}\n",
      "foundTrunk: h3{'class': ['team-member-name'], 'nathans': 0}   motherTrunk: h3{'class': ['team-member-name'], 'nathans': 0}\n",
      "foundTrunk: h4{'class': ['team-member-position'], 'toms': 0}   motherTrunk: h4{'class': ['team-member-position'], 'toms': 0}\n",
      "foundTrunk: h3{'class': ['team-member-name'], 'nathans': 0}   motherTrunk: h3{'class': ['team-member-name'], 'nathans': 0}\n",
      "foundTrunk: h4{'class': ['team-member-position'], 'toms': 0}   motherTrunk: h4{'class': ['team-member-position'], 'toms': 0}\n",
      "foundTrunk: h3{'class': ['team-member-name'], 'nathans': 0}   motherTrunk: h3{'class': ['team-member-name'], 'nathans': 0}\n",
      "foundTrunk: h4{'class': ['team-member-position'], 'toms': 0}   motherTrunk: h4{'class': ['team-member-position'], 'toms': 0}\n",
      "foundTrunk: h3{'class': ['team-member-name'], 'nathans': 0}   motherTrunk: h3{'class': ['team-member-name'], 'nathans': 0}\n",
      "foundTrunk: h4{'class': ['team-member-position'], 'toms': 0}   motherTrunk: h4{'class': ['team-member-position'], 'toms': 0}\n",
      "foundTrunk: h3{'class': ['team-member-name']}   motherTrunk: h3{'class': ['team-member-name'], 'nathans': 0}\n",
      "foundTrunk: h4{'class': ['team-member-position']}   motherTrunk: h4{'class': ['team-member-position'], 'toms': 0}\n",
      "foundTrunk: h3{'class': ['team-member-name']}   motherTrunk: h3{'class': ['team-member-name'], 'nathans': 0}\n",
      "foundTrunk: h4{'class': ['team-member-position']}   motherTrunk: h4{'class': ['team-member-position'], 'toms': 0}\n",
      "foundTrunk: h3{'class': ['team-member-name']}   motherTrunk: h3{'class': ['team-member-name'], 'nathans': 0}\n",
      "foundTrunk: h4{'class': ['team-member-position']}   motherTrunk: h4{'class': ['team-member-position'], 'toms': 0}\n",
      "foundTrunk: h3{'class': ['team-member-name']}   motherTrunk: h3{'class': ['team-member-name'], 'nathans': 0}\n",
      "foundTrunk: h4{'class': ['team-member-position']}   motherTrunk: h4{'class': ['team-member-position'], 'toms': 0}\n",
      "foundTrunk: h3{'class': ['team-member-name']}   motherTrunk: h3{'class': ['team-member-name'], 'nathans': 0}\n",
      "foundTrunk: h4{'class': ['team-member-position']}   motherTrunk: h4{'class': ['team-member-position'], 'toms': 0}\n",
      "foundTrunk: h3{'class': ['team-member-name']}   motherTrunk: h3{'class': ['team-member-name'], 'nathans': 0}\n",
      "foundTrunk: h4{'class': ['team-member-position']}   motherTrunk: h4{'class': ['team-member-position'], 'toms': 0}\n",
      "foundTrunk: h3{'class': ['team-member-name']}   motherTrunk: h3{'class': ['team-member-name'], 'nathans': 0}\n",
      "foundTrunk: h3{'class': ['team-member-name']}   motherTrunk: h3{'class': ['team-member-name'], 'nathans': 0}\n",
      "foundTrunk: h3{'class': ['team-member-name']}   motherTrunk: h3{'class': ['team-member-name'], 'nathans': 0}\n",
      "foundTrunk: h3{'class': ['team-member-name']}   motherTrunk: h3{'class': ['team-member-name'], 'nathans': 0}\n",
      "foundTrunk: h3{'class': ['team-member-name']}   motherTrunk: h3{'class': ['team-member-name'], 'nathans': 0}\n",
      "foundTrunk: h3{'class': ['team-member-name']}   motherTrunk: h3{'class': ['team-member-name'], 'nathans': 0}\n",
      "foundTrunk: h3{'class': ['team-member-name']}   motherTrunk: h3{'class': ['team-member-name'], 'nathans': 0}\n",
      "foundTrunk: h3{'class': ['team-member-name']}   motherTrunk: h3{'class': ['team-member-name'], 'nathans': 0}\n",
      "foundTrunk: h3{'class': ['team-member-name']}   motherTrunk: h3{'class': ['team-member-name'], 'nathans': 0}\n",
      "foundTrunk: h3{'class': ['team-member-name'], 'nathans': 0}   motherTrunk: h3{'class': ['team-member-name'], 'nathans': 0}\n",
      "foundTrunk: h3{'class': ['team-member-name'], 'nathans': 0}   motherTrunk: h3{'class': ['team-member-name'], 'nathans': 0}\n",
      "foundTrunk: h3{'class': ['team-member-name'], 'nathans': 0}   motherTrunk: h3{'class': ['team-member-name'], 'nathans': 0}\n",
      "foundTrunk: h3{'class': ['team-member-name'], 'nathans': 0}   motherTrunk: h3{'class': ['team-member-name'], 'nathans': 0}\n",
      "foundTrunk: h3{'class': ['team-member-name'], 'nathans': 0}   motherTrunk: h3{'class': ['team-member-name'], 'nathans': 0}\n",
      "foundTrunk: h3{'class': ['team-member-name'], 'nathans': 0}   motherTrunk: h3{'class': ['team-member-name'], 'nathans': 0}\n",
      "foundTrunk: h3{'class': ['team-member-name'], 'nathans': 0}   motherTrunk: h3{'class': ['team-member-name'], 'nathans': 0}\n",
      "foundTrunk: h3{'class': ['team-member-name'], 'nathans': 0}   motherTrunk: h3{'class': ['team-member-name'], 'nathans': 0}\n",
      "foundTrunk: h3{'class': ['team-member-name'], 'nathans': 0}   motherTrunk: h3{'class': ['team-member-name'], 'nathans': 0}\n",
      "foundTrunk: h3{'class': ['team-member-name']}   motherTrunk: h3{'class': ['team-member-name'], 'nathans': 0}\n",
      "foundTrunk: h3{'class': ['team-member-name']}   motherTrunk: h3{'class': ['team-member-name'], 'nathans': 0}\n",
      "foundTrunk: h3{'class': ['team-member-name']}   motherTrunk: h3{'class': ['team-member-name'], 'nathans': 0}\n",
      "foundTrunk: h3{'class': ['team-member-name']}   motherTrunk: h3{'class': ['team-member-name'], 'nathans': 0}\n",
      "foundTrunk: h3{'class': ['team-member-name']}   motherTrunk: h3{'class': ['team-member-name'], 'nathans': 0}\n",
      "foundTrunk: h3{'class': ['team-member-name']}   motherTrunk: h3{'class': ['team-member-name'], 'nathans': 0}\n"
     ]
    }
   ],
   "source": [
    "## For all verfied pointers tag the nathans and toms\n",
    "for mother in mothers:\n",
    "    tag_nathans(mother)\n",
    "    tag_toms(mother)\n",
    "\n",
    "tomSet = pd.DataFrame([{mother.tom:get_tom(find, mother) for mother in mothers} for find in finds])\n",
    "nathanSet = pd.DataFrame([{mother.nathan:get_nathan(find, mother) for mother in mothers} for find in finds])\n",
    "\n"
   ]
  },
  {
   "cell_type": "code",
   "execution_count": 117,
   "metadata": {},
   "outputs": [
    {
     "data": {
      "text/plain": [
       "8"
      ]
     },
     "execution_count": 117,
     "metadata": {},
     "output_type": "execute_result"
    }
   ],
   "source": [
    "len(finds)"
   ]
  },
  {
   "cell_type": "code",
   "execution_count": 126,
   "metadata": {},
   "outputs": [
    {
     "data": {
      "text/html": [
       "<div>\n",
       "<style>\n",
       "    .dataframe thead tr:only-child th {\n",
       "        text-align: right;\n",
       "    }\n",
       "\n",
       "    .dataframe thead th {\n",
       "        text-align: left;\n",
       "    }\n",
       "\n",
       "    .dataframe tbody tr th {\n",
       "        vertical-align: top;\n",
       "    }\n",
       "</style>\n",
       "<table border=\"1\" class=\"dataframe\">\n",
       "  <thead>\n",
       "    <tr style=\"text-align: right;\">\n",
       "      <th></th>\n",
       "      <th>Director of Finance and Administration</th>\n",
       "      <th>Manager, Mentoring Relations and Chapter Operations</th>\n",
       "      <th>Senior Manager, Membership and Publications</th>\n",
       "    </tr>\n",
       "  </thead>\n",
       "  <tbody>\n",
       "    <tr>\n",
       "      <th>0</th>\n",
       "      <td>President and CEO</td>\n",
       "      <td>President and CEO</td>\n",
       "      <td>President and CEO</td>\n",
       "    </tr>\n",
       "    <tr>\n",
       "      <th>1</th>\n",
       "      <td>Senior Vice President, Education and Diversity...</td>\n",
       "      <td>Senior Vice President, Education and Diversity...</td>\n",
       "      <td>Senior Vice President, Education and Diversity...</td>\n",
       "    </tr>\n",
       "    <tr>\n",
       "      <th>2</th>\n",
       "      <td>Vice President, Events and Partner Relations</td>\n",
       "      <td>Vice President, Events and Partner Relations</td>\n",
       "      <td>Vice President, Events and Partner Relations</td>\n",
       "    </tr>\n",
       "    <tr>\n",
       "      <th>3</th>\n",
       "      <td>Director of Finance and Administration</td>\n",
       "      <td>Director of Finance and Administration</td>\n",
       "      <td>Director of Finance and Administration</td>\n",
       "    </tr>\n",
       "    <tr>\n",
       "      <th>4</th>\n",
       "      <td>Senior Manager, Membership and Publications</td>\n",
       "      <td>Senior Manager, Membership and Publications</td>\n",
       "      <td>Senior Manager, Membership and Publications</td>\n",
       "    </tr>\n",
       "    <tr>\n",
       "      <th>5</th>\n",
       "      <td>Manager, Mentoring Relations and Chapter Opera...</td>\n",
       "      <td>Manager, Mentoring Relations and Chapter Opera...</td>\n",
       "      <td>Manager, Mentoring Relations and Chapter Opera...</td>\n",
       "    </tr>\n",
       "    <tr>\n",
       "      <th>6</th>\n",
       "      <td>Project Coordinator</td>\n",
       "      <td>Project Coordinator</td>\n",
       "      <td>Project Coordinator</td>\n",
       "    </tr>\n",
       "    <tr>\n",
       "      <th>7</th>\n",
       "      <td>Administrative Assistant</td>\n",
       "      <td>Administrative Assistant</td>\n",
       "      <td>Administrative Assistant</td>\n",
       "    </tr>\n",
       "  </tbody>\n",
       "</table>\n",
       "</div>"
      ],
      "text/plain": [
       "              Director of Finance and Administration  \\\n",
       "0                                  President and CEO   \n",
       "1  Senior Vice President, Education and Diversity...   \n",
       "2       Vice President, Events and Partner Relations   \n",
       "3             Director of Finance and Administration   \n",
       "4        Senior Manager, Membership and Publications   \n",
       "5  Manager, Mentoring Relations and Chapter Opera...   \n",
       "6                                Project Coordinator   \n",
       "7                           Administrative Assistant   \n",
       "\n",
       "  Manager, Mentoring Relations and Chapter Operations  \\\n",
       "0                                  President and CEO    \n",
       "1  Senior Vice President, Education and Diversity...    \n",
       "2       Vice President, Events and Partner Relations    \n",
       "3             Director of Finance and Administration    \n",
       "4        Senior Manager, Membership and Publications    \n",
       "5  Manager, Mentoring Relations and Chapter Opera...    \n",
       "6                                Project Coordinator    \n",
       "7                           Administrative Assistant    \n",
       "\n",
       "         Senior Manager, Membership and Publications  \n",
       "0                                  President and CEO  \n",
       "1  Senior Vice President, Education and Diversity...  \n",
       "2       Vice President, Events and Partner Relations  \n",
       "3             Director of Finance and Administration  \n",
       "4        Senior Manager, Membership and Publications  \n",
       "5  Manager, Mentoring Relations and Chapter Opera...  \n",
       "6                                Project Coordinator  \n",
       "7                           Administrative Assistant  "
      ]
     },
     "execution_count": 126,
     "metadata": {},
     "output_type": "execute_result"
    }
   ],
   "source": [
    "tomSet"
   ]
  },
  {
   "cell_type": "code",
   "execution_count": 127,
   "metadata": {},
   "outputs": [
    {
     "data": {
      "text/html": [
       "<div>\n",
       "<style>\n",
       "    .dataframe thead tr:only-child th {\n",
       "        text-align: right;\n",
       "    }\n",
       "\n",
       "    .dataframe thead th {\n",
       "        text-align: left;\n",
       "    }\n",
       "\n",
       "    .dataframe tbody tr th {\n",
       "        vertical-align: top;\n",
       "    }\n",
       "</style>\n",
       "<table border=\"1\" class=\"dataframe\">\n",
       "  <thead>\n",
       "    <tr style=\"text-align: right;\">\n",
       "      <th></th>\n",
       "      <th>Darryl Jackson</th>\n",
       "      <th>S. Monique Wells</th>\n",
       "      <th>Susan Waldman</th>\n",
       "    </tr>\n",
       "  </thead>\n",
       "  <tbody>\n",
       "    <tr>\n",
       "      <th>0</th>\n",
       "      <td>Eglon E. Simons</td>\n",
       "      <td>Eglon E. Simons</td>\n",
       "      <td>Eglon E. Simons</td>\n",
       "    </tr>\n",
       "    <tr>\n",
       "      <th>1</th>\n",
       "      <td>James C. Jones</td>\n",
       "      <td>James C. Jones</td>\n",
       "      <td>James C. Jones</td>\n",
       "    </tr>\n",
       "    <tr>\n",
       "      <th>2</th>\n",
       "      <td>Sandra Girado</td>\n",
       "      <td>Sandra Girado</td>\n",
       "      <td>Sandra Girado</td>\n",
       "    </tr>\n",
       "    <tr>\n",
       "      <th>3</th>\n",
       "      <td>S. Monique Wells</td>\n",
       "      <td>S. Monique Wells</td>\n",
       "      <td>S. Monique Wells</td>\n",
       "    </tr>\n",
       "    <tr>\n",
       "      <th>4</th>\n",
       "      <td>Susan Waldman</td>\n",
       "      <td>Susan Waldman</td>\n",
       "      <td>Susan Waldman</td>\n",
       "    </tr>\n",
       "    <tr>\n",
       "      <th>5</th>\n",
       "      <td>Darryl Jackson</td>\n",
       "      <td>Darryl Jackson</td>\n",
       "      <td>Darryl Jackson</td>\n",
       "    </tr>\n",
       "    <tr>\n",
       "      <th>6</th>\n",
       "      <td>Brandon D. Hewlett</td>\n",
       "      <td>Brandon D. Hewlett</td>\n",
       "      <td>Brandon D. Hewlett</td>\n",
       "    </tr>\n",
       "    <tr>\n",
       "      <th>7</th>\n",
       "      <td>Davana O'Brien</td>\n",
       "      <td>Davana O'Brien</td>\n",
       "      <td>Davana O'Brien</td>\n",
       "    </tr>\n",
       "  </tbody>\n",
       "</table>\n",
       "</div>"
      ],
      "text/plain": [
       "       Darryl Jackson    S. Monique Wells       Susan Waldman\n",
       "0     Eglon E. Simons     Eglon E. Simons     Eglon E. Simons\n",
       "1      James C. Jones      James C. Jones      James C. Jones\n",
       "2       Sandra Girado       Sandra Girado       Sandra Girado\n",
       "3    S. Monique Wells    S. Monique Wells    S. Monique Wells\n",
       "4       Susan Waldman       Susan Waldman       Susan Waldman\n",
       "5      Darryl Jackson      Darryl Jackson      Darryl Jackson\n",
       "6  Brandon D. Hewlett  Brandon D. Hewlett  Brandon D. Hewlett\n",
       "7      Davana O'Brien      Davana O'Brien      Davana O'Brien"
      ]
     },
     "execution_count": 127,
     "metadata": {},
     "output_type": "execute_result"
    }
   ],
   "source": [
    "nathanSet"
   ]
  },
  {
   "cell_type": "code",
   "execution_count": null,
   "metadata": {
    "collapsed": true
   },
   "outputs": [],
   "source": []
  },
  {
   "cell_type": "code",
   "execution_count": null,
   "metadata": {
    "collapsed": true
   },
   "outputs": [],
   "source": []
  },
  {
   "cell_type": "code",
   "execution_count": null,
   "metadata": {
    "collapsed": true
   },
   "outputs": [],
   "source": []
  },
  {
   "cell_type": "code",
   "execution_count": null,
   "metadata": {
    "collapsed": true
   },
   "outputs": [],
   "source": []
  }
 ],
 "metadata": {
  "kernelspec": {
   "display_name": "Python 3",
   "language": "python",
   "name": "python3"
  },
  "language_info": {
   "codemirror_mode": {
    "name": "ipython",
    "version": 3
   },
   "file_extension": ".py",
   "mimetype": "text/x-python",
   "name": "python",
   "nbconvert_exporter": "python",
   "pygments_lexer": "ipython3",
   "version": "3.6.1"
  }
 },
 "nbformat": 4,
 "nbformat_minor": 2
}
