{
 "cells": [
  {
   "cell_type": "code",
   "execution_count": null,
   "metadata": {
    "collapsed": true
   },
   "outputs": [],
   "source": [
    "from tkinter import *\n",
    "import tkinter.ttk as ttk\n",
    "import time\n",
    "import threading\n",
    "import queue\n",
    "\n",
    "class GUI:\n",
    "    def __init__(self, master):\n",
    "        self.master = master\n",
    "        self.test_button = Button(self.master, command=self.tb_click)\n",
    "        self.test_button.configure(\n",
    "            text=\"Start\", background=\"Grey\",\n",
    "            padx=50\n",
    "            )\n",
    "        self.test_button.pack(side=TOP)\n",
    "\n",
    "    def progress(self):\n",
    "        self.prog_bar = ttk.Progressbar(\n",
    "            self.master, orient=\"horizontal\",\n",
    "            length=200, mode=\"indeterminate\"\n",
    "            )\n",
    "        self.prog_bar.pack(side=TOP)\n",
    "\n",
    "    def tb_click(self):\n",
    "        self.progress()\n",
    "        self.prog_bar.start()\n",
    "        self.test_button.configure(state=\"disabled\")\n",
    "        self.queue = queue.Queue()\n",
    "        ThreadedTask(self.queue).start()\n",
    "        self.master.after(100, self.process_queue)\n",
    "\n",
    "    def process_queue(self):\n",
    "        try:\n",
    "            msg = self.queue.get(0)\n",
    "            # Show result of the task if needed\n",
    "            print(msg)\n",
    "            self.prog_bar.stop()\n",
    "            self.test_button.configure(state=\"normal\")\n",
    "        except queue.Empty:\n",
    "            self.master.after(100, self.process_queue)\n",
    "            \n",
    "class ThreadedTask(threading.Thread):\n",
    "    def __init__(self, queue):\n",
    "        threading.Thread.__init__(self)\n",
    "        self.queue = queue\n",
    "    def run(self):\n",
    "        time.sleep(8)  # Simulate long running process\n",
    "        self.queue.put(\"Task finished\")\n",
    "\n",
    "root = Tk()\n",
    "root.title(\"Test Button\")\n",
    "main_ui = GUI(root)\n",
    "root.mainloop()"
   ]
  }
 ],
 "metadata": {
  "kernelspec": {
   "display_name": "Python 3",
   "language": "python",
   "name": "python3"
  },
  "language_info": {
   "codemirror_mode": {
    "name": "ipython",
    "version": 3
   },
   "file_extension": ".py",
   "mimetype": "text/x-python",
   "name": "python",
   "nbconvert_exporter": "python",
   "pygments_lexer": "ipython3",
   "version": "3.6.1"
  }
 },
 "nbformat": 4,
 "nbformat_minor": 2
}
