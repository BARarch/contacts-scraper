{
 "cells": [
  {
   "cell_type": "code",
   "execution_count": 37,
   "metadata": {
    "collapsed": true
   },
   "outputs": [],
   "source": [
    "cc.VerificationHandler.close_browser()"
   ]
  },
  {
   "cell_type": "markdown",
   "metadata": {},
   "source": [
    "## Time to crack in and find some more mother elements\n",
    "#### Dont let complexity ruin tempo"
   ]
  },
  {
   "cell_type": "code",
   "execution_count": 1,
   "metadata": {},
   "outputs": [
    {
     "name": "stdout",
     "output_type": "stream",
     "text": [
      "Done\n",
      "Done\n",
      "KEYS\n",
      "Done\n",
      "Done\n",
      "RECORDS COLLECTED\n",
      "DATAFRAMES READY\n",
      "RECORD OUTPUT READY\n",
      "CONTACT CHECKER READY\n"
     ]
    }
   ],
   "source": [
    "% run contactsScraper.py"
   ]
  },
  {
   "cell_type": "code",
   "execution_count": 2,
   "metadata": {
    "collapsed": true
   },
   "outputs": [],
   "source": [
    "orgsForToday = ['National Association for Multi-Ethnicity In Communications (NAMIC)',\n",
    "                'Association for Women in Science',\n",
    "                'Brain Injury Association of America',\n",
    "                'American Society of Home Inspectors',\n",
    "                'NAADAC, the Association for Addiction Professionals',\n",
    "                'American Public Transportation Association',\n",
    "                'Indiana Soybean Alliance',\n",
    "                'Associated Builders and Contractors (ABC)',\n",
    "                'National Association of Social Workers',\n",
    "                'American Marketing Association (AMA)']"
   ]
  },
  {
   "cell_type": "code",
   "execution_count": 3,
   "metadata": {},
   "outputs": [],
   "source": [
    "org = orgsForToday[0]\n",
    "\n",
    "vh = cc.MotherSetVerifier(org)"
   ]
  },
  {
   "cell_type": "code",
   "execution_count": 4,
   "metadata": {},
   "outputs": [],
   "source": [
    "pointers = vh.verifiedPointers"
   ]
  },
  {
   "cell_type": "code",
   "execution_count": 6,
   "metadata": {},
   "outputs": [
    {
     "data": {
      "text/plain": [
       "['Mon Oct 16, 2017  09:56:19', '9.606', 's', 'Good']"
      ]
     },
     "execution_count": 6,
     "metadata": {},
     "output_type": "execute_result"
    }
   ],
   "source": [
    "cc.VerificationHandler.orgRecords.orgSessionStatusCheck()"
   ]
  },
  {
   "cell_type": "code",
   "execution_count": 8,
   "metadata": {
    "collapsed": true
   },
   "outputs": [],
   "source": [
    "import numpy as np"
   ]
  },
  {
   "cell_type": "code",
   "execution_count": 7,
   "metadata": {},
   "outputs": [
    {
     "data": {
      "text/plain": [
       "matrix([[<contactChecker.VerifiedPointer object at 0x000001A42083EF98>,\n",
       "         <contactChecker.VerifiedPointer object at 0x000001A420938EB8>,\n",
       "         <contactChecker.VerifiedPointer object at 0x000001A420938E48>],\n",
       "        [<contactChecker.VerifiedPointer object at 0x000001A42083EF98>,\n",
       "         <contactChecker.VerifiedPointer object at 0x000001A420938EB8>,\n",
       "         <contactChecker.VerifiedPointer object at 0x000001A420938E48>]], dtype=object)"
      ]
     },
     "execution_count": 7,
     "metadata": {},
     "output_type": "execute_result"
    }
   ],
   "source": [
    "np.matrix([pointers, pointers])"
   ]
  },
  {
   "cell_type": "code",
   "execution_count": 9,
   "metadata": {},
   "outputs": [],
   "source": [
    "gmElements = []\n",
    "gmMatrix = []\n",
    "\n",
    "for i in range(len(pointers)):\n",
    "    igmElements = []\n",
    "    for j in range(i):\n",
    "        if pointers[i].get_mother_element() is pointers[j].get_mother_element:\n",
    "            gm = pointers[i]\n",
    "        else:\n",
    "            gm = pointers[i].common_parent(pointers[j])\n",
    "        # Append Match to Grand Mother Matrix\n",
    "        igmElements.append(gm)\n",
    "        \n",
    "        # Check to see if this is a new grand mother element,\n",
    "        # if so append to the gmElements list of unique grandmother elements \n",
    "        if gm not in gmElements:\n",
    "            gmElements.append(gm)\n",
    "            \n",
    "    # Append Matrix Row\n",
    "    gmMatrix.append(igmElements)\n",
    "    \n",
    "grandMotherMatrix = np.matrix(gmMatrix)\n",
    "    \n",
    "        "
   ]
  },
  {
   "cell_type": "code",
   "execution_count": 10,
   "metadata": {},
   "outputs": [
    {
     "data": {
      "text/plain": [
       "matrix([[[],\n",
       "         [<div class=\"main-section\"> <h3 class=\"main-section-title\">       Our success lies with our team of highly experienced professionals.     </h3> <p class=\"main-section-subtitle\"></p> <div class=\"team-member-item\"><div class=\"team-member-left\"><img src=\"http://namic.com/wp-content/uploads/2015/01/Eglon.png\"/></div><div class=\"team-member-right\"><h3 class=\"team-member-name\">Eglon E. Simons</h3><h4 class=\"team-member-position\">President and CEO</h4><div class=\"team-member-body hide-class\"><div style=\"overflow: hidden; height: 72px;\">Eglon E. Simons leads the association and champions its mission as President and CEO. In addition to working closely with NAMIC’s 16 chapters across the country, he collaborates with NAMIC’s board, staff, chapter leadership and industry partners in building upon NAMIC’s legacy. A strong and progressive leader, Simons’ career in media and communications has spanned more than 30 years. Upon earning an MBA from Harvard Business School, Simons joined the staff at CBS New York. After holding several managerial positions, Simons concluded his 13-year run with the network as Vice President of Sales and Marketing for the CBS Television Stations Division. In 1990, Simons embarked on a 21-year run with Cablevision Systems Corporation as Director of New York Sales for its Cable Networks unit. Simons began serving as Vice President and General Manager of New York Interconnect in 1992 and subsequently, was promoted in 1995, to Senior Vice President and General Manager. Simons was named Executive Vice President of Cablevision’s Rainbow Advertising Sales Company in 2002, a senior management role he fulfilled until his retirement from Cablevision Systems Corporation in 2011. </div></div><div class=\"team-member-social\"><a class=\"member-social-twitter\" href=\"\" style=\"display: none;\"><img src=\"http://namic.com/wp-content/themes/namic-dev/./img/icons/member-social-twitter.png\"/></a><a class=\"member-social-linkedin\" href=\"https://www.linkedin.com/in/eglonsimons\"><img src=\"http://namic.com/wp-content/themes/namic-dev/./img/icons/member-social-linkedin.png\"/></a><a class=\"member-social-facebook\" href=\"\" style=\"display: none;\"><img src=\"http://namic.com/wp-content/themes/namic-dev/./img/icons/member-social-facebook.png\"/></a><a class=\"member-social-google+\" href=\"\" style=\"display: none;\"><img src=\"http://namic.com/wp-content/themes/namic-dev/./img/icons/member-social-google+.png\"/></a><a class=\"member-social-youtube\" href=\"\" style=\"display: none;\"><img src=\"http://namic.com/wp-content/themes/namic-dev/./img/icons/member-social-youtube.png\"/></a></div></div><div class=\"members-item-link\"><div></div><p><a href=\"#\">Read more</a></p></div></div><div class=\"team-member-item\"><div class=\"team-member-left\"><img src=\"http://namic.com/wp-content/uploads/2015/04/JimJones_Headshot11.jpg\"/></div><div class=\"team-member-right\"><h3 class=\"team-member-name\">James C. Jones</h3><h4 class=\"team-member-position\">Senior Vice President, Education and Diversity Solutions</h4><div class=\"team-member-body hide-class\"><div style=\"overflow: hidden; height: 72px;\">As the Senior Vice President of Education and Diversity Solutions, Jim oversees the association’s education programs and professional development initiatives. He also manages day-to-day NAMIC Foundation operations. Jim Jones joined the NAMIC team in Fall 2005 after spending nearly a decade launching a wide range of diversity, team building, mentoring and other multicultural programs for the National Action Council for Minorities in Engineering (NACME), a national non-profit whose mission is to increase the numbers of successful African American, American Indian and Latino men and women in the engineering, technology and math-based fields. Before joining NACME, he had consulted in the corporate, government, educational, and not-for-profit sectors, designing and implementing training and development initiatives related to increasing organizational effectiveness through building and nurturing a diverse workforce. With a B.A. from Harvard, Jim attended New York’s Juilliard School and the Curtis Institute of Music in Philadelphia, where he studied classical singing. He eventually was awarded a Fulbright Fellowship to France, and spent four years studying and performing in European concert and opera venues. After much “soul-searching,” he eventually returned to America and attended the Columbia Business School, where he received an M.B.A. in strategic human resources. Jim hails from St. Louis, Missouri.   </div></div><div class=\"team-member-social\"><a class=\"member-social-twitter\" href=\"\" style=\"display: none;\"><img src=\"http://namic.com/wp-content/themes/namic-dev/./img/icons/member-social-twitter.png\"/></a><a class=\"member-social-linkedin\" href=\"https://www.linkedin.com/pub/james-jones/8/756/429\"><img src=\"http://namic.com/wp-content/themes/namic-dev/./img/icons/member-social-linkedin.png\"/></a><a class=\"member-social-facebook\" href=\"\" style=\"display: none;\"><img src=\"http://namic.com/wp-content/themes/namic-dev/./img/icons/member-social-facebook.png\"/></a><a class=\"member-social-google+\" href=\"\" style=\"display: none;\"><img src=\"http://namic.com/wp-content/themes/namic-dev/./img/icons/member-social-google+.png\"/></a><a class=\"member-social-youtube\" href=\"\" style=\"display: none;\"><img src=\"http://namic.com/wp-content/themes/namic-dev/./img/icons/member-social-youtube.png\"/></a></div></div><div class=\"members-item-link\"><div></div><p><a href=\"#\">Read more</a></p></div></div><div class=\"team-member-item\"><div class=\"team-member-left\"><img src=\"http://namic.com/wp-content/uploads/2015/04/SandraGirado_Headshot11.jpg\"/></div><div class=\"team-member-right\"><h3 class=\"team-member-name\">Sandra Girado</h3><h4 class=\"team-member-position\">Vice President, Events and Partner Relations</h4><div class=\"team-member-body hide-class\"><div style=\"overflow: hidden; height: 72px;\">As the Vice President of Events and Partner Relations, Sandra Girado leads the production and management of NAMIC’s national events, and also oversees key marketing and creative services. Sandra brings to NAMIC close to a decade of experience in the meeting planning and trade show industry. Prior to joining NAMIC in June 2005, she served as the Programs Administrator for the International Council of Shopping Centers where she was responsible for the management of educational programs, including faculty recruitment and curriculum scheduling. In that position she also worked to facilitate programs in Asia, Mexico, the Middle East and Moscow. Sandra also worked with the EastWest Institute, where she was responsible for planning Global Homeland Security Conferences for the international community. Additionally, she was the Special Events Manager for Lebhar-Friedman, a New York based publishing company. She is a graduate of Manhattan College, where she received a Bachelor of Science degree in Marketing and International Business. </div></div><div class=\"team-member-social\"><a class=\"member-social-twitter\" href=\"\" style=\"display: none;\"><img src=\"http://namic.com/wp-content/themes/namic-dev/./img/icons/member-social-twitter.png\"/></a><a class=\"member-social-linkedin\" href=\"https://www.linkedin.com/pub/sandra-girado/49/505/262\"><img src=\"http://namic.com/wp-content/themes/namic-dev/./img/icons/member-social-linkedin.png\"/></a><a class=\"member-social-facebook\" href=\"\" style=\"display: none;\"><img src=\"http://namic.com/wp-content/themes/namic-dev/./img/icons/member-social-facebook.png\"/></a><a class=\"member-social-google+\" href=\"\" style=\"display: none;\"><img src=\"http://namic.com/wp-content/themes/namic-dev/./img/icons/member-social-google+.png\"/></a><a class=\"member-social-youtube\" href=\"\" style=\"display: none;\"><img src=\"http://namic.com/wp-content/themes/namic-dev/./img/icons/member-social-youtube.png\"/></a></div></div><div class=\"members-item-link\"><div></div><p><a href=\"#\">Read more</a></p></div></div><div class=\"team-member-item\"><div class=\"team-member-left\"><img src=\"http://namic.com/wp-content/uploads/2015/04/MWells.png\"/></div><div class=\"team-member-right\"><h3 class=\"team-member-name\">S. Monique Wells</h3><h4 class=\"team-member-position\">Director of Finance and Administration</h4><div class=\"team-member-body hide-class\"><div style=\"overflow: hidden; height: 72px;\">Monique Wells is the Director of Finance and Administration for the National Association for Multi-ethnicity in Communications’ (NAMIC). Prior to that she was their Manager of Operations, a position she assumed in August, 2009. Monique is no stranger to NAMIC and has been a member since 1991. She served as a consultant to NAMIC for a number of special projects, prior to joining the staff. As Director of Finance and Administration, she oversees the administrative and financial operations of the national office. An accomplished professional with a diverse background in sales and project management, Monique previously served as an Energy Conservation Analyst with the Los Angeles Unified School District where she oversaw the utility management for school construction projects. Prior to that, Monique was a National Sales and Marketing Executive for Patriot Communications where she was responsible for the sales, marketing and contract negotiations of enhanced telecommunications products and services. Before joining Patriot, Monique worked at HBO in Affiliate Sales, where she created and implemented sales strategies and account activities for HBO and Cinemax. Her responsibilities included sales, client services, off-channel promotions and special events. During her tenure at HBO, Monique was an active member of the NAMIC-Southern California chapter and served on the Steering Committee for the Vision Awards and chaired both the Sponsorship and Talent Committees. Preceding her tenure in communications, Monique held several executive positions for Kraft General Foods and Sportsvisions, a sports marketing company based in Northern California. Monique earned a Bachelor of Arts degree in Sociology from Clark University in Worcester, MA and a MBA degree in general business and marketing from Atlanta University, now known as Clark Atlanta University in Atlanta, GA. She is on the planning committee for the American Heart Association’s Harlem Go Red For Women Educational Forum and volunteers for the New York Common Pantry, a New York City community based food pantry. </div></div><div class=\"team-member-social\"><a class=\"member-social-twitter\" href=\"\" style=\"display: none;\"><img src=\"http://namic.com/wp-content/themes/namic-dev/./img/icons/member-social-twitter.png\"/></a><a class=\"member-social-linkedin\" href=\"https://www.linkedin.com/pub/s-monique-wells/3/7a0/265\"><img src=\"http://namic.com/wp-content/themes/namic-dev/./img/icons/member-social-linkedin.png\"/></a><a class=\"member-social-facebook\" href=\"\" style=\"display: none;\"><img src=\"http://namic.com/wp-content/themes/namic-dev/./img/icons/member-social-facebook.png\"/></a><a class=\"member-social-google+\" href=\"\" style=\"display: none;\"><img src=\"http://namic.com/wp-content/themes/namic-dev/./img/icons/member-social-google+.png\"/></a><a class=\"member-social-youtube\" href=\"\" style=\"display: none;\"><img src=\"http://namic.com/wp-content/themes/namic-dev/./img/icons/member-social-youtube.png\"/></a></div></div><div class=\"members-item-link\"><div></div><p><a href=\"#\">Read more</a></p></div></div><div class=\"team-member-item\"><div class=\"team-member-left\"><img src=\"http://namic.com/wp-content/uploads/2015/04/SusanWaldman_Headshot11.jpg\"/></div><div class=\"team-member-right\"><h3 class=\"team-member-name\">Susan Waldman</h3><h4 class=\"team-member-position\">Senior Manager, Membership and Publications</h4><div class=\"team-member-body hide-class\"><div style=\"overflow: hidden; height: 72px;\">As the Senior Manager of Membership and Publications, Susan Waldman oversees the day-to-day facilitation of NAMIC’s membership operations, as well as market research to drive growth. She is also responsible for the production of NAMIC’s industry-wide publication, Diversity Digest. She launched her career in market research as a media planner on such accounts as Loews Hotels and Omnipoint Communications at Hill, Holliday Altschiller and McCann Direct advertising agencies.  There she was introduced to the gamut of advertising research resources as she planned and purchased the media for various clients.  After a few years, Susan moved over to the magazine industry. Susan has served as the Marketing Research Manager at Vibe, Spin and The Source magazines and Research Director at Motor Trend magazine. Supporting 20 sales representatives by providing them with competitive and analytic research regarding each magazine’s audience, she has honed her research expertise. Susan received a Bachelor of Arts in Psychology from Ohio University in Athens, Ohio. </div></div><div class=\"team-member-social\"><a class=\"member-social-twitter\" href=\"\" style=\"display: none;\"><img src=\"http://namic.com/wp-content/themes/namic-dev/./img/icons/member-social-twitter.png\"/></a><a class=\"member-social-linkedin\" href=\"https://www.linkedin.com/pub/susan-waldman/3/54b/b35\"><img src=\"http://namic.com/wp-content/themes/namic-dev/./img/icons/member-social-linkedin.png\"/></a><a class=\"member-social-facebook\" href=\"\" style=\"display: none;\"><img src=\"http://namic.com/wp-content/themes/namic-dev/./img/icons/member-social-facebook.png\"/></a><a class=\"member-social-google+\" href=\"\" style=\"display: none;\"><img src=\"http://namic.com/wp-content/themes/namic-dev/./img/icons/member-social-google+.png\"/></a><a class=\"member-social-youtube\" href=\"\" style=\"display: none;\"><img src=\"http://namic.com/wp-content/themes/namic-dev/./img/icons/member-social-youtube.png\"/></a></div></div><div class=\"members-item-link\"><div></div><p><a href=\"#\">Read more</a></p></div></div><div class=\"team-member-item\"><div class=\"team-member-left\"><img src=\"http://namic.com/wp-content/uploads/2016/06/DJack.png\"/></div><div class=\"team-member-right\"><h3 class=\"team-member-name\">Darryl Jackson</h3><h4 class=\"team-member-position\">Manager, Mentoring Relations and Chapter Operations</h4><div class=\"team-member-body hide-class\"><div style=\"overflow: hidden; height: 72px;\">As the Manager for Mentoring Relations and Chapter Operations, Darryl oversees the day-to-day operations of NAMIC chapters and stewardship of the L. Patrick Mellon Mentorship Program. In this role, Darryl provides programmatic support and guidance in both these key areas, and works with the Senior Vice President of Education and Diversity Solutions to ensure that program participants and volunteers have access to the resources necessary for success in their endeavors, and are able to maximize the benefits of participation and affiliation. Darryl began his career in government and finance as a loan officer for the U.S. Department of Agriculture and later moved into mortgage loans as a mortgage broker for SunTrust Bank, Mortgage Virginia and Virginia Mortgage Services. After seven years in finance, Darryl shifted to a career in non-profit and association management, serving as Director of Membership Services and Marketing for Alpha Phi Alpha Fraternity and as a Chapter Development Specialist for the Project Management Institute. He is an active member of the American Society for Association Executives (ASAE) and has served on their Committee for Diversity and Inclusion. Darryl received his Bachelors of Science in Agricultural Business and Economics from Virginia State University, where he was a U.S. Department of Agriculture National Scholar, and his Masters of Business Administration from University of Maryland University College in Management. Darryl is a graduate of the U.S. Chapter of Commerce’s Institute for Organization Management (IOM) and holds ASAE’s Certified Association Executive (CAE) credential. </div></div><div class=\"team-member-social\"><a class=\"member-social-twitter\" href=\"\" style=\"display: none;\"><img src=\"http://namic.com/wp-content/themes/namic-dev/./img/icons/member-social-twitter.png\"/></a><a class=\"member-social-linkedin\" href=\"https://www.linkedin.com/in/darryljackson\"><img src=\"http://namic.com/wp-content/themes/namic-dev/./img/icons/member-social-linkedin.png\"/></a><a class=\"member-social-facebook\" href=\"\" style=\"display: none;\"><img src=\"http://namic.com/wp-content/themes/namic-dev/./img/icons/member-social-facebook.png\"/></a><a class=\"member-social-google+\" href=\"\" style=\"display: none;\"><img src=\"http://namic.com/wp-content/themes/namic-dev/./img/icons/member-social-google+.png\"/></a><a class=\"member-social-youtube\" href=\"\" style=\"display: none;\"><img src=\"http://namic.com/wp-content/themes/namic-dev/./img/icons/member-social-youtube.png\"/></a></div></div><div class=\"members-item-link\"><div></div><p><a href=\"#\">Read more</a></p></div></div><div class=\"team-member-item\"><div class=\"team-member-left\"><img src=\"http://namic.com/wp-content/uploads/2016/01/BHewlett.png\"/></div><div class=\"team-member-right\"><h3 class=\"team-member-name\">Brandon D. Hewlett</h3><h4 class=\"team-member-position\">Project Coordinator</h4><div class=\"team-member-body hide-class\"><div style=\"overflow: hidden; height: 72px;\">Brandon D. Hewlett provides ongoing support of all marketing and promotion related to company wide initiatives, programs and events at the national and local levels. With strong knowledge in the growing digital media space. Brandon manages marketing projects from conception to completion. Handling multiple elements including advertising (print and digital), analytics, email campaigns, social media engagement, and website maintenance. Prior to joining the team at NAMIC, Brandon was a Marketing Analyst at BeautiControl, Inc. (Tupperware Brands) where he helped develop a new Merchandising Database. While supporting the Marketing team with ad-hoc reports and KPIs (Key Performance Indicators). Brandon is a graduate of Temple University in Philadelphia, PA where he received a Bachelor of Arts in Digital Media Technologies and African American Studies. </div></div><div class=\"team-member-social\"><a class=\"member-social-twitter\" href=\"\" style=\"display: none;\"><img src=\"http://namic.com/wp-content/themes/namic-dev/./img/icons/member-social-twitter.png\"/></a><a class=\"member-social-linkedin\" href=\"https://www.linkedin.com/in/bdhewlett\"><img src=\"http://namic.com/wp-content/themes/namic-dev/./img/icons/member-social-linkedin.png\"/></a><a class=\"member-social-facebook\" href=\"\" style=\"display: none;\"><img src=\"http://namic.com/wp-content/themes/namic-dev/./img/icons/member-social-facebook.png\"/></a><a class=\"member-social-google+\" href=\"\" style=\"display: none;\"><img src=\"http://namic.com/wp-content/themes/namic-dev/./img/icons/member-social-google+.png\"/></a><a class=\"member-social-youtube\" href=\"\" style=\"display: none;\"><img src=\"http://namic.com/wp-content/themes/namic-dev/./img/icons/member-social-youtube.png\"/></a></div></div><div class=\"members-item-link\"><div></div><p><a href=\"#\">Read more</a></p></div></div><div class=\"team-member-item\"><div class=\"team-member-left\"><img src=\"http://namic.com/wp-content/uploads/2016/01/DOBrien.png\"/></div><div class=\"team-member-right\"><h3 class=\"team-member-name\">Davana O'Brien</h3><h4 class=\"team-member-position\">Administrative Assistant</h4><div class=\"team-member-body\"><div></div></div><div class=\"team-member-social\"><a class=\"member-social-twitter\" href=\"\" style=\"display: none;\"><img src=\"http://namic.com/wp-content/themes/namic-dev/./img/icons/member-social-twitter.png\"/></a><a class=\"member-social-linkedin\" href=\"\" style=\"display: none;\"><img src=\"http://namic.com/wp-content/themes/namic-dev/./img/icons/member-social-linkedin.png\"/></a><a class=\"member-social-facebook\" href=\"\" style=\"display: none;\"><img src=\"http://namic.com/wp-content/themes/namic-dev/./img/icons/member-social-facebook.png\"/></a><a class=\"member-social-google+\" href=\"\" style=\"display: none;\"><img src=\"http://namic.com/wp-content/themes/namic-dev/./img/icons/member-social-google+.png\"/></a><a class=\"member-social-youtube\" href=\"\" style=\"display: none;\"><img src=\"http://namic.com/wp-content/themes/namic-dev/./img/icons/member-social-youtube.png\"/></a></div></div><div class=\"members-item-link\"><div></div><p><a href=\"#\">Read more</a></p></div></div> </div>],\n",
       "         [<div class=\"main-section\"> <h3 class=\"main-section-title\">       Our success lies with our team of highly experienced professionals.     </h3> <p class=\"main-section-subtitle\"></p> <div class=\"team-member-item\"><div class=\"team-member-left\"><img src=\"http://namic.com/wp-content/uploads/2015/01/Eglon.png\"/></div><div class=\"team-member-right\"><h3 class=\"team-member-name\">Eglon E. Simons</h3><h4 class=\"team-member-position\">President and CEO</h4><div class=\"team-member-body hide-class\"><div style=\"overflow: hidden; height: 72px;\">Eglon E. Simons leads the association and champions its mission as President and CEO. In addition to working closely with NAMIC’s 16 chapters across the country, he collaborates with NAMIC’s board, staff, chapter leadership and industry partners in building upon NAMIC’s legacy. A strong and progressive leader, Simons’ career in media and communications has spanned more than 30 years. Upon earning an MBA from Harvard Business School, Simons joined the staff at CBS New York. After holding several managerial positions, Simons concluded his 13-year run with the network as Vice President of Sales and Marketing for the CBS Television Stations Division. In 1990, Simons embarked on a 21-year run with Cablevision Systems Corporation as Director of New York Sales for its Cable Networks unit. Simons began serving as Vice President and General Manager of New York Interconnect in 1992 and subsequently, was promoted in 1995, to Senior Vice President and General Manager. Simons was named Executive Vice President of Cablevision’s Rainbow Advertising Sales Company in 2002, a senior management role he fulfilled until his retirement from Cablevision Systems Corporation in 2011. </div></div><div class=\"team-member-social\"><a class=\"member-social-twitter\" href=\"\" style=\"display: none;\"><img src=\"http://namic.com/wp-content/themes/namic-dev/./img/icons/member-social-twitter.png\"/></a><a class=\"member-social-linkedin\" href=\"https://www.linkedin.com/in/eglonsimons\"><img src=\"http://namic.com/wp-content/themes/namic-dev/./img/icons/member-social-linkedin.png\"/></a><a class=\"member-social-facebook\" href=\"\" style=\"display: none;\"><img src=\"http://namic.com/wp-content/themes/namic-dev/./img/icons/member-social-facebook.png\"/></a><a class=\"member-social-google+\" href=\"\" style=\"display: none;\"><img src=\"http://namic.com/wp-content/themes/namic-dev/./img/icons/member-social-google+.png\"/></a><a class=\"member-social-youtube\" href=\"\" style=\"display: none;\"><img src=\"http://namic.com/wp-content/themes/namic-dev/./img/icons/member-social-youtube.png\"/></a></div></div><div class=\"members-item-link\"><div></div><p><a href=\"#\">Read more</a></p></div></div><div class=\"team-member-item\"><div class=\"team-member-left\"><img src=\"http://namic.com/wp-content/uploads/2015/04/JimJones_Headshot11.jpg\"/></div><div class=\"team-member-right\"><h3 class=\"team-member-name\">James C. Jones</h3><h4 class=\"team-member-position\">Senior Vice President, Education and Diversity Solutions</h4><div class=\"team-member-body hide-class\"><div style=\"overflow: hidden; height: 72px;\">As the Senior Vice President of Education and Diversity Solutions, Jim oversees the association’s education programs and professional development initiatives. He also manages day-to-day NAMIC Foundation operations. Jim Jones joined the NAMIC team in Fall 2005 after spending nearly a decade launching a wide range of diversity, team building, mentoring and other multicultural programs for the National Action Council for Minorities in Engineering (NACME), a national non-profit whose mission is to increase the numbers of successful African American, American Indian and Latino men and women in the engineering, technology and math-based fields. Before joining NACME, he had consulted in the corporate, government, educational, and not-for-profit sectors, designing and implementing training and development initiatives related to increasing organizational effectiveness through building and nurturing a diverse workforce. With a B.A. from Harvard, Jim attended New York’s Juilliard School and the Curtis Institute of Music in Philadelphia, where he studied classical singing. He eventually was awarded a Fulbright Fellowship to France, and spent four years studying and performing in European concert and opera venues. After much “soul-searching,” he eventually returned to America and attended the Columbia Business School, where he received an M.B.A. in strategic human resources. Jim hails from St. Louis, Missouri.   </div></div><div class=\"team-member-social\"><a class=\"member-social-twitter\" href=\"\" style=\"display: none;\"><img src=\"http://namic.com/wp-content/themes/namic-dev/./img/icons/member-social-twitter.png\"/></a><a class=\"member-social-linkedin\" href=\"https://www.linkedin.com/pub/james-jones/8/756/429\"><img src=\"http://namic.com/wp-content/themes/namic-dev/./img/icons/member-social-linkedin.png\"/></a><a class=\"member-social-facebook\" href=\"\" style=\"display: none;\"><img src=\"http://namic.com/wp-content/themes/namic-dev/./img/icons/member-social-facebook.png\"/></a><a class=\"member-social-google+\" href=\"\" style=\"display: none;\"><img src=\"http://namic.com/wp-content/themes/namic-dev/./img/icons/member-social-google+.png\"/></a><a class=\"member-social-youtube\" href=\"\" style=\"display: none;\"><img src=\"http://namic.com/wp-content/themes/namic-dev/./img/icons/member-social-youtube.png\"/></a></div></div><div class=\"members-item-link\"><div></div><p><a href=\"#\">Read more</a></p></div></div><div class=\"team-member-item\"><div class=\"team-member-left\"><img src=\"http://namic.com/wp-content/uploads/2015/04/SandraGirado_Headshot11.jpg\"/></div><div class=\"team-member-right\"><h3 class=\"team-member-name\">Sandra Girado</h3><h4 class=\"team-member-position\">Vice President, Events and Partner Relations</h4><div class=\"team-member-body hide-class\"><div style=\"overflow: hidden; height: 72px;\">As the Vice President of Events and Partner Relations, Sandra Girado leads the production and management of NAMIC’s national events, and also oversees key marketing and creative services. Sandra brings to NAMIC close to a decade of experience in the meeting planning and trade show industry. Prior to joining NAMIC in June 2005, she served as the Programs Administrator for the International Council of Shopping Centers where she was responsible for the management of educational programs, including faculty recruitment and curriculum scheduling. In that position she also worked to facilitate programs in Asia, Mexico, the Middle East and Moscow. Sandra also worked with the EastWest Institute, where she was responsible for planning Global Homeland Security Conferences for the international community. Additionally, she was the Special Events Manager for Lebhar-Friedman, a New York based publishing company. She is a graduate of Manhattan College, where she received a Bachelor of Science degree in Marketing and International Business. </div></div><div class=\"team-member-social\"><a class=\"member-social-twitter\" href=\"\" style=\"display: none;\"><img src=\"http://namic.com/wp-content/themes/namic-dev/./img/icons/member-social-twitter.png\"/></a><a class=\"member-social-linkedin\" href=\"https://www.linkedin.com/pub/sandra-girado/49/505/262\"><img src=\"http://namic.com/wp-content/themes/namic-dev/./img/icons/member-social-linkedin.png\"/></a><a class=\"member-social-facebook\" href=\"\" style=\"display: none;\"><img src=\"http://namic.com/wp-content/themes/namic-dev/./img/icons/member-social-facebook.png\"/></a><a class=\"member-social-google+\" href=\"\" style=\"display: none;\"><img src=\"http://namic.com/wp-content/themes/namic-dev/./img/icons/member-social-google+.png\"/></a><a class=\"member-social-youtube\" href=\"\" style=\"display: none;\"><img src=\"http://namic.com/wp-content/themes/namic-dev/./img/icons/member-social-youtube.png\"/></a></div></div><div class=\"members-item-link\"><div></div><p><a href=\"#\">Read more</a></p></div></div><div class=\"team-member-item\"><div class=\"team-member-left\"><img src=\"http://namic.com/wp-content/uploads/2015/04/MWells.png\"/></div><div class=\"team-member-right\"><h3 class=\"team-member-name\">S. Monique Wells</h3><h4 class=\"team-member-position\">Director of Finance and Administration</h4><div class=\"team-member-body hide-class\"><div style=\"overflow: hidden; height: 72px;\">Monique Wells is the Director of Finance and Administration for the National Association for Multi-ethnicity in Communications’ (NAMIC). Prior to that she was their Manager of Operations, a position she assumed in August, 2009. Monique is no stranger to NAMIC and has been a member since 1991. She served as a consultant to NAMIC for a number of special projects, prior to joining the staff. As Director of Finance and Administration, she oversees the administrative and financial operations of the national office. An accomplished professional with a diverse background in sales and project management, Monique previously served as an Energy Conservation Analyst with the Los Angeles Unified School District where she oversaw the utility management for school construction projects. Prior to that, Monique was a National Sales and Marketing Executive for Patriot Communications where she was responsible for the sales, marketing and contract negotiations of enhanced telecommunications products and services. Before joining Patriot, Monique worked at HBO in Affiliate Sales, where she created and implemented sales strategies and account activities for HBO and Cinemax. Her responsibilities included sales, client services, off-channel promotions and special events. During her tenure at HBO, Monique was an active member of the NAMIC-Southern California chapter and served on the Steering Committee for the Vision Awards and chaired both the Sponsorship and Talent Committees. Preceding her tenure in communications, Monique held several executive positions for Kraft General Foods and Sportsvisions, a sports marketing company based in Northern California. Monique earned a Bachelor of Arts degree in Sociology from Clark University in Worcester, MA and a MBA degree in general business and marketing from Atlanta University, now known as Clark Atlanta University in Atlanta, GA. She is on the planning committee for the American Heart Association’s Harlem Go Red For Women Educational Forum and volunteers for the New York Common Pantry, a New York City community based food pantry. </div></div><div class=\"team-member-social\"><a class=\"member-social-twitter\" href=\"\" style=\"display: none;\"><img src=\"http://namic.com/wp-content/themes/namic-dev/./img/icons/member-social-twitter.png\"/></a><a class=\"member-social-linkedin\" href=\"https://www.linkedin.com/pub/s-monique-wells/3/7a0/265\"><img src=\"http://namic.com/wp-content/themes/namic-dev/./img/icons/member-social-linkedin.png\"/></a><a class=\"member-social-facebook\" href=\"\" style=\"display: none;\"><img src=\"http://namic.com/wp-content/themes/namic-dev/./img/icons/member-social-facebook.png\"/></a><a class=\"member-social-google+\" href=\"\" style=\"display: none;\"><img src=\"http://namic.com/wp-content/themes/namic-dev/./img/icons/member-social-google+.png\"/></a><a class=\"member-social-youtube\" href=\"\" style=\"display: none;\"><img src=\"http://namic.com/wp-content/themes/namic-dev/./img/icons/member-social-youtube.png\"/></a></div></div><div class=\"members-item-link\"><div></div><p><a href=\"#\">Read more</a></p></div></div><div class=\"team-member-item\"><div class=\"team-member-left\"><img src=\"http://namic.com/wp-content/uploads/2015/04/SusanWaldman_Headshot11.jpg\"/></div><div class=\"team-member-right\"><h3 class=\"team-member-name\">Susan Waldman</h3><h4 class=\"team-member-position\">Senior Manager, Membership and Publications</h4><div class=\"team-member-body hide-class\"><div style=\"overflow: hidden; height: 72px;\">As the Senior Manager of Membership and Publications, Susan Waldman oversees the day-to-day facilitation of NAMIC’s membership operations, as well as market research to drive growth. She is also responsible for the production of NAMIC’s industry-wide publication, Diversity Digest. She launched her career in market research as a media planner on such accounts as Loews Hotels and Omnipoint Communications at Hill, Holliday Altschiller and McCann Direct advertising agencies.  There she was introduced to the gamut of advertising research resources as she planned and purchased the media for various clients.  After a few years, Susan moved over to the magazine industry. Susan has served as the Marketing Research Manager at Vibe, Spin and The Source magazines and Research Director at Motor Trend magazine. Supporting 20 sales representatives by providing them with competitive and analytic research regarding each magazine’s audience, she has honed her research expertise. Susan received a Bachelor of Arts in Psychology from Ohio University in Athens, Ohio. </div></div><div class=\"team-member-social\"><a class=\"member-social-twitter\" href=\"\" style=\"display: none;\"><img src=\"http://namic.com/wp-content/themes/namic-dev/./img/icons/member-social-twitter.png\"/></a><a class=\"member-social-linkedin\" href=\"https://www.linkedin.com/pub/susan-waldman/3/54b/b35\"><img src=\"http://namic.com/wp-content/themes/namic-dev/./img/icons/member-social-linkedin.png\"/></a><a class=\"member-social-facebook\" href=\"\" style=\"display: none;\"><img src=\"http://namic.com/wp-content/themes/namic-dev/./img/icons/member-social-facebook.png\"/></a><a class=\"member-social-google+\" href=\"\" style=\"display: none;\"><img src=\"http://namic.com/wp-content/themes/namic-dev/./img/icons/member-social-google+.png\"/></a><a class=\"member-social-youtube\" href=\"\" style=\"display: none;\"><img src=\"http://namic.com/wp-content/themes/namic-dev/./img/icons/member-social-youtube.png\"/></a></div></div><div class=\"members-item-link\"><div></div><p><a href=\"#\">Read more</a></p></div></div><div class=\"team-member-item\"><div class=\"team-member-left\"><img src=\"http://namic.com/wp-content/uploads/2016/06/DJack.png\"/></div><div class=\"team-member-right\"><h3 class=\"team-member-name\">Darryl Jackson</h3><h4 class=\"team-member-position\">Manager, Mentoring Relations and Chapter Operations</h4><div class=\"team-member-body hide-class\"><div style=\"overflow: hidden; height: 72px;\">As the Manager for Mentoring Relations and Chapter Operations, Darryl oversees the day-to-day operations of NAMIC chapters and stewardship of the L. Patrick Mellon Mentorship Program. In this role, Darryl provides programmatic support and guidance in both these key areas, and works with the Senior Vice President of Education and Diversity Solutions to ensure that program participants and volunteers have access to the resources necessary for success in their endeavors, and are able to maximize the benefits of participation and affiliation. Darryl began his career in government and finance as a loan officer for the U.S. Department of Agriculture and later moved into mortgage loans as a mortgage broker for SunTrust Bank, Mortgage Virginia and Virginia Mortgage Services. After seven years in finance, Darryl shifted to a career in non-profit and association management, serving as Director of Membership Services and Marketing for Alpha Phi Alpha Fraternity and as a Chapter Development Specialist for the Project Management Institute. He is an active member of the American Society for Association Executives (ASAE) and has served on their Committee for Diversity and Inclusion. Darryl received his Bachelors of Science in Agricultural Business and Economics from Virginia State University, where he was a U.S. Department of Agriculture National Scholar, and his Masters of Business Administration from University of Maryland University College in Management. Darryl is a graduate of the U.S. Chapter of Commerce’s Institute for Organization Management (IOM) and holds ASAE’s Certified Association Executive (CAE) credential. </div></div><div class=\"team-member-social\"><a class=\"member-social-twitter\" href=\"\" style=\"display: none;\"><img src=\"http://namic.com/wp-content/themes/namic-dev/./img/icons/member-social-twitter.png\"/></a><a class=\"member-social-linkedin\" href=\"https://www.linkedin.com/in/darryljackson\"><img src=\"http://namic.com/wp-content/themes/namic-dev/./img/icons/member-social-linkedin.png\"/></a><a class=\"member-social-facebook\" href=\"\" style=\"display: none;\"><img src=\"http://namic.com/wp-content/themes/namic-dev/./img/icons/member-social-facebook.png\"/></a><a class=\"member-social-google+\" href=\"\" style=\"display: none;\"><img src=\"http://namic.com/wp-content/themes/namic-dev/./img/icons/member-social-google+.png\"/></a><a class=\"member-social-youtube\" href=\"\" style=\"display: none;\"><img src=\"http://namic.com/wp-content/themes/namic-dev/./img/icons/member-social-youtube.png\"/></a></div></div><div class=\"members-item-link\"><div></div><p><a href=\"#\">Read more</a></p></div></div><div class=\"team-member-item\"><div class=\"team-member-left\"><img src=\"http://namic.com/wp-content/uploads/2016/01/BHewlett.png\"/></div><div class=\"team-member-right\"><h3 class=\"team-member-name\">Brandon D. Hewlett</h3><h4 class=\"team-member-position\">Project Coordinator</h4><div class=\"team-member-body hide-class\"><div style=\"overflow: hidden; height: 72px;\">Brandon D. Hewlett provides ongoing support of all marketing and promotion related to company wide initiatives, programs and events at the national and local levels. With strong knowledge in the growing digital media space. Brandon manages marketing projects from conception to completion. Handling multiple elements including advertising (print and digital), analytics, email campaigns, social media engagement, and website maintenance. Prior to joining the team at NAMIC, Brandon was a Marketing Analyst at BeautiControl, Inc. (Tupperware Brands) where he helped develop a new Merchandising Database. While supporting the Marketing team with ad-hoc reports and KPIs (Key Performance Indicators). Brandon is a graduate of Temple University in Philadelphia, PA where he received a Bachelor of Arts in Digital Media Technologies and African American Studies. </div></div><div class=\"team-member-social\"><a class=\"member-social-twitter\" href=\"\" style=\"display: none;\"><img src=\"http://namic.com/wp-content/themes/namic-dev/./img/icons/member-social-twitter.png\"/></a><a class=\"member-social-linkedin\" href=\"https://www.linkedin.com/in/bdhewlett\"><img src=\"http://namic.com/wp-content/themes/namic-dev/./img/icons/member-social-linkedin.png\"/></a><a class=\"member-social-facebook\" href=\"\" style=\"display: none;\"><img src=\"http://namic.com/wp-content/themes/namic-dev/./img/icons/member-social-facebook.png\"/></a><a class=\"member-social-google+\" href=\"\" style=\"display: none;\"><img src=\"http://namic.com/wp-content/themes/namic-dev/./img/icons/member-social-google+.png\"/></a><a class=\"member-social-youtube\" href=\"\" style=\"display: none;\"><img src=\"http://namic.com/wp-content/themes/namic-dev/./img/icons/member-social-youtube.png\"/></a></div></div><div class=\"members-item-link\"><div></div><p><a href=\"#\">Read more</a></p></div></div><div class=\"team-member-item\"><div class=\"team-member-left\"><img src=\"http://namic.com/wp-content/uploads/2016/01/DOBrien.png\"/></div><div class=\"team-member-right\"><h3 class=\"team-member-name\">Davana O'Brien</h3><h4 class=\"team-member-position\">Administrative Assistant</h4><div class=\"team-member-body\"><div></div></div><div class=\"team-member-social\"><a class=\"member-social-twitter\" href=\"\" style=\"display: none;\"><img src=\"http://namic.com/wp-content/themes/namic-dev/./img/icons/member-social-twitter.png\"/></a><a class=\"member-social-linkedin\" href=\"\" style=\"display: none;\"><img src=\"http://namic.com/wp-content/themes/namic-dev/./img/icons/member-social-linkedin.png\"/></a><a class=\"member-social-facebook\" href=\"\" style=\"display: none;\"><img src=\"http://namic.com/wp-content/themes/namic-dev/./img/icons/member-social-facebook.png\"/></a><a class=\"member-social-google+\" href=\"\" style=\"display: none;\"><img src=\"http://namic.com/wp-content/themes/namic-dev/./img/icons/member-social-google+.png\"/></a><a class=\"member-social-youtube\" href=\"\" style=\"display: none;\"><img src=\"http://namic.com/wp-content/themes/namic-dev/./img/icons/member-social-youtube.png\"/></a></div></div><div class=\"members-item-link\"><div></div><p><a href=\"#\">Read more</a></p></div></div> </div>, <div class=\"main-section\"> <h3 class=\"main-section-title\">       Our success lies with our team of highly experienced professionals.     </h3> <p class=\"main-section-subtitle\"></p> <div class=\"team-member-item\"><div class=\"team-member-left\"><img src=\"http://namic.com/wp-content/uploads/2015/01/Eglon.png\"/></div><div class=\"team-member-right\"><h3 class=\"team-member-name\">Eglon E. Simons</h3><h4 class=\"team-member-position\">President and CEO</h4><div class=\"team-member-body hide-class\"><div style=\"overflow: hidden; height: 72px;\">Eglon E. Simons leads the association and champions its mission as President and CEO. In addition to working closely with NAMIC’s 16 chapters across the country, he collaborates with NAMIC’s board, staff, chapter leadership and industry partners in building upon NAMIC’s legacy. A strong and progressive leader, Simons’ career in media and communications has spanned more than 30 years. Upon earning an MBA from Harvard Business School, Simons joined the staff at CBS New York. After holding several managerial positions, Simons concluded his 13-year run with the network as Vice President of Sales and Marketing for the CBS Television Stations Division. In 1990, Simons embarked on a 21-year run with Cablevision Systems Corporation as Director of New York Sales for its Cable Networks unit. Simons began serving as Vice President and General Manager of New York Interconnect in 1992 and subsequently, was promoted in 1995, to Senior Vice President and General Manager. Simons was named Executive Vice President of Cablevision’s Rainbow Advertising Sales Company in 2002, a senior management role he fulfilled until his retirement from Cablevision Systems Corporation in 2011. </div></div><div class=\"team-member-social\"><a class=\"member-social-twitter\" href=\"\" style=\"display: none;\"><img src=\"http://namic.com/wp-content/themes/namic-dev/./img/icons/member-social-twitter.png\"/></a><a class=\"member-social-linkedin\" href=\"https://www.linkedin.com/in/eglonsimons\"><img src=\"http://namic.com/wp-content/themes/namic-dev/./img/icons/member-social-linkedin.png\"/></a><a class=\"member-social-facebook\" href=\"\" style=\"display: none;\"><img src=\"http://namic.com/wp-content/themes/namic-dev/./img/icons/member-social-facebook.png\"/></a><a class=\"member-social-google+\" href=\"\" style=\"display: none;\"><img src=\"http://namic.com/wp-content/themes/namic-dev/./img/icons/member-social-google+.png\"/></a><a class=\"member-social-youtube\" href=\"\" style=\"display: none;\"><img src=\"http://namic.com/wp-content/themes/namic-dev/./img/icons/member-social-youtube.png\"/></a></div></div><div class=\"members-item-link\"><div></div><p><a href=\"#\">Read more</a></p></div></div><div class=\"team-member-item\"><div class=\"team-member-left\"><img src=\"http://namic.com/wp-content/uploads/2015/04/JimJones_Headshot11.jpg\"/></div><div class=\"team-member-right\"><h3 class=\"team-member-name\">James C. Jones</h3><h4 class=\"team-member-position\">Senior Vice President, Education and Diversity Solutions</h4><div class=\"team-member-body hide-class\"><div style=\"overflow: hidden; height: 72px;\">As the Senior Vice President of Education and Diversity Solutions, Jim oversees the association’s education programs and professional development initiatives. He also manages day-to-day NAMIC Foundation operations. Jim Jones joined the NAMIC team in Fall 2005 after spending nearly a decade launching a wide range of diversity, team building, mentoring and other multicultural programs for the National Action Council for Minorities in Engineering (NACME), a national non-profit whose mission is to increase the numbers of successful African American, American Indian and Latino men and women in the engineering, technology and math-based fields. Before joining NACME, he had consulted in the corporate, government, educational, and not-for-profit sectors, designing and implementing training and development initiatives related to increasing organizational effectiveness through building and nurturing a diverse workforce. With a B.A. from Harvard, Jim attended New York’s Juilliard School and the Curtis Institute of Music in Philadelphia, where he studied classical singing. He eventually was awarded a Fulbright Fellowship to France, and spent four years studying and performing in European concert and opera venues. After much “soul-searching,” he eventually returned to America and attended the Columbia Business School, where he received an M.B.A. in strategic human resources. Jim hails from St. Louis, Missouri.   </div></div><div class=\"team-member-social\"><a class=\"member-social-twitter\" href=\"\" style=\"display: none;\"><img src=\"http://namic.com/wp-content/themes/namic-dev/./img/icons/member-social-twitter.png\"/></a><a class=\"member-social-linkedin\" href=\"https://www.linkedin.com/pub/james-jones/8/756/429\"><img src=\"http://namic.com/wp-content/themes/namic-dev/./img/icons/member-social-linkedin.png\"/></a><a class=\"member-social-facebook\" href=\"\" style=\"display: none;\"><img src=\"http://namic.com/wp-content/themes/namic-dev/./img/icons/member-social-facebook.png\"/></a><a class=\"member-social-google+\" href=\"\" style=\"display: none;\"><img src=\"http://namic.com/wp-content/themes/namic-dev/./img/icons/member-social-google+.png\"/></a><a class=\"member-social-youtube\" href=\"\" style=\"display: none;\"><img src=\"http://namic.com/wp-content/themes/namic-dev/./img/icons/member-social-youtube.png\"/></a></div></div><div class=\"members-item-link\"><div></div><p><a href=\"#\">Read more</a></p></div></div><div class=\"team-member-item\"><div class=\"team-member-left\"><img src=\"http://namic.com/wp-content/uploads/2015/04/SandraGirado_Headshot11.jpg\"/></div><div class=\"team-member-right\"><h3 class=\"team-member-name\">Sandra Girado</h3><h4 class=\"team-member-position\">Vice President, Events and Partner Relations</h4><div class=\"team-member-body hide-class\"><div style=\"overflow: hidden; height: 72px;\">As the Vice President of Events and Partner Relations, Sandra Girado leads the production and management of NAMIC’s national events, and also oversees key marketing and creative services. Sandra brings to NAMIC close to a decade of experience in the meeting planning and trade show industry. Prior to joining NAMIC in June 2005, she served as the Programs Administrator for the International Council of Shopping Centers where she was responsible for the management of educational programs, including faculty recruitment and curriculum scheduling. In that position she also worked to facilitate programs in Asia, Mexico, the Middle East and Moscow. Sandra also worked with the EastWest Institute, where she was responsible for planning Global Homeland Security Conferences for the international community. Additionally, she was the Special Events Manager for Lebhar-Friedman, a New York based publishing company. She is a graduate of Manhattan College, where she received a Bachelor of Science degree in Marketing and International Business. </div></div><div class=\"team-member-social\"><a class=\"member-social-twitter\" href=\"\" style=\"display: none;\"><img src=\"http://namic.com/wp-content/themes/namic-dev/./img/icons/member-social-twitter.png\"/></a><a class=\"member-social-linkedin\" href=\"https://www.linkedin.com/pub/sandra-girado/49/505/262\"><img src=\"http://namic.com/wp-content/themes/namic-dev/./img/icons/member-social-linkedin.png\"/></a><a class=\"member-social-facebook\" href=\"\" style=\"display: none;\"><img src=\"http://namic.com/wp-content/themes/namic-dev/./img/icons/member-social-facebook.png\"/></a><a class=\"member-social-google+\" href=\"\" style=\"display: none;\"><img src=\"http://namic.com/wp-content/themes/namic-dev/./img/icons/member-social-google+.png\"/></a><a class=\"member-social-youtube\" href=\"\" style=\"display: none;\"><img src=\"http://namic.com/wp-content/themes/namic-dev/./img/icons/member-social-youtube.png\"/></a></div></div><div class=\"members-item-link\"><div></div><p><a href=\"#\">Read more</a></p></div></div><div class=\"team-member-item\"><div class=\"team-member-left\"><img src=\"http://namic.com/wp-content/uploads/2015/04/MWells.png\"/></div><div class=\"team-member-right\"><h3 class=\"team-member-name\">S. Monique Wells</h3><h4 class=\"team-member-position\">Director of Finance and Administration</h4><div class=\"team-member-body hide-class\"><div style=\"overflow: hidden; height: 72px;\">Monique Wells is the Director of Finance and Administration for the National Association for Multi-ethnicity in Communications’ (NAMIC). Prior to that she was their Manager of Operations, a position she assumed in August, 2009. Monique is no stranger to NAMIC and has been a member since 1991. She served as a consultant to NAMIC for a number of special projects, prior to joining the staff. As Director of Finance and Administration, she oversees the administrative and financial operations of the national office. An accomplished professional with a diverse background in sales and project management, Monique previously served as an Energy Conservation Analyst with the Los Angeles Unified School District where she oversaw the utility management for school construction projects. Prior to that, Monique was a National Sales and Marketing Executive for Patriot Communications where she was responsible for the sales, marketing and contract negotiations of enhanced telecommunications products and services. Before joining Patriot, Monique worked at HBO in Affiliate Sales, where she created and implemented sales strategies and account activities for HBO and Cinemax. Her responsibilities included sales, client services, off-channel promotions and special events. During her tenure at HBO, Monique was an active member of the NAMIC-Southern California chapter and served on the Steering Committee for the Vision Awards and chaired both the Sponsorship and Talent Committees. Preceding her tenure in communications, Monique held several executive positions for Kraft General Foods and Sportsvisions, a sports marketing company based in Northern California. Monique earned a Bachelor of Arts degree in Sociology from Clark University in Worcester, MA and a MBA degree in general business and marketing from Atlanta University, now known as Clark Atlanta University in Atlanta, GA. She is on the planning committee for the American Heart Association’s Harlem Go Red For Women Educational Forum and volunteers for the New York Common Pantry, a New York City community based food pantry. </div></div><div class=\"team-member-social\"><a class=\"member-social-twitter\" href=\"\" style=\"display: none;\"><img src=\"http://namic.com/wp-content/themes/namic-dev/./img/icons/member-social-twitter.png\"/></a><a class=\"member-social-linkedin\" href=\"https://www.linkedin.com/pub/s-monique-wells/3/7a0/265\"><img src=\"http://namic.com/wp-content/themes/namic-dev/./img/icons/member-social-linkedin.png\"/></a><a class=\"member-social-facebook\" href=\"\" style=\"display: none;\"><img src=\"http://namic.com/wp-content/themes/namic-dev/./img/icons/member-social-facebook.png\"/></a><a class=\"member-social-google+\" href=\"\" style=\"display: none;\"><img src=\"http://namic.com/wp-content/themes/namic-dev/./img/icons/member-social-google+.png\"/></a><a class=\"member-social-youtube\" href=\"\" style=\"display: none;\"><img src=\"http://namic.com/wp-content/themes/namic-dev/./img/icons/member-social-youtube.png\"/></a></div></div><div class=\"members-item-link\"><div></div><p><a href=\"#\">Read more</a></p></div></div><div class=\"team-member-item\"><div class=\"team-member-left\"><img src=\"http://namic.com/wp-content/uploads/2015/04/SusanWaldman_Headshot11.jpg\"/></div><div class=\"team-member-right\"><h3 class=\"team-member-name\">Susan Waldman</h3><h4 class=\"team-member-position\">Senior Manager, Membership and Publications</h4><div class=\"team-member-body hide-class\"><div style=\"overflow: hidden; height: 72px;\">As the Senior Manager of Membership and Publications, Susan Waldman oversees the day-to-day facilitation of NAMIC’s membership operations, as well as market research to drive growth. She is also responsible for the production of NAMIC’s industry-wide publication, Diversity Digest. She launched her career in market research as a media planner on such accounts as Loews Hotels and Omnipoint Communications at Hill, Holliday Altschiller and McCann Direct advertising agencies.  There she was introduced to the gamut of advertising research resources as she planned and purchased the media for various clients.  After a few years, Susan moved over to the magazine industry. Susan has served as the Marketing Research Manager at Vibe, Spin and The Source magazines and Research Director at Motor Trend magazine. Supporting 20 sales representatives by providing them with competitive and analytic research regarding each magazine’s audience, she has honed her research expertise. Susan received a Bachelor of Arts in Psychology from Ohio University in Athens, Ohio. </div></div><div class=\"team-member-social\"><a class=\"member-social-twitter\" href=\"\" style=\"display: none;\"><img src=\"http://namic.com/wp-content/themes/namic-dev/./img/icons/member-social-twitter.png\"/></a><a class=\"member-social-linkedin\" href=\"https://www.linkedin.com/pub/susan-waldman/3/54b/b35\"><img src=\"http://namic.com/wp-content/themes/namic-dev/./img/icons/member-social-linkedin.png\"/></a><a class=\"member-social-facebook\" href=\"\" style=\"display: none;\"><img src=\"http://namic.com/wp-content/themes/namic-dev/./img/icons/member-social-facebook.png\"/></a><a class=\"member-social-google+\" href=\"\" style=\"display: none;\"><img src=\"http://namic.com/wp-content/themes/namic-dev/./img/icons/member-social-google+.png\"/></a><a class=\"member-social-youtube\" href=\"\" style=\"display: none;\"><img src=\"http://namic.com/wp-content/themes/namic-dev/./img/icons/member-social-youtube.png\"/></a></div></div><div class=\"members-item-link\"><div></div><p><a href=\"#\">Read more</a></p></div></div><div class=\"team-member-item\"><div class=\"team-member-left\"><img src=\"http://namic.com/wp-content/uploads/2016/06/DJack.png\"/></div><div class=\"team-member-right\"><h3 class=\"team-member-name\">Darryl Jackson</h3><h4 class=\"team-member-position\">Manager, Mentoring Relations and Chapter Operations</h4><div class=\"team-member-body hide-class\"><div style=\"overflow: hidden; height: 72px;\">As the Manager for Mentoring Relations and Chapter Operations, Darryl oversees the day-to-day operations of NAMIC chapters and stewardship of the L. Patrick Mellon Mentorship Program. In this role, Darryl provides programmatic support and guidance in both these key areas, and works with the Senior Vice President of Education and Diversity Solutions to ensure that program participants and volunteers have access to the resources necessary for success in their endeavors, and are able to maximize the benefits of participation and affiliation. Darryl began his career in government and finance as a loan officer for the U.S. Department of Agriculture and later moved into mortgage loans as a mortgage broker for SunTrust Bank, Mortgage Virginia and Virginia Mortgage Services. After seven years in finance, Darryl shifted to a career in non-profit and association management, serving as Director of Membership Services and Marketing for Alpha Phi Alpha Fraternity and as a Chapter Development Specialist for the Project Management Institute. He is an active member of the American Society for Association Executives (ASAE) and has served on their Committee for Diversity and Inclusion. Darryl received his Bachelors of Science in Agricultural Business and Economics from Virginia State University, where he was a U.S. Department of Agriculture National Scholar, and his Masters of Business Administration from University of Maryland University College in Management. Darryl is a graduate of the U.S. Chapter of Commerce’s Institute for Organization Management (IOM) and holds ASAE’s Certified Association Executive (CAE) credential. </div></div><div class=\"team-member-social\"><a class=\"member-social-twitter\" href=\"\" style=\"display: none;\"><img src=\"http://namic.com/wp-content/themes/namic-dev/./img/icons/member-social-twitter.png\"/></a><a class=\"member-social-linkedin\" href=\"https://www.linkedin.com/in/darryljackson\"><img src=\"http://namic.com/wp-content/themes/namic-dev/./img/icons/member-social-linkedin.png\"/></a><a class=\"member-social-facebook\" href=\"\" style=\"display: none;\"><img src=\"http://namic.com/wp-content/themes/namic-dev/./img/icons/member-social-facebook.png\"/></a><a class=\"member-social-google+\" href=\"\" style=\"display: none;\"><img src=\"http://namic.com/wp-content/themes/namic-dev/./img/icons/member-social-google+.png\"/></a><a class=\"member-social-youtube\" href=\"\" style=\"display: none;\"><img src=\"http://namic.com/wp-content/themes/namic-dev/./img/icons/member-social-youtube.png\"/></a></div></div><div class=\"members-item-link\"><div></div><p><a href=\"#\">Read more</a></p></div></div><div class=\"team-member-item\"><div class=\"team-member-left\"><img src=\"http://namic.com/wp-content/uploads/2016/01/BHewlett.png\"/></div><div class=\"team-member-right\"><h3 class=\"team-member-name\">Brandon D. Hewlett</h3><h4 class=\"team-member-position\">Project Coordinator</h4><div class=\"team-member-body hide-class\"><div style=\"overflow: hidden; height: 72px;\">Brandon D. Hewlett provides ongoing support of all marketing and promotion related to company wide initiatives, programs and events at the national and local levels. With strong knowledge in the growing digital media space. Brandon manages marketing projects from conception to completion. Handling multiple elements including advertising (print and digital), analytics, email campaigns, social media engagement, and website maintenance. Prior to joining the team at NAMIC, Brandon was a Marketing Analyst at BeautiControl, Inc. (Tupperware Brands) where he helped develop a new Merchandising Database. While supporting the Marketing team with ad-hoc reports and KPIs (Key Performance Indicators). Brandon is a graduate of Temple University in Philadelphia, PA where he received a Bachelor of Arts in Digital Media Technologies and African American Studies. </div></div><div class=\"team-member-social\"><a class=\"member-social-twitter\" href=\"\" style=\"display: none;\"><img src=\"http://namic.com/wp-content/themes/namic-dev/./img/icons/member-social-twitter.png\"/></a><a class=\"member-social-linkedin\" href=\"https://www.linkedin.com/in/bdhewlett\"><img src=\"http://namic.com/wp-content/themes/namic-dev/./img/icons/member-social-linkedin.png\"/></a><a class=\"member-social-facebook\" href=\"\" style=\"display: none;\"><img src=\"http://namic.com/wp-content/themes/namic-dev/./img/icons/member-social-facebook.png\"/></a><a class=\"member-social-google+\" href=\"\" style=\"display: none;\"><img src=\"http://namic.com/wp-content/themes/namic-dev/./img/icons/member-social-google+.png\"/></a><a class=\"member-social-youtube\" href=\"\" style=\"display: none;\"><img src=\"http://namic.com/wp-content/themes/namic-dev/./img/icons/member-social-youtube.png\"/></a></div></div><div class=\"members-item-link\"><div></div><p><a href=\"#\">Read more</a></p></div></div><div class=\"team-member-item\"><div class=\"team-member-left\"><img src=\"http://namic.com/wp-content/uploads/2016/01/DOBrien.png\"/></div><div class=\"team-member-right\"><h3 class=\"team-member-name\">Davana O'Brien</h3><h4 class=\"team-member-position\">Administrative Assistant</h4><div class=\"team-member-body\"><div></div></div><div class=\"team-member-social\"><a class=\"member-social-twitter\" href=\"\" style=\"display: none;\"><img src=\"http://namic.com/wp-content/themes/namic-dev/./img/icons/member-social-twitter.png\"/></a><a class=\"member-social-linkedin\" href=\"\" style=\"display: none;\"><img src=\"http://namic.com/wp-content/themes/namic-dev/./img/icons/member-social-linkedin.png\"/></a><a class=\"member-social-facebook\" href=\"\" style=\"display: none;\"><img src=\"http://namic.com/wp-content/themes/namic-dev/./img/icons/member-social-facebook.png\"/></a><a class=\"member-social-google+\" href=\"\" style=\"display: none;\"><img src=\"http://namic.com/wp-content/themes/namic-dev/./img/icons/member-social-google+.png\"/></a><a class=\"member-social-youtube\" href=\"\" style=\"display: none;\"><img src=\"http://namic.com/wp-content/themes/namic-dev/./img/icons/member-social-youtube.png\"/></a></div></div><div class=\"members-item-link\"><div></div><p><a href=\"#\">Read more</a></p></div></div> </div>]]], dtype=object)"
      ]
     },
     "execution_count": 10,
     "metadata": {},
     "output_type": "execute_result"
    }
   ],
   "source": [
    "grandMotherMatrix"
   ]
  },
  {
   "cell_type": "markdown",
   "metadata": {},
   "source": [
    "## Just what was Expexted, 1 grandmother element"
   ]
  },
  {
   "cell_type": "code",
   "execution_count": 11,
   "metadata": {},
   "outputs": [
    {
     "data": {
      "text/plain": [
       "1"
      ]
     },
     "execution_count": 11,
     "metadata": {},
     "output_type": "execute_result"
    }
   ],
   "source": [
    "len(gmElements)"
   ]
  },
  {
   "cell_type": "code",
   "execution_count": 12,
   "metadata": {},
   "outputs": [
    {
     "data": {
      "text/plain": [
       "bs4.element.Tag"
      ]
     },
     "execution_count": 12,
     "metadata": {},
     "output_type": "execute_result"
    }
   ],
   "source": [
    "type(gmElements[0])"
   ]
  },
  {
   "cell_type": "markdown",
   "metadata": {},
   "source": [
    "## Find other Mother elements with the same attributes within the found GrandMother "
   ]
  },
  {
   "cell_type": "code",
   "execution_count": 26,
   "metadata": {},
   "outputs": [],
   "source": [
    "a = pointers[2].get_mother_element()\n",
    "b = pointers[0].get_mother_element()"
   ]
  },
  {
   "cell_type": "code",
   "execution_count": 24,
   "metadata": {},
   "outputs": [
    {
     "data": {
      "text/plain": [
       "<div class=\"team-member-right\"><h3 class=\"team-member-name\">Darryl Jackson</h3><h4 class=\"team-member-position\">Manager, Mentoring Relations and Chapter Operations</h4><div class=\"team-member-body hide-class\"><div style=\"overflow: hidden; height: 72px;\">As the Manager for Mentoring Relations and Chapter Operations, Darryl oversees the day-to-day operations of NAMIC chapters and stewardship of the L. Patrick Mellon Mentorship Program. In this role, Darryl provides programmatic support and guidance in both these key areas, and works with the Senior Vice President of Education and Diversity Solutions to ensure that program participants and volunteers have access to the resources necessary for success in their endeavors, and are able to maximize the benefits of participation and affiliation. Darryl began his career in government and finance as a loan officer for the U.S. Department of Agriculture and later moved into mortgage loans as a mortgage broker for SunTrust Bank, Mortgage Virginia and Virginia Mortgage Services. After seven years in finance, Darryl shifted to a career in non-profit and association management, serving as Director of Membership Services and Marketing for Alpha Phi Alpha Fraternity and as a Chapter Development Specialist for the Project Management Institute. He is an active member of the American Society for Association Executives (ASAE) and has served on their Committee for Diversity and Inclusion. Darryl received his Bachelors of Science in Agricultural Business and Economics from Virginia State University, where he was a U.S. Department of Agriculture National Scholar, and his Masters of Business Administration from University of Maryland University College in Management. Darryl is a graduate of the U.S. Chapter of Commerce’s Institute for Organization Management (IOM) and holds ASAE’s Certified Association Executive (CAE) credential. </div></div><div class=\"team-member-social\"><a class=\"member-social-twitter\" href=\"\" style=\"display: none;\"><img src=\"http://namic.com/wp-content/themes/namic-dev/./img/icons/member-social-twitter.png\"/></a><a class=\"member-social-linkedin\" href=\"https://www.linkedin.com/in/darryljackson\"><img src=\"http://namic.com/wp-content/themes/namic-dev/./img/icons/member-social-linkedin.png\"/></a><a class=\"member-social-facebook\" href=\"\" style=\"display: none;\"><img src=\"http://namic.com/wp-content/themes/namic-dev/./img/icons/member-social-facebook.png\"/></a><a class=\"member-social-google+\" href=\"\" style=\"display: none;\"><img src=\"http://namic.com/wp-content/themes/namic-dev/./img/icons/member-social-google+.png\"/></a><a class=\"member-social-youtube\" href=\"\" style=\"display: none;\"><img src=\"http://namic.com/wp-content/themes/namic-dev/./img/icons/member-social-youtube.png\"/></a></div></div>"
      ]
     },
     "execution_count": 24,
     "metadata": {},
     "output_type": "execute_result"
    }
   ],
   "source": [
    "a"
   ]
  },
  {
   "cell_type": "code",
   "execution_count": 25,
   "metadata": {},
   "outputs": [
    {
     "data": {
      "text/plain": [
       "{'class': ['team-member-right']}"
      ]
     },
     "execution_count": 25,
     "metadata": {},
     "output_type": "execute_result"
    }
   ],
   "source": [
    "a.attrs"
   ]
  },
  {
   "cell_type": "code",
   "execution_count": 27,
   "metadata": {},
   "outputs": [
    {
     "data": {
      "text/plain": [
       "{'class': ['team-member-right']}"
      ]
     },
     "execution_count": 27,
     "metadata": {},
     "output_type": "execute_result"
    }
   ],
   "source": [
    "b.attrs"
   ]
  },
  {
   "cell_type": "code",
   "execution_count": 30,
   "metadata": {},
   "outputs": [
    {
     "data": {
      "text/plain": [
       "True"
      ]
     },
     "execution_count": 30,
     "metadata": {},
     "output_type": "execute_result"
    }
   ],
   "source": [
    "a.attrs == b.attrs"
   ]
  },
  {
   "cell_type": "code",
   "execution_count": 31,
   "metadata": {},
   "outputs": [
    {
     "data": {
      "text/plain": [
       "'div'"
      ]
     },
     "execution_count": 31,
     "metadata": {},
     "output_type": "execute_result"
    }
   ],
   "source": [
    "a.name"
   ]
  },
  {
   "cell_type": "code",
   "execution_count": 32,
   "metadata": {},
   "outputs": [
    {
     "data": {
      "text/plain": [
       "'div'"
      ]
     },
     "execution_count": 32,
     "metadata": {},
     "output_type": "execute_result"
    }
   ],
   "source": [
    "b.name"
   ]
  },
  {
   "cell_type": "code",
   "execution_count": 33,
   "metadata": {
    "collapsed": true
   },
   "outputs": [],
   "source": [
    "gm = gmElements[0]"
   ]
  },
  {
   "cell_type": "code",
   "execution_count": 35,
   "metadata": {},
   "outputs": [],
   "source": [
    "finds = gm.find_all(class_='team-member-right')"
   ]
  },
  {
   "cell_type": "code",
   "execution_count": 36,
   "metadata": {},
   "outputs": [
    {
     "data": {
      "text/plain": [
       "8"
      ]
     },
     "execution_count": 36,
     "metadata": {},
     "output_type": "execute_result"
    }
   ],
   "source": [
    "len(finds)"
   ]
  },
  {
   "cell_type": "markdown",
   "metadata": {},
   "source": [
    "## There are verified pointers and there are elements that mimic them"
   ]
  },
  {
   "cell_type": "code",
   "execution_count": 13,
   "metadata": {},
   "outputs": [
    {
     "data": {
      "text/plain": [
       "<div class=\"main-section\"> <h3 class=\"main-section-title\">       Our success lies with our team of highly experienced professionals.     </h3> <p class=\"main-section-subtitle\"></p> <div class=\"team-member-item\"><div class=\"team-member-left\"><img src=\"http://namic.com/wp-content/uploads/2015/01/Eglon.png\"/></div><div class=\"team-member-right\"><h3 class=\"team-member-name\">Eglon E. Simons</h3><h4 class=\"team-member-position\">President and CEO</h4><div class=\"team-member-body hide-class\"><div style=\"overflow: hidden; height: 72px;\">Eglon E. Simons leads the association and champions its mission as President and CEO. In addition to working closely with NAMIC’s 16 chapters across the country, he collaborates with NAMIC’s board, staff, chapter leadership and industry partners in building upon NAMIC’s legacy. A strong and progressive leader, Simons’ career in media and communications has spanned more than 30 years. Upon earning an MBA from Harvard Business School, Simons joined the staff at CBS New York. After holding several managerial positions, Simons concluded his 13-year run with the network as Vice President of Sales and Marketing for the CBS Television Stations Division. In 1990, Simons embarked on a 21-year run with Cablevision Systems Corporation as Director of New York Sales for its Cable Networks unit. Simons began serving as Vice President and General Manager of New York Interconnect in 1992 and subsequently, was promoted in 1995, to Senior Vice President and General Manager. Simons was named Executive Vice President of Cablevision’s Rainbow Advertising Sales Company in 2002, a senior management role he fulfilled until his retirement from Cablevision Systems Corporation in 2011. </div></div><div class=\"team-member-social\"><a class=\"member-social-twitter\" href=\"\" style=\"display: none;\"><img src=\"http://namic.com/wp-content/themes/namic-dev/./img/icons/member-social-twitter.png\"/></a><a class=\"member-social-linkedin\" href=\"https://www.linkedin.com/in/eglonsimons\"><img src=\"http://namic.com/wp-content/themes/namic-dev/./img/icons/member-social-linkedin.png\"/></a><a class=\"member-social-facebook\" href=\"\" style=\"display: none;\"><img src=\"http://namic.com/wp-content/themes/namic-dev/./img/icons/member-social-facebook.png\"/></a><a class=\"member-social-google+\" href=\"\" style=\"display: none;\"><img src=\"http://namic.com/wp-content/themes/namic-dev/./img/icons/member-social-google+.png\"/></a><a class=\"member-social-youtube\" href=\"\" style=\"display: none;\"><img src=\"http://namic.com/wp-content/themes/namic-dev/./img/icons/member-social-youtube.png\"/></a></div></div><div class=\"members-item-link\"><div></div><p><a href=\"#\">Read more</a></p></div></div><div class=\"team-member-item\"><div class=\"team-member-left\"><img src=\"http://namic.com/wp-content/uploads/2015/04/JimJones_Headshot11.jpg\"/></div><div class=\"team-member-right\"><h3 class=\"team-member-name\">James C. Jones</h3><h4 class=\"team-member-position\">Senior Vice President, Education and Diversity Solutions</h4><div class=\"team-member-body hide-class\"><div style=\"overflow: hidden; height: 72px;\">As the Senior Vice President of Education and Diversity Solutions, Jim oversees the association’s education programs and professional development initiatives. He also manages day-to-day NAMIC Foundation operations. Jim Jones joined the NAMIC team in Fall 2005 after spending nearly a decade launching a wide range of diversity, team building, mentoring and other multicultural programs for the National Action Council for Minorities in Engineering (NACME), a national non-profit whose mission is to increase the numbers of successful African American, American Indian and Latino men and women in the engineering, technology and math-based fields. Before joining NACME, he had consulted in the corporate, government, educational, and not-for-profit sectors, designing and implementing training and development initiatives related to increasing organizational effectiveness through building and nurturing a diverse workforce. With a B.A. from Harvard, Jim attended New York’s Juilliard School and the Curtis Institute of Music in Philadelphia, where he studied classical singing. He eventually was awarded a Fulbright Fellowship to France, and spent four years studying and performing in European concert and opera venues. After much “soul-searching,” he eventually returned to America and attended the Columbia Business School, where he received an M.B.A. in strategic human resources. Jim hails from St. Louis, Missouri.   </div></div><div class=\"team-member-social\"><a class=\"member-social-twitter\" href=\"\" style=\"display: none;\"><img src=\"http://namic.com/wp-content/themes/namic-dev/./img/icons/member-social-twitter.png\"/></a><a class=\"member-social-linkedin\" href=\"https://www.linkedin.com/pub/james-jones/8/756/429\"><img src=\"http://namic.com/wp-content/themes/namic-dev/./img/icons/member-social-linkedin.png\"/></a><a class=\"member-social-facebook\" href=\"\" style=\"display: none;\"><img src=\"http://namic.com/wp-content/themes/namic-dev/./img/icons/member-social-facebook.png\"/></a><a class=\"member-social-google+\" href=\"\" style=\"display: none;\"><img src=\"http://namic.com/wp-content/themes/namic-dev/./img/icons/member-social-google+.png\"/></a><a class=\"member-social-youtube\" href=\"\" style=\"display: none;\"><img src=\"http://namic.com/wp-content/themes/namic-dev/./img/icons/member-social-youtube.png\"/></a></div></div><div class=\"members-item-link\"><div></div><p><a href=\"#\">Read more</a></p></div></div><div class=\"team-member-item\"><div class=\"team-member-left\"><img src=\"http://namic.com/wp-content/uploads/2015/04/SandraGirado_Headshot11.jpg\"/></div><div class=\"team-member-right\"><h3 class=\"team-member-name\">Sandra Girado</h3><h4 class=\"team-member-position\">Vice President, Events and Partner Relations</h4><div class=\"team-member-body hide-class\"><div style=\"overflow: hidden; height: 72px;\">As the Vice President of Events and Partner Relations, Sandra Girado leads the production and management of NAMIC’s national events, and also oversees key marketing and creative services. Sandra brings to NAMIC close to a decade of experience in the meeting planning and trade show industry. Prior to joining NAMIC in June 2005, she served as the Programs Administrator for the International Council of Shopping Centers where she was responsible for the management of educational programs, including faculty recruitment and curriculum scheduling. In that position she also worked to facilitate programs in Asia, Mexico, the Middle East and Moscow. Sandra also worked with the EastWest Institute, where she was responsible for planning Global Homeland Security Conferences for the international community. Additionally, she was the Special Events Manager for Lebhar-Friedman, a New York based publishing company. She is a graduate of Manhattan College, where she received a Bachelor of Science degree in Marketing and International Business. </div></div><div class=\"team-member-social\"><a class=\"member-social-twitter\" href=\"\" style=\"display: none;\"><img src=\"http://namic.com/wp-content/themes/namic-dev/./img/icons/member-social-twitter.png\"/></a><a class=\"member-social-linkedin\" href=\"https://www.linkedin.com/pub/sandra-girado/49/505/262\"><img src=\"http://namic.com/wp-content/themes/namic-dev/./img/icons/member-social-linkedin.png\"/></a><a class=\"member-social-facebook\" href=\"\" style=\"display: none;\"><img src=\"http://namic.com/wp-content/themes/namic-dev/./img/icons/member-social-facebook.png\"/></a><a class=\"member-social-google+\" href=\"\" style=\"display: none;\"><img src=\"http://namic.com/wp-content/themes/namic-dev/./img/icons/member-social-google+.png\"/></a><a class=\"member-social-youtube\" href=\"\" style=\"display: none;\"><img src=\"http://namic.com/wp-content/themes/namic-dev/./img/icons/member-social-youtube.png\"/></a></div></div><div class=\"members-item-link\"><div></div><p><a href=\"#\">Read more</a></p></div></div><div class=\"team-member-item\"><div class=\"team-member-left\"><img src=\"http://namic.com/wp-content/uploads/2015/04/MWells.png\"/></div><div class=\"team-member-right\"><h3 class=\"team-member-name\">S. Monique Wells</h3><h4 class=\"team-member-position\">Director of Finance and Administration</h4><div class=\"team-member-body hide-class\"><div style=\"overflow: hidden; height: 72px;\">Monique Wells is the Director of Finance and Administration for the National Association for Multi-ethnicity in Communications’ (NAMIC). Prior to that she was their Manager of Operations, a position she assumed in August, 2009. Monique is no stranger to NAMIC and has been a member since 1991. She served as a consultant to NAMIC for a number of special projects, prior to joining the staff. As Director of Finance and Administration, she oversees the administrative and financial operations of the national office. An accomplished professional with a diverse background in sales and project management, Monique previously served as an Energy Conservation Analyst with the Los Angeles Unified School District where she oversaw the utility management for school construction projects. Prior to that, Monique was a National Sales and Marketing Executive for Patriot Communications where she was responsible for the sales, marketing and contract negotiations of enhanced telecommunications products and services. Before joining Patriot, Monique worked at HBO in Affiliate Sales, where she created and implemented sales strategies and account activities for HBO and Cinemax. Her responsibilities included sales, client services, off-channel promotions and special events. During her tenure at HBO, Monique was an active member of the NAMIC-Southern California chapter and served on the Steering Committee for the Vision Awards and chaired both the Sponsorship and Talent Committees. Preceding her tenure in communications, Monique held several executive positions for Kraft General Foods and Sportsvisions, a sports marketing company based in Northern California. Monique earned a Bachelor of Arts degree in Sociology from Clark University in Worcester, MA and a MBA degree in general business and marketing from Atlanta University, now known as Clark Atlanta University in Atlanta, GA. She is on the planning committee for the American Heart Association’s Harlem Go Red For Women Educational Forum and volunteers for the New York Common Pantry, a New York City community based food pantry. </div></div><div class=\"team-member-social\"><a class=\"member-social-twitter\" href=\"\" style=\"display: none;\"><img src=\"http://namic.com/wp-content/themes/namic-dev/./img/icons/member-social-twitter.png\"/></a><a class=\"member-social-linkedin\" href=\"https://www.linkedin.com/pub/s-monique-wells/3/7a0/265\"><img src=\"http://namic.com/wp-content/themes/namic-dev/./img/icons/member-social-linkedin.png\"/></a><a class=\"member-social-facebook\" href=\"\" style=\"display: none;\"><img src=\"http://namic.com/wp-content/themes/namic-dev/./img/icons/member-social-facebook.png\"/></a><a class=\"member-social-google+\" href=\"\" style=\"display: none;\"><img src=\"http://namic.com/wp-content/themes/namic-dev/./img/icons/member-social-google+.png\"/></a><a class=\"member-social-youtube\" href=\"\" style=\"display: none;\"><img src=\"http://namic.com/wp-content/themes/namic-dev/./img/icons/member-social-youtube.png\"/></a></div></div><div class=\"members-item-link\"><div></div><p><a href=\"#\">Read more</a></p></div></div><div class=\"team-member-item\"><div class=\"team-member-left\"><img src=\"http://namic.com/wp-content/uploads/2015/04/SusanWaldman_Headshot11.jpg\"/></div><div class=\"team-member-right\"><h3 class=\"team-member-name\">Susan Waldman</h3><h4 class=\"team-member-position\">Senior Manager, Membership and Publications</h4><div class=\"team-member-body hide-class\"><div style=\"overflow: hidden; height: 72px;\">As the Senior Manager of Membership and Publications, Susan Waldman oversees the day-to-day facilitation of NAMIC’s membership operations, as well as market research to drive growth. She is also responsible for the production of NAMIC’s industry-wide publication, Diversity Digest. She launched her career in market research as a media planner on such accounts as Loews Hotels and Omnipoint Communications at Hill, Holliday Altschiller and McCann Direct advertising agencies.  There she was introduced to the gamut of advertising research resources as she planned and purchased the media for various clients.  After a few years, Susan moved over to the magazine industry. Susan has served as the Marketing Research Manager at Vibe, Spin and The Source magazines and Research Director at Motor Trend magazine. Supporting 20 sales representatives by providing them with competitive and analytic research regarding each magazine’s audience, she has honed her research expertise. Susan received a Bachelor of Arts in Psychology from Ohio University in Athens, Ohio. </div></div><div class=\"team-member-social\"><a class=\"member-social-twitter\" href=\"\" style=\"display: none;\"><img src=\"http://namic.com/wp-content/themes/namic-dev/./img/icons/member-social-twitter.png\"/></a><a class=\"member-social-linkedin\" href=\"https://www.linkedin.com/pub/susan-waldman/3/54b/b35\"><img src=\"http://namic.com/wp-content/themes/namic-dev/./img/icons/member-social-linkedin.png\"/></a><a class=\"member-social-facebook\" href=\"\" style=\"display: none;\"><img src=\"http://namic.com/wp-content/themes/namic-dev/./img/icons/member-social-facebook.png\"/></a><a class=\"member-social-google+\" href=\"\" style=\"display: none;\"><img src=\"http://namic.com/wp-content/themes/namic-dev/./img/icons/member-social-google+.png\"/></a><a class=\"member-social-youtube\" href=\"\" style=\"display: none;\"><img src=\"http://namic.com/wp-content/themes/namic-dev/./img/icons/member-social-youtube.png\"/></a></div></div><div class=\"members-item-link\"><div></div><p><a href=\"#\">Read more</a></p></div></div><div class=\"team-member-item\"><div class=\"team-member-left\"><img src=\"http://namic.com/wp-content/uploads/2016/06/DJack.png\"/></div><div class=\"team-member-right\"><h3 class=\"team-member-name\">Darryl Jackson</h3><h4 class=\"team-member-position\">Manager, Mentoring Relations and Chapter Operations</h4><div class=\"team-member-body hide-class\"><div style=\"overflow: hidden; height: 72px;\">As the Manager for Mentoring Relations and Chapter Operations, Darryl oversees the day-to-day operations of NAMIC chapters and stewardship of the L. Patrick Mellon Mentorship Program. In this role, Darryl provides programmatic support and guidance in both these key areas, and works with the Senior Vice President of Education and Diversity Solutions to ensure that program participants and volunteers have access to the resources necessary for success in their endeavors, and are able to maximize the benefits of participation and affiliation. Darryl began his career in government and finance as a loan officer for the U.S. Department of Agriculture and later moved into mortgage loans as a mortgage broker for SunTrust Bank, Mortgage Virginia and Virginia Mortgage Services. After seven years in finance, Darryl shifted to a career in non-profit and association management, serving as Director of Membership Services and Marketing for Alpha Phi Alpha Fraternity and as a Chapter Development Specialist for the Project Management Institute. He is an active member of the American Society for Association Executives (ASAE) and has served on their Committee for Diversity and Inclusion. Darryl received his Bachelors of Science in Agricultural Business and Economics from Virginia State University, where he was a U.S. Department of Agriculture National Scholar, and his Masters of Business Administration from University of Maryland University College in Management. Darryl is a graduate of the U.S. Chapter of Commerce’s Institute for Organization Management (IOM) and holds ASAE’s Certified Association Executive (CAE) credential. </div></div><div class=\"team-member-social\"><a class=\"member-social-twitter\" href=\"\" style=\"display: none;\"><img src=\"http://namic.com/wp-content/themes/namic-dev/./img/icons/member-social-twitter.png\"/></a><a class=\"member-social-linkedin\" href=\"https://www.linkedin.com/in/darryljackson\"><img src=\"http://namic.com/wp-content/themes/namic-dev/./img/icons/member-social-linkedin.png\"/></a><a class=\"member-social-facebook\" href=\"\" style=\"display: none;\"><img src=\"http://namic.com/wp-content/themes/namic-dev/./img/icons/member-social-facebook.png\"/></a><a class=\"member-social-google+\" href=\"\" style=\"display: none;\"><img src=\"http://namic.com/wp-content/themes/namic-dev/./img/icons/member-social-google+.png\"/></a><a class=\"member-social-youtube\" href=\"\" style=\"display: none;\"><img src=\"http://namic.com/wp-content/themes/namic-dev/./img/icons/member-social-youtube.png\"/></a></div></div><div class=\"members-item-link\"><div></div><p><a href=\"#\">Read more</a></p></div></div><div class=\"team-member-item\"><div class=\"team-member-left\"><img src=\"http://namic.com/wp-content/uploads/2016/01/BHewlett.png\"/></div><div class=\"team-member-right\"><h3 class=\"team-member-name\">Brandon D. Hewlett</h3><h4 class=\"team-member-position\">Project Coordinator</h4><div class=\"team-member-body hide-class\"><div style=\"overflow: hidden; height: 72px;\">Brandon D. Hewlett provides ongoing support of all marketing and promotion related to company wide initiatives, programs and events at the national and local levels. With strong knowledge in the growing digital media space. Brandon manages marketing projects from conception to completion. Handling multiple elements including advertising (print and digital), analytics, email campaigns, social media engagement, and website maintenance. Prior to joining the team at NAMIC, Brandon was a Marketing Analyst at BeautiControl, Inc. (Tupperware Brands) where he helped develop a new Merchandising Database. While supporting the Marketing team with ad-hoc reports and KPIs (Key Performance Indicators). Brandon is a graduate of Temple University in Philadelphia, PA where he received a Bachelor of Arts in Digital Media Technologies and African American Studies. </div></div><div class=\"team-member-social\"><a class=\"member-social-twitter\" href=\"\" style=\"display: none;\"><img src=\"http://namic.com/wp-content/themes/namic-dev/./img/icons/member-social-twitter.png\"/></a><a class=\"member-social-linkedin\" href=\"https://www.linkedin.com/in/bdhewlett\"><img src=\"http://namic.com/wp-content/themes/namic-dev/./img/icons/member-social-linkedin.png\"/></a><a class=\"member-social-facebook\" href=\"\" style=\"display: none;\"><img src=\"http://namic.com/wp-content/themes/namic-dev/./img/icons/member-social-facebook.png\"/></a><a class=\"member-social-google+\" href=\"\" style=\"display: none;\"><img src=\"http://namic.com/wp-content/themes/namic-dev/./img/icons/member-social-google+.png\"/></a><a class=\"member-social-youtube\" href=\"\" style=\"display: none;\"><img src=\"http://namic.com/wp-content/themes/namic-dev/./img/icons/member-social-youtube.png\"/></a></div></div><div class=\"members-item-link\"><div></div><p><a href=\"#\">Read more</a></p></div></div><div class=\"team-member-item\"><div class=\"team-member-left\"><img src=\"http://namic.com/wp-content/uploads/2016/01/DOBrien.png\"/></div><div class=\"team-member-right\"><h3 class=\"team-member-name\">Davana O'Brien</h3><h4 class=\"team-member-position\">Administrative Assistant</h4><div class=\"team-member-body\"><div></div></div><div class=\"team-member-social\"><a class=\"member-social-twitter\" href=\"\" style=\"display: none;\"><img src=\"http://namic.com/wp-content/themes/namic-dev/./img/icons/member-social-twitter.png\"/></a><a class=\"member-social-linkedin\" href=\"\" style=\"display: none;\"><img src=\"http://namic.com/wp-content/themes/namic-dev/./img/icons/member-social-linkedin.png\"/></a><a class=\"member-social-facebook\" href=\"\" style=\"display: none;\"><img src=\"http://namic.com/wp-content/themes/namic-dev/./img/icons/member-social-facebook.png\"/></a><a class=\"member-social-google+\" href=\"\" style=\"display: none;\"><img src=\"http://namic.com/wp-content/themes/namic-dev/./img/icons/member-social-google+.png\"/></a><a class=\"member-social-youtube\" href=\"\" style=\"display: none;\"><img src=\"http://namic.com/wp-content/themes/namic-dev/./img/icons/member-social-youtube.png\"/></a></div></div><div class=\"members-item-link\"><div></div><p><a href=\"#\">Read more</a></p></div></div> </div>"
      ]
     },
     "execution_count": 13,
     "metadata": {},
     "output_type": "execute_result"
    }
   ],
   "source": [
    "gm"
   ]
  },
  {
   "cell_type": "code",
   "execution_count": 14,
   "metadata": {
    "collapsed": true
   },
   "outputs": [],
   "source": [
    "mothers = pointers"
   ]
  },
  {
   "cell_type": "code",
   "execution_count": 15,
   "metadata": {},
   "outputs": [
    {
     "data": {
      "text/plain": [
       "True"
      ]
     },
     "execution_count": 15,
     "metadata": {},
     "output_type": "execute_result"
    }
   ],
   "source": [
    "mothers[0].tom_here()"
   ]
  },
  {
   "cell_type": "code",
   "execution_count": 17,
   "metadata": {},
   "outputs": [
    {
     "data": {
      "text/plain": [
       "'Senior Manager, Membership and Publications'"
      ]
     },
     "execution_count": 17,
     "metadata": {},
     "output_type": "execute_result"
    }
   ],
   "source": [
    "mothers[0].tom"
   ]
  },
  {
   "cell_type": "code",
   "execution_count": 20,
   "metadata": {},
   "outputs": [
    {
     "data": {
      "text/plain": [
       "True"
      ]
     },
     "execution_count": 20,
     "metadata": {},
     "output_type": "execute_result"
    }
   ],
   "source": [
    "mothers[0].mary_here()"
   ]
  },
  {
   "cell_type": "code",
   "execution_count": null,
   "metadata": {
    "collapsed": true
   },
   "outputs": [],
   "source": []
  },
  {
   "cell_type": "code",
   "execution_count": 21,
   "metadata": {},
   "outputs": [
    {
     "data": {
      "text/plain": [
       "True"
      ]
     },
     "execution_count": 21,
     "metadata": {},
     "output_type": "execute_result"
    }
   ],
   "source": [
    "mothers[0].tom.parent.parent is mothers[0].mary"
   ]
  },
  {
   "cell_type": "code",
   "execution_count": 32,
   "metadata": {},
   "outputs": [
    {
     "data": {
      "text/plain": [
       "{'class': ['team-member-position'], 'toms': 0}"
      ]
     },
     "execution_count": 32,
     "metadata": {},
     "output_type": "execute_result"
    }
   ],
   "source": [
    "mothers[0].tom.parent.attrs"
   ]
  },
  {
   "cell_type": "code",
   "execution_count": 30,
   "metadata": {},
   "outputs": [
    {
     "data": {
      "text/plain": [
       "['Senior Manager, Membership and Publications']"
      ]
     },
     "execution_count": 30,
     "metadata": {},
     "output_type": "execute_result"
    }
   ],
   "source": [
    "mothers[0].tom.parent.contents"
   ]
  },
  {
   "cell_type": "code",
   "execution_count": 31,
   "metadata": {
    "collapsed": true
   },
   "outputs": [],
   "source": [
    "mothers[0].tom.parent['toms'] = 0"
   ]
  },
  {
   "cell_type": "code",
   "execution_count": 33,
   "metadata": {},
   "outputs": [
    {
     "data": {
      "text/plain": [
       "True"
      ]
     },
     "execution_count": 33,
     "metadata": {},
     "output_type": "execute_result"
    }
   ],
   "source": [
    "mothers[0].nathan_here()"
   ]
  },
  {
   "cell_type": "code",
   "execution_count": 34,
   "metadata": {},
   "outputs": [
    {
     "data": {
      "text/plain": [
       "'Susan Waldman'"
      ]
     },
     "execution_count": 34,
     "metadata": {},
     "output_type": "execute_result"
    }
   ],
   "source": [
    "mothers[0].nathan"
   ]
  },
  {
   "cell_type": "code",
   "execution_count": 38,
   "metadata": {},
   "outputs": [],
   "source": [
    "mothers[0].nathan.parent['nathans'] = 0"
   ]
  },
  {
   "cell_type": "code",
   "execution_count": 40,
   "metadata": {},
   "outputs": [
    {
     "data": {
      "text/plain": [
       "True"
      ]
     },
     "execution_count": 40,
     "metadata": {},
     "output_type": "execute_result"
    }
   ],
   "source": [
    "mothers[0].nathan.parent.parent is mothers[0].get_mother_element()"
   ]
  },
  {
   "cell_type": "code",
   "execution_count": 104,
   "metadata": {
    "collapsed": true
   },
   "outputs": [],
   "source": [
    "## Tag elements with atributes up the ancestrial chain from tom all the way to the mother element\n",
    "def tag_nathans(pt):\n",
    "    ## Precondition: The name pointer for this verified pointer is a nathan\n",
    "    return parent_cycle(pt.get_mother_element(), pt.nathan.parent, 'nathans', 0)\n",
    "\n",
    "def tag_toms(pt):\n",
    "    return parent_cycle_up(pt.get_mother_element(), pt.tom.parent, 'toms', 0)\n",
    "\n",
    "def parent_cycle_up(motherElement, element, atr, num):\n",
    "    if element is motherElement:\n",
    "        return\n",
    "    else:\n",
    "        element[atr] = num\n",
    "        return parent_cycle(motherElement, element.parent, atr, num + 1)\n",
    "    \n",
    "def get_nathan(fnd, taggedPt):\n",
    "    ## Lean fnd from a mother\n",
    "    ## get from the root to the foot\n",
    "    ## precondition fnd is a found mother element\n",
    "    return parent_cycle_down(fnd.children, taggedPt.get_mother_element().children, 'nathans')\n",
    "\n",
    "def get_tom(fnd, taggedPt):\n",
    "    ## Learn a find from a mother\n",
    "    ## get tom from the root to the froot\n",
    "    ## precondition fnd is a found mother element\n",
    "    return parent_cycle_down(fnd.children, taggedPt.get_mother_element().children, 'toms')\n",
    "\n",
    "def parent_cycle_down(fi, mi, atr):\n",
    "    ## Loop accoss both found and mother iterators\n",
    "    ## Precondition the 'atr' is an atribute of at least one elment in mi\n",
    "    for f, s in zip(fi, mi):       \n",
    "        ## look for attr\n",
    "        print('foundTrunk: ' + f.name + str(f.attrs) + '   motherTrunk: ' + s.name + str(s.attrs))\n",
    "        if atr in s.attrs:\n",
    "            if s[atr] == 0:  ## Tag enclosing the pointer\n",
    "                ## Return String inside, thats all!\n",
    "                return f.string\n",
    "            else:\n",
    "                return parent_cycle_down(f.children, s.children, atr)\n",
    "    \n",
    "    \n",
    "    "
   ]
  },
  {
   "cell_type": "code",
   "execution_count": 45,
   "metadata": {
    "collapsed": true
   },
   "outputs": [],
   "source": [
    "tag_nathans(mothers[1])"
   ]
  },
  {
   "cell_type": "code",
   "execution_count": 46,
   "metadata": {
    "collapsed": true
   },
   "outputs": [],
   "source": [
    "tag_toms(mothers[1])"
   ]
  },
  {
   "cell_type": "markdown",
   "metadata": {},
   "source": [
    "## Walking the Tree of a verified pointer"
   ]
  },
  {
   "cell_type": "code",
   "execution_count": 77,
   "metadata": {
    "collapsed": true
   },
   "outputs": [],
   "source": [
    "mother1 = mothers[1].get_mother_element()"
   ]
  },
  {
   "cell_type": "code",
   "execution_count": 78,
   "metadata": {},
   "outputs": [],
   "source": [
    "mi = mother1.children"
   ]
  },
  {
   "cell_type": "code",
   "execution_count": 79,
   "metadata": {},
   "outputs": [],
   "source": [
    "s = next(mi)"
   ]
  },
  {
   "cell_type": "code",
   "execution_count": 80,
   "metadata": {},
   "outputs": [
    {
     "data": {
      "text/plain": [
       "<h3 class=\"team-member-name\" nathans=\"0\">S. Monique Wells</h3>"
      ]
     },
     "execution_count": 80,
     "metadata": {},
     "output_type": "execute_result"
    }
   ],
   "source": [
    "s"
   ]
  },
  {
   "cell_type": "code",
   "execution_count": 76,
   "metadata": {},
   "outputs": [
    {
     "data": {
      "text/plain": [
       "True"
      ]
     },
     "execution_count": 76,
     "metadata": {},
     "output_type": "execute_result"
    }
   ],
   "source": [
    "'nathans' in s.attrs"
   ]
  },
  {
   "cell_type": "code",
   "execution_count": 70,
   "metadata": {
    "collapsed": true
   },
   "outputs": [],
   "source": [
    "si = s.children"
   ]
  },
  {
   "cell_type": "code",
   "execution_count": 71,
   "metadata": {},
   "outputs": [],
   "source": [
    "s = next(si)"
   ]
  },
  {
   "cell_type": "code",
   "execution_count": 65,
   "metadata": {},
   "outputs": [
    {
     "data": {
      "text/plain": [
       "'S. Monique Wells'"
      ]
     },
     "execution_count": 65,
     "metadata": {},
     "output_type": "execute_result"
    }
   ],
   "source": [
    "s"
   ]
  },
  {
   "cell_type": "code",
   "execution_count": 81,
   "metadata": {},
   "outputs": [
    {
     "data": {
      "text/plain": [
       "'S. Monique Wells'"
      ]
     },
     "execution_count": 81,
     "metadata": {},
     "output_type": "execute_result"
    }
   ],
   "source": [
    "s.string"
   ]
  },
  {
   "cell_type": "code",
   "execution_count": 87,
   "metadata": {},
   "outputs": [
    {
     "data": {
      "text/plain": [
       "<bound method VerifiedPointer.get_mother_element of <contactChecker.VerifiedPointer object at 0x00000188692CEC88>>"
      ]
     },
     "execution_count": 87,
     "metadata": {},
     "output_type": "execute_result"
    }
   ],
   "source": [
    "mothers[0].get_mother_element"
   ]
  },
  {
   "cell_type": "code",
   "execution_count": 96,
   "metadata": {},
   "outputs": [
    {
     "name": "stdout",
     "output_type": "stream",
     "text": [
      "foundTrunk: h3{'class': ['team-member-name'], 'nathans': 0}   motherTrunk: h3{'class': ['team-member-name'], 'nathans': 0}\n",
      "foundTrunk: h4{'class': ['team-member-position'], 'toms': 0}   motherTrunk: h4{'class': ['team-member-position'], 'toms': 0}\n"
     ]
    },
    {
     "data": {
      "text/plain": [
       "'Director of Finance and Administration'"
      ]
     },
     "execution_count": 96,
     "metadata": {},
     "output_type": "execute_result"
    }
   ],
   "source": [
    "get_tom(mothers[1].get_mother_element(), mothers[0])"
   ]
  },
  {
   "cell_type": "code",
   "execution_count": 97,
   "metadata": {},
   "outputs": [
    {
     "name": "stdout",
     "output_type": "stream",
     "text": [
      "foundTrunk: h3{'class': ['team-member-name'], 'nathans': 0}   motherTrunk: h3{'class': ['team-member-name'], 'nathans': 0}\n",
      "foundTrunk: h4{'class': ['team-member-position'], 'toms': 0}   motherTrunk: h4{'class': ['team-member-position'], 'toms': 0}\n"
     ]
    },
    {
     "data": {
      "text/plain": [
       "'Senior Manager, Membership and Publications'"
      ]
     },
     "execution_count": 97,
     "metadata": {},
     "output_type": "execute_result"
    }
   ],
   "source": [
    "get_tom(mothers[0].get_mother_element(), mothers[1])"
   ]
  },
  {
   "cell_type": "code",
   "execution_count": 98,
   "metadata": {},
   "outputs": [
    {
     "data": {
      "text/plain": [
       "'Director of Finance and Administration'"
      ]
     },
     "execution_count": 98,
     "metadata": {},
     "output_type": "execute_result"
    }
   ],
   "source": [
    "mothers[1].tom"
   ]
  },
  {
   "cell_type": "code",
   "execution_count": 99,
   "metadata": {},
   "outputs": [
    {
     "data": {
      "text/plain": [
       "'Senior Manager, Membership and Publications'"
      ]
     },
     "execution_count": 99,
     "metadata": {},
     "output_type": "execute_result"
    }
   ],
   "source": [
    "mothers[0].tom"
   ]
  },
  {
   "cell_type": "code",
   "execution_count": 101,
   "metadata": {},
   "outputs": [
    {
     "data": {
      "text/plain": [
       "'S. Monique Wells'"
      ]
     },
     "execution_count": 101,
     "metadata": {},
     "output_type": "execute_result"
    }
   ],
   "source": [
    "mothers[1].nathan"
   ]
  },
  {
   "cell_type": "code",
   "execution_count": 105,
   "metadata": {},
   "outputs": [
    {
     "name": "stdout",
     "output_type": "stream",
     "text": [
      "foundTrunk: h3{'class': ['team-member-name'], 'nathans': 0}   motherTrunk: h3{'class': ['team-member-name'], 'nathans': 0}\n"
     ]
    },
    {
     "data": {
      "text/plain": [
       "'S. Monique Wells'"
      ]
     },
     "execution_count": 105,
     "metadata": {},
     "output_type": "execute_result"
    }
   ],
   "source": [
    "get_nathan(mothers[1].get_mother_element(), mothers[0])"
   ]
  },
  {
   "cell_type": "code",
   "execution_count": 106,
   "metadata": {},
   "outputs": [
    {
     "data": {
      "text/plain": [
       "'Susan Waldman'"
      ]
     },
     "execution_count": 106,
     "metadata": {},
     "output_type": "execute_result"
    }
   ],
   "source": [
    "mothers[0].nathan"
   ]
  },
  {
   "cell_type": "code",
   "execution_count": 107,
   "metadata": {},
   "outputs": [
    {
     "name": "stdout",
     "output_type": "stream",
     "text": [
      "foundTrunk: h3{'class': ['team-member-name'], 'nathans': 0}   motherTrunk: h3{'class': ['team-member-name'], 'nathans': 0}\n"
     ]
    },
    {
     "data": {
      "text/plain": [
       "'Susan Waldman'"
      ]
     },
     "execution_count": 107,
     "metadata": {},
     "output_type": "execute_result"
    }
   ],
   "source": [
    "get_nathan(mothers[0].get_mother_element(), mothers[1])"
   ]
  },
  {
   "cell_type": "markdown",
   "metadata": {},
   "source": [
    "## Bring it all together\n",
    "#### For all verified pointers tag the nathans and toms\n",
    "#### Test each tagged verfied pointer against each found mother element to identifiy nathans and toms!\n",
    "#### reunite the estranged family!"
   ]
  },
  {
   "cell_type": "code",
   "execution_count": null,
   "metadata": {
    "collapsed": true
   },
   "outputs": [],
   "source": []
  },
  {
   "cell_type": "code",
   "execution_count": null,
   "metadata": {
    "collapsed": true
   },
   "outputs": [],
   "source": []
  },
  {
   "cell_type": "code",
   "execution_count": null,
   "metadata": {
    "collapsed": true
   },
   "outputs": [],
   "source": []
  },
  {
   "cell_type": "code",
   "execution_count": null,
   "metadata": {
    "collapsed": true
   },
   "outputs": [],
   "source": []
  },
  {
   "cell_type": "code",
   "execution_count": null,
   "metadata": {
    "collapsed": true
   },
   "outputs": [],
   "source": []
  },
  {
   "cell_type": "code",
   "execution_count": null,
   "metadata": {
    "collapsed": true
   },
   "outputs": [],
   "source": []
  },
  {
   "cell_type": "code",
   "execution_count": null,
   "metadata": {
    "collapsed": true
   },
   "outputs": [],
   "source": []
  },
  {
   "cell_type": "code",
   "execution_count": null,
   "metadata": {
    "collapsed": true
   },
   "outputs": [],
   "source": []
  }
 ],
 "metadata": {
  "kernelspec": {
   "display_name": "Python 3",
   "language": "python",
   "name": "python3"
  },
  "language_info": {
   "codemirror_mode": {
    "name": "ipython",
    "version": 3
   },
   "file_extension": ".py",
   "mimetype": "text/x-python",
   "name": "python",
   "nbconvert_exporter": "python",
   "pygments_lexer": "ipython3",
   "version": "3.6.1"
  }
 },
 "nbformat": 4,
 "nbformat_minor": 2
}
