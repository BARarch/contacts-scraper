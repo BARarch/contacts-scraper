{
 "cells": [
  {
   "cell_type": "markdown",
   "metadata": {},
   "source": [
    "# This time we run all classes from the main file Contacts Scraper.py"
   ]
  },
  {
   "cell_type": "code",
   "execution_count": 1,
   "metadata": {},
   "outputs": [
    {
     "name": "stdout",
     "output_type": "stream",
     "text": [
      "KEYS\n",
      "Contact Keys Done\n",
      "Directory Keys Done\n",
      "\n",
      "RECORDS\n",
      "Contact Records Done\n",
      "Agency Directory Done\n",
      "\n",
      "DATAFRAMES READY\n",
      "RECORD OUTPUT READY\n",
      "CONTACT CHECKER READY\n",
      "SCRAPE SESSION OPEN\n"
     ]
    }
   ],
   "source": [
    "% run contactsScraperOpen.py"
   ]
  },
  {
   "cell_type": "code",
   "execution_count": 2,
   "metadata": {
    "collapsed": true
   },
   "outputs": [],
   "source": [
    "cc.VerificationHandler.close_browser()"
   ]
  },
  {
   "cell_type": "code",
   "execution_count": 1,
   "metadata": {},
   "outputs": [
    {
     "name": "stdout",
     "output_type": "stream",
     "text": [
      "Done\n",
      "Done\n",
      "KEYS\n",
      "Done\n",
      "Done\n",
      "RECORDS COLLECTED\n",
      "DATAFRAMES READY\n",
      "RECORD OUTPUT READY\n",
      "CONTACT CHECKER READY\n"
     ]
    }
   ],
   "source": [
    "% run contactsScraper.py"
   ]
  },
  {
   "cell_type": "code",
   "execution_count": 2,
   "metadata": {},
   "outputs": [
    {
     "name": "stdout",
     "output_type": "stream",
     "text": [
      "\n",
      "Scraping National Association for Multi-Ethnicity In Communications (NAMIC)\n",
      "['Wed Nov 01, 2017  12:08:35', '10.198', 's', 'Good']\n",
      "Verified Pointers         \t\t\t\t\t\t3\n",
      "Scrape Pointers           \t\t\t\t\t\t3\n",
      "Start Pointers            \t\t\t\t\t\t8\n",
      "Start Type                \t\t\t\t__nathanStarts__\n",
      "Merged (Filtered) Pointers\t\t\t\t\t\t5\n",
      "Eglon E. Simons     as     President and CEO\n",
      "James C. Jones     as     Senior Vice President, Education and Diversity Solutions\n",
      "Sandra Girado     as     Vice President, Events and Partner Relations\n",
      "Brandon D. Hewlett     as     Project Coordinator\n",
      "Davana O'Brien     as     Administrative Assistant\n",
      "\n",
      "\n",
      "\n",
      "--------------------------------------------------------------------------\n",
      "Time of Scrape                                  \t\t  0:00:15\n",
      "Number of Sites Attempted                       \t\t\t1\n",
      "\n",
      "\n",
      "Organizations with \n",
      "extracted contacts         \t\t\t\t\t\t1\n",
      "\n",
      "Organizations without \n",
      "verified extractions    \t\t\t\t\t\t0\n",
      "\n",
      "Organizations not \n",
      "extacted                    \t\t\t\t\t\t0\n",
      "\n",
      "Organizations with links \n",
      "that did not open    \t\t\t\t\t\t\t0\n"
     ]
    }
   ],
   "source": [
    "b = cc.ScrapeBase(orgRecords)"
   ]
  },
  {
   "cell_type": "code",
   "execution_count": 3,
   "metadata": {
    "collapsed": true
   },
   "outputs": [],
   "source": [
    "cc.VerificationHandler.close_browser()"
   ]
  },
  {
   "cell_type": "code",
   "execution_count": 4,
   "metadata": {},
   "outputs": [
    {
     "name": "stdout",
     "output_type": "stream",
     "text": [
      "Done\n",
      "Done\n",
      "KEYS\n",
      "Done\n",
      "Done\n",
      "RECORDS COLLECTED\n",
      "DATAFRAMES READY\n",
      "RECORD OUTPUT READY\n",
      "CONTACT CHECKER READY\n",
      "\n",
      "Scraping National Association for Multi-Ethnicity In Communications (NAMIC)\n",
      "['Wed Nov 01, 2017  12:15:36', '9.587', 's', 'Good']\n",
      "Verified Pointers         \t\t\t\t\t\t3\n",
      "Scrape Pointers           \t\t\t\t\t\t3\n",
      "Start Pointers            \t\t\t\t\t\t8\n",
      "Start Type                \t\t\t\t__nathanStarts__\n",
      "Merged (Filtered) Pointers\t\t\t\t\t\t5\n",
      "Eglon E. Simons     as     President and CEO\n",
      "James C. Jones     as     Senior Vice President, Education and Diversity Solutions\n",
      "Sandra Girado     as     Vice President, Events and Partner Relations\n",
      "Brandon D. Hewlett     as     Project Coordinator\n",
      "Davana O'Brien     as     Administrative Assistant\n",
      "\n",
      "\n",
      "\n",
      "--------------------------------------------------------------------------\n",
      "Time of Scrape                                  \t\t  0:00:13\n",
      "Number of Sites Attempted                       \t\t\t1\n",
      "\n",
      "\n",
      "Organizations with \n",
      "extracted contacts         \t\t\t\t\t\t1\n",
      "\n",
      "Organizations without \n",
      "verified extractions    \t\t\t\t\t\t0\n",
      "\n",
      "Organizations not \n",
      "extacted                    \t\t\t\t\t\t0\n",
      "\n",
      "Organizations with links \n",
      "that did not open    \t\t\t\t\t\t\t0\n",
      "SCRAPE SESSION COMPLETE\n"
     ]
    }
   ],
   "source": [
    "% run scrapeContactsBase.py"
   ]
  },
  {
   "cell_type": "code",
   "execution_count": null,
   "metadata": {
    "collapsed": true
   },
   "outputs": [],
   "source": []
  },
  {
   "cell_type": "code",
   "execution_count": null,
   "metadata": {
    "collapsed": true
   },
   "outputs": [],
   "source": []
  },
  {
   "cell_type": "code",
   "execution_count": null,
   "metadata": {
    "collapsed": true
   },
   "outputs": [],
   "source": []
  },
  {
   "cell_type": "code",
   "execution_count": null,
   "metadata": {
    "collapsed": true
   },
   "outputs": [],
   "source": []
  },
  {
   "cell_type": "code",
   "execution_count": null,
   "metadata": {
    "collapsed": true
   },
   "outputs": [],
   "source": []
  }
 ],
 "metadata": {
  "kernelspec": {
   "display_name": "Python 3",
   "language": "python",
   "name": "python3"
  },
  "language_info": {
   "codemirror_mode": {
    "name": "ipython",
    "version": 3
   },
   "file_extension": ".py",
   "mimetype": "text/x-python",
   "name": "python",
   "nbconvert_exporter": "python",
   "pygments_lexer": "ipython3",
   "version": "3.6.1"
  }
 },
 "nbformat": 4,
 "nbformat_minor": 2
}
