{
 "cells": [
  {
   "cell_type": "code",
   "execution_count": 1,
   "metadata": {},
   "outputs": [
    {
     "name": "stdout",
     "output_type": "stream",
     "text": [
      "Done\n",
      "Done\n",
      "KEYS\n",
      "Done\n",
      "Done\n",
      "RECORDS COLLECTED\n",
      "DATAFRAMES READY\n"
     ]
    }
   ],
   "source": [
    "% run contactsScraper.py\n"
   ]
  },
  {
   "cell_type": "code",
   "execution_count": 2,
   "metadata": {
    "collapsed": true
   },
   "outputs": [],
   "source": [
    "a = OrgSession(orgRecords)"
   ]
  },
  {
   "cell_type": "code",
   "execution_count": 3,
   "metadata": {
    "collapsed": true
   },
   "outputs": [],
   "source": [
    "a1 = a.processSession('National Association for Multi-Ethnicity In Communications (NAMIC)')"
   ]
  },
  {
   "cell_type": "code",
   "execution_count": 4,
   "metadata": {},
   "outputs": [
    {
     "data": {
      "text/plain": [
       "False"
      ]
     },
     "execution_count": 4,
     "metadata": {},
     "output_type": "execute_result"
    }
   ],
   "source": [
    "a.anyQueryTimeouts()"
   ]
  },
  {
   "cell_type": "code",
   "execution_count": 5,
   "metadata": {},
   "outputs": [
    {
     "data": {
      "text/plain": [
       "['Tue Oct 03, 2017  10:13:50', '12.554', 's', 'Good']"
      ]
     },
     "execution_count": 5,
     "metadata": {},
     "output_type": "execute_result"
    }
   ],
   "source": [
    "a.orgSessionStatusCheck()"
   ]
  },
  {
   "cell_type": "code",
   "execution_count": 6,
   "metadata": {},
   "outputs": [
    {
     "data": {
      "text/plain": [
       "['Tue Oct 03, 2017  10:13:50', '12.554', 's', 'Good']"
      ]
     },
     "execution_count": 6,
     "metadata": {},
     "output_type": "execute_result"
    }
   ],
   "source": [
    "a.orgSessionStatusCheck()"
   ]
  },
  {
   "cell_type": "code",
   "execution_count": 7,
   "metadata": {},
   "outputs": [
    {
     "data": {
      "text/plain": [
       "[<__main__.OrgQuery at 0x29afeef4e80>]"
      ]
     },
     "execution_count": 7,
     "metadata": {},
     "output_type": "execute_result"
    }
   ],
   "source": [
    "a1"
   ]
  },
  {
   "cell_type": "code",
   "execution_count": 8,
   "metadata": {
    "collapsed": true
   },
   "outputs": [],
   "source": [
    "namicQuery = a1[0]"
   ]
  },
  {
   "cell_type": "code",
   "execution_count": 9,
   "metadata": {},
   "outputs": [
    {
     "data": {
      "text/plain": [
       "<__main__.OrgQuery at 0x29afeef4e80>"
      ]
     },
     "execution_count": 9,
     "metadata": {},
     "output_type": "execute_result"
    }
   ],
   "source": [
    "namicQuery"
   ]
  },
  {
   "cell_type": "code",
   "execution_count": 10,
   "metadata": {
    "collapsed": true
   },
   "outputs": [],
   "source": [
    "org = 'National Association for Multi-Ethnicity In Communications (NAMIC)'"
   ]
  },
  {
   "cell_type": "markdown",
   "metadata": {},
   "source": [
    "## Start Here"
   ]
  },
  {
   "cell_type": "code",
   "execution_count": 11,
   "metadata": {
    "collapsed": true
   },
   "outputs": [],
   "source": [
    "contacts = cr[cr[\"Account Name\"] == org]"
   ]
  },
  {
   "cell_type": "code",
   "execution_count": 12,
   "metadata": {},
   "outputs": [
    {
     "data": {
      "text/html": [
       "<div>\n",
       "<style>\n",
       "    .dataframe thead tr:only-child th {\n",
       "        text-align: right;\n",
       "    }\n",
       "\n",
       "    .dataframe thead th {\n",
       "        text-align: left;\n",
       "    }\n",
       "\n",
       "    .dataframe tbody tr th {\n",
       "        vertical-align: top;\n",
       "    }\n",
       "</style>\n",
       "<table border=\"1\" class=\"dataframe\">\n",
       "  <thead>\n",
       "    <tr style=\"text-align: right;\">\n",
       "      <th></th>\n",
       "      <th>Account ID</th>\n",
       "      <th>Account Name</th>\n",
       "      <th>Contact ID</th>\n",
       "      <th>Contact Source</th>\n",
       "      <th>Email</th>\n",
       "      <th>First Name</th>\n",
       "      <th>Last Name</th>\n",
       "      <th>Mailing City</th>\n",
       "      <th>Mailing Country</th>\n",
       "      <th>Mailing State/Province</th>\n",
       "      <th>Mailing Street</th>\n",
       "      <th>Mailing Zip/Postal Code</th>\n",
       "      <th>Notes</th>\n",
       "      <th>Phone</th>\n",
       "      <th>Status</th>\n",
       "      <th>Title</th>\n",
       "    </tr>\n",
       "  </thead>\n",
       "  <tbody>\n",
       "    <tr>\n",
       "      <th>3450</th>\n",
       "      <td>0010B00001liAqw</td>\n",
       "      <td>National Association for Multi-Ethnicity In Co...</td>\n",
       "      <td>0030B00001ueBfz</td>\n",
       "      <td>http://namic.com/the-team/</td>\n",
       "      <td>susan.waldman@namic.com</td>\n",
       "      <td>Susan</td>\n",
       "      <td>Waldman</td>\n",
       "      <td>New York</td>\n",
       "      <td></td>\n",
       "      <td>NY</td>\n",
       "      <td>50 Broad Street, Suite 1801</td>\n",
       "      <td>10004</td>\n",
       "      <td></td>\n",
       "      <td>(646) 545-2508</td>\n",
       "      <td></td>\n",
       "      <td>Senior Manager, Membership and Publications</td>\n",
       "    </tr>\n",
       "    <tr>\n",
       "      <th>3451</th>\n",
       "      <td>0010B00001liAqw</td>\n",
       "      <td>National Association for Multi-Ethnicity In Co...</td>\n",
       "      <td>0030B00001ueBhC</td>\n",
       "      <td>http://namic.com/the-team/</td>\n",
       "      <td>monique.wells@namic.com</td>\n",
       "      <td>Monique</td>\n",
       "      <td>Wells</td>\n",
       "      <td>New York</td>\n",
       "      <td></td>\n",
       "      <td>NY</td>\n",
       "      <td>50 Broad Street, Suite 1801</td>\n",
       "      <td>10004</td>\n",
       "      <td></td>\n",
       "      <td>(646) 545-2509</td>\n",
       "      <td></td>\n",
       "      <td>Director of Finance and Administration</td>\n",
       "    </tr>\n",
       "    <tr>\n",
       "      <th>3452</th>\n",
       "      <td>0010B00001liAqw</td>\n",
       "      <td>National Association for Multi-Ethnicity In Co...</td>\n",
       "      <td>0030B00001ueBew</td>\n",
       "      <td>http://namic.com/the-team/</td>\n",
       "      <td>darryl.jackson@namic.com</td>\n",
       "      <td>Darryl</td>\n",
       "      <td>Jackson</td>\n",
       "      <td>New York</td>\n",
       "      <td></td>\n",
       "      <td>NY</td>\n",
       "      <td>50 Broad Street, Suite 1801</td>\n",
       "      <td>10004</td>\n",
       "      <td></td>\n",
       "      <td>(646) 545-2507</td>\n",
       "      <td></td>\n",
       "      <td>Manager, Mentoring Relations &amp; Chapter Operations</td>\n",
       "    </tr>\n",
       "  </tbody>\n",
       "</table>\n",
       "</div>"
      ],
      "text/plain": [
       "           Account ID                                       Account Name  \\\n",
       "3450  0010B00001liAqw  National Association for Multi-Ethnicity In Co...   \n",
       "3451  0010B00001liAqw  National Association for Multi-Ethnicity In Co...   \n",
       "3452  0010B00001liAqw  National Association for Multi-Ethnicity In Co...   \n",
       "\n",
       "           Contact ID              Contact Source                     Email  \\\n",
       "3450  0030B00001ueBfz  http://namic.com/the-team/   susan.waldman@namic.com   \n",
       "3451  0030B00001ueBhC  http://namic.com/the-team/   monique.wells@namic.com   \n",
       "3452  0030B00001ueBew  http://namic.com/the-team/  darryl.jackson@namic.com   \n",
       "\n",
       "     First Name Last Name Mailing City Mailing Country Mailing State/Province  \\\n",
       "3450      Susan   Waldman     New York                                     NY   \n",
       "3451    Monique     Wells     New York                                     NY   \n",
       "3452     Darryl   Jackson     New York                                     NY   \n",
       "\n",
       "                   Mailing Street Mailing Zip/Postal Code Notes  \\\n",
       "3450  50 Broad Street, Suite 1801                   10004         \n",
       "3451  50 Broad Street, Suite 1801                   10004         \n",
       "3452  50 Broad Street, Suite 1801                   10004         \n",
       "\n",
       "               Phone Status                                              Title  \n",
       "3450  (646) 545-2508               Senior Manager, Membership and Publications  \n",
       "3451  (646) 545-2509                    Director of Finance and Administration  \n",
       "3452  (646) 545-2507         Manager, Mentoring Relations & Chapter Operations  "
      ]
     },
     "execution_count": 12,
     "metadata": {},
     "output_type": "execute_result"
    }
   ],
   "source": [
    "contacts"
   ]
  },
  {
   "cell_type": "code",
   "execution_count": 13,
   "metadata": {
    "collapsed": true
   },
   "outputs": [],
   "source": [
    "namicSoup = namicQuery.get_soup()"
   ]
  },
  {
   "cell_type": "code",
   "execution_count": 14,
   "metadata": {
    "collapsed": true
   },
   "outputs": [],
   "source": [
    "namicSource = namicQuery.get_pageSource()"
   ]
  },
  {
   "cell_type": "code",
   "execution_count": 16,
   "metadata": {
    "collapsed": true
   },
   "outputs": [],
   "source": [
    "import re"
   ]
  },
  {
   "cell_type": "code",
   "execution_count": 30,
   "metadata": {},
   "outputs": [
    {
     "data": {
      "text/plain": [
       "3"
      ]
     },
     "execution_count": 30,
     "metadata": {},
     "output_type": "execute_result"
    }
   ],
   "source": [
    "len(contacts)"
   ]
  },
  {
   "cell_type": "markdown",
   "metadata": {},
   "source": [
    "## Pull Record Row"
   ]
  },
  {
   "cell_type": "code",
   "execution_count": 37,
   "metadata": {},
   "outputs": [
    {
     "data": {
      "text/html": [
       "<div>\n",
       "<style>\n",
       "    .dataframe thead tr:only-child th {\n",
       "        text-align: right;\n",
       "    }\n",
       "\n",
       "    .dataframe thead th {\n",
       "        text-align: left;\n",
       "    }\n",
       "\n",
       "    .dataframe tbody tr th {\n",
       "        vertical-align: top;\n",
       "    }\n",
       "</style>\n",
       "<table border=\"1\" class=\"dataframe\">\n",
       "  <thead>\n",
       "    <tr style=\"text-align: right;\">\n",
       "      <th></th>\n",
       "      <th>Account ID</th>\n",
       "      <th>Account Name</th>\n",
       "      <th>Contact ID</th>\n",
       "      <th>Contact Source</th>\n",
       "      <th>Email</th>\n",
       "      <th>First Name</th>\n",
       "      <th>Last Name</th>\n",
       "      <th>Mailing City</th>\n",
       "      <th>Mailing Country</th>\n",
       "      <th>Mailing State/Province</th>\n",
       "      <th>Mailing Street</th>\n",
       "      <th>Mailing Zip/Postal Code</th>\n",
       "      <th>Notes</th>\n",
       "      <th>Phone</th>\n",
       "      <th>Status</th>\n",
       "      <th>Title</th>\n",
       "    </tr>\n",
       "  </thead>\n",
       "  <tbody>\n",
       "    <tr>\n",
       "      <th>3452</th>\n",
       "      <td>0010B00001liAqw</td>\n",
       "      <td>National Association for Multi-Ethnicity In Co...</td>\n",
       "      <td>0030B00001ueBew</td>\n",
       "      <td>http://namic.com/the-team/</td>\n",
       "      <td>darryl.jackson@namic.com</td>\n",
       "      <td>Darryl</td>\n",
       "      <td>Jackson</td>\n",
       "      <td>New York</td>\n",
       "      <td></td>\n",
       "      <td>NY</td>\n",
       "      <td>50 Broad Street, Suite 1801</td>\n",
       "      <td>10004</td>\n",
       "      <td></td>\n",
       "      <td>(646) 545-2507</td>\n",
       "      <td></td>\n",
       "      <td>Manager, Mentoring Relations &amp; Chapter Operations</td>\n",
       "    </tr>\n",
       "  </tbody>\n",
       "</table>\n",
       "</div>"
      ],
      "text/plain": [
       "           Account ID                                       Account Name  \\\n",
       "3452  0010B00001liAqw  National Association for Multi-Ethnicity In Co...   \n",
       "\n",
       "           Contact ID              Contact Source                     Email  \\\n",
       "3452  0030B00001ueBew  http://namic.com/the-team/  darryl.jackson@namic.com   \n",
       "\n",
       "     First Name Last Name Mailing City Mailing Country Mailing State/Province  \\\n",
       "3452     Darryl   Jackson     New York                                     NY   \n",
       "\n",
       "                   Mailing Street Mailing Zip/Postal Code Notes  \\\n",
       "3452  50 Broad Street, Suite 1801                   10004         \n",
       "\n",
       "               Phone Status                                              Title  \n",
       "3452  (646) 545-2507         Manager, Mentoring Relations & Chapter Operations  "
      ]
     },
     "execution_count": 37,
     "metadata": {},
     "output_type": "execute_result"
    }
   ],
   "source": [
    "contacts.iloc[[2]]"
   ]
  },
  {
   "cell_type": "code",
   "execution_count": 39,
   "metadata": {},
   "outputs": [],
   "source": [
    "rec = contacts.loc[[3452]]"
   ]
  },
  {
   "cell_type": "markdown",
   "metadata": {},
   "source": [
    "## Set Regex for LastName, FirstName and Title"
   ]
  },
  {
   "cell_type": "code",
   "execution_count": 48,
   "metadata": {
    "collapsed": true
   },
   "outputs": [],
   "source": [
    "firstNameReg = re.compile('^.*%s.*$' % rec['First Name'].to_string(index=False))\n",
    "lastNameReg = re.compile('^.*%s.*$' % rec['Last Name'].to_string(index=False))\n",
    "titleReg = re.compile('^.*%s.*$' % rec['Title'].to_string(index=False))"
   ]
  },
  {
   "cell_type": "code",
   "execution_count": 49,
   "metadata": {},
   "outputs": [
    {
     "data": {
      "text/plain": [
       "'Jackson'"
      ]
     },
     "execution_count": 49,
     "metadata": {},
     "output_type": "execute_result"
    }
   ],
   "source": [
    "rec['Last Name'].to_string(index=False)"
   ]
  },
  {
   "cell_type": "code",
   "execution_count": 50,
   "metadata": {},
   "outputs": [
    {
     "data": {
      "text/plain": [
       "'^.*Jackson.*$'"
      ]
     },
     "execution_count": 50,
     "metadata": {},
     "output_type": "execute_result"
    }
   ],
   "source": [
    "'^.*%s.*$' % rec['Last Name'].to_string(index=False)"
   ]
  },
  {
   "cell_type": "code",
   "execution_count": 51,
   "metadata": {
    "collapsed": true
   },
   "outputs": [],
   "source": [
    "mike = namicSoup.findAll(text=firstNameReg)"
   ]
  },
  {
   "cell_type": "code",
   "execution_count": 52,
   "metadata": {},
   "outputs": [
    {
     "data": {
      "text/plain": [
       "['Darryl Jackson']"
      ]
     },
     "execution_count": 52,
     "metadata": {},
     "output_type": "execute_result"
    }
   ],
   "source": [
    "mike"
   ]
  },
  {
   "cell_type": "code",
   "execution_count": 53,
   "metadata": {
    "collapsed": true
   },
   "outputs": [],
   "source": [
    "sam = namicSoup.findAll(text=lastNameReg)"
   ]
  },
  {
   "cell_type": "code",
   "execution_count": null,
   "metadata": {
    "collapsed": true
   },
   "outputs": [],
   "source": []
  },
  {
   "cell_type": "code",
   "execution_count": null,
   "metadata": {
    "collapsed": true
   },
   "outputs": [],
   "source": []
  },
  {
   "cell_type": "code",
   "execution_count": null,
   "metadata": {
    "collapsed": true
   },
   "outputs": [],
   "source": []
  },
  {
   "cell_type": "code",
   "execution_count": null,
   "metadata": {
    "collapsed": true
   },
   "outputs": [],
   "source": []
  },
  {
   "cell_type": "code",
   "execution_count": null,
   "metadata": {
    "collapsed": true
   },
   "outputs": [],
   "source": []
  },
  {
   "cell_type": "code",
   "execution_count": 17,
   "metadata": {
    "collapsed": true
   },
   "outputs": [],
   "source": [
    "reg = re.compile('^.*Eglon.*$')"
   ]
  },
  {
   "cell_type": "code",
   "execution_count": 18,
   "metadata": {},
   "outputs": [
    {
     "data": {
      "text/plain": [
       "['Eglon E. Simons']"
      ]
     },
     "execution_count": 18,
     "metadata": {},
     "output_type": "execute_result"
    }
   ],
   "source": [
    "namicSoup.findAll(text=reg)"
   ]
  },
  {
   "cell_type": "code",
   "execution_count": 19,
   "metadata": {},
   "outputs": [
    {
     "data": {
      "text/plain": [
       "['Eglon E. Simons']"
      ]
     },
     "execution_count": 19,
     "metadata": {},
     "output_type": "execute_result"
    }
   ],
   "source": [
    "namicSoup.findAll(text=reg)"
   ]
  },
  {
   "cell_type": "code",
   "execution_count": 20,
   "metadata": {},
   "outputs": [
    {
     "data": {
      "text/plain": [
       "<h3 class=\"team-member-name\">Eglon E. Simons</h3>"
      ]
     },
     "execution_count": 20,
     "metadata": {},
     "output_type": "execute_result"
    }
   ],
   "source": [
    "namicSoup.findAll(text=reg)[0].parent"
   ]
  },
  {
   "cell_type": "code",
   "execution_count": 21,
   "metadata": {},
   "outputs": [
    {
     "data": {
      "text/plain": [
       "['Eglon E. Simons']"
      ]
     },
     "execution_count": 21,
     "metadata": {},
     "output_type": "execute_result"
    }
   ],
   "source": [
    "namicSoup(text=reg)"
   ]
  },
  {
   "cell_type": "code",
   "execution_count": 22,
   "metadata": {},
   "outputs": [
    {
     "data": {
      "text/plain": [
       "<h3 class=\"team-member-name\">Eglon E. Simons</h3>"
      ]
     },
     "execution_count": 22,
     "metadata": {},
     "output_type": "execute_result"
    }
   ],
   "source": [
    "namicSoup(text=reg)[0].parent"
   ]
  },
  {
   "cell_type": "code",
   "execution_count": 23,
   "metadata": {
    "collapsed": true
   },
   "outputs": [],
   "source": [
    "titleReg = re.compile('^.*President and CEO.*$')"
   ]
  },
  {
   "cell_type": "code",
   "execution_count": 24,
   "metadata": {},
   "outputs": [
    {
     "data": {
      "text/plain": [
       "['President and CEO']"
      ]
     },
     "execution_count": 24,
     "metadata": {},
     "output_type": "execute_result"
    }
   ],
   "source": [
    "namicSoup(text=titleReg)"
   ]
  },
  {
   "cell_type": "code",
   "execution_count": 25,
   "metadata": {},
   "outputs": [
    {
     "data": {
      "text/plain": [
       "<h4 class=\"team-member-position\">President and CEO</h4>"
      ]
     },
     "execution_count": 25,
     "metadata": {},
     "output_type": "execute_result"
    }
   ],
   "source": [
    "namicSoup(text=titleReg)[0].parent"
   ]
  },
  {
   "cell_type": "code",
   "execution_count": 26,
   "metadata": {},
   "outputs": [
    {
     "data": {
      "text/plain": [
       "bs4.element.NavigableString"
      ]
     },
     "execution_count": 26,
     "metadata": {},
     "output_type": "execute_result"
    }
   ],
   "source": [
    "type(namicSoup(text=titleReg)[0])"
   ]
  },
  {
   "cell_type": "code",
   "execution_count": 27,
   "metadata": {},
   "outputs": [
    {
     "data": {
      "text/plain": [
       "bs4.element.Tag"
      ]
     },
     "execution_count": 27,
     "metadata": {},
     "output_type": "execute_result"
    }
   ],
   "source": [
    "type(namicSoup(text=titleReg)[0].parent)"
   ]
  },
  {
   "cell_type": "code",
   "execution_count": 29,
   "metadata": {},
   "outputs": [
    {
     "data": {
      "text/plain": [
       "'div'"
      ]
     },
     "execution_count": 29,
     "metadata": {},
     "output_type": "execute_result"
    }
   ],
   "source": [
    "namicSoup(text=titleReg)[0].parent.parent.name"
   ]
  },
  {
   "cell_type": "code",
   "execution_count": 38,
   "metadata": {},
   "outputs": [
    {
     "data": {
      "text/plain": [
       "bs4.element.Tag"
      ]
     },
     "execution_count": 38,
     "metadata": {},
     "output_type": "execute_result"
    }
   ],
   "source": [
    "type(namicSoup(text=titleReg)[0].parent.parent)"
   ]
  },
  {
   "cell_type": "code",
   "execution_count": 44,
   "metadata": {
    "collapsed": true
   },
   "outputs": [],
   "source": [
    "firstNameReg = re.compile('^.*James.*$')\n",
    "lastNameReg = re.compile('^.*Jones.*$')\n",
    "altFirstNameReg = re.compile('^.*Eglon.*$')"
   ]
  },
  {
   "cell_type": "code",
   "execution_count": 48,
   "metadata": {
    "collapsed": true
   },
   "outputs": [],
   "source": [
    "firstNameElm = namicSoup(text=firstNameReg)[0]\n",
    "lastNameElm = namicSoup(text=lastNameReg)[0]\n",
    "altFirstNameElm = namicSoup(text=altFirstNameReg)[0]"
   ]
  },
  {
   "cell_type": "code",
   "execution_count": 49,
   "metadata": {},
   "outputs": [
    {
     "data": {
      "text/plain": [
       "True"
      ]
     },
     "execution_count": 49,
     "metadata": {},
     "output_type": "execute_result"
    }
   ],
   "source": [
    "firstNameElm is lastNameElm"
   ]
  },
  {
   "cell_type": "code",
   "execution_count": 50,
   "metadata": {},
   "outputs": [
    {
     "data": {
      "text/plain": [
       "False"
      ]
     },
     "execution_count": 50,
     "metadata": {},
     "output_type": "execute_result"
    }
   ],
   "source": [
    "altFirstNameElm is lastNameElm"
   ]
  },
  {
   "cell_type": "code",
   "execution_count": null,
   "metadata": {
    "collapsed": true
   },
   "outputs": [],
   "source": []
  },
  {
   "cell_type": "code",
   "execution_count": null,
   "metadata": {
    "collapsed": true
   },
   "outputs": [],
   "source": []
  },
  {
   "cell_type": "code",
   "execution_count": null,
   "metadata": {
    "collapsed": true
   },
   "outputs": [],
   "source": []
  }
 ],
 "metadata": {
  "kernelspec": {
   "display_name": "Python 3",
   "language": "python",
   "name": "python3"
  },
  "language_info": {
   "codemirror_mode": {
    "name": "ipython",
    "version": 3
   },
   "file_extension": ".py",
   "mimetype": "text/x-python",
   "name": "python",
   "nbconvert_exporter": "python",
   "pygments_lexer": "ipython3",
   "version": "3.6.1"
  }
 },
 "nbformat": 4,
 "nbformat_minor": 2
}
