{
 "cells": [
  {
   "cell_type": "code",
   "execution_count": null,
   "metadata": {
    "collapsed": true
   },
   "outputs": [],
   "source": [
    "cc.VerficiationHandler.close_browser()"
   ]
  },
  {
   "cell_type": "markdown",
   "metadata": {},
   "source": [
    "## Time to walk the elements of the \"Bertha\" mother element\n",
    "### This has turned out to be a big thing.  It needs to be tackled for sucessful parsing of nathan and tom elements.  \n",
    "### We do not look for indepentent trees for verified pointers.  We exploit the fact that the nathans and toms are paired by the nature of the verified pointer\n",
    "### If I have a nathan and I walk a portion of the tree through, the mother element to get to tom, then I should be able to do the same thing for other elements with the same name as the parent element of nathan that are decendants of bertha.\n"
   ]
  },
  {
   "cell_type": "code",
   "execution_count": 1,
   "metadata": {},
   "outputs": [
    {
     "name": "stdout",
     "output_type": "stream",
     "text": [
      "Done\n",
      "Done\n",
      "KEYS\n",
      "Done\n",
      "Done\n",
      "RECORDS COLLECTED\n",
      "DATAFRAMES READY\n",
      "RECORD OUTPUT READY\n",
      "CONTACT CHECKER READY\n"
     ]
    }
   ],
   "source": [
    "% run contactsScraper.py"
   ]
  },
  {
   "cell_type": "code",
   "execution_count": 5,
   "metadata": {
    "collapsed": true
   },
   "outputs": [],
   "source": [
    "import numpy as np\n",
    "import pandas as pd"
   ]
  },
  {
   "cell_type": "code",
   "execution_count": 2,
   "metadata": {
    "collapsed": true
   },
   "outputs": [],
   "source": [
    "orgsForToday = ['National Association for Multi-Ethnicity In Communications (NAMIC)',\n",
    "                'Association for Women in Science',\n",
    "                'Brain Injury Association of America',\n",
    "                'American Society of Home Inspectors',\n",
    "                'NAADAC, the Association for Addiction Professionals',\n",
    "                'American Public Transportation Association',\n",
    "                'Indiana Soybean Alliance',\n",
    "                'Associated Builders and Contractors (ABC)',\n",
    "                'National Association of Social Workers',\n",
    "                'American Marketing Association (AMA)']"
   ]
  },
  {
   "cell_type": "code",
   "execution_count": 3,
   "metadata": {},
   "outputs": [
    {
     "name": "stdout",
     "output_type": "stream",
     "text": [
      "No Fred\n",
      "No Fred\n"
     ]
    }
   ],
   "source": [
    "org  = orgsForToday[8]\n",
    "\n",
    "vh = cc.MotherSetVerifier(org)"
   ]
  },
  {
   "cell_type": "code",
   "execution_count": 4,
   "metadata": {},
   "outputs": [
    {
     "data": {
      "text/plain": [
       "['Tue Oct 17, 2017  12:44:08', '4.917', 's', 'Good']"
      ]
     },
     "execution_count": 4,
     "metadata": {},
     "output_type": "execute_result"
    }
   ],
   "source": [
    "cc.VerificationHandler.orgRecords.orgSessionStatusCheck()"
   ]
  },
  {
   "cell_type": "code",
   "execution_count": 6,
   "metadata": {
    "collapsed": true
   },
   "outputs": [],
   "source": [
    "pointers = vh.verifiedPointers"
   ]
  },
  {
   "cell_type": "code",
   "execution_count": 7,
   "metadata": {},
   "outputs": [
    {
     "data": {
      "text/plain": [
       "2"
      ]
     },
     "execution_count": 7,
     "metadata": {},
     "output_type": "execute_result"
    }
   ],
   "source": [
    "len(pointers)"
   ]
  },
  {
   "cell_type": "code",
   "execution_count": 8,
   "metadata": {
    "collapsed": true
   },
   "outputs": [],
   "source": [
    "## Grandmother Finding Algorithm\n",
    "\n",
    "gmElements = []\n",
    "gmMatrix = []\n",
    "\n",
    "for i in range(len(pointers)):\n",
    "    igmElements = []\n",
    "    for j in range(i):\n",
    "        ## Check to see if the Any Mother element is a Big Momma or \"Bertha\" Element\n",
    "        if pointers[i].get_mother_element() is pointers[j].get_mother_element():\n",
    "            gm = pointers[i].get_mother_element()\n",
    "        else:\n",
    "            gm = pointers[i].common_parent(pointers[j])\n",
    "        # Append Match to Grand Mother Matrix\n",
    "        igmElements.append(gm)\n",
    "        \n",
    "        # Check to see if this is a new grand mother element,\n",
    "        # if so append to the gmElements list of unique grandmother elements \n",
    "        if gm not in gmElements:\n",
    "            gmElements.append(gm)\n",
    "            \n",
    "    # Append Matrix Row\n",
    "    gmMatrix.append(igmElements)\n",
    "    \n",
    "grandMotherMatrix = np.matrix(gmMatrix)"
   ]
  },
  {
   "cell_type": "code",
   "execution_count": 9,
   "metadata": {},
   "outputs": [
    {
     "data": {
      "text/plain": [
       "1"
      ]
     },
     "execution_count": 9,
     "metadata": {},
     "output_type": "execute_result"
    }
   ],
   "source": [
    "## Check the number of grandmothers\n",
    "len(gmElements)"
   ]
  },
  {
   "cell_type": "code",
   "execution_count": 10,
   "metadata": {},
   "outputs": [
    {
     "data": {
      "text/plain": [
       "bs4.element.Tag"
      ]
     },
     "execution_count": 10,
     "metadata": {},
     "output_type": "execute_result"
    }
   ],
   "source": [
    "type(gmElements[0])"
   ]
  },
  {
   "cell_type": "code",
   "execution_count": 13,
   "metadata": {
    "collapsed": true
   },
   "outputs": [],
   "source": [
    "gm = gmElements[0]"
   ]
  },
  {
   "cell_type": "code",
   "execution_count": 11,
   "metadata": {
    "collapsed": true
   },
   "outputs": [],
   "source": [
    "a = pointers[0].get_mother_element()\n",
    "b = pointers[1].get_mother_element()"
   ]
  },
  {
   "cell_type": "code",
   "execution_count": 12,
   "metadata": {},
   "outputs": [
    {
     "data": {
      "text/plain": [
       "True"
      ]
     },
     "execution_count": 12,
     "metadata": {},
     "output_type": "execute_result"
    }
   ],
   "source": [
    "a is b"
   ]
  },
  {
   "cell_type": "code",
   "execution_count": 14,
   "metadata": {},
   "outputs": [
    {
     "data": {
      "text/plain": [
       "True"
      ]
     },
     "execution_count": 14,
     "metadata": {},
     "output_type": "execute_result"
    }
   ],
   "source": [
    "b is gm"
   ]
  },
  {
   "cell_type": "code",
   "execution_count": 15,
   "metadata": {
    "collapsed": true
   },
   "outputs": [],
   "source": [
    "p0 = pointers[0]"
   ]
  },
  {
   "cell_type": "code",
   "execution_count": 19,
   "metadata": {},
   "outputs": [
    {
     "data": {
      "text/plain": [
       "<h3 class=\"h3_addpading\">Patrick J. Johnson, LCSW</h3>"
      ]
     },
     "execution_count": 19,
     "metadata": {},
     "output_type": "execute_result"
    }
   ],
   "source": [
    "p0.nathan.parent"
   ]
  },
  {
   "cell_type": "code",
   "execution_count": 20,
   "metadata": {
    "collapsed": true
   },
   "outputs": [],
   "source": [
    "p1 = pointers[1]"
   ]
  },
  {
   "cell_type": "code",
   "execution_count": 23,
   "metadata": {},
   "outputs": [
    {
     "data": {
      "text/plain": [
       "'h3'"
      ]
     },
     "execution_count": 23,
     "metadata": {},
     "output_type": "execute_result"
    }
   ],
   "source": [
    "p1.nathan.parent.name"
   ]
  },
  {
   "cell_type": "code",
   "execution_count": 24,
   "metadata": {},
   "outputs": [
    {
     "name": "stdout",
     "output_type": "stream",
     "text": [
      "<div id=\"dnn_ctr17530_HtmlModule_lblContent\">\n",
      " <h2 class=\"h2_addpading\">\n",
      "  President\n",
      " </h2>\n",
      " <h3>\n",
      "  Kathryn Conley Wehrmann, PhD, MSW, LCSW\n",
      " </h3>\n",
      " <img alt=\"Kathryn Conley Wehrmann, PhD, MSW, LCSW\" src=\"/portals/0/Images/_About/board-wehrmann.jpg?ver=2017-05-05-113330-207\" style=\"max-width: 100%; float: left; padding-bottom: 20px; padding-right: 15px; padding-top: 15px;\" title=\"Kathryn Conley Wehrmann, PhD, MSW, LCSW\"/>\n",
      " <p>\n",
      "  <strong>\n",
      "   Kathryn Conley Wehrmann, PhD, MSW, LCSW\n",
      "  </strong>\n",
      "  (Illinois Chapter), received her PhD and MSW from the University of Illinois, Urbana-Champaign. She is currently a faculty member and BSW Program Director at Illinois State University (ISU). She also served in public child welfare and healthcare settings, providing a sound background for being chosen to be a Senior Fulbright Scholar to Romania where she taught and conducted research on child welfare reform. Dr. Wehrmann served at ISU as principal investigator on two child welfare training grants and was recognized for successfully securing approximately $1M in grants and contracts.\n",
      " </p>\n",
      " <p>\n",
      "  Honored as NASW Lifetime Achievement award recipient at the district level, she served as NASW District Chair, state Conference Chair, Illinois Chapter President, National Board Representative for Region IX, and member of the Executive Committee. She's a current member of the Baccalaureate Program Directors, and the Fulbright Association.\n",
      " </p>\n",
      " <hr/>\n",
      " <h2 class=\"h2_addpading\">\n",
      "  Vice President\n",
      " </h2>\n",
      " <h3 class=\"h3_addpading\">\n",
      "  Mildred (Mit) Joyner, MSW, LCSW, BCD\n",
      " </h3>\n",
      " <img alt=\"Mildred (Mit) Joyner, MSW, LCSW, BCD\" src=\"/portals/0/Images/_About/board-joyner.jpg?ver=2017-05-05-114943-747\" style=\"max-width: 100%; float: left; padding-bottom: 20px; padding-right: 15px; padding-top: 10px;\" title=\"Mildred (Mit) Joyner, MSW, LCSW, BCD\"/>\n",
      " <p>\n",
      "  <strong>\n",
      "   Mildred (Mit) Joyner, MSW, LCSW, BCD\n",
      "  </strong>\n",
      "  (Pennsylvania Chapter), received an MSW from Howard University and a BSW from the Central State University in Ohio. She directed and chaired the undergraduate social work department at West Chester University of Pennsylvania for 25 years.\n",
      " </p>\n",
      " <p>\n",
      "  She retired after 32 years as full professor with emeritus status. Ms. Joyner is co-author of\n",
      "  <em>\n",
      "   Critical Multicultural Social Work\n",
      "  </em>\n",
      "  and\n",
      "  <em>\n",
      "   Caregivers for Persons Living with HIV/AIDS in Kenya: An Ecological Perspective\n",
      "  </em>\n",
      "  .\n",
      " </p>\n",
      " <p>\n",
      "  She serves on the boards of DNB First Bank, Chester County Food Bank, and Dana Farber Soulmates Advisory Board. Honored as the William Culp Lecturer; the Dr. Inabel Burns Lindsay awardee; and named a Social Work Pioneer. She also received the Living Beyond Breast Cancer Founders Award.\n",
      " </p>\n",
      " <hr/>\n",
      " <h2 class=\"h2_addpading\">\n",
      "  Secretary\n",
      " </h2>\n",
      " <h3 class=\"h3_addpading\">\n",
      "  Heather Bradley-Geary, MSW\n",
      " </h3>\n",
      " <br/>\n",
      " <img alt=\"Heather Bradley-Geary, MSW\" src=\"/portals/0/Images/_About/board-geary.jpg\" style=\"max-width: 100%; float: left; padding-bottom: 20px; padding-right: 15px;\" title=\"Heather Bradley-Geary, MSW\"/>\n",
      " <strong>\n",
      "  Heather Bradley-Geary, MSW\n",
      " </strong>\n",
      " (Missouri Chapter), received a master of social welfare degree and a bachelor of fine arts (in music therapy) degree from the University of Kansas. She is Lead Developer of Supportive Housing at The Vecino Group where she develops permanent supportive housing to end homelessness.\n",
      " <p>\n",
      "  Ms. Bradley-Geary has served on many boards including: the Missouri Chapter of NASW and the Executive Committee of the Board; the Governor’s Committee to End Homelessness; Homeless Management Information System; and Multiracial Family Circle. She serves on the Homeless Services Coalition of Greater Kansas City and was honored as the Missouri Social Worker of the Year and Humanitarian of the Year in 2011.\n",
      " </p>\n",
      " <hr/>\n",
      " <h2 class=\"h2_addpading\">\n",
      "  Treasurer\n",
      " </h2>\n",
      " <h3 class=\"h3_addpading\">\n",
      "  Patrick J. Johnson, LCSW\n",
      " </h3>\n",
      " <br/>\n",
      " <img alt=\"Patrick J. Johnson, LCSW\" src=\"/portals/0/Images/_About/board-johnson.jpg\" style=\"max-width: 100%; float: left; padding-bottom: 20px; padding-right: 15px;\" title=\"Patrick J. Johnson, LCSW\"/>\n",
      " <p>\n",
      "  <strong>\n",
      "   Patrick J. Johnson, LCSW\n",
      "  </strong>\n",
      "  (Connecticut Chapter), consults in non-profit management and governance and is Interim Executive Director of the Connecticut Association of Nonprofits Inc. He recently retired as President of Oak Hill, the largest provider of comprehensive community-based services for people with disabilities in Connecticut.  Mr. Johnson received a MSW from the University of Connecticut and a BS from the Central Connecticut State College and is an advocate for people with disabilities and those marginalized by society.\n",
      " </p>\n",
      " <p>\n",
      "  Mr. Johnson served as ranking administrator and/or board member for a wide range of human services. Prior to Oak Hill, he was Executive Director of Catholic Charities/Catholic Family Services and managed municipal services. He has been a leader in the full spectrum of human services in Connecticut, including mental health, health, basic human needs, assistive technology, and housing and has often served as a Board Treasurer, including the NASW Connecticut Chapter.\n",
      " </p>\n",
      "</div>\n",
      "\n"
     ]
    }
   ],
   "source": [
    "print(gm.prettify())"
   ]
  },
  {
   "cell_type": "code",
   "execution_count": 25,
   "metadata": {},
   "outputs": [
    {
     "data": {
      "text/plain": [
       "51"
      ]
     },
     "execution_count": 25,
     "metadata": {},
     "output_type": "execute_result"
    }
   ],
   "source": [
    "len(list(gm.children))"
   ]
  },
  {
   "cell_type": "code",
   "execution_count": 27,
   "metadata": {},
   "outputs": [
    {
     "data": {
      "text/plain": [
       "83"
      ]
     },
     "execution_count": 27,
     "metadata": {},
     "output_type": "execute_result"
    }
   ],
   "source": [
    "len(list(gm.descendants))"
   ]
  },
  {
   "cell_type": "markdown",
   "metadata": {},
   "source": [
    "#### 'find_all' passes the gm decendants test"
   ]
  },
  {
   "cell_type": "code",
   "execution_count": 33,
   "metadata": {},
   "outputs": [
    {
     "data": {
      "text/plain": [
       "[<strong>Kathryn Conley Wehrmann, PhD, MSW, LCSW</strong>,\n",
       " <strong>Mildred (Mit) Joyner, MSW, LCSW, BCD</strong>,\n",
       " <strong>Heather Bradley-Geary, MSW</strong>,\n",
       " <strong>Patrick J. Johnson, LCSW </strong>]"
      ]
     },
     "execution_count": 33,
     "metadata": {},
     "output_type": "execute_result"
    }
   ],
   "source": [
    "gm.find_all('strong') ## These are not direct decendants, two levels down"
   ]
  },
  {
   "cell_type": "code",
   "execution_count": 38,
   "metadata": {},
   "outputs": [
    {
     "data": {
      "text/plain": [
       "True"
      ]
     },
     "execution_count": 38,
     "metadata": {},
     "output_type": "execute_result"
    }
   ],
   "source": [
    "gm.find_all('strong')[0].parent.parent is gm"
   ]
  },
  {
   "cell_type": "code",
   "execution_count": 40,
   "metadata": {},
   "outputs": [
    {
     "data": {
      "text/plain": [
       "'h3'"
      ]
     },
     "execution_count": 40,
     "metadata": {},
     "output_type": "execute_result"
    }
   ],
   "source": [
    "p1.nathan.parent.name"
   ]
  },
  {
   "cell_type": "code",
   "execution_count": 39,
   "metadata": {
    "collapsed": true
   },
   "outputs": [],
   "source": [
    "starts = gm.find_all(p1.nathan.parent.name)"
   ]
  },
  {
   "cell_type": "code",
   "execution_count": 41,
   "metadata": {},
   "outputs": [
    {
     "data": {
      "text/plain": [
       "[<h3>Kathryn Conley Wehrmann, PhD, MSW, LCSW </h3>,\n",
       " <h3 class=\"h3_addpading\"> Mildred (Mit) Joyner, MSW, LCSW, BCD </h3>,\n",
       " <h3 class=\"h3_addpading\">Heather Bradley-Geary, MSW</h3>,\n",
       " <h3 class=\"h3_addpading\">Patrick J. Johnson, LCSW</h3>]"
      ]
     },
     "execution_count": 41,
     "metadata": {},
     "output_type": "execute_result"
    }
   ],
   "source": [
    "starts  ## Good"
   ]
  },
  {
   "cell_type": "code",
   "execution_count": 82,
   "metadata": {
    "collapsed": true
   },
   "outputs": [],
   "source": [
    "## Tag tree with pattern from nathan to tom\n",
    "def tag_nathans(pt):\n",
    "    return parent_cycle_up(pt.get_mother_element(), pt.nathan.parent, 'nathan', 0)\n",
    "\n",
    "def tag_toms(pt):\n",
    "    return parent_cycle_up(pt.get_mother_element(), pt.tom.parent, 'tom', 0)\n",
    "\n",
    "def parent_cycle_up(motherElement, element, atr, num):\n",
    "    ## for the bertha case we stop at the element that is right befor the mother elemenet\n",
    "    if element.parent is motherElement:\n",
    "        element[atr] = num\n",
    "        element['sib'] = atr\n",
    "    else:\n",
    "        element[atr] = num\n",
    "        return(motherElement, element.parent, atr, num + 1)\n",
    "    \n",
    "def has_sib(tag):\n",
    "    return 'sib' in tag.attrs\n",
    "\n",
    "def is_tom_sib(tag):\n",
    "    return 'sib' in tag.attrs and tag['sib'] == 'tom'\n",
    "\n",
    "def is_tom_n(tag):\n",
    "    return 'sib' in tag.attrs and tag['sib'] == 'tom'\n",
    "\n",
    "def is_tom_shoulder(tag):\n",
    "    return 'sib' in tag.attrs and tag['sib'] == 'tom'\n",
    "\n",
    "def is_nathan_sib(tag):\n",
    "    return 'sib' in tag.attrs and tag['sib'] == 'nathan'\n",
    "\n",
    "def is_nathan_n(tag):\n",
    "    return 'sib' in tag.attrs and tag['sib'] == 'nathan'\n",
    "\n",
    "def is_nathan_shoulder(tag):\n",
    "    return 'sib' in tag.attrs and 'nathan' in tag.attrs\n",
    "\n",
    "def tag_sibs(p1):\n",
    "    tomShoulder = p1.get_mother_element().find(is_tom_shoulder)\n",
    "    sibNo = 0\n",
    "    for posSib in tomShoulder.next_siblings:\n",
    "        if posSib.name:  # Element has to have a name\n",
    "            sibNo += 1\n",
    "            posSib['sib'] = sibNo\n",
    "\n",
    "    \n",
    "    sibNo = 0\n",
    "    for negSib in tomShoulder.previous_siblings:\n",
    "        if negSib.name: # Element has to have a name\n",
    "            sibNo -= 1\n",
    "            negSib['sib'] = sibNo\n",
    "\n"
   ]
  },
  {
   "cell_type": "code",
   "execution_count": 79,
   "metadata": {},
   "outputs": [],
   "source": [
    "tag_nathans(p1)\n",
    "tag_toms(p1)\n",
    "tag_sibs(p1)"
   ]
  },
  {
   "cell_type": "code",
   "execution_count": 45,
   "metadata": {},
   "outputs": [
    {
     "data": {
      "text/plain": [
       "{'class': ['h2_addpading'], 'sib': 'tom', 'tom': 0}"
      ]
     },
     "execution_count": 45,
     "metadata": {},
     "output_type": "execute_result"
    }
   ],
   "source": [
    "## Seach Children By Attribute\n",
    "p1.tom.parent.attrs"
   ]
  },
  {
   "cell_type": "code",
   "execution_count": 63,
   "metadata": {},
   "outputs": [],
   "source": [
    "ts=p1.get_mother_element().find(is_tom_shoulder)"
   ]
  },
  {
   "cell_type": "code",
   "execution_count": null,
   "metadata": {
    "collapsed": true
   },
   "outputs": [],
   "source": [
    "# Tagging the siblings\n",
    "## Start with the tom shoulder\n",
    "gm.find(is_tom_shoulder)\n",
    "## iterate positive to the right\n",
    "\n",
    "## iterate negative to the left"
   ]
  },
  {
   "cell_type": "code",
   "execution_count": 83,
   "metadata": {},
   "outputs": [
    {
     "data": {
      "text/plain": [
       "<h2 class=\"h2_addpading\" sib=\"tom\" tom=\"0\"> Vice President </h2>"
      ]
     },
     "execution_count": 83,
     "metadata": {},
     "output_type": "execute_result"
    }
   ],
   "source": [
    "gm.find(is_tom_shoulder)"
   ]
  },
  {
   "cell_type": "code",
   "execution_count": 65,
   "metadata": {},
   "outputs": [
    {
     "data": {
      "text/plain": [
       "38"
      ]
     },
     "execution_count": 65,
     "metadata": {},
     "output_type": "execute_result"
    }
   ],
   "source": [
    "len(list(ts.next_siblings))"
   ]
  },
  {
   "cell_type": "code",
   "execution_count": 66,
   "metadata": {},
   "outputs": [
    {
     "data": {
      "text/plain": [
       "12"
      ]
     },
     "execution_count": 66,
     "metadata": {},
     "output_type": "execute_result"
    }
   ],
   "source": [
    "len(list(ts.previous_siblings))"
   ]
  },
  {
   "cell_type": "code",
   "execution_count": 84,
   "metadata": {},
   "outputs": [
    {
     "data": {
      "text/plain": [
       "[<h3 class=\"h3_addpading\" nathan=\"0\" sib=\"1\"> Mildred (Mit) Joyner, MSW, LCSW, BCD </h3>]"
      ]
     },
     "execution_count": 84,
     "metadata": {},
     "output_type": "execute_result"
    }
   ],
   "source": [
    "gm.find_all(is_nathan_shoulder)"
   ]
  },
  {
   "cell_type": "code",
   "execution_count": 70,
   "metadata": {},
   "outputs": [
    {
     "data": {
      "text/plain": [
       "type"
      ]
     },
     "execution_count": 70,
     "metadata": {},
     "output_type": "execute_result"
    }
   ],
   "source": [
    "type(type(ts))"
   ]
  },
  {
   "cell_type": "code",
   "execution_count": 74,
   "metadata": {},
   "outputs": [
    {
     "data": {
      "text/plain": [
       "'h2'"
      ]
     },
     "execution_count": 74,
     "metadata": {},
     "output_type": "execute_result"
    }
   ],
   "source": [
    "ts.name"
   ]
  },
  {
   "cell_type": "code",
   "execution_count": 75,
   "metadata": {},
   "outputs": [
    {
     "data": {
      "text/plain": [
       "' Vice President '"
      ]
     },
     "execution_count": 75,
     "metadata": {},
     "output_type": "execute_result"
    }
   ],
   "source": [
    "ts.string"
   ]
  },
  {
   "cell_type": "code",
   "execution_count": 77,
   "metadata": {},
   "outputs": [
    {
     "data": {
      "text/plain": [
       "True"
      ]
     },
     "execution_count": 77,
     "metadata": {},
     "output_type": "execute_result"
    }
   ],
   "source": [
    "ts.string.name == None"
   ]
  },
  {
   "cell_type": "code",
   "execution_count": null,
   "metadata": {
    "collapsed": true
   },
   "outputs": [],
   "source": []
  },
  {
   "cell_type": "code",
   "execution_count": null,
   "metadata": {
    "collapsed": true
   },
   "outputs": [],
   "source": []
  },
  {
   "cell_type": "code",
   "execution_count": null,
   "metadata": {
    "collapsed": true
   },
   "outputs": [],
   "source": []
  },
  {
   "cell_type": "code",
   "execution_count": null,
   "metadata": {
    "collapsed": true
   },
   "outputs": [],
   "source": []
  },
  {
   "cell_type": "code",
   "execution_count": null,
   "metadata": {
    "collapsed": true
   },
   "outputs": [],
   "source": []
  },
  {
   "cell_type": "code",
   "execution_count": null,
   "metadata": {
    "collapsed": true
   },
   "outputs": [],
   "source": []
  },
  {
   "cell_type": "code",
   "execution_count": null,
   "metadata": {
    "collapsed": true
   },
   "outputs": [],
   "source": []
  },
  {
   "cell_type": "code",
   "execution_count": null,
   "metadata": {
    "collapsed": true
   },
   "outputs": [],
   "source": []
  },
  {
   "cell_type": "code",
   "execution_count": null,
   "metadata": {
    "collapsed": true
   },
   "outputs": [],
   "source": []
  }
 ],
 "metadata": {
  "kernelspec": {
   "display_name": "Python 3",
   "language": "python",
   "name": "python3"
  },
  "language_info": {
   "codemirror_mode": {
    "name": "ipython",
    "version": 3
   },
   "file_extension": ".py",
   "mimetype": "text/x-python",
   "name": "python",
   "nbconvert_exporter": "python",
   "pygments_lexer": "ipython3",
   "version": "3.6.1"
  }
 },
 "nbformat": 4,
 "nbformat_minor": 2
}
