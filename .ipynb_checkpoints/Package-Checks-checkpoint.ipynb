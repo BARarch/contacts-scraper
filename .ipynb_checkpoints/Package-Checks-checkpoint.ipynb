{
 "cells": [
  {
   "cell_type": "code",
   "execution_count": null,
   "metadata": {
    "collapsed": true
   },
   "outputs": [],
   "source": [
    "# Directory Manager Classes\n",
    "\n",
    "import selenium\n",
    "import bs4\n",
    "import time\n",
    "import datetime\n",
    "\n",
    "\n",
    "#Contact Checker\n",
    "\n",
    "import pandas\n",
    "import re\n",
    "import numpy\n",
    "\n",
    "\n"
   ]
  }
 ],
 "metadata": {
  "kernelspec": {
   "display_name": "Python 3",
   "language": "python",
   "name": "python3"
  },
  "language_info": {
   "codemirror_mode": {
    "name": "ipython",
    "version": 3
   },
   "file_extension": ".py",
   "mimetype": "text/x-python",
   "name": "python",
   "nbconvert_exporter": "python",
   "pygments_lexer": "ipython3",
   "version": "3.6.1"
  }
 },
 "nbformat": 4,
 "nbformat_minor": 2
}
