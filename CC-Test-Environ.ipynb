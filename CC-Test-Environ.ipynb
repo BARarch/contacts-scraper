{
 "cells": [
  {
   "cell_type": "code",
   "execution_count": null,
   "metadata": {
    "collapsed": true
   },
   "outputs": [],
   "source": [
    "cc.VerificationHandler.close_browser()"
   ]
  },
  {
   "cell_type": "code",
   "execution_count": null,
   "metadata": {
    "collapsed": true
   },
   "outputs": [],
   "source": [
    "VerificationHandler.close_browser()"
   ]
  },
  {
   "cell_type": "markdown",
   "metadata": {},
   "source": [
    "# Start Here"
   ]
  },
  {
   "cell_type": "code",
   "execution_count": 1,
   "metadata": {},
   "outputs": [
    {
     "name": "stdout",
     "output_type": "stream",
     "text": [
      "Done\n",
      "Done\n",
      "KEYS\n",
      "Done\n",
      "Done\n",
      "RECORDS COLLECTED\n",
      "DATAFRAMES READY\n"
     ]
    }
   ],
   "source": [
    "% run contactsScraper.py"
   ]
  },
  {
   "cell_type": "code",
   "execution_count": 2,
   "metadata": {},
   "outputs": [
    {
     "name": "stdout",
     "output_type": "stream",
     "text": [
      "Local Contact Checker Ready\n"
     ]
    }
   ],
   "source": [
    "% run contactChecker.py"
   ]
  },
  {
   "cell_type": "code",
   "execution_count": 3,
   "metadata": {},
   "outputs": [
    {
     "name": "stdout",
     "output_type": "stream",
     "text": [
      "RECORD OUTPUT READY\n",
      "Local Contact Checker Ready\n"
     ]
    }
   ],
   "source": [
    "ContactSheetOutput.set_output(contactKeys)\n",
    "VerificationHandler.set_orgRecords(dm.OrgSession(orgRecords))\n",
    "VerificationHandler.set_contactRecords(cr)\n",
    "print('Local Contact Checker Ready')"
   ]
  },
  {
   "cell_type": "code",
   "execution_count": 4,
   "metadata": {},
   "outputs": [
    {
     "name": "stdout",
     "output_type": "stream",
     "text": [
      "\n",
      "Scraping National Association for Multi-Ethnicity In Communications (NAMIC)\n",
      "['Wed Nov 01, 2017  11:43:12', '10.906', 's', 'Good']\n",
      "Verified Pointers         \t\t\t\t\t\t3\n",
      "Scrape Pointers           \t\t\t\t\t\t3\n",
      "Start Pointers            \t\t\t\t\t\t8\n",
      "Start Type                \t\t\t\t__nathanStarts__\n",
      "Merged (Filtered) Pointers\t\t\t\t\t\t5\n",
      "Eglon E. Simons     as     President and CEO\n",
      "James C. Jones     as     Senior Vice President, Education and Diversity Solutions\n",
      "Sandra Girado     as     Vice President, Events and Partner Relations\n",
      "Brandon D. Hewlett     as     Project Coordinator\n",
      "Davana O'Brien     as     Administrative Assistant\n",
      "\n",
      "\n",
      "\n",
      "--------------------------------------------------------------------------\n",
      "Time of Scrape                                  \t\t  0:00:15\n",
      "Number of Sites Attempted                       \t\t\t1\n",
      "\n",
      "\n",
      "Organizations with \n",
      "extracted contacts         \t\t\t\t\t\t1\n",
      "\n",
      "Organizations without \n",
      "verified extractions    \t\t\t\t\t\t0\n",
      "\n",
      "Organizations not \n",
      "extacted                    \t\t\t\t\t\t0\n",
      "\n",
      "Organizations with links \n",
      "that did not open    \t\t\t\t\t\t\t0\n"
     ]
    }
   ],
   "source": [
    "b = ScrapeBase(orgRecords)"
   ]
  },
  {
   "cell_type": "code",
   "execution_count": 5,
   "metadata": {},
   "outputs": [
    {
     "name": "stdout",
     "output_type": "stream",
     "text": [
      "\n",
      "Scraping National Association for Multi-Ethnicity In Communications (NAMIC)\n",
      "['Wed Nov 01, 2017  11:43:31', '3.351', 's', 'Good']\n",
      "Verified Pointers         \t\t\t\t\t\t3\n",
      "Scrape Pointers           \t\t\t\t\t\t3\n",
      "Start Pointers            \t\t\t\t\t\t8\n",
      "Start Type                \t\t\t\t__nathanStarts__\n",
      "Merged (Filtered) Pointers\t\t\t\t\t\t5\n",
      "Eglon E. Simons     as     President and CEO\n",
      "James C. Jones     as     Senior Vice President, Education and Diversity Solutions\n",
      "Sandra Girado     as     Vice President, Events and Partner Relations\n",
      "Brandon D. Hewlett     as     Project Coordinator\n",
      "Davana O'Brien     as     Administrative Assistant\n",
      "\n",
      "\n",
      "Scraping Association for Women in Science\n",
      "['Wed Nov 01, 2017  11:43:37', '2.748', 's', 'Good']\n",
      "No Fred\n",
      "Not the right number of Grandmothers 2\n",
      "\n",
      "Scraping Brain Injury Association of America\n",
      "['Wed Nov 01, 2017  11:43:41', '1286', 'ms', 'Good']\n",
      "Verified Pointers         \t\t\t\t\t\t4\n",
      "Scrape Pointers           \t\t\t\t\t\t4\n",
      "Start Pointers            \t\t\t\t\t\t10\n",
      "Start Type                \t\t\t\t__tomStarts__\n",
      "Merged (Filtered) Pointers\t\t\t\t\t\t5\n",
      "William M. Dane     as                  Public Affairs Manager\n",
      "Tiffany Epley     as                  ACBIS Assistant\n",
      "Sarah Gaffney     as                  BIAA - Maine Program Coordinator\n",
      "Carrie Mosher     as                  Sales Manager\n",
      "Steve Wade     as                  BIAA-Maine Executive Director\n",
      "\n",
      "\n",
      "Scraping American Society of Home Inspectors\n",
      "['Wed Nov 01, 2017  11:43:46', '2.325', 's', 'Good']\n",
      "No Scrapable Matches\n",
      "Nothing to Merge\n",
      "Verified Pointers         \t\t\t\t\t\t3\n",
      "Scrape Pointers           \t\t\t\t\t\t0\n",
      "Start Pointers            \t\t\t\t\t\t0\n",
      "Start Type                \t\t\t\tNO EXTRACTORS\n",
      "\n",
      "Scraping NAADAC, the Association for Addiction Professionals\n",
      "['Wed Nov 01, 2017  11:43:53', '2.977', 's', 'Good']\n",
      "No Fred\n",
      "Not the right number of Grandmothers 2\n",
      "\n",
      "Scraping American Public Transportation Association\n",
      "['Wed Nov 01, 2017  11:43:59', '3.059', 's', 'Good']\n",
      "No Fred\n",
      "Verified Pointers         \t\t\t\t\t\t2\n",
      "Scrape Pointers           \t\t\t\t\t\t2\n",
      "Start Pointers            \t\t\t\t\t\t86\n",
      "Start Type                \t\t\t\t__nathanStarts__\n",
      "Merged (Filtered) Pointers\t\t\t\t\t\t81\n",
      "Rosemary Sheridan     as     Vice President - Communications & Marketing​\n",
      "Mantill Williams     as     Director - Advocacy Communications\n",
      "Chad Chitwood     as     Program Manager - Advocacy Communications\n",
      "Virginia Miller     as     Director - Media Relations\n",
      "Kathy Golden     as     Senior Director - Publications & Passenger Transport\n",
      "Vacant     as     Senior Managing Editor - Communications\n",
      "Susan Berlin     as     Senior Editor\n",
      "Bill Maroni     as     Senior Strategist, Executive Communications\n",
      "Mitch Wood     as     Graphic Designer\n",
      "Jack Gonzalez     as     Senior Director - Marketing & Sales\n",
      "Stephen Kendrick     as     Program Manager - Communications & Marketing\n",
      "Erin Cartwright     as     Communications & Marketing Coordinator\n",
      "Daniel Pineda     as     Video Production Specialist\n",
      "Vacant     as     Senior Program Manager - TCRP\n",
      "Peggy Wilson     as     TCRP Coordinator\n",
      "Petra Mollet      as     Vice President-Strategic & International Programs\n",
      "Kym Hill     as     Director - Executive Office & Corporate Secretary\n",
      "​Ann-Marie Glanville     as     Executive Assistant, Office of the President & CEO\n",
      "Cheryl Edwards     as     Executive Assistant\n",
      "Jetris Hamilton      as     Senior Director - Finance\n",
      "Dan Deng     as     Accounting Manager - AP and Grants\n",
      "Vacant     as     Staff Accountant - AP\n",
      "Joyce Gartrell      as     Staff Accountant - Payroll\n",
      "Jamar Rogers     as     Staff Accountant - AR\n",
      "Nigel Andrews     as     Senior Accounting Manager \n",
      "Karen W. Harvey     as     Senior Director - Human Resources & Administrative Services\n",
      "Sharon Royster     as     Human Resources Specialist\n",
      "Jasmine Byrd     as     Receptionist\n",
      "Greg Woodland     as     Lead Office Assistant\n",
      "Jeremy Rueter     as     Information Technology Director\n",
      "David Bruening     as     Senior Software Developer/Database Administrator\n",
      "Joe Wu     as     Senior Network Engineer\n",
      "Hai Tran     as     Information Technology Manager\n",
      "Lay Chou     as     Computer Support Specialist\n",
      "Robert L. Healy, Jr.     as     Vice President - Government Affairs\n",
      "Andrew Brady     as     Senior Director - Government Affairs\n",
      "Billy Terry     as     Senior Legislative Representative\n",
      "Mark Hybner     as     Senior Legislative Representative\n",
      "​Mara Stark-Alcalá     as     Legislative Representative\n",
      "Michael Fimmano     as     Legislative Analyst\n",
      "TaNeesha Johnson     as     Government Relations Coordinator\n",
      "Linda Ford     as     Chief Counsel\n",
      "Jose Reyes     as     Executive Assistant\n",
      "Randy Clarke      as     Vice President - Operation & Member Services\n",
      "Deborah Bongiorno     as     Assistant Vice President - Member Services\n",
      "​Lorraine Mitchell     as     ​Executive Assistant\n",
      "Lenay Gore      as     Senior Director - Meetings & Trade Show\n",
      "Christine L. Bolen     as     Program Manager - Conference Programs\n",
      "Cheryl Pyatt     as     Senior Program Manager - Conference Programming\n",
      "Heather Rachels     as     Meeting Manager\n",
      "Anitha Atkins     as     Meeting Manager\n",
      "Kwakuita Spence     as     Registration Coordinator\n",
      "Marcus Eng     as     Meeting Manager\n",
      "Helene Brett      as     Senior Director - Membership \n",
      "Michael Hemsley      as     Senior Membership Manager\n",
      "Vacant     as     Member Services Coordinator\n",
      "Lou Sanders      as     Senior Director - Engineering Services \n",
      "Jeff Hiott      as     Director - Operations & Standards\n",
      "Charles Joseph     as     Director - Rail Programs\n",
      "Saahir Brewington     as     Senior Program Manager - Conference Programming\n",
      "Nathan Leventon     as     Program Manager - Technical Services\n",
      "Eugene Reed     as     Program Manager - Standards Support\n",
      "DeeNaye Casey Williams     as     Technical Services Coordinator\n",
      "Narayana Sundaram     as     Director -  Engineering & Commuter Rail\n",
      "Brian Alberts     as     Director - Safety\n",
      "Sherry Brown     as     Safety & Security Coordinator\n",
      "Beverly Hill     as     Senior Program Manager - Member Services \n",
      "Adam Martin     as     Senior Program Manager - Business Members\n",
      "Kavya Pupalla     as     Business Data Analyst\n",
      "Arthur Guzzetti      as     Vice President - Policy \n",
      "Cynthia Bush Owens     as     Executive Assistant\n",
      "Darnell Grisby     as     Director - Policy Development & Research\n",
      "Matthew Dickens     as     Senior Policy Analyst\n",
      "Richard Weaver      as     Director - Planning, Policy & Sustainability\n",
      "MacPherson Hughes-Comwick     as     Policy Analyst\n",
      "Elizabeth Lovinggood     as     Program Manager - Sustainability & Planning\n",
      "Pamela L. Boswell     as     Vice President - Workforce Development & Educational Services\n",
      "Brandon Roccio     as     Program Manager - Educational Services\n",
      "Joseph Niegoski     as     Senior Director - Educational Services\n",
      "Lindsey Robertson     as     Senior Program Manager\n",
      "Jasmine Richmond     as     Administrative Assistant\n",
      "\n",
      "\n",
      "Scraping Indiana Soybean Alliance\n",
      "['Wed Nov 01, 2017  11:44:06', '3.196', 's', 'Good']\n",
      "No Fred\n",
      "No Fred\n",
      "No Fred\n",
      "Verified Pointers         \t\t\t\t\t\t1\n",
      "Scrape Pointers           \t\t\t\t\t\t1\n",
      "Start Pointers            \t\t\t\t\t\t20\n",
      "Start Type                \t\t\t\t__nathanStarts__\n",
      "Merged (Filtered) Pointers\t\t\t\t\t\t16\n",
      "Chantel Rammel     as     Sr. Director of Corporate Services -   \n",
      "Ed Ebert     as     Sr. Director of Grain Production and Utilization -   \n",
      "Melanie Fitzpatrick     as     Sr. Director of Marketing and Communications -   \n",
      "Andy Tauer     as     Director of Livestock -   \n",
      "Alyson Wells     as     Director of  Production and Environment -   \n",
      "Ken Parrent     as     Director of Biofuels -   \n",
      "Hannah Vorsilak     as     Director of Education and Training -   \n",
      "Melanie Batalis     as     Marketing Manager -   \n",
      "Cory Harris     as     Public Affairs Program Manager -   \n",
      "Lauren Taylor     as     Communication and Marketing Programs Manager -   \n",
      "April Shepherd     as     Membership Program Manager -   \n",
      "Robyn Shelley     as     Special Projects Program Manager -   \n",
      "Angela Proctor     as     Accounting Assistant -   \n",
      "Kris Sturtz     as     Office Manager -   \n",
      "Carol Collins     as     Receptionist and Office Assistant -   \n",
      "Andy Tauer     as     Executive Director of the Soy Aquaculture Alliance –   \n",
      "\n",
      "\n",
      "Scraping Associated Builders and Contractors (ABC)\n",
      "['Wed Nov 01, 2017  11:44:18', '5.051', 's', 'Good']\n",
      "No Fred\n",
      "No Fred\n",
      "No Fred\n",
      "No Fred\n",
      "No Fred\n"
     ]
    },
    {
     "name": "stdout",
     "output_type": "stream",
     "text": [
      "No Fred\n",
      "No Fred\n",
      "No Fred\n",
      "No Fred\n",
      "No Fred\n",
      "No Fred\n",
      "No Fred\n",
      "No Larry\n",
      "No Fred\n",
      "No Fred\n",
      "No Fred\n",
      "No Fred\n",
      "No Fred\n",
      "No Fred\n",
      "No Fred\n",
      "No Fred\n",
      "No Fred\n",
      "No Fred\n",
      "Not the right number of Grandmothers 0\n",
      "\n",
      "Scraping National Association of Social Workers\n",
      "['Wed Nov 01, 2017  11:44:25', '3.525', 's', 'Good']\n",
      "No Fred\n",
      "No Fred\n",
      "Verified Pointers         \t\t\t\t\t\t2\n",
      "Scrape Pointers           \t\t\t\t\t\t2\n",
      "Start Pointers            \t\t\t\t\t\t3\n",
      "Start Type                \t\t\t\t__nathanStarts__\n",
      "Merged (Filtered) Pointers\t\t\t\t\t\t1\n",
      "Heather Bradley-Geary, MSW     as      Secretary \n",
      "\n",
      "\n",
      "Scraping American Marketing Association (AMA)\n",
      "['Wed Nov 01, 2017  11:44:35', '4.056', 's', 'Good']\n",
      "No Fred\n",
      "No Reggies\n",
      "No Fred\n",
      "No Fred\n",
      "No Fred\n",
      "No Fred\n",
      "Verified Pointers         \t\t\t\t\t\t5\n",
      "Scrape Pointers           \t\t\t\t\t\t4\n",
      "Start Pointers            \t\t\t\t\t\t12\n",
      "Start Type                \t\t\t\t__nathanStarts__\n",
      "Merged (Filtered) Pointers\t\t\t\t\t\t2\n",
      "Russ Klein​​     as     Chief Executive Officer - \n",
      "Michael Pemberton​     as     Accounting - \n",
      "\n",
      "\n",
      "\n",
      "--------------------------------------------------------------------------\n",
      "Time of Scrape                                  \t\t  0:01:14\n",
      "Number of Sites Attempted                       \t\t\t10\n",
      "\n",
      "\n",
      "Organizations with \n",
      "extracted contacts         \t\t\t\t\t\t6\n",
      "\n",
      "Organizations without \n",
      "verified extractions    \t\t\t\t\t\t1\n",
      "\n",
      "Organizations not \n",
      "extacted                    \t\t\t\t\t\t3\n",
      "\n",
      "Organizations with links \n",
      "that did not open    \t\t\t\t\t\t\t0\n"
     ]
    }
   ],
   "source": [
    "t = ScrapeForToday(orgRecords)"
   ]
  },
  {
   "cell_type": "code",
   "execution_count": 6,
   "metadata": {},
   "outputs": [
    {
     "name": "stdout",
     "output_type": "stream",
     "text": [
      "\n",
      "Scraping Arizona School Boards Association\n",
      "Link DID NOT Open Properly\n",
      "\n",
      "Scraping American Association of Diabetes Educators\n",
      "['Wed Nov 01, 2017  11:47:23', '--', '--', 'Bad']\n",
      "No Larry\n",
      "No Larry\n",
      "No Larry\n",
      "Not the right number of Grandmothers 2\n",
      "\n",
      "\n",
      "--------------------------------------------------------------------------\n",
      "Time of Scrape                                  \t\t  0:00:40\n",
      "Number of Sites Attempted                       \t\t\t2\n",
      "\n",
      "\n",
      "Organizations with \n",
      "extracted contacts         \t\t\t\t\t\t0\n",
      "\n",
      "Organizations without \n",
      "verified extractions    \t\t\t\t\t\t0\n",
      "\n",
      "Organizations not \n",
      "extacted                    \t\t\t\t\t\t1\n",
      "\n",
      "Organizations with links \n",
      "that did not open    \t\t\t\t\t\t\t1\n"
     ]
    }
   ],
   "source": [
    "e = ScrapeError(orgRecords)"
   ]
  },
  {
   "cell_type": "code",
   "execution_count": null,
   "metadata": {
    "collapsed": true
   },
   "outputs": [],
   "source": []
  }
 ],
 "metadata": {
  "kernelspec": {
   "display_name": "Python 3",
   "language": "python",
   "name": "python3"
  },
  "language_info": {
   "codemirror_mode": {
    "name": "ipython",
    "version": 3
   },
   "file_extension": ".py",
   "mimetype": "text/x-python",
   "name": "python",
   "nbconvert_exporter": "python",
   "pygments_lexer": "ipython3",
   "version": "3.6.1"
  }
 },
 "nbformat": 4,
 "nbformat_minor": 2
}
