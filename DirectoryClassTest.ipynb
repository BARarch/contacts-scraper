{
 "cells": [
  {
   "cell_type": "code",
   "execution_count": 21,
   "metadata": {},
   "outputs": [
    {
     "name": "stdout",
     "output_type": "stream",
     "text": [
      "Done\n",
      "Done\n",
      "KEYS\n",
      "Done\n",
      "Done\n",
      "RECORDS COLLECTED\n",
      "DATAFRAMES READY\n"
     ]
    }
   ],
   "source": [
    "%run contactsScraper.py"
   ]
  },
  {
   "cell_type": "code",
   "execution_count": 15,
   "metadata": {},
   "outputs": [],
   "source": [
    "a = OrgSession(orgRecords)"
   ]
  },
  {
   "cell_type": "code",
   "execution_count": 16,
   "metadata": {},
   "outputs": [],
   "source": [
    "a1 = a.processSession('Academy of Managed Care Pharmacy')"
   ]
  },
  {
   "cell_type": "code",
   "execution_count": 17,
   "metadata": {},
   "outputs": [
    {
     "data": {
      "text/plain": [
       "{'spreadsheetId': '1p1LNyQhNhDBNEOkYQPV9xcNRe60WDlmnuiPp78hxkIs',\n",
       " 'updatedCells': 1,\n",
       " 'updatedColumns': 1,\n",
       " 'updatedRange': \"'Org Leadership Websites'!J13\",\n",
       " 'updatedRows': 1}"
      ]
     },
     "execution_count": 17,
     "metadata": {},
     "output_type": "execute_result"
    }
   ],
   "source": [
    "a.serialSessionNote(\"Test Serial Note, Please Clear when done\")"
   ]
  },
  {
   "cell_type": "code",
   "execution_count": 18,
   "metadata": {},
   "outputs": [
    {
     "data": {
      "text/plain": [
       "{'spreadsheetId': '1p1LNyQhNhDBNEOkYQPV9xcNRe60WDlmnuiPp78hxkIs',\n",
       " 'updatedCells': 1,\n",
       " 'updatedColumns': 1,\n",
       " 'updatedRange': \"'Org Leadership Websites'!J21\",\n",
       " 'updatedRows': 1}"
      ]
     },
     "execution_count": 18,
     "metadata": {},
     "output_type": "execute_result"
    }
   ],
   "source": [
    "a.organizationSessionNote('American Association for Marriage & Family Therapy', 'Test note to be placed here')"
   ]
  },
  {
   "cell_type": "code",
   "execution_count": null,
   "metadata": {},
   "outputs": [],
   "source": [
    "b = BatchSessionPing(orgRecords)"
   ]
  },
  {
   "cell_type": "code",
   "execution_count": null,
   "metadata": {
    "collapsed": true
   },
   "outputs": [],
   "source": []
  }
 ],
 "metadata": {
  "kernelspec": {
   "display_name": "Python 3",
   "language": "python",
   "name": "python3"
  },
  "language_info": {
   "codemirror_mode": {
    "name": "ipython",
    "version": 3
   },
   "file_extension": ".py",
   "mimetype": "text/x-python",
   "name": "python",
   "nbconvert_exporter": "python",
   "pygments_lexer": "ipython3",
   "version": "3.6.1"
  }
 },
 "nbformat": 4,
 "nbformat_minor": 2
}
